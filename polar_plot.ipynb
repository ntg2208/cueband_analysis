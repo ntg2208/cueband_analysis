{
 "cells": [
  {
   "cell_type": "code",
   "execution_count": 1,
   "metadata": {},
   "outputs": [],
   "source": [
    "import json\n",
    "import warnings\n",
    "warnings.simplefilter(action='ignore', category=FutureWarning)\n",
    "warnings.filterwarnings(\"ignore\")\n",
    "\n",
    "import pandas as pd\n",
    "import numpy as np\n",
    "import matplotlib.pyplot as plt\n",
    "import plotly.express as px\n",
    "import random \n",
    "\n",
    "import plotly.graph_objects as go\n",
    "from plotly.subplots import make_subplots\n",
    "\n",
    "from scipy import stats\n",
    "from tqdm import tqdm\n",
    "\n",
    "import os\n",
    "import plotly.io as pio"
   ]
  },
  {
   "cell_type": "code",
   "execution_count": 2,
   "metadata": {},
   "outputs": [],
   "source": [
    "cueingIntervals = pd.read_parquet('data/cueingIntervals.parquet')\n",
    "userIds = list(cueingIntervals['user'].unique())"
   ]
  },
  {
   "cell_type": "code",
   "execution_count": 3,
   "metadata": {},
   "outputs": [
    {
     "name": "stderr",
     "output_type": "stream",
     "text": [
      "100%|██████████| 69/69 [00:36<00:00,  1.88it/s]\n"
     ]
    }
   ],
   "source": [
    "id = 'RCyHQ6rpvv'\n",
    "def vis_weekly_sche(id):\n",
    "    df1 = cueingIntervals.query(\"user == @id\")\n",
    "    # print(df1.shape)\n",
    "    df1[\"timestamp\"] = df1['createdAt'].dt.round(\"5min\")\n",
    "    \n",
    "    # Calculate the time compare to 0 degree at 0:00, and /2 to convert to 24h \n",
    "    df1 = df1.assign(start_deg = lambda x: x['startTimeHours']*(30/2) + x['startTimeMinutes']*(0.5/2), \n",
    "                    end_deg = lambda x: x['endTimeHours']*(30/2) + x['endTimeMinutes']*(0.5/2), \n",
    "                    start_hour = lambda x: x['startTimeHours'] + x['startTimeMinutes']/60,\n",
    "                    end_hour = lambda x: x['endTimeHours'] + x['endTimeMinutes']/60)\\\n",
    "            .assign(interval = lambda x: x['end_deg'] - x['start_deg'], \n",
    "                    time_start = lambda x: x['startTimeHours'].astype(str) + \":\" + x['startTimeMinutes'].astype(str),\n",
    "                    time_end = lambda x: x['endTimeHours'].astype(str) + \":\" + x['endTimeMinutes'].astype(str))\\\n",
    "            .assign(info = lambda x: x['time_start'].astype(str) + \" - \" + x['time_end'].astype(str))\n",
    "\n",
    "    l = list(str(i) for i in df1[\"timestamp\"].unique())\n",
    "    for num_change, t in enumerate(l):\n",
    "        fig = make_subplots(rows=1, cols=7, specs=[[{\"type\": \"polar\"}]*7], subplot_titles=(\"Sun\", \"Mon\", \"Tue\", \"Wed\", \"Thur\", \"Fri\", \"Sat\"))\n",
    "        # t = df1[\"timestamp\"].unique()[0]\n",
    "        sample = df1.query(\"timestamp == @t\").assign(width = lambda x: x['end_deg'] - x['start_deg']).assign(mid_deg = lambda x: x['start_deg']+ x['width']/2)\n",
    "\n",
    "        for i in range(sample.shape[0]):\n",
    "            idx = sample.iloc[i]['weekDay'] + 1\n",
    "            theta = sample.iloc[i]['mid_deg']\n",
    "            width = sample.iloc[i]['width']\n",
    "            info = sample.iloc[i]['info']\n",
    "            fig.add_trace(go.Barpolar(theta= [theta], width=[width], r=[7],\n",
    "                                    hovertext= [info]), row=1, col=idx)\n",
    "        # display(fig.show())\n",
    "        fig.update_layout(\n",
    "            autosize=False,\n",
    "            width=1200,\n",
    "            height=350,\n",
    "            title_text = f\"{id} - {t}\",\n",
    "            annotations=[\n",
    "                # dict(\n",
    "                #     # text=t,\n",
    "                #     x=0.5,\n",
    "                #     y=0.92,\n",
    "                #     showarrow=False,\n",
    "                #     font=dict(size=16)\n",
    "                # )\n",
    "            ],\n",
    "            showlegend = False,\n",
    "            polar = dict(\n",
    "                radialaxis = dict(\n",
    "                    visible = False,\n",
    "                    tickfont_size = 8,\n",
    "                ),\n",
    "                angularaxis = dict(\n",
    "                tickfont_size = 6,\n",
    "                rotation = 90,\n",
    "                direction = \"clockwise\",\n",
    "                tickvals=[0, 45, 90, 135, 180, 225, 270, 315],\n",
    "                ticktext = ['0', '3', '6', '9', '12', '15', '18', '21']\n",
    "            )\n",
    "            ),\n",
    "            polar1 = dict(\n",
    "                radialaxis = dict(\n",
    "                    visible = False,\n",
    "                    tickfont_size = 8,\n",
    "                ),\n",
    "                angularaxis = dict(\n",
    "                tickfont_size = 6,\n",
    "                rotation = 90,\n",
    "                direction = \"clockwise\",\n",
    "                tickvals=[0, 45, 90, 135, 180, 225, 270, 315],\n",
    "                ticktext = ['0', '3', '6', '9', '12', '15', '18', '21']\n",
    "            )\n",
    "            ),  \n",
    "            polar2 = dict(\n",
    "                radialaxis = dict(\n",
    "                    visible = False,\n",
    "                    tickfont_size = 8,\n",
    "                ),\n",
    "                angularaxis = dict(\n",
    "                tickfont_size = 6,\n",
    "                rotation = 90,\n",
    "                direction = \"clockwise\",\n",
    "                tickvals=[0, 45, 90, 135, 180, 225, 270, 315],\n",
    "                ticktext = ['0', '3', '6', '9', '12', '15', '18', '21']\n",
    "            )\n",
    "            ),    \n",
    "            polar3 = dict(\n",
    "                radialaxis = dict(\n",
    "                    visible = False,\n",
    "                    tickfont_size = 8,\n",
    "                ),\n",
    "                angularaxis = dict(\n",
    "                tickfont_size = 6,\n",
    "                rotation = 90,\n",
    "                direction = \"clockwise\",\n",
    "                tickvals=[0, 45, 90, 135, 180, 225, 270, 315],\n",
    "                ticktext = ['0', '3', '6', '9', '12', '15', '18', '21']\n",
    "            )\n",
    "            ),    \n",
    "            polar4 = dict(\n",
    "                radialaxis = dict(\n",
    "                    visible = False,\n",
    "                    tickfont_size = 8,\n",
    "                ),\n",
    "                angularaxis = dict(\n",
    "                tickfont_size = 6,\n",
    "                rotation = 90,\n",
    "                direction = \"clockwise\",\n",
    "                tickvals=[0, 45, 90, 135, 180, 225, 270, 315],\n",
    "                ticktext = ['0', '3', '6', '9', '12', '15', '18', '21']\n",
    "            )\n",
    "            ),    \n",
    "            polar5 = dict(\n",
    "                radialaxis = dict(\n",
    "                    visible = False,\n",
    "                    tickfont_size = 8,\n",
    "                ),\n",
    "                angularaxis = dict(\n",
    "                tickfont_size = 6,\n",
    "                rotation = 90,\n",
    "                direction = \"clockwise\",\n",
    "                tickvals=[0, 45, 90, 135, 180, 225, 270, 315],\n",
    "                ticktext = ['0', '3', '6', '9', '12', '15', '18', '21']\n",
    "            )\n",
    "            ),    \n",
    "            polar6 = dict(\n",
    "                radialaxis = dict(\n",
    "                    visible = False,\n",
    "                    tickfont_size = 8,\n",
    "                ),\n",
    "                angularaxis = dict(\n",
    "                tickfont_size = 6,\n",
    "                rotation = 90,\n",
    "                direction = \"clockwise\",\n",
    "                tickvals=[0, 45, 90, 135, 180, 225, 270, 315],\n",
    "                ticktext = ['0', '3', '6', '9', '12', '15', '18', '21']\n",
    "            )\n",
    "            ),\n",
    "            polar7 = dict(\n",
    "                radialaxis = dict(\n",
    "                    visible = False,\n",
    "                    tickfont_size = 8,\n",
    "                ),\n",
    "                angularaxis = dict(\n",
    "                tickfont_size = 6,\n",
    "                rotation = 90,\n",
    "                direction = \"clockwise\",\n",
    "                tickvals=[0, 45, 90, 135, 180, 225, 270, 315],\n",
    "                ticktext = ['0', '3', '6', '9', '12', '15', '18', '21']\n",
    "            )\n",
    "            ),\n",
    "\n",
    "        )\n",
    "        \n",
    "        # display(fig.show())\n",
    "        fig.write_image(f\"plot/{id}/{id}_{num_change}.png\")\n",
    "        # fig.write_html(f\"plot/{id}/{id}_{num_change}.html\")\n",
    "        f.write(fig.to_html(full_html=False, include_plotlyjs='cdn'))\n",
    "    return fig\n",
    "        \n",
    "id = 'hWKgqVxmMM'\n",
    "\n",
    "for id in tqdm(userIds):\n",
    "    os.makedirs(f\"plot/{id}\", exist_ok=True)\n",
    "\n",
    "    f = open(f\"plot/{id}/concat.html\", \"a\")\n",
    "    fig = vis_weekly_sche(id)\n",
    "    f.close()\n"
   ]
  },
  {
   "cell_type": "code",
   "execution_count": 4,
   "metadata": {},
   "outputs": [],
   "source": [
    "df1 = cueingIntervals.query(\"user == @id\")\n",
    "df1[\"timestamp\"] = df1['createdAt'].dt.round(\"min\")\n",
    "\n",
    "# Calculate the time compare to 0 degree at 0:00, and /2 to convert to 24h \n",
    "df1 = df1.assign(start_deg = lambda x: x['startTimeHours']*(30/2) + x['startTimeMinutes']*(0.5/2), \n",
    "                end_deg = lambda x: x['endTimeHours']*(30/2) + x['endTimeMinutes']*(0.5/2), \n",
    "                start_hour = lambda x: x['startTimeHours'] + x['startTimeMinutes']/60,\n",
    "                end_hour = lambda x: x['endTimeHours'] + x['endTimeMinutes']/60)\\\n",
    "        .assign(interval = lambda x: x['end_deg'] - x['start_deg'], \n",
    "                time_start = lambda x: x['startTimeHours'].astype(str) + \":\" + x['startTimeMinutes'].astype(str),\n",
    "                time_end = lambda x: x['endTimeHours'].astype(str) + \":\" + x['endTimeMinutes'].astype(str))\\\n",
    "        .assign(info = lambda x: x['time_start'].astype(str) + \" - \" + x['time_end'].astype(str))\n",
    "\n"
   ]
  },
  {
   "cell_type": "code",
   "execution_count": 6,
   "metadata": {},
   "outputs": [
    {
     "data": {
      "text/html": [
       "<div>\n",
       "<style scoped>\n",
       "    .dataframe tbody tr th:only-of-type {\n",
       "        vertical-align: middle;\n",
       "    }\n",
       "\n",
       "    .dataframe tbody tr th {\n",
       "        vertical-align: top;\n",
       "    }\n",
       "\n",
       "    .dataframe thead th {\n",
       "        text-align: right;\n",
       "    }\n",
       "</style>\n",
       "<table border=\"1\" class=\"dataframe\">\n",
       "  <thead>\n",
       "    <tr style=\"text-align: right;\">\n",
       "      <th></th>\n",
       "      <th>localId</th>\n",
       "      <th>weekDay</th>\n",
       "      <th>info</th>\n",
       "      <th>var</th>\n",
       "      <th>deg</th>\n",
       "    </tr>\n",
       "  </thead>\n",
       "  <tbody>\n",
       "    <tr>\n",
       "      <th>0</th>\n",
       "      <td>1</td>\n",
       "      <td>1</td>\n",
       "      <td>8:30 - 11:30</td>\n",
       "      <td>start_deg</td>\n",
       "      <td>127.5</td>\n",
       "    </tr>\n",
       "    <tr>\n",
       "      <th>14</th>\n",
       "      <td>1</td>\n",
       "      <td>1</td>\n",
       "      <td>8:30 - 11:30</td>\n",
       "      <td>end_deg</td>\n",
       "      <td>172.5</td>\n",
       "    </tr>\n",
       "    <tr>\n",
       "      <th>1</th>\n",
       "      <td>2</td>\n",
       "      <td>2</td>\n",
       "      <td>8:30 - 11:30</td>\n",
       "      <td>start_deg</td>\n",
       "      <td>127.5</td>\n",
       "    </tr>\n",
       "    <tr>\n",
       "      <th>15</th>\n",
       "      <td>2</td>\n",
       "      <td>2</td>\n",
       "      <td>8:30 - 11:30</td>\n",
       "      <td>end_deg</td>\n",
       "      <td>172.5</td>\n",
       "    </tr>\n",
       "    <tr>\n",
       "      <th>2</th>\n",
       "      <td>3</td>\n",
       "      <td>3</td>\n",
       "      <td>8:30 - 11:30</td>\n",
       "      <td>start_deg</td>\n",
       "      <td>127.5</td>\n",
       "    </tr>\n",
       "    <tr>\n",
       "      <th>16</th>\n",
       "      <td>3</td>\n",
       "      <td>3</td>\n",
       "      <td>8:30 - 11:30</td>\n",
       "      <td>end_deg</td>\n",
       "      <td>172.5</td>\n",
       "    </tr>\n",
       "    <tr>\n",
       "      <th>3</th>\n",
       "      <td>4</td>\n",
       "      <td>4</td>\n",
       "      <td>8:30 - 11:30</td>\n",
       "      <td>start_deg</td>\n",
       "      <td>127.5</td>\n",
       "    </tr>\n",
       "    <tr>\n",
       "      <th>17</th>\n",
       "      <td>4</td>\n",
       "      <td>4</td>\n",
       "      <td>8:30 - 11:30</td>\n",
       "      <td>end_deg</td>\n",
       "      <td>172.5</td>\n",
       "    </tr>\n",
       "    <tr>\n",
       "      <th>4</th>\n",
       "      <td>5</td>\n",
       "      <td>5</td>\n",
       "      <td>8:30 - 11:30</td>\n",
       "      <td>start_deg</td>\n",
       "      <td>127.5</td>\n",
       "    </tr>\n",
       "    <tr>\n",
       "      <th>18</th>\n",
       "      <td>5</td>\n",
       "      <td>5</td>\n",
       "      <td>8:30 - 11:30</td>\n",
       "      <td>end_deg</td>\n",
       "      <td>172.5</td>\n",
       "    </tr>\n",
       "    <tr>\n",
       "      <th>5</th>\n",
       "      <td>6</td>\n",
       "      <td>6</td>\n",
       "      <td>8:30 - 11:30</td>\n",
       "      <td>start_deg</td>\n",
       "      <td>127.5</td>\n",
       "    </tr>\n",
       "    <tr>\n",
       "      <th>19</th>\n",
       "      <td>6</td>\n",
       "      <td>6</td>\n",
       "      <td>8:30 - 11:30</td>\n",
       "      <td>end_deg</td>\n",
       "      <td>172.5</td>\n",
       "    </tr>\n",
       "    <tr>\n",
       "      <th>6</th>\n",
       "      <td>7</td>\n",
       "      <td>7</td>\n",
       "      <td>8:30 - 11:30</td>\n",
       "      <td>start_deg</td>\n",
       "      <td>127.5</td>\n",
       "    </tr>\n",
       "    <tr>\n",
       "      <th>20</th>\n",
       "      <td>7</td>\n",
       "      <td>7</td>\n",
       "      <td>8:30 - 11:30</td>\n",
       "      <td>end_deg</td>\n",
       "      <td>172.5</td>\n",
       "    </tr>\n",
       "    <tr>\n",
       "      <th>21</th>\n",
       "      <td>8</td>\n",
       "      <td>1</td>\n",
       "      <td>8:0 - 22:0</td>\n",
       "      <td>end_deg</td>\n",
       "      <td>330.0</td>\n",
       "    </tr>\n",
       "    <tr>\n",
       "      <th>7</th>\n",
       "      <td>8</td>\n",
       "      <td>1</td>\n",
       "      <td>8:0 - 22:0</td>\n",
       "      <td>start_deg</td>\n",
       "      <td>120.0</td>\n",
       "    </tr>\n",
       "    <tr>\n",
       "      <th>8</th>\n",
       "      <td>9</td>\n",
       "      <td>2</td>\n",
       "      <td>8:0 - 22:0</td>\n",
       "      <td>start_deg</td>\n",
       "      <td>120.0</td>\n",
       "    </tr>\n",
       "    <tr>\n",
       "      <th>22</th>\n",
       "      <td>9</td>\n",
       "      <td>2</td>\n",
       "      <td>8:0 - 22:0</td>\n",
       "      <td>end_deg</td>\n",
       "      <td>330.0</td>\n",
       "    </tr>\n",
       "    <tr>\n",
       "      <th>23</th>\n",
       "      <td>10</td>\n",
       "      <td>3</td>\n",
       "      <td>8:0 - 22:0</td>\n",
       "      <td>end_deg</td>\n",
       "      <td>330.0</td>\n",
       "    </tr>\n",
       "    <tr>\n",
       "      <th>9</th>\n",
       "      <td>10</td>\n",
       "      <td>3</td>\n",
       "      <td>8:0 - 22:0</td>\n",
       "      <td>start_deg</td>\n",
       "      <td>120.0</td>\n",
       "    </tr>\n",
       "    <tr>\n",
       "      <th>24</th>\n",
       "      <td>11</td>\n",
       "      <td>4</td>\n",
       "      <td>8:0 - 22:0</td>\n",
       "      <td>end_deg</td>\n",
       "      <td>330.0</td>\n",
       "    </tr>\n",
       "    <tr>\n",
       "      <th>10</th>\n",
       "      <td>11</td>\n",
       "      <td>4</td>\n",
       "      <td>8:0 - 22:0</td>\n",
       "      <td>start_deg</td>\n",
       "      <td>120.0</td>\n",
       "    </tr>\n",
       "    <tr>\n",
       "      <th>25</th>\n",
       "      <td>12</td>\n",
       "      <td>5</td>\n",
       "      <td>8:0 - 22:0</td>\n",
       "      <td>end_deg</td>\n",
       "      <td>330.0</td>\n",
       "    </tr>\n",
       "    <tr>\n",
       "      <th>11</th>\n",
       "      <td>12</td>\n",
       "      <td>5</td>\n",
       "      <td>8:0 - 22:0</td>\n",
       "      <td>start_deg</td>\n",
       "      <td>120.0</td>\n",
       "    </tr>\n",
       "    <tr>\n",
       "      <th>26</th>\n",
       "      <td>13</td>\n",
       "      <td>6</td>\n",
       "      <td>8:0 - 22:0</td>\n",
       "      <td>end_deg</td>\n",
       "      <td>330.0</td>\n",
       "    </tr>\n",
       "    <tr>\n",
       "      <th>12</th>\n",
       "      <td>13</td>\n",
       "      <td>6</td>\n",
       "      <td>8:0 - 22:0</td>\n",
       "      <td>start_deg</td>\n",
       "      <td>120.0</td>\n",
       "    </tr>\n",
       "    <tr>\n",
       "      <th>13</th>\n",
       "      <td>14</td>\n",
       "      <td>7</td>\n",
       "      <td>8:0 - 22:0</td>\n",
       "      <td>start_deg</td>\n",
       "      <td>120.0</td>\n",
       "    </tr>\n",
       "    <tr>\n",
       "      <th>27</th>\n",
       "      <td>14</td>\n",
       "      <td>7</td>\n",
       "      <td>8:0 - 22:0</td>\n",
       "      <td>end_deg</td>\n",
       "      <td>330.0</td>\n",
       "    </tr>\n",
       "  </tbody>\n",
       "</table>\n",
       "</div>"
      ],
      "text/plain": [
       "    localId  weekDay          info        var    deg\n",
       "0         1        1  8:30 - 11:30  start_deg  127.5\n",
       "14        1        1  8:30 - 11:30    end_deg  172.5\n",
       "1         2        2  8:30 - 11:30  start_deg  127.5\n",
       "15        2        2  8:30 - 11:30    end_deg  172.5\n",
       "2         3        3  8:30 - 11:30  start_deg  127.5\n",
       "16        3        3  8:30 - 11:30    end_deg  172.5\n",
       "3         4        4  8:30 - 11:30  start_deg  127.5\n",
       "17        4        4  8:30 - 11:30    end_deg  172.5\n",
       "4         5        5  8:30 - 11:30  start_deg  127.5\n",
       "18        5        5  8:30 - 11:30    end_deg  172.5\n",
       "5         6        6  8:30 - 11:30  start_deg  127.5\n",
       "19        6        6  8:30 - 11:30    end_deg  172.5\n",
       "6         7        7  8:30 - 11:30  start_deg  127.5\n",
       "20        7        7  8:30 - 11:30    end_deg  172.5\n",
       "21        8        1    8:0 - 22:0    end_deg  330.0\n",
       "7         8        1    8:0 - 22:0  start_deg  120.0\n",
       "8         9        2    8:0 - 22:0  start_deg  120.0\n",
       "22        9        2    8:0 - 22:0    end_deg  330.0\n",
       "23       10        3    8:0 - 22:0    end_deg  330.0\n",
       "9        10        3    8:0 - 22:0  start_deg  120.0\n",
       "24       11        4    8:0 - 22:0    end_deg  330.0\n",
       "10       11        4    8:0 - 22:0  start_deg  120.0\n",
       "25       12        5    8:0 - 22:0    end_deg  330.0\n",
       "11       12        5    8:0 - 22:0  start_deg  120.0\n",
       "26       13        6    8:0 - 22:0    end_deg  330.0\n",
       "12       13        6    8:0 - 22:0  start_deg  120.0\n",
       "13       14        7    8:0 - 22:0  start_deg  120.0\n",
       "27       14        7    8:0 - 22:0    end_deg  330.0"
      ]
     },
     "execution_count": 6,
     "metadata": {},
     "output_type": "execute_result"
    }
   ],
   "source": [
    "vis = pd.melt(df1, id_vars=[\"localId\", \"weekDay\", \"info\"], value_vars=[\"start_deg\", \"end_deg\"], var_name=\"var\", value_name=\"deg\").sort_values(\"localId\")\n",
    "# vis = pd.melt(tmp, id_vars=[\"localId\", \"weekDay\"], value_vars=[\"start_hour\", \"end_hour\"], var_name=\"var\", value_name=\"hour\").sort_values(\"localId\")\n",
    "vis['weekDay'] +=1\n",
    "vis"
   ]
  },
  {
   "cell_type": "code",
   "execution_count": 7,
   "metadata": {},
   "outputs": [
    {
     "data": {
      "application/vnd.plotly.v1+json": {
       "config": {
        "plotlyServerURL": "https://plot.ly"
       },
       "data": [
        {
         "customdata": [
          [
           "8:30 - 11:30"
          ],
          [
           "8:30 - 11:30"
          ]
         ],
         "hovertemplate": "localId=1<br>weekDay=%{r}<br>deg=%{theta}<br>info=%{customdata[0]}<extra></extra>",
         "legendgroup": "1",
         "line": {
          "color": "#636efa",
          "dash": "solid"
         },
         "marker": {
          "symbol": "circle"
         },
         "mode": "lines",
         "name": "1",
         "r": [
          1,
          1
         ],
         "showlegend": true,
         "subplot": "polar",
         "theta": [
          127.5,
          172.5
         ],
         "type": "scatterpolar"
        },
        {
         "customdata": [
          [
           "8:30 - 11:30"
          ],
          [
           "8:30 - 11:30"
          ]
         ],
         "hovertemplate": "localId=2<br>weekDay=%{r}<br>deg=%{theta}<br>info=%{customdata[0]}<extra></extra>",
         "legendgroup": "2",
         "line": {
          "color": "#EF553B",
          "dash": "solid"
         },
         "marker": {
          "symbol": "circle"
         },
         "mode": "lines",
         "name": "2",
         "r": [
          2,
          2
         ],
         "showlegend": true,
         "subplot": "polar",
         "theta": [
          127.5,
          172.5
         ],
         "type": "scatterpolar"
        },
        {
         "customdata": [
          [
           "8:30 - 11:30"
          ],
          [
           "8:30 - 11:30"
          ]
         ],
         "hovertemplate": "localId=3<br>weekDay=%{r}<br>deg=%{theta}<br>info=%{customdata[0]}<extra></extra>",
         "legendgroup": "3",
         "line": {
          "color": "#00cc96",
          "dash": "solid"
         },
         "marker": {
          "symbol": "circle"
         },
         "mode": "lines",
         "name": "3",
         "r": [
          3,
          3
         ],
         "showlegend": true,
         "subplot": "polar",
         "theta": [
          127.5,
          172.5
         ],
         "type": "scatterpolar"
        },
        {
         "customdata": [
          [
           "8:30 - 11:30"
          ],
          [
           "8:30 - 11:30"
          ]
         ],
         "hovertemplate": "localId=4<br>weekDay=%{r}<br>deg=%{theta}<br>info=%{customdata[0]}<extra></extra>",
         "legendgroup": "4",
         "line": {
          "color": "#ab63fa",
          "dash": "solid"
         },
         "marker": {
          "symbol": "circle"
         },
         "mode": "lines",
         "name": "4",
         "r": [
          4,
          4
         ],
         "showlegend": true,
         "subplot": "polar",
         "theta": [
          127.5,
          172.5
         ],
         "type": "scatterpolar"
        },
        {
         "customdata": [
          [
           "8:30 - 11:30"
          ],
          [
           "8:30 - 11:30"
          ]
         ],
         "hovertemplate": "localId=5<br>weekDay=%{r}<br>deg=%{theta}<br>info=%{customdata[0]}<extra></extra>",
         "legendgroup": "5",
         "line": {
          "color": "#FFA15A",
          "dash": "solid"
         },
         "marker": {
          "symbol": "circle"
         },
         "mode": "lines",
         "name": "5",
         "r": [
          5,
          5
         ],
         "showlegend": true,
         "subplot": "polar",
         "theta": [
          127.5,
          172.5
         ],
         "type": "scatterpolar"
        },
        {
         "customdata": [
          [
           "8:30 - 11:30"
          ],
          [
           "8:30 - 11:30"
          ]
         ],
         "hovertemplate": "localId=6<br>weekDay=%{r}<br>deg=%{theta}<br>info=%{customdata[0]}<extra></extra>",
         "legendgroup": "6",
         "line": {
          "color": "#19d3f3",
          "dash": "solid"
         },
         "marker": {
          "symbol": "circle"
         },
         "mode": "lines",
         "name": "6",
         "r": [
          6,
          6
         ],
         "showlegend": true,
         "subplot": "polar",
         "theta": [
          127.5,
          172.5
         ],
         "type": "scatterpolar"
        },
        {
         "customdata": [
          [
           "8:30 - 11:30"
          ],
          [
           "8:30 - 11:30"
          ]
         ],
         "hovertemplate": "localId=7<br>weekDay=%{r}<br>deg=%{theta}<br>info=%{customdata[0]}<extra></extra>",
         "legendgroup": "7",
         "line": {
          "color": "#FF6692",
          "dash": "solid"
         },
         "marker": {
          "symbol": "circle"
         },
         "mode": "lines",
         "name": "7",
         "r": [
          7,
          7
         ],
         "showlegend": true,
         "subplot": "polar",
         "theta": [
          127.5,
          172.5
         ],
         "type": "scatterpolar"
        },
        {
         "customdata": [
          [
           "8:0 - 22:0"
          ],
          [
           "8:0 - 22:0"
          ]
         ],
         "hovertemplate": "localId=8<br>weekDay=%{r}<br>deg=%{theta}<br>info=%{customdata[0]}<extra></extra>",
         "legendgroup": "8",
         "line": {
          "color": "#B6E880",
          "dash": "solid"
         },
         "marker": {
          "symbol": "circle"
         },
         "mode": "lines",
         "name": "8",
         "r": [
          1,
          1
         ],
         "showlegend": true,
         "subplot": "polar",
         "theta": [
          330,
          120
         ],
         "type": "scatterpolar"
        },
        {
         "customdata": [
          [
           "8:0 - 22:0"
          ],
          [
           "8:0 - 22:0"
          ]
         ],
         "hovertemplate": "localId=9<br>weekDay=%{r}<br>deg=%{theta}<br>info=%{customdata[0]}<extra></extra>",
         "legendgroup": "9",
         "line": {
          "color": "#FF97FF",
          "dash": "solid"
         },
         "marker": {
          "symbol": "circle"
         },
         "mode": "lines",
         "name": "9",
         "r": [
          2,
          2
         ],
         "showlegend": true,
         "subplot": "polar",
         "theta": [
          120,
          330
         ],
         "type": "scatterpolar"
        },
        {
         "customdata": [
          [
           "8:0 - 22:0"
          ],
          [
           "8:0 - 22:0"
          ]
         ],
         "hovertemplate": "localId=10<br>weekDay=%{r}<br>deg=%{theta}<br>info=%{customdata[0]}<extra></extra>",
         "legendgroup": "10",
         "line": {
          "color": "#FECB52",
          "dash": "solid"
         },
         "marker": {
          "symbol": "circle"
         },
         "mode": "lines",
         "name": "10",
         "r": [
          3,
          3
         ],
         "showlegend": true,
         "subplot": "polar",
         "theta": [
          330,
          120
         ],
         "type": "scatterpolar"
        },
        {
         "customdata": [
          [
           "8:0 - 22:0"
          ],
          [
           "8:0 - 22:0"
          ]
         ],
         "hovertemplate": "localId=11<br>weekDay=%{r}<br>deg=%{theta}<br>info=%{customdata[0]}<extra></extra>",
         "legendgroup": "11",
         "line": {
          "color": "#636efa",
          "dash": "solid"
         },
         "marker": {
          "symbol": "circle"
         },
         "mode": "lines",
         "name": "11",
         "r": [
          4,
          4
         ],
         "showlegend": true,
         "subplot": "polar",
         "theta": [
          330,
          120
         ],
         "type": "scatterpolar"
        },
        {
         "customdata": [
          [
           "8:0 - 22:0"
          ],
          [
           "8:0 - 22:0"
          ]
         ],
         "hovertemplate": "localId=12<br>weekDay=%{r}<br>deg=%{theta}<br>info=%{customdata[0]}<extra></extra>",
         "legendgroup": "12",
         "line": {
          "color": "#EF553B",
          "dash": "solid"
         },
         "marker": {
          "symbol": "circle"
         },
         "mode": "lines",
         "name": "12",
         "r": [
          5,
          5
         ],
         "showlegend": true,
         "subplot": "polar",
         "theta": [
          330,
          120
         ],
         "type": "scatterpolar"
        },
        {
         "customdata": [
          [
           "8:0 - 22:0"
          ],
          [
           "8:0 - 22:0"
          ]
         ],
         "hovertemplate": "localId=13<br>weekDay=%{r}<br>deg=%{theta}<br>info=%{customdata[0]}<extra></extra>",
         "legendgroup": "13",
         "line": {
          "color": "#00cc96",
          "dash": "solid"
         },
         "marker": {
          "symbol": "circle"
         },
         "mode": "lines",
         "name": "13",
         "r": [
          6,
          6
         ],
         "showlegend": true,
         "subplot": "polar",
         "theta": [
          330,
          120
         ],
         "type": "scatterpolar"
        },
        {
         "customdata": [
          [
           "8:0 - 22:0"
          ],
          [
           "8:0 - 22:0"
          ]
         ],
         "hovertemplate": "localId=14<br>weekDay=%{r}<br>deg=%{theta}<br>info=%{customdata[0]}<extra></extra>",
         "legendgroup": "14",
         "line": {
          "color": "#ab63fa",
          "dash": "solid"
         },
         "marker": {
          "symbol": "circle"
         },
         "mode": "lines",
         "name": "14",
         "r": [
          7,
          7
         ],
         "showlegend": true,
         "subplot": "polar",
         "theta": [
          120,
          330
         ],
         "type": "scatterpolar"
        }
       ],
       "layout": {
        "legend": {
         "title": {
          "text": "localId"
         },
         "tracegroupgap": 0
        },
        "margin": {
         "t": 60
        },
        "polar": {
         "angularaxis": {
          "direction": "clockwise",
          "rotation": 90
         },
         "domain": {
          "x": [
           0,
           1
          ],
          "y": [
           0,
           1
          ]
         }
        },
        "template": {
         "data": {
          "bar": [
           {
            "error_x": {
             "color": "#2a3f5f"
            },
            "error_y": {
             "color": "#2a3f5f"
            },
            "marker": {
             "line": {
              "color": "#E5ECF6",
              "width": 0.5
             },
             "pattern": {
              "fillmode": "overlay",
              "size": 10,
              "solidity": 0.2
             }
            },
            "type": "bar"
           }
          ],
          "barpolar": [
           {
            "marker": {
             "line": {
              "color": "#E5ECF6",
              "width": 0.5
             },
             "pattern": {
              "fillmode": "overlay",
              "size": 10,
              "solidity": 0.2
             }
            },
            "type": "barpolar"
           }
          ],
          "carpet": [
           {
            "aaxis": {
             "endlinecolor": "#2a3f5f",
             "gridcolor": "white",
             "linecolor": "white",
             "minorgridcolor": "white",
             "startlinecolor": "#2a3f5f"
            },
            "baxis": {
             "endlinecolor": "#2a3f5f",
             "gridcolor": "white",
             "linecolor": "white",
             "minorgridcolor": "white",
             "startlinecolor": "#2a3f5f"
            },
            "type": "carpet"
           }
          ],
          "choropleth": [
           {
            "colorbar": {
             "outlinewidth": 0,
             "ticks": ""
            },
            "type": "choropleth"
           }
          ],
          "contour": [
           {
            "colorbar": {
             "outlinewidth": 0,
             "ticks": ""
            },
            "colorscale": [
             [
              0,
              "#0d0887"
             ],
             [
              0.1111111111111111,
              "#46039f"
             ],
             [
              0.2222222222222222,
              "#7201a8"
             ],
             [
              0.3333333333333333,
              "#9c179e"
             ],
             [
              0.4444444444444444,
              "#bd3786"
             ],
             [
              0.5555555555555556,
              "#d8576b"
             ],
             [
              0.6666666666666666,
              "#ed7953"
             ],
             [
              0.7777777777777778,
              "#fb9f3a"
             ],
             [
              0.8888888888888888,
              "#fdca26"
             ],
             [
              1,
              "#f0f921"
             ]
            ],
            "type": "contour"
           }
          ],
          "contourcarpet": [
           {
            "colorbar": {
             "outlinewidth": 0,
             "ticks": ""
            },
            "type": "contourcarpet"
           }
          ],
          "heatmap": [
           {
            "colorbar": {
             "outlinewidth": 0,
             "ticks": ""
            },
            "colorscale": [
             [
              0,
              "#0d0887"
             ],
             [
              0.1111111111111111,
              "#46039f"
             ],
             [
              0.2222222222222222,
              "#7201a8"
             ],
             [
              0.3333333333333333,
              "#9c179e"
             ],
             [
              0.4444444444444444,
              "#bd3786"
             ],
             [
              0.5555555555555556,
              "#d8576b"
             ],
             [
              0.6666666666666666,
              "#ed7953"
             ],
             [
              0.7777777777777778,
              "#fb9f3a"
             ],
             [
              0.8888888888888888,
              "#fdca26"
             ],
             [
              1,
              "#f0f921"
             ]
            ],
            "type": "heatmap"
           }
          ],
          "heatmapgl": [
           {
            "colorbar": {
             "outlinewidth": 0,
             "ticks": ""
            },
            "colorscale": [
             [
              0,
              "#0d0887"
             ],
             [
              0.1111111111111111,
              "#46039f"
             ],
             [
              0.2222222222222222,
              "#7201a8"
             ],
             [
              0.3333333333333333,
              "#9c179e"
             ],
             [
              0.4444444444444444,
              "#bd3786"
             ],
             [
              0.5555555555555556,
              "#d8576b"
             ],
             [
              0.6666666666666666,
              "#ed7953"
             ],
             [
              0.7777777777777778,
              "#fb9f3a"
             ],
             [
              0.8888888888888888,
              "#fdca26"
             ],
             [
              1,
              "#f0f921"
             ]
            ],
            "type": "heatmapgl"
           }
          ],
          "histogram": [
           {
            "marker": {
             "pattern": {
              "fillmode": "overlay",
              "size": 10,
              "solidity": 0.2
             }
            },
            "type": "histogram"
           }
          ],
          "histogram2d": [
           {
            "colorbar": {
             "outlinewidth": 0,
             "ticks": ""
            },
            "colorscale": [
             [
              0,
              "#0d0887"
             ],
             [
              0.1111111111111111,
              "#46039f"
             ],
             [
              0.2222222222222222,
              "#7201a8"
             ],
             [
              0.3333333333333333,
              "#9c179e"
             ],
             [
              0.4444444444444444,
              "#bd3786"
             ],
             [
              0.5555555555555556,
              "#d8576b"
             ],
             [
              0.6666666666666666,
              "#ed7953"
             ],
             [
              0.7777777777777778,
              "#fb9f3a"
             ],
             [
              0.8888888888888888,
              "#fdca26"
             ],
             [
              1,
              "#f0f921"
             ]
            ],
            "type": "histogram2d"
           }
          ],
          "histogram2dcontour": [
           {
            "colorbar": {
             "outlinewidth": 0,
             "ticks": ""
            },
            "colorscale": [
             [
              0,
              "#0d0887"
             ],
             [
              0.1111111111111111,
              "#46039f"
             ],
             [
              0.2222222222222222,
              "#7201a8"
             ],
             [
              0.3333333333333333,
              "#9c179e"
             ],
             [
              0.4444444444444444,
              "#bd3786"
             ],
             [
              0.5555555555555556,
              "#d8576b"
             ],
             [
              0.6666666666666666,
              "#ed7953"
             ],
             [
              0.7777777777777778,
              "#fb9f3a"
             ],
             [
              0.8888888888888888,
              "#fdca26"
             ],
             [
              1,
              "#f0f921"
             ]
            ],
            "type": "histogram2dcontour"
           }
          ],
          "mesh3d": [
           {
            "colorbar": {
             "outlinewidth": 0,
             "ticks": ""
            },
            "type": "mesh3d"
           }
          ],
          "parcoords": [
           {
            "line": {
             "colorbar": {
              "outlinewidth": 0,
              "ticks": ""
             }
            },
            "type": "parcoords"
           }
          ],
          "pie": [
           {
            "automargin": true,
            "type": "pie"
           }
          ],
          "scatter": [
           {
            "fillpattern": {
             "fillmode": "overlay",
             "size": 10,
             "solidity": 0.2
            },
            "type": "scatter"
           }
          ],
          "scatter3d": [
           {
            "line": {
             "colorbar": {
              "outlinewidth": 0,
              "ticks": ""
             }
            },
            "marker": {
             "colorbar": {
              "outlinewidth": 0,
              "ticks": ""
             }
            },
            "type": "scatter3d"
           }
          ],
          "scattercarpet": [
           {
            "marker": {
             "colorbar": {
              "outlinewidth": 0,
              "ticks": ""
             }
            },
            "type": "scattercarpet"
           }
          ],
          "scattergeo": [
           {
            "marker": {
             "colorbar": {
              "outlinewidth": 0,
              "ticks": ""
             }
            },
            "type": "scattergeo"
           }
          ],
          "scattergl": [
           {
            "marker": {
             "colorbar": {
              "outlinewidth": 0,
              "ticks": ""
             }
            },
            "type": "scattergl"
           }
          ],
          "scattermapbox": [
           {
            "marker": {
             "colorbar": {
              "outlinewidth": 0,
              "ticks": ""
             }
            },
            "type": "scattermapbox"
           }
          ],
          "scatterpolar": [
           {
            "marker": {
             "colorbar": {
              "outlinewidth": 0,
              "ticks": ""
             }
            },
            "type": "scatterpolar"
           }
          ],
          "scatterpolargl": [
           {
            "marker": {
             "colorbar": {
              "outlinewidth": 0,
              "ticks": ""
             }
            },
            "type": "scatterpolargl"
           }
          ],
          "scatterternary": [
           {
            "marker": {
             "colorbar": {
              "outlinewidth": 0,
              "ticks": ""
             }
            },
            "type": "scatterternary"
           }
          ],
          "surface": [
           {
            "colorbar": {
             "outlinewidth": 0,
             "ticks": ""
            },
            "colorscale": [
             [
              0,
              "#0d0887"
             ],
             [
              0.1111111111111111,
              "#46039f"
             ],
             [
              0.2222222222222222,
              "#7201a8"
             ],
             [
              0.3333333333333333,
              "#9c179e"
             ],
             [
              0.4444444444444444,
              "#bd3786"
             ],
             [
              0.5555555555555556,
              "#d8576b"
             ],
             [
              0.6666666666666666,
              "#ed7953"
             ],
             [
              0.7777777777777778,
              "#fb9f3a"
             ],
             [
              0.8888888888888888,
              "#fdca26"
             ],
             [
              1,
              "#f0f921"
             ]
            ],
            "type": "surface"
           }
          ],
          "table": [
           {
            "cells": {
             "fill": {
              "color": "#EBF0F8"
             },
             "line": {
              "color": "white"
             }
            },
            "header": {
             "fill": {
              "color": "#C8D4E3"
             },
             "line": {
              "color": "white"
             }
            },
            "type": "table"
           }
          ]
         },
         "layout": {
          "annotationdefaults": {
           "arrowcolor": "#2a3f5f",
           "arrowhead": 0,
           "arrowwidth": 1
          },
          "autotypenumbers": "strict",
          "coloraxis": {
           "colorbar": {
            "outlinewidth": 0,
            "ticks": ""
           }
          },
          "colorscale": {
           "diverging": [
            [
             0,
             "#8e0152"
            ],
            [
             0.1,
             "#c51b7d"
            ],
            [
             0.2,
             "#de77ae"
            ],
            [
             0.3,
             "#f1b6da"
            ],
            [
             0.4,
             "#fde0ef"
            ],
            [
             0.5,
             "#f7f7f7"
            ],
            [
             0.6,
             "#e6f5d0"
            ],
            [
             0.7,
             "#b8e186"
            ],
            [
             0.8,
             "#7fbc41"
            ],
            [
             0.9,
             "#4d9221"
            ],
            [
             1,
             "#276419"
            ]
           ],
           "sequential": [
            [
             0,
             "#0d0887"
            ],
            [
             0.1111111111111111,
             "#46039f"
            ],
            [
             0.2222222222222222,
             "#7201a8"
            ],
            [
             0.3333333333333333,
             "#9c179e"
            ],
            [
             0.4444444444444444,
             "#bd3786"
            ],
            [
             0.5555555555555556,
             "#d8576b"
            ],
            [
             0.6666666666666666,
             "#ed7953"
            ],
            [
             0.7777777777777778,
             "#fb9f3a"
            ],
            [
             0.8888888888888888,
             "#fdca26"
            ],
            [
             1,
             "#f0f921"
            ]
           ],
           "sequentialminus": [
            [
             0,
             "#0d0887"
            ],
            [
             0.1111111111111111,
             "#46039f"
            ],
            [
             0.2222222222222222,
             "#7201a8"
            ],
            [
             0.3333333333333333,
             "#9c179e"
            ],
            [
             0.4444444444444444,
             "#bd3786"
            ],
            [
             0.5555555555555556,
             "#d8576b"
            ],
            [
             0.6666666666666666,
             "#ed7953"
            ],
            [
             0.7777777777777778,
             "#fb9f3a"
            ],
            [
             0.8888888888888888,
             "#fdca26"
            ],
            [
             1,
             "#f0f921"
            ]
           ]
          },
          "colorway": [
           "#636efa",
           "#EF553B",
           "#00cc96",
           "#ab63fa",
           "#FFA15A",
           "#19d3f3",
           "#FF6692",
           "#B6E880",
           "#FF97FF",
           "#FECB52"
          ],
          "font": {
           "color": "#2a3f5f"
          },
          "geo": {
           "bgcolor": "white",
           "lakecolor": "white",
           "landcolor": "#E5ECF6",
           "showlakes": true,
           "showland": true,
           "subunitcolor": "white"
          },
          "hoverlabel": {
           "align": "left"
          },
          "hovermode": "closest",
          "mapbox": {
           "style": "light"
          },
          "paper_bgcolor": "white",
          "plot_bgcolor": "#E5ECF6",
          "polar": {
           "angularaxis": {
            "gridcolor": "white",
            "linecolor": "white",
            "ticks": ""
           },
           "bgcolor": "#E5ECF6",
           "radialaxis": {
            "gridcolor": "white",
            "linecolor": "white",
            "ticks": ""
           }
          },
          "scene": {
           "xaxis": {
            "backgroundcolor": "#E5ECF6",
            "gridcolor": "white",
            "gridwidth": 2,
            "linecolor": "white",
            "showbackground": true,
            "ticks": "",
            "zerolinecolor": "white"
           },
           "yaxis": {
            "backgroundcolor": "#E5ECF6",
            "gridcolor": "white",
            "gridwidth": 2,
            "linecolor": "white",
            "showbackground": true,
            "ticks": "",
            "zerolinecolor": "white"
           },
           "zaxis": {
            "backgroundcolor": "#E5ECF6",
            "gridcolor": "white",
            "gridwidth": 2,
            "linecolor": "white",
            "showbackground": true,
            "ticks": "",
            "zerolinecolor": "white"
           }
          },
          "shapedefaults": {
           "line": {
            "color": "#2a3f5f"
           }
          },
          "ternary": {
           "aaxis": {
            "gridcolor": "white",
            "linecolor": "white",
            "ticks": ""
           },
           "baxis": {
            "gridcolor": "white",
            "linecolor": "white",
            "ticks": ""
           },
           "bgcolor": "#E5ECF6",
           "caxis": {
            "gridcolor": "white",
            "linecolor": "white",
            "ticks": ""
           }
          },
          "title": {
           "x": 0.05
          },
          "xaxis": {
           "automargin": true,
           "gridcolor": "white",
           "linecolor": "white",
           "ticks": "",
           "title": {
            "standoff": 15
           },
           "zerolinecolor": "white",
           "zerolinewidth": 2
          },
          "yaxis": {
           "automargin": true,
           "gridcolor": "white",
           "linecolor": "white",
           "ticks": "",
           "title": {
            "standoff": 15
           },
           "zerolinecolor": "white",
           "zerolinewidth": 2
          }
         }
        }
       }
      }
     },
     "metadata": {},
     "output_type": "display_data"
    }
   ],
   "source": [
    "px.line_polar(vis, r = \"weekDay\", theta= \"deg\", color= \"localId\", hover_data=[\"info\"])"
   ]
  },
  {
   "cell_type": "code",
   "execution_count": 39,
   "metadata": {},
   "outputs": [
    {
     "data": {
      "text/html": [
       "<div>\n",
       "<style scoped>\n",
       "    .dataframe tbody tr th:only-of-type {\n",
       "        vertical-align: middle;\n",
       "    }\n",
       "\n",
       "    .dataframe tbody tr th {\n",
       "        vertical-align: top;\n",
       "    }\n",
       "\n",
       "    .dataframe thead th {\n",
       "        text-align: right;\n",
       "    }\n",
       "</style>\n",
       "<table border=\"1\" class=\"dataframe\">\n",
       "  <thead>\n",
       "    <tr style=\"text-align: right;\">\n",
       "      <th></th>\n",
       "      <th>name</th>\n",
       "      <th>start_deg</th>\n",
       "      <th>end_deg</th>\n",
       "      <th>color</th>\n",
       "      <th>opacity</th>\n",
       "    </tr>\n",
       "  </thead>\n",
       "  <tbody>\n",
       "    <tr>\n",
       "      <th>0</th>\n",
       "      <td>Morning</td>\n",
       "      <td>90</td>\n",
       "      <td>180</td>\n",
       "      <td>#FCF187</td>\n",
       "      <td>0.35</td>\n",
       "    </tr>\n",
       "    <tr>\n",
       "      <th>1</th>\n",
       "      <td>Afternoon</td>\n",
       "      <td>180</td>\n",
       "      <td>270</td>\n",
       "      <td>#91CEFF</td>\n",
       "      <td>0.35</td>\n",
       "    </tr>\n",
       "    <tr>\n",
       "      <th>2</th>\n",
       "      <td>Night</td>\n",
       "      <td>270</td>\n",
       "      <td>360</td>\n",
       "      <td>#0051CA</td>\n",
       "      <td>0.35</td>\n",
       "    </tr>\n",
       "    <tr>\n",
       "      <th>3</th>\n",
       "      <td>Late Night</td>\n",
       "      <td>0</td>\n",
       "      <td>90</td>\n",
       "      <td>#090089</td>\n",
       "      <td>0.35</td>\n",
       "    </tr>\n",
       "    <tr>\n",
       "      <th>4</th>\n",
       "      <td>Example</td>\n",
       "      <td>135</td>\n",
       "      <td>165</td>\n",
       "      <td>#636EFA</td>\n",
       "      <td>0.70</td>\n",
       "    </tr>\n",
       "  </tbody>\n",
       "</table>\n",
       "</div>"
      ],
      "text/plain": [
       "         name  start_deg  end_deg    color  opacity\n",
       "0     Morning         90      180  #FCF187     0.35\n",
       "1   Afternoon        180      270  #91CEFF     0.35\n",
       "2       Night        270      360  #0051CA     0.35\n",
       "3  Late Night          0       90  #090089     0.35\n",
       "4     Example        135      165  #636EFA     0.70"
      ]
     },
     "execution_count": 39,
     "metadata": {},
     "output_type": "execute_result"
    }
   ],
   "source": [
    "df = pd.DataFrame({'name': {0: 'Morning',\n",
    "  1: 'Afternoon',\n",
    "  2: 'Night',\n",
    "  3: 'Late Night',\n",
    "  4: 'Example'},\n",
    " 'start_deg': {0: 90, 1: 180, 2: 270, 3: 0, 4: 135},\n",
    " 'end_deg': {0: 180, 1: 270, 2: 360, 3: 90, 4: 165},\n",
    " 'color': {0: '#FCF187',\n",
    "  1: '#91CEFF',\n",
    "  2: '#0051CA',\n",
    "  3: '#090089',\n",
    "  4: '#636EFA'},\n",
    " 'opacity': {0: 0.35, 1: 0.35, 2: 0.35, 3: 0.35, 4: 0.7}})\n",
    "df"
   ]
  },
  {
   "cell_type": "code",
   "execution_count": 53,
   "metadata": {},
   "outputs": [
    {
     "data": {
      "application/vnd.plotly.v1+json": {
       "config": {
        "plotlyServerURL": "https://plot.ly"
       },
       "data": [
        {
         "hovertext": [],
         "marker": {
          "color": [
           "#FCF187"
          ]
         },
         "name": "Morning",
         "opacity": 0.35,
         "r": [
          100
         ],
         "theta": [
          135
         ],
         "type": "barpolar",
         "width": [
          90
         ]
        },
        {
         "hovertext": [],
         "marker": {
          "color": [
           "#91CEFF"
          ]
         },
         "name": "Afternoon",
         "opacity": 0.35,
         "r": [
          100
         ],
         "theta": [
          225
         ],
         "type": "barpolar",
         "width": [
          90
         ]
        },
        {
         "hovertext": [],
         "marker": {
          "color": [
           "#0051CA"
          ]
         },
         "name": "Night",
         "opacity": 0.35,
         "r": [
          100
         ],
         "theta": [
          315
         ],
         "type": "barpolar",
         "width": [
          90
         ]
        },
        {
         "hovertext": [],
         "marker": {
          "color": [
           "#090089"
          ]
         },
         "name": "Late Night",
         "opacity": 0.35,
         "r": [
          100
         ],
         "theta": [
          45
         ],
         "type": "barpolar",
         "width": [
          90
         ]
        },
        {
         "hovertext": [],
         "marker": {
          "color": [
           "#636EFA"
          ]
         },
         "name": "Example",
         "opacity": 0.35,
         "r": [
          100
         ],
         "theta": [
          150
         ],
         "type": "barpolar",
         "width": [
          30
         ]
        }
       ],
       "layout": {
        "autosize": false,
        "height": 350,
        "polar": {
         "angularaxis": {
          "direction": "clockwise",
          "rotation": 90,
          "tickfont": {
           "size": 6
          },
          "ticktext": [
           "0",
           "3",
           "6",
           "9",
           "12",
           "15",
           "18",
           "21"
          ],
          "tickvals": [
           0,
           45,
           90,
           135,
           180,
           225,
           270,
           315
          ]
         },
         "domain": {
          "x": [
           0,
           1
          ],
          "y": [
           0,
           1
          ]
         },
         "radialaxis": {
          "tickfont": {
           "size": 8
          },
          "visible": false
         }
        },
        "showlegend": true,
        "template": {
         "data": {
          "bar": [
           {
            "error_x": {
             "color": "#2a3f5f"
            },
            "error_y": {
             "color": "#2a3f5f"
            },
            "marker": {
             "line": {
              "color": "#E5ECF6",
              "width": 0.5
             },
             "pattern": {
              "fillmode": "overlay",
              "size": 10,
              "solidity": 0.2
             }
            },
            "type": "bar"
           }
          ],
          "barpolar": [
           {
            "marker": {
             "line": {
              "color": "#E5ECF6",
              "width": 0.5
             },
             "pattern": {
              "fillmode": "overlay",
              "size": 10,
              "solidity": 0.2
             }
            },
            "type": "barpolar"
           }
          ],
          "carpet": [
           {
            "aaxis": {
             "endlinecolor": "#2a3f5f",
             "gridcolor": "white",
             "linecolor": "white",
             "minorgridcolor": "white",
             "startlinecolor": "#2a3f5f"
            },
            "baxis": {
             "endlinecolor": "#2a3f5f",
             "gridcolor": "white",
             "linecolor": "white",
             "minorgridcolor": "white",
             "startlinecolor": "#2a3f5f"
            },
            "type": "carpet"
           }
          ],
          "choropleth": [
           {
            "colorbar": {
             "outlinewidth": 0,
             "ticks": ""
            },
            "type": "choropleth"
           }
          ],
          "contour": [
           {
            "colorbar": {
             "outlinewidth": 0,
             "ticks": ""
            },
            "colorscale": [
             [
              0,
              "#0d0887"
             ],
             [
              0.1111111111111111,
              "#46039f"
             ],
             [
              0.2222222222222222,
              "#7201a8"
             ],
             [
              0.3333333333333333,
              "#9c179e"
             ],
             [
              0.4444444444444444,
              "#bd3786"
             ],
             [
              0.5555555555555556,
              "#d8576b"
             ],
             [
              0.6666666666666666,
              "#ed7953"
             ],
             [
              0.7777777777777778,
              "#fb9f3a"
             ],
             [
              0.8888888888888888,
              "#fdca26"
             ],
             [
              1,
              "#f0f921"
             ]
            ],
            "type": "contour"
           }
          ],
          "contourcarpet": [
           {
            "colorbar": {
             "outlinewidth": 0,
             "ticks": ""
            },
            "type": "contourcarpet"
           }
          ],
          "heatmap": [
           {
            "colorbar": {
             "outlinewidth": 0,
             "ticks": ""
            },
            "colorscale": [
             [
              0,
              "#0d0887"
             ],
             [
              0.1111111111111111,
              "#46039f"
             ],
             [
              0.2222222222222222,
              "#7201a8"
             ],
             [
              0.3333333333333333,
              "#9c179e"
             ],
             [
              0.4444444444444444,
              "#bd3786"
             ],
             [
              0.5555555555555556,
              "#d8576b"
             ],
             [
              0.6666666666666666,
              "#ed7953"
             ],
             [
              0.7777777777777778,
              "#fb9f3a"
             ],
             [
              0.8888888888888888,
              "#fdca26"
             ],
             [
              1,
              "#f0f921"
             ]
            ],
            "type": "heatmap"
           }
          ],
          "heatmapgl": [
           {
            "colorbar": {
             "outlinewidth": 0,
             "ticks": ""
            },
            "colorscale": [
             [
              0,
              "#0d0887"
             ],
             [
              0.1111111111111111,
              "#46039f"
             ],
             [
              0.2222222222222222,
              "#7201a8"
             ],
             [
              0.3333333333333333,
              "#9c179e"
             ],
             [
              0.4444444444444444,
              "#bd3786"
             ],
             [
              0.5555555555555556,
              "#d8576b"
             ],
             [
              0.6666666666666666,
              "#ed7953"
             ],
             [
              0.7777777777777778,
              "#fb9f3a"
             ],
             [
              0.8888888888888888,
              "#fdca26"
             ],
             [
              1,
              "#f0f921"
             ]
            ],
            "type": "heatmapgl"
           }
          ],
          "histogram": [
           {
            "marker": {
             "pattern": {
              "fillmode": "overlay",
              "size": 10,
              "solidity": 0.2
             }
            },
            "type": "histogram"
           }
          ],
          "histogram2d": [
           {
            "colorbar": {
             "outlinewidth": 0,
             "ticks": ""
            },
            "colorscale": [
             [
              0,
              "#0d0887"
             ],
             [
              0.1111111111111111,
              "#46039f"
             ],
             [
              0.2222222222222222,
              "#7201a8"
             ],
             [
              0.3333333333333333,
              "#9c179e"
             ],
             [
              0.4444444444444444,
              "#bd3786"
             ],
             [
              0.5555555555555556,
              "#d8576b"
             ],
             [
              0.6666666666666666,
              "#ed7953"
             ],
             [
              0.7777777777777778,
              "#fb9f3a"
             ],
             [
              0.8888888888888888,
              "#fdca26"
             ],
             [
              1,
              "#f0f921"
             ]
            ],
            "type": "histogram2d"
           }
          ],
          "histogram2dcontour": [
           {
            "colorbar": {
             "outlinewidth": 0,
             "ticks": ""
            },
            "colorscale": [
             [
              0,
              "#0d0887"
             ],
             [
              0.1111111111111111,
              "#46039f"
             ],
             [
              0.2222222222222222,
              "#7201a8"
             ],
             [
              0.3333333333333333,
              "#9c179e"
             ],
             [
              0.4444444444444444,
              "#bd3786"
             ],
             [
              0.5555555555555556,
              "#d8576b"
             ],
             [
              0.6666666666666666,
              "#ed7953"
             ],
             [
              0.7777777777777778,
              "#fb9f3a"
             ],
             [
              0.8888888888888888,
              "#fdca26"
             ],
             [
              1,
              "#f0f921"
             ]
            ],
            "type": "histogram2dcontour"
           }
          ],
          "mesh3d": [
           {
            "colorbar": {
             "outlinewidth": 0,
             "ticks": ""
            },
            "type": "mesh3d"
           }
          ],
          "parcoords": [
           {
            "line": {
             "colorbar": {
              "outlinewidth": 0,
              "ticks": ""
             }
            },
            "type": "parcoords"
           }
          ],
          "pie": [
           {
            "automargin": true,
            "type": "pie"
           }
          ],
          "scatter": [
           {
            "fillpattern": {
             "fillmode": "overlay",
             "size": 10,
             "solidity": 0.2
            },
            "type": "scatter"
           }
          ],
          "scatter3d": [
           {
            "line": {
             "colorbar": {
              "outlinewidth": 0,
              "ticks": ""
             }
            },
            "marker": {
             "colorbar": {
              "outlinewidth": 0,
              "ticks": ""
             }
            },
            "type": "scatter3d"
           }
          ],
          "scattercarpet": [
           {
            "marker": {
             "colorbar": {
              "outlinewidth": 0,
              "ticks": ""
             }
            },
            "type": "scattercarpet"
           }
          ],
          "scattergeo": [
           {
            "marker": {
             "colorbar": {
              "outlinewidth": 0,
              "ticks": ""
             }
            },
            "type": "scattergeo"
           }
          ],
          "scattergl": [
           {
            "marker": {
             "colorbar": {
              "outlinewidth": 0,
              "ticks": ""
             }
            },
            "type": "scattergl"
           }
          ],
          "scattermapbox": [
           {
            "marker": {
             "colorbar": {
              "outlinewidth": 0,
              "ticks": ""
             }
            },
            "type": "scattermapbox"
           }
          ],
          "scatterpolar": [
           {
            "marker": {
             "colorbar": {
              "outlinewidth": 0,
              "ticks": ""
             }
            },
            "type": "scatterpolar"
           }
          ],
          "scatterpolargl": [
           {
            "marker": {
             "colorbar": {
              "outlinewidth": 0,
              "ticks": ""
             }
            },
            "type": "scatterpolargl"
           }
          ],
          "scatterternary": [
           {
            "marker": {
             "colorbar": {
              "outlinewidth": 0,
              "ticks": ""
             }
            },
            "type": "scatterternary"
           }
          ],
          "surface": [
           {
            "colorbar": {
             "outlinewidth": 0,
             "ticks": ""
            },
            "colorscale": [
             [
              0,
              "#0d0887"
             ],
             [
              0.1111111111111111,
              "#46039f"
             ],
             [
              0.2222222222222222,
              "#7201a8"
             ],
             [
              0.3333333333333333,
              "#9c179e"
             ],
             [
              0.4444444444444444,
              "#bd3786"
             ],
             [
              0.5555555555555556,
              "#d8576b"
             ],
             [
              0.6666666666666666,
              "#ed7953"
             ],
             [
              0.7777777777777778,
              "#fb9f3a"
             ],
             [
              0.8888888888888888,
              "#fdca26"
             ],
             [
              1,
              "#f0f921"
             ]
            ],
            "type": "surface"
           }
          ],
          "table": [
           {
            "cells": {
             "fill": {
              "color": "#EBF0F8"
             },
             "line": {
              "color": "white"
             }
            },
            "header": {
             "fill": {
              "color": "#C8D4E3"
             },
             "line": {
              "color": "white"
             }
            },
            "type": "table"
           }
          ]
         },
         "layout": {
          "annotationdefaults": {
           "arrowcolor": "#2a3f5f",
           "arrowhead": 0,
           "arrowwidth": 1
          },
          "autotypenumbers": "strict",
          "coloraxis": {
           "colorbar": {
            "outlinewidth": 0,
            "ticks": ""
           }
          },
          "colorscale": {
           "diverging": [
            [
             0,
             "#8e0152"
            ],
            [
             0.1,
             "#c51b7d"
            ],
            [
             0.2,
             "#de77ae"
            ],
            [
             0.3,
             "#f1b6da"
            ],
            [
             0.4,
             "#fde0ef"
            ],
            [
             0.5,
             "#f7f7f7"
            ],
            [
             0.6,
             "#e6f5d0"
            ],
            [
             0.7,
             "#b8e186"
            ],
            [
             0.8,
             "#7fbc41"
            ],
            [
             0.9,
             "#4d9221"
            ],
            [
             1,
             "#276419"
            ]
           ],
           "sequential": [
            [
             0,
             "#0d0887"
            ],
            [
             0.1111111111111111,
             "#46039f"
            ],
            [
             0.2222222222222222,
             "#7201a8"
            ],
            [
             0.3333333333333333,
             "#9c179e"
            ],
            [
             0.4444444444444444,
             "#bd3786"
            ],
            [
             0.5555555555555556,
             "#d8576b"
            ],
            [
             0.6666666666666666,
             "#ed7953"
            ],
            [
             0.7777777777777778,
             "#fb9f3a"
            ],
            [
             0.8888888888888888,
             "#fdca26"
            ],
            [
             1,
             "#f0f921"
            ]
           ],
           "sequentialminus": [
            [
             0,
             "#0d0887"
            ],
            [
             0.1111111111111111,
             "#46039f"
            ],
            [
             0.2222222222222222,
             "#7201a8"
            ],
            [
             0.3333333333333333,
             "#9c179e"
            ],
            [
             0.4444444444444444,
             "#bd3786"
            ],
            [
             0.5555555555555556,
             "#d8576b"
            ],
            [
             0.6666666666666666,
             "#ed7953"
            ],
            [
             0.7777777777777778,
             "#fb9f3a"
            ],
            [
             0.8888888888888888,
             "#fdca26"
            ],
            [
             1,
             "#f0f921"
            ]
           ]
          },
          "colorway": [
           "#636efa",
           "#EF553B",
           "#00cc96",
           "#ab63fa",
           "#FFA15A",
           "#19d3f3",
           "#FF6692",
           "#B6E880",
           "#FF97FF",
           "#FECB52"
          ],
          "font": {
           "color": "#2a3f5f"
          },
          "geo": {
           "bgcolor": "white",
           "lakecolor": "white",
           "landcolor": "#E5ECF6",
           "showlakes": true,
           "showland": true,
           "subunitcolor": "white"
          },
          "hoverlabel": {
           "align": "left"
          },
          "hovermode": "closest",
          "mapbox": {
           "style": "light"
          },
          "paper_bgcolor": "white",
          "plot_bgcolor": "#E5ECF6",
          "polar": {
           "angularaxis": {
            "gridcolor": "white",
            "linecolor": "white",
            "ticks": ""
           },
           "bgcolor": "#E5ECF6",
           "radialaxis": {
            "gridcolor": "white",
            "linecolor": "white",
            "ticks": ""
           }
          },
          "scene": {
           "xaxis": {
            "backgroundcolor": "#E5ECF6",
            "gridcolor": "white",
            "gridwidth": 2,
            "linecolor": "white",
            "showbackground": true,
            "ticks": "",
            "zerolinecolor": "white"
           },
           "yaxis": {
            "backgroundcolor": "#E5ECF6",
            "gridcolor": "white",
            "gridwidth": 2,
            "linecolor": "white",
            "showbackground": true,
            "ticks": "",
            "zerolinecolor": "white"
           },
           "zaxis": {
            "backgroundcolor": "#E5ECF6",
            "gridcolor": "white",
            "gridwidth": 2,
            "linecolor": "white",
            "showbackground": true,
            "ticks": "",
            "zerolinecolor": "white"
           }
          },
          "shapedefaults": {
           "line": {
            "color": "#2a3f5f"
           }
          },
          "ternary": {
           "aaxis": {
            "gridcolor": "white",
            "linecolor": "white",
            "ticks": ""
           },
           "baxis": {
            "gridcolor": "white",
            "linecolor": "white",
            "ticks": ""
           },
           "bgcolor": "#E5ECF6",
           "caxis": {
            "gridcolor": "white",
            "linecolor": "white",
            "ticks": ""
           }
          },
          "title": {
           "x": 0.05
          },
          "xaxis": {
           "automargin": true,
           "gridcolor": "white",
           "linecolor": "white",
           "ticks": "",
           "title": {
            "standoff": 15
           },
           "zerolinecolor": "white",
           "zerolinewidth": 2
          },
          "yaxis": {
           "automargin": true,
           "gridcolor": "white",
           "linecolor": "white",
           "ticks": "",
           "title": {
            "standoff": 15
           },
           "zerolinecolor": "white",
           "zerolinewidth": 2
          }
         }
        },
        "title": {
         "text": "UserId - Datetime created"
        },
        "width": 500
       }
      }
     },
     "metadata": {},
     "output_type": "display_data"
    }
   ],
   "source": [
    "fig = make_subplots(rows=1, cols=1, specs=[[{\"type\": \"polar\"}]*1])#, subplot_titles=(\"D\"))#, subplot_titles=(\"Sun\", \"Mon\", \"Tue\", \"Wed\", \"Thur\", \"Fri\", \"Sat\"))\n",
    "# fig = go.Figure()\n",
    "# t = df1[\"timestamp\"].unique()[0]\n",
    "sample = df.assign(width = lambda x: x['end_deg'] - x['start_deg']).assign(mid_deg = lambda x: x['start_deg']+ x['width']/2)\n",
    "\n",
    "for i in range(sample.shape[0]):\n",
    "    # idx = sample.iloc[i]['weekDay'] + 1\n",
    "    name = sample.iloc[i]['name']\n",
    "    opacity = sample.iloc[i]['name']\n",
    "    \n",
    "    theta = sample.iloc[i]['mid_deg']\n",
    "    width = sample.iloc[i]['width']\n",
    "    color = sample.iloc[i]['color']\n",
    "    # info = sample.iloc[i]['info']\n",
    "    fig.add_trace(go.Barpolar(name = name,theta= [theta], width=[width], r=[100],\n",
    "                            hovertext= [], opacity=0.35, marker_color=[color]))#, row=1, col=1)\n",
    "# display(fig.show())\n",
    "fig.update_layout(\n",
    "    autosize=False,\n",
    "    width=500,\n",
    "    height=350,\n",
    "    title_text = f\"UserId - Datetime created\",\n",
    "    annotations=[ ],\n",
    "    showlegend = True,\n",
    "    polar = dict(\n",
    "        radialaxis = dict(\n",
    "            visible = False,\n",
    "            tickfont_size = 8,\n",
    "        ),\n",
    "        angularaxis = dict(\n",
    "        tickfont_size = 6,\n",
    "        rotation = 90,\n",
    "        direction = \"clockwise\",\n",
    "        tickvals=[0, 45, 90, 135, 180, 225, 270, 315],\n",
    "        ticktext = ['0', '3', '6', '9', '12', '15', '18', '21']\n",
    "    )\n",
    "    ),\n",
    "    polar1 = dict(\n",
    "        radialaxis = dict(\n",
    "            visible = False,\n",
    "            tickfont_size = 8,\n",
    "        ),\n",
    "        angularaxis = dict(\n",
    "        tickfont_size = 6,\n",
    "        rotation = 90,\n",
    "        direction = \"clockwise\",\n",
    "        tickvals=[0, 45, 90, 135, 180, 225, 270, 315],\n",
    "        ticktext = ['0', '3', '6', '9', '12', '15', '18', '21']\n",
    "    )\n",
    "    ),  \n",
    "   \n",
    "\n",
    ")\n",
    "\n",
    "fig.show()"
   ]
  },
  {
   "cell_type": "code",
   "execution_count": 54,
   "metadata": {},
   "outputs": [],
   "source": [
    "fig.write_image(f\"day_plot.png\")"
   ]
  },
  {
   "cell_type": "code",
   "execution_count": 2,
   "metadata": {},
   "outputs": [
    {
     "data": {
      "text/html": [
       "<div>\n",
       "<style scoped>\n",
       "    .dataframe tbody tr th:only-of-type {\n",
       "        vertical-align: middle;\n",
       "    }\n",
       "\n",
       "    .dataframe tbody tr th {\n",
       "        vertical-align: top;\n",
       "    }\n",
       "\n",
       "    .dataframe thead th {\n",
       "        text-align: right;\n",
       "    }\n",
       "</style>\n",
       "<table border=\"1\" class=\"dataframe\">\n",
       "  <thead>\n",
       "    <tr style=\"text-align: right;\">\n",
       "      <th></th>\n",
       "      <th>userId</th>\n",
       "      <th>gender</th>\n",
       "      <th>ageRange</th>\n",
       "      <th>cueingMethod1</th>\n",
       "      <th>cueingMethod2</th>\n",
       "      <th>cueingMethod1Start</th>\n",
       "      <th>cueingMethod1End</th>\n",
       "      <th>cueingMethod2Start</th>\n",
       "      <th>cueingMethod2End</th>\n",
       "      <th>ethnicGroup</th>\n",
       "      <th>platform</th>\n",
       "    </tr>\n",
       "  </thead>\n",
       "  <tbody>\n",
       "    <tr>\n",
       "      <th>0</th>\n",
       "      <td>54hFUuEnJA</td>\n",
       "      <td>Male</td>\n",
       "      <td>65+ years</td>\n",
       "      <td>cueband</td>\n",
       "      <td>phone</td>\n",
       "      <td>2022-10-10 11:09:46.931000+01:00</td>\n",
       "      <td>2022-10-31 16:21:35.457000+00:00</td>\n",
       "      <td>2022-11-18 07:10:46.007000+00:00</td>\n",
       "      <td>2022-12-09 07:13:48.303000+00:00</td>\n",
       "      <td>None</td>\n",
       "      <td>Android</td>\n",
       "    </tr>\n",
       "    <tr>\n",
       "      <th>1</th>\n",
       "      <td>KpZ0DlA0Qa</td>\n",
       "      <td>Male</td>\n",
       "      <td>65+ years</td>\n",
       "      <td>phone</td>\n",
       "      <td>cueband</td>\n",
       "      <td>2022-10-10 20:33:12.394000+01:00</td>\n",
       "      <td>2022-10-31 08:15:23.953000+00:00</td>\n",
       "      <td>2022-12-01 18:53:48.907000+00:00</td>\n",
       "      <td>2022-12-22 08:38:43.432000+00:00</td>\n",
       "      <td>English, Welsh, Scottish, Northern Irish or Br...</td>\n",
       "      <td>iOS</td>\n",
       "    </tr>\n",
       "    <tr>\n",
       "      <th>2</th>\n",
       "      <td>gymn4uQetH</td>\n",
       "      <td>Female</td>\n",
       "      <td>45-54 years</td>\n",
       "      <td>cueband</td>\n",
       "      <td>phone</td>\n",
       "      <td>2022-10-10 17:09:37.394000+01:00</td>\n",
       "      <td>2022-10-31 06:40:01.004000+00:00</td>\n",
       "      <td>2022-11-19 19:14:05.478000+00:00</td>\n",
       "      <td>2022-12-10 06:41:12.195000+00:00</td>\n",
       "      <td>None</td>\n",
       "      <td>iOS</td>\n",
       "    </tr>\n",
       "    <tr>\n",
       "      <th>3</th>\n",
       "      <td>JqZPr3q1LD</td>\n",
       "      <td>Male</td>\n",
       "      <td>55-64 years</td>\n",
       "      <td>cueband</td>\n",
       "      <td>phone</td>\n",
       "      <td>2022-10-12 13:44:51.067000+01:00</td>\n",
       "      <td>2022-11-02 07:43:55.523000+00:00</td>\n",
       "      <td>2022-11-18 08:49:14.698000+00:00</td>\n",
       "      <td>2022-12-09 06:45:46.859000+00:00</td>\n",
       "      <td>English, Welsh, Scottish, Northern Irish or Br...</td>\n",
       "      <td>Android</td>\n",
       "    </tr>\n",
       "    <tr>\n",
       "      <th>4</th>\n",
       "      <td>CCGlM7KPWU</td>\n",
       "      <td>Female</td>\n",
       "      <td>45-54 years</td>\n",
       "      <td>phone</td>\n",
       "      <td>cueband</td>\n",
       "      <td>2022-10-25 14:42:29.405000+01:00</td>\n",
       "      <td>2022-11-15 22:21:31.352000+00:00</td>\n",
       "      <td>2022-11-29 12:57:32.672000+00:00</td>\n",
       "      <td>2022-12-20 00:05:46.527000+00:00</td>\n",
       "      <td>English, Welsh, Scottish, Northern Irish or Br...</td>\n",
       "      <td>Android</td>\n",
       "    </tr>\n",
       "    <tr>\n",
       "      <th>...</th>\n",
       "      <td>...</td>\n",
       "      <td>...</td>\n",
       "      <td>...</td>\n",
       "      <td>...</td>\n",
       "      <td>...</td>\n",
       "      <td>...</td>\n",
       "      <td>...</td>\n",
       "      <td>...</td>\n",
       "      <td>...</td>\n",
       "      <td>...</td>\n",
       "      <td>...</td>\n",
       "    </tr>\n",
       "    <tr>\n",
       "      <th>64</th>\n",
       "      <td>4HBWN2fZtQ</td>\n",
       "      <td>Male</td>\n",
       "      <td>55-64 years</td>\n",
       "      <td>cueband</td>\n",
       "      <td>phone</td>\n",
       "      <td>2022-10-23 08:37:23.731000+01:00</td>\n",
       "      <td>2022-11-13 00:05:30.759000+00:00</td>\n",
       "      <td>2022-11-27 16:19:33.829000+00:00</td>\n",
       "      <td>2022-12-18 18:12:32.256000+00:00</td>\n",
       "      <td>None</td>\n",
       "      <td>Android</td>\n",
       "    </tr>\n",
       "    <tr>\n",
       "      <th>65</th>\n",
       "      <td>21BUALLxF6</td>\n",
       "      <td>Male</td>\n",
       "      <td>65+ years</td>\n",
       "      <td>cueband</td>\n",
       "      <td>phone</td>\n",
       "      <td>2022-11-28 15:02:45.523000+00:00</td>\n",
       "      <td>2022-12-19 08:42:53.211000+00:00</td>\n",
       "      <td>2023-01-04 16:22:12.456000+00:00</td>\n",
       "      <td>2023-01-25 12:49:44.594000+00:00</td>\n",
       "      <td>English, Welsh, Scottish, Northern Irish or Br...</td>\n",
       "      <td>Android</td>\n",
       "    </tr>\n",
       "    <tr>\n",
       "      <th>66</th>\n",
       "      <td>8CG1nlTfeA</td>\n",
       "      <td>Male</td>\n",
       "      <td>65+ years</td>\n",
       "      <td>cueband</td>\n",
       "      <td>phone</td>\n",
       "      <td>2022-12-27 10:20:21.524000+00:00</td>\n",
       "      <td>2023-01-17 19:00:51.265000+00:00</td>\n",
       "      <td>2023-01-31 18:58:43.022000+00:00</td>\n",
       "      <td>2023-02-21 23:02:30.891000+00:00</td>\n",
       "      <td>English, Welsh, Scottish, Northern Irish or Br...</td>\n",
       "      <td>Android</td>\n",
       "    </tr>\n",
       "    <tr>\n",
       "      <th>67</th>\n",
       "      <td>T7NmVm71XP</td>\n",
       "      <td>Male</td>\n",
       "      <td>65+ years</td>\n",
       "      <td>phone</td>\n",
       "      <td>cueband</td>\n",
       "      <td>2022-12-14 11:39:37.602000+00:00</td>\n",
       "      <td>2023-01-04 08:12:51.463000+00:00</td>\n",
       "      <td>2023-01-28 12:21:24.463000+00:00</td>\n",
       "      <td>2023-02-18 00:30:21.513000+00:00</td>\n",
       "      <td>None</td>\n",
       "      <td>Android</td>\n",
       "    </tr>\n",
       "    <tr>\n",
       "      <th>68</th>\n",
       "      <td>N8eCQYSbd0</td>\n",
       "      <td>Male</td>\n",
       "      <td>65+ years</td>\n",
       "      <td>cueband</td>\n",
       "      <td>phone</td>\n",
       "      <td>2023-01-15 09:41:38.928000+00:00</td>\n",
       "      <td>2023-02-05 08:54:49.579000+00:00</td>\n",
       "      <td>2023-02-19 07:57:27.369000+00:00</td>\n",
       "      <td>2023-03-12 07:26:00.522000+00:00</td>\n",
       "      <td>English, Welsh, Scottish, Northern Irish or Br...</td>\n",
       "      <td>Android</td>\n",
       "    </tr>\n",
       "  </tbody>\n",
       "</table>\n",
       "<p>69 rows × 11 columns</p>\n",
       "</div>"
      ],
      "text/plain": [
       "        userId  gender     ageRange cueingMethod1 cueingMethod2  \\\n",
       "0   54hFUuEnJA    Male    65+ years       cueband         phone   \n",
       "1   KpZ0DlA0Qa    Male    65+ years         phone       cueband   \n",
       "2   gymn4uQetH  Female  45-54 years       cueband         phone   \n",
       "3   JqZPr3q1LD    Male  55-64 years       cueband         phone   \n",
       "4   CCGlM7KPWU  Female  45-54 years         phone       cueband   \n",
       "..         ...     ...          ...           ...           ...   \n",
       "64  4HBWN2fZtQ    Male  55-64 years       cueband         phone   \n",
       "65  21BUALLxF6    Male    65+ years       cueband         phone   \n",
       "66  8CG1nlTfeA    Male    65+ years       cueband         phone   \n",
       "67  T7NmVm71XP    Male    65+ years         phone       cueband   \n",
       "68  N8eCQYSbd0    Male    65+ years       cueband         phone   \n",
       "\n",
       "                 cueingMethod1Start                 cueingMethod1End  \\\n",
       "0  2022-10-10 11:09:46.931000+01:00 2022-10-31 16:21:35.457000+00:00   \n",
       "1  2022-10-10 20:33:12.394000+01:00 2022-10-31 08:15:23.953000+00:00   \n",
       "2  2022-10-10 17:09:37.394000+01:00 2022-10-31 06:40:01.004000+00:00   \n",
       "3  2022-10-12 13:44:51.067000+01:00 2022-11-02 07:43:55.523000+00:00   \n",
       "4  2022-10-25 14:42:29.405000+01:00 2022-11-15 22:21:31.352000+00:00   \n",
       "..                              ...                              ...   \n",
       "64 2022-10-23 08:37:23.731000+01:00 2022-11-13 00:05:30.759000+00:00   \n",
       "65 2022-11-28 15:02:45.523000+00:00 2022-12-19 08:42:53.211000+00:00   \n",
       "66 2022-12-27 10:20:21.524000+00:00 2023-01-17 19:00:51.265000+00:00   \n",
       "67 2022-12-14 11:39:37.602000+00:00 2023-01-04 08:12:51.463000+00:00   \n",
       "68 2023-01-15 09:41:38.928000+00:00 2023-02-05 08:54:49.579000+00:00   \n",
       "\n",
       "                 cueingMethod2Start                 cueingMethod2End  \\\n",
       "0  2022-11-18 07:10:46.007000+00:00 2022-12-09 07:13:48.303000+00:00   \n",
       "1  2022-12-01 18:53:48.907000+00:00 2022-12-22 08:38:43.432000+00:00   \n",
       "2  2022-11-19 19:14:05.478000+00:00 2022-12-10 06:41:12.195000+00:00   \n",
       "3  2022-11-18 08:49:14.698000+00:00 2022-12-09 06:45:46.859000+00:00   \n",
       "4  2022-11-29 12:57:32.672000+00:00 2022-12-20 00:05:46.527000+00:00   \n",
       "..                              ...                              ...   \n",
       "64 2022-11-27 16:19:33.829000+00:00 2022-12-18 18:12:32.256000+00:00   \n",
       "65 2023-01-04 16:22:12.456000+00:00 2023-01-25 12:49:44.594000+00:00   \n",
       "66 2023-01-31 18:58:43.022000+00:00 2023-02-21 23:02:30.891000+00:00   \n",
       "67 2023-01-28 12:21:24.463000+00:00 2023-02-18 00:30:21.513000+00:00   \n",
       "68 2023-02-19 07:57:27.369000+00:00 2023-03-12 07:26:00.522000+00:00   \n",
       "\n",
       "                                          ethnicGroup platform  \n",
       "0                                                None  Android  \n",
       "1   English, Welsh, Scottish, Northern Irish or Br...      iOS  \n",
       "2                                                None      iOS  \n",
       "3   English, Welsh, Scottish, Northern Irish or Br...  Android  \n",
       "4   English, Welsh, Scottish, Northern Irish or Br...  Android  \n",
       "..                                                ...      ...  \n",
       "64                                               None  Android  \n",
       "65  English, Welsh, Scottish, Northern Irish or Br...  Android  \n",
       "66  English, Welsh, Scottish, Northern Irish or Br...  Android  \n",
       "67                                               None  Android  \n",
       "68  English, Welsh, Scottish, Northern Irish or Br...  Android  \n",
       "\n",
       "[69 rows x 11 columns]"
      ]
     },
     "execution_count": 2,
     "metadata": {},
     "output_type": "execute_result"
    }
   ],
   "source": [
    "df = pd.read_parquet(\"data/patients_info.parquet\")\n",
    "df"
   ]
  },
  {
   "cell_type": "code",
   "execution_count": null,
   "metadata": {},
   "outputs": [],
   "source": []
  }
 ],
 "metadata": {
  "kernelspec": {
   "display_name": "cueband",
   "language": "python",
   "name": "python3"
  },
  "language_info": {
   "codemirror_mode": {
    "name": "ipython",
    "version": 3
   },
   "file_extension": ".py",
   "mimetype": "text/x-python",
   "name": "python",
   "nbconvert_exporter": "python",
   "pygments_lexer": "ipython3",
   "version": "3.9.16"
  },
  "orig_nbformat": 4
 },
 "nbformat": 4,
 "nbformat_minor": 2
}
