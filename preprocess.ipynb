{
 "cells": [
  {
   "attachments": {},
   "cell_type": "markdown",
   "metadata": {},
   "source": [
    "# Data loading"
   ]
  },
  {
   "cell_type": "code",
   "execution_count": 2,
   "metadata": {},
   "outputs": [
    {
     "name": "stderr",
     "output_type": "stream",
     "text": [
      "Failed to detect the name of this notebook, you can set it manually with the WANDB_NOTEBOOK_NAME environment variable to enable code saving.\n",
      "\u001b[34m\u001b[1mwandb\u001b[0m: Currently logged in as: \u001b[33mntg2208\u001b[0m. Use \u001b[1m`wandb login --relogin`\u001b[0m to force relogin\n"
     ]
    },
    {
     "data": {
      "text/plain": [
       "True"
      ]
     },
     "execution_count": 2,
     "metadata": {},
     "output_type": "execute_result"
    }
   ],
   "source": [
    "import json\n",
    "import warnings\n",
    "warnings.simplefilter(action='ignore', category=FutureWarning)\n",
    "warnings.filterwarnings(\"ignore\")\n",
    "\n",
    "import pandas as pd\n",
    "import numpy as np\n",
    "import matplotlib.pyplot as plt\n",
    "import plotly.express as px\n",
    "import random \n",
    "\n",
    "import plotly.graph_objects as go\n",
    "from plotly.subplots import make_subplots\n",
    "\n",
    "from scipy import stats\n",
    "from tqdm import tqdm\n",
    "\n",
    "import os\n",
    "import plotly.io as pio\n",
    "\n",
    "import xgboost as xgb\n",
    "from sklearn.model_selection import train_test_split\n",
    "import wandb\n",
    "from wandb.xgboost import WandbCallback\n",
    "\n",
    "from sklearn.metrics import accuracy_score\n",
    "\n",
    "wandb.login()\n"
   ]
  },
  {
   "attachments": {},
   "cell_type": "markdown",
   "metadata": {},
   "source": [
    "### Merge json files"
   ]
  },
  {
   "cell_type": "code",
   "execution_count": 3,
   "metadata": {},
   "outputs": [
    {
     "name": "stdout",
     "output_type": "stream",
     "text": [
      "dict_keys(['54hFUuEnJA', 'KpZ0DlA0Qa', 'gymn4uQetH', 'JqZPr3q1LD', 'CCGlM7KPWU', 'T00mMEwEZQ', 'vyXgu5Y2Ir', 'M6AnBk7QDC', 'D9ueoHithb', 'yA5oo0mfBh', 'qIbpO14xtQ', 'tQH2goO6X7', 'qehDXrIutg', 'IH37N8bmqr', 'x5FkDfHIeb', 'QOQ0hkp1w8', 'bNC0L6XLKF', 'eos78kZgv7', '1r2J9taZha', 'RCyHQ6rpvv', '7YEwUZuc8D', 'FhOlzVfEIL', 'AfV9dmJtMm', 'HEUjBr7iWG', 'PN1zc7wTMT', 'ILi5G9vycp', 'hWKgqVxmMM', 'vvRWUiYuo0', 'YQ5JZShUmU', 'TD9pplcD4k', '0tbGZHzjR7', 'NB01kHhAKl', '6Ujss5DCym', 'FhEb2UWpsc', 'lkEP97xGWa', 'vmFt8cc4jE', 'WcSXVvGRh1', 'yHK1hn0pTA', 'Bigvbc0mbI', 'tMpBFEEHKj', '2dbVKUDzd5', '3kRR5MPMyj', 'BzirdGuQ3W', 'PAsFOF8cXY', 'xwF8hGon4W', 'AkZCK3y8qH', 'mkxN5gMcg2', '6XP9llsYUQ', 'jyTB9IzBlz', 'UGsSC0G3ek', '314AzeyjQn', 'VDD0IFLjHZ', 'O93i3oVnGC', '32CRg760Gd', '84R29C7UDR', 'WKGW1NbScl', 'LDcVLmHH1i', 'jXjMEBIm4t', '78ta1rTGB1', 'GwKp4kQzpp', 'C4ETJhJS6O', 'paHDEQgwBm', 'j7ET6wNJO1', 'POR1TsiMtc', '4HBWN2fZtQ', '21BUALLxF6', '8CG1nlTfeA', 'T7NmVm71XP', 'N8eCQYSbd0']) 69\n"
     ]
    }
   ],
   "source": [
    "file1 = 'data/data-2-2-23.json'\n",
    "file2 = 'data/data-14-3-23.json'\n",
    "output = 'data/merged_data.json'\n",
    "# london_tz = 'Europe/London'\n",
    "\n",
    "with open(file1, 'rb') as f:\n",
    "    data = json.load(f)\n",
    "with open(file2, 'rb') as f:\n",
    "    data.update(json.load(f))   \n",
    "with open(output, 'w') as f:\n",
    "    json.dump(data, f)   \n",
    "\n",
    "userIds = list(data.keys())\n",
    "id = 'QOQ0hkp1w8'\n",
    "print(data.keys(), len(data.keys()))"
   ]
  },
  {
   "attachments": {},
   "cell_type": "markdown",
   "metadata": {},
   "source": [
    "### Load json data"
   ]
  },
  {
   "cell_type": "code",
   "execution_count": 4,
   "metadata": {},
   "outputs": [
    {
     "name": "stdout",
     "output_type": "stream",
     "text": [
      "69\n"
     ]
    },
    {
     "data": {
      "text/plain": [
       "dict_keys(['diaryEntry', 'cueingInterval', 'assessment1Data', 'assessment2Data', 'assessment3Data', 'assessment4Data', 'activityLogBlockHeaders', 'appLogs'])"
      ]
     },
     "execution_count": 4,
     "metadata": {},
     "output_type": "execute_result"
    }
   ],
   "source": [
    "file = 'data/merged_data.json'\n",
    "# london_tz = 'Europe/London'\n",
    "\n",
    "with open(file, 'rb') as f:\n",
    "    data = json.load(f)\n",
    "userIds = list(data.keys())\n",
    "id = 'QOQ0hkp1w8'\n",
    "print(len(data.keys()))\n",
    "\n",
    "data['54hFUuEnJA'].keys()"
   ]
  },
  {
   "attachments": {},
   "cell_type": "markdown",
   "metadata": {},
   "source": [
    "# Population Exploration"
   ]
  },
  {
   "attachments": {},
   "cell_type": "markdown",
   "metadata": {},
   "source": [
    "## Manual Process"
   ]
  },
  {
   "cell_type": "code",
   "execution_count": 5,
   "metadata": {},
   "outputs": [
    {
     "name": "stderr",
     "output_type": "stream",
     "text": [
      "100%|██████████| 69/69 [03:30<00:00,  3.06s/it]\n"
     ]
    },
    {
     "data": {
      "text/plain": [
       "(4233, 15)"
      ]
     },
     "metadata": {},
     "output_type": "display_data"
    },
    {
     "data": {
      "text/plain": [
       "(2928, 11)"
      ]
     },
     "metadata": {},
     "output_type": "display_data"
    },
    {
     "data": {
      "text/plain": [
       "(44724, 12)"
      ]
     },
     "metadata": {},
     "output_type": "display_data"
    },
    {
     "data": {
      "text/plain": [
       "(5673235, 13)"
      ]
     },
     "metadata": {},
     "output_type": "display_data"
    },
    {
     "data": {
      "text/plain": [
       "(246968, 21)"
      ]
     },
     "metadata": {},
     "output_type": "display_data"
    }
   ],
   "source": [
    "from tqdm import tqdm\n",
    "userIds = data.keys()\n",
    "\n",
    "diaryEntries = []\n",
    "cueingIntervals = []\n",
    "appLogs = []\n",
    "blockSamples = []\n",
    "blockHeaders = []\n",
    "\n",
    "def process_patient(id):\n",
    "    sample = data[id]\n",
    "    \n",
    "    diaryEntry = pd.json_normalize(sample['diaryEntry'])\n",
    "    diaryEntry['createdAt'] = pd.to_datetime(diaryEntry['createdAt']).dt.tz_convert('Europe/London')\n",
    "    diaryEntry['updatedAt'] = pd.to_datetime(diaryEntry['updatedAt']).dt.tz_convert('Europe/London')\n",
    "    diaryEntry['recordedTime.iso'] = pd.to_datetime(diaryEntry['recordedTime.iso']).dt.tz_convert('Europe/London')\n",
    "    diaryEntry['dayDate.iso'] = pd.to_datetime(diaryEntry['dayDate.iso'])\n",
    "    diaryEntry = diaryEntry.sort_values(by='createdAt')\n",
    "    \n",
    "    \n",
    "    cueingInterval = pd.json_normalize(sample['cueingInterval'])\n",
    "    cueingInterval['createdAt'] = pd.to_datetime(cueingInterval['createdAt']).dt.tz_convert('Europe/London')\n",
    "    cueingInterval['updatedAt'] = pd.to_datetime(cueingInterval['updatedAt']).dt.tz_convert('Europe/London')\n",
    "    cueingInterval = cueingInterval.sort_values(by='createdAt')\n",
    "    \n",
    "    \n",
    "    appLog = pd.json_normalize(sample['appLogs'])\n",
    "    appLog['createdAt'] = pd.to_datetime(appLog['createdAt']).dt.tz_convert('Europe/London')\n",
    "    appLog['updatedAt'] = pd.to_datetime(appLog['updatedAt']).dt.tz_convert('Europe/London')\n",
    "    appLog['timestamp.iso'] = pd.to_datetime(appLog['timestamp.iso'])\n",
    "    appLog = appLog.sort_values(by='createdAt')\n",
    "    \n",
    "    blockHeader = pd.json_normalize(sample['activityLogBlockHeaders'])\n",
    "    blockHeader['event_time'] = pd.to_datetime(blockHeader['timestamp'], unit='s', utc=True).dt.tz_convert('Europe/London')\n",
    "    blockHeader['createdAt'] = pd.to_datetime(blockHeader['createdAt']).dt.tz_convert('Europe/London')\n",
    "    blockHeader['updatedAt'] = pd.to_datetime(blockHeader['updatedAt']).dt.tz_convert('Europe/London')\n",
    "    blockHeader = blockHeader.sort_values(by='createdAt')\n",
    "    \n",
    "    try: \n",
    "        blockSample_file = f'data/ActivityLogBlockSamplesData-2-2-23/{id}.json'    \n",
    "        blockSample = json.load(open(blockSample_file, 'rb'))\n",
    "        blockSample = pd.json_normalize(blockSample)\n",
    "        blockSample['createdAt'] = pd.to_datetime(blockSample['createdAt']).dt.tz_convert('Europe/London')\n",
    "        blockSample['createdAt'] = blockSample['createdAt'].values.astype('datetime64[s]')\n",
    "        blockSample['updatedAt'] = pd.to_datetime(blockSample['updatedAt']).dt.tz_convert('Europe/London')\n",
    "        blockSample['updatedAt'] = blockSample['updatedAt'].values.astype('datetime64[s]')\n",
    "        blockSample = blockSample.sort_values(by = 'createdAt')\n",
    "    except:\n",
    "        blockSample = pd.DataFrame()\n",
    "\n",
    "    return diaryEntry, cueingInterval, appLog, blockSample, blockHeader\n",
    "\n",
    "\n",
    "for i in tqdm(userIds):\n",
    "    diaryEntry, cueingInterval, appLog, blockSample, blockHeader = process_patient(i)\n",
    "    \n",
    "    diaryEntries.append(diaryEntry)\n",
    "    cueingIntervals.append(cueingInterval)\n",
    "    appLogs.append(appLog)\n",
    "    blockSamples.append(blockSample)\n",
    "    blockHeaders.append(blockHeader)\n",
    "    \n",
    "diaryEntries = pd.concat(diaryEntries)\n",
    "cueingIntervals = pd.concat(cueingIntervals)\n",
    "appLogs = pd.concat(appLogs)\n",
    "blockSamples = pd.concat(blockSamples)\n",
    "blockHeaders = pd.concat(blockHeaders)\n",
    "\n",
    "display(diaryEntries.shape)\n",
    "display(cueingIntervals.shape)\n",
    "display(appLogs.shape)\n",
    "display(blockSamples.shape)\n",
    "display(blockHeaders.shape)"
   ]
  },
  {
   "cell_type": "code",
   "execution_count": 6,
   "metadata": {},
   "outputs": [
    {
     "data": {
      "text/plain": [
       "(5673235, 14)"
      ]
     },
     "metadata": {},
     "output_type": "display_data"
    }
   ],
   "source": [
    "events_dict = {\n",
    "    1 : \"Connected to power for at least part of the epoch (not worn)\",\n",
    "    2 : \"Power connection status changed during the epoch\",\n",
    "    4 : \"Connected to Bluetooth for at least part the epoch\",\n",
    "    8 : \"Bluetooth connection status changed during the epoch\",\n",
    "    16 : \"Communication protocol activity\",\n",
    "    32 : \"Watch was awoken at least once during the epoch\",\n",
    "    64 : \"Watch screen interaction (button or touch)\",\n",
    "    128 : \"First epoch after device restart (or event logging restarted?)\",\n",
    "    256 : \"(TBD?) Activity: Device considered not worn from inactivity\",\n",
    "    512 : \"(TBD?) Activity: Wearer may be asleep\",\n",
    "    1024: \"Cue: Scheduled cueing disabled\",\n",
    "    2048: \"Cue: new configuration written\",\n",
    "    4096: \"Cue: user opened watch cue app\",\n",
    "    8192: \"Cue: temporary manual cueing in use\",\n",
    "    16384: \"Cue: temporary manual snooze in use\",\n",
    "    32768: \"Activity: Watch was detected as face-down during the epoch (potentially not worn / manually snoozed?)\",\n",
    "}\n",
    "\n",
    "# blockSamples['events_detail'] = blockSamples['events'].replace(events_dict)\n",
    "def decode_events(x):\n",
    "    message = x\n",
    "    if x > 0:\n",
    "        # message = x\n",
    "        # if x not in events_dict.keys():\n",
    "        bin_x = bin(x)[2:][::-1]\n",
    "\n",
    "        sum_flag = [2**i for i in range(len(bin_x)) if bin_x[i] == '1']\n",
    "        message = \"\\n\".join([events_dict[i] for i in sum_flag if i >1]) + f\"\\n{sum_flag}\"\n",
    "        # message = ' '.join(sum_flag)\n",
    "        # print(message)\n",
    "        # message = str(message)\n",
    "    \n",
    "    return message\n",
    "\n",
    "blockSamples['events_detail'] = blockSamples['events'].apply(decode_events)\n",
    "display(blockSamples.shape)\n",
    "\n",
    "\n",
    "def message_encode(x):\n",
    "    if \"Application started\" in x: return 0\n",
    "    elif \"Saving delivery address\" in x: return 1\n",
    "    elif \"Connecting To New Device: \" in x: return 2\n",
    "    elif \"Connecting To Already Bonded Device: \" in x: return 3\n",
    "    elif \"Bonding Device\" in x: return 4\n",
    "    elif \"Bonding Device Cancelled\" in x: return 5\n",
    "    elif \"Scan Device Cancelled\" in x: return 6\n",
    "    elif \"Scanning - No devices found\" in x: return 7\n",
    "    elif \"Start scanning\" in x: return 8\n",
    "    elif \"Added new diary entry\" in x: return 9\n",
    "    elif \"Manually changed cueing type to\" in x: return 10\n",
    "    \n",
    "    elif \"Wearable muted cueing started\" in x: return 11\n",
    "    elif \"Wearable manual cueing started \" in x: return 12\n",
    "    elif \"Wearable scheduled cueing started \" in x: return 13\n",
    "    elif \"Wearable manual cueing started \" in x: return 14\n",
    "    elif \"Wearable muted cueing started \" in x: return 15\n",
    "    elif \"Wearable scheduled cueing started \" in x: return 16\n",
    "    \n",
    "    elif \"Phone muted cueing started. \" in x: return 17\n",
    "    elif \"Phone manual cueing started. \" in x: return 18\n",
    "    elif \"Phone scheduled cueing started. \" in x: return 19\n",
    "    \n",
    "    elif \"Cueing interval updated to \" in x: return 20\n",
    "    elif \"Cueing Interval Deleted - StartTime: \" in x: return 21\n",
    "    \n",
    "    elif \"Vibration intensity updated to \" in x: return 22\n",
    "    elif \"Vibration pattern updated to \" in x and \"on phone\" in x: return 23\n",
    "    elif \"Vibration pattern updated to \" in x and \"on wearable\": return 24\n",
    "    \n",
    "    elif \"Manual Cueing stopped on phone\" in x: return 25\n",
    "    elif \"Manual Cueing stopped on wearable\" in x: return 26\n",
    "    \n",
    "    elif \"Scheduled cueing muted completely\" in x: return 27\n",
    "    elif \"Silence mode stopped on phone\" in x: return 28\n",
    "    elif \"Silence mode stopped on CueBand\" in x: return 29\n",
    "    \n",
    "    elif \"Muted scheduled cueing on phone for \" in x: return 30\n",
    "    elif \"Muted scheduled cueing on wearable for\" in x: return 31\n",
    "    \n",
    "    elif \"Change Cueing Settings: CueingInterval: \" in x: return 32\n",
    "    elif \"New Cueing Interval Created - StartTime: \" in x: return 33\n",
    "    elif \"Updated Cueing Interval Created - StartTime: \" in x: return 34\n",
    "\n",
    "    return 35\n",
    "\n",
    "appLogs['events'] = appLogs['message'].apply(message_encode)"
   ]
  },
  {
   "cell_type": "code",
   "execution_count": 7,
   "metadata": {},
   "outputs": [],
   "source": [
    "diaryEntries.to_parquet('data/diaryEntries.parquet')\n",
    "cueingIntervals.to_parquet('data/cueingIntervals.parquet')\n",
    "appLogs.to_parquet('data/appLogs.parquet')\n",
    "blockSamples['events_detail'] = blockSamples['events_detail'].astype(str)\n",
    "# blockSamples.to_parquet('data/blockSamples.parquet', engine='auto')\n",
    "blockSamples.to_parquet('data/blockSamples2.parquet', engine='auto')\n",
    "blockHeaders.to_parquet('data/blockHeaders.parquet', engine='auto')"
   ]
  },
  {
   "attachments": {},
   "cell_type": "markdown",
   "metadata": {},
   "source": [
    "## Load parquet"
   ]
  },
  {
   "cell_type": "code",
   "execution_count": 2,
   "metadata": {},
   "outputs": [
    {
     "data": {
      "text/plain": [
       "((4233, 16), (2928, 11), (44724, 13))"
      ]
     },
     "execution_count": 2,
     "metadata": {},
     "output_type": "execute_result"
    }
   ],
   "source": [
    "diaryEntries = pd.read_parquet('data/diaryEntries.parquet')\n",
    "patients_info = pd.read_parquet('data/patients_info.parquet')\n",
    "cueingIntervals = pd.read_parquet('data/cueingIntervals.parquet')\n",
    "\n",
    "appLogs = pd.read_parquet('data/appLogs.parquet')\n",
    "# blockSamples = pd.read_parquet('data/blockSamples.parquet')\n",
    "# blockHeaders = pd.read_parquet('data/blockHeaders.parquet')\n",
    "# block = pd.read_parquet('data/block.parquet')\n",
    "\n",
    "# assessmentA = pd.read_parquet('data/assessmentA.parquet')\n",
    "# assessmentQ_radio = pd.read_parquet('data/assessmentQ_radio.parquet')\n",
    "# assessmentQ_likert= pd.read_parquet('data/assessmentQ_likert.parquet')\n",
    "\n",
    "score_pannel = pd.read_parquet('data/score_pannel.parquet')\n",
    "\n",
    "diaryEntries.shape, cueingIntervals.shape, appLogs.shape"
   ]
  },
  {
   "attachments": {},
   "cell_type": "markdown",
   "metadata": {},
   "source": [
    "## Utitlities"
   ]
  },
  {
   "attachments": {},
   "cell_type": "markdown",
   "metadata": {},
   "source": [
    "### User info and trial periods (demographic)"
   ]
  },
  {
   "cell_type": "code",
   "execution_count": 50,
   "metadata": {},
   "outputs": [],
   "source": [
    "data2 = json.load(open('data/data-14-3-23.json', 'rb'))\n",
    "extract = [(data2[keys]['demographicData'], keys) for keys in data2.keys()]\n",
    "info2 = []\n",
    "for x, id in extract:\n",
    "    x.update({\"userId\": id})\n",
    "    info2.append(x)\n",
    "# info2 = pd.json_normalize(info2)\n",
    "# info2"
   ]
  },
  {
   "cell_type": "code",
   "execution_count": 38,
   "metadata": {},
   "outputs": [
    {
     "data": {
      "text/html": [
       "<div>\n",
       "<style scoped>\n",
       "    .dataframe tbody tr th:only-of-type {\n",
       "        vertical-align: middle;\n",
       "    }\n",
       "\n",
       "    .dataframe tbody tr th {\n",
       "        vertical-align: top;\n",
       "    }\n",
       "\n",
       "    .dataframe thead th {\n",
       "        text-align: right;\n",
       "    }\n",
       "</style>\n",
       "<table border=\"1\" class=\"dataframe\">\n",
       "  <thead>\n",
       "    <tr style=\"text-align: right;\">\n",
       "      <th></th>\n",
       "      <th>userId</th>\n",
       "      <th>gender</th>\n",
       "      <th>ageRange</th>\n",
       "      <th>cueingMethod1</th>\n",
       "      <th>cueingMethod2</th>\n",
       "      <th>cueingMethod1Start</th>\n",
       "      <th>cueingMethod1End</th>\n",
       "      <th>cueingMethod2Start</th>\n",
       "      <th>cueingMethod2End</th>\n",
       "      <th>ethnicGroup</th>\n",
       "    </tr>\n",
       "  </thead>\n",
       "  <tbody>\n",
       "    <tr>\n",
       "      <th>59</th>\n",
       "      <td>GwKp4kQzpp</td>\n",
       "      <td>Male</td>\n",
       "      <td>65+ years</td>\n",
       "      <td>cueband</td>\n",
       "      <td>phone</td>\n",
       "      <td>2022-10-30 17:56:01.190000+00:00</td>\n",
       "      <td>2022-11-20 16:35:27.655000+00:00</td>\n",
       "      <td>2022-12-15 23:06:04.761000+00:00</td>\n",
       "      <td>2023-01-08 10:24:08.302000+00:00</td>\n",
       "      <td>NaN</td>\n",
       "    </tr>\n",
       "    <tr>\n",
       "      <th>60</th>\n",
       "      <td>C4ETJhJS6O</td>\n",
       "      <td>Female</td>\n",
       "      <td>55-64 years</td>\n",
       "      <td>phone</td>\n",
       "      <td>cueband</td>\n",
       "      <td>2022-10-28 15:10:50.504000+01:00</td>\n",
       "      <td>2022-11-18 11:37:41.543000+00:00</td>\n",
       "      <td>2022-12-02 10:54:29.604000+00:00</td>\n",
       "      <td>2022-12-23 10:45:47.700000+00:00</td>\n",
       "      <td>NaN</td>\n",
       "    </tr>\n",
       "    <tr>\n",
       "      <th>61</th>\n",
       "      <td>paHDEQgwBm</td>\n",
       "      <td>Male</td>\n",
       "      <td>55-64 years</td>\n",
       "      <td>cueband</td>\n",
       "      <td>phone</td>\n",
       "      <td>2022-10-31 18:58:02.437000+00:00</td>\n",
       "      <td>2022-11-21 17:20:32.556000+00:00</td>\n",
       "      <td>2022-12-15 05:40:31.183000+00:00</td>\n",
       "      <td>2023-01-08 10:09:25.862000+00:00</td>\n",
       "      <td>NaN</td>\n",
       "    </tr>\n",
       "    <tr>\n",
       "      <th>62</th>\n",
       "      <td>j7ET6wNJO1</td>\n",
       "      <td>Male</td>\n",
       "      <td>65+ years</td>\n",
       "      <td>phone</td>\n",
       "      <td>cueband</td>\n",
       "      <td>2022-10-22 12:34:10.921000+01:00</td>\n",
       "      <td>2022-11-12 09:14:05.991000+00:00</td>\n",
       "      <td>2022-11-27 12:39:59.821000+00:00</td>\n",
       "      <td>2022-12-18 20:10:46.242000+00:00</td>\n",
       "      <td>NaN</td>\n",
       "    </tr>\n",
       "    <tr>\n",
       "      <th>63</th>\n",
       "      <td>POR1TsiMtc</td>\n",
       "      <td>Female</td>\n",
       "      <td>55-64 years</td>\n",
       "      <td>phone</td>\n",
       "      <td>cueband</td>\n",
       "      <td>2022-11-20 12:03:20.895000+00:00</td>\n",
       "      <td>2022-12-11 08:27:56.085000+00:00</td>\n",
       "      <td>2022-12-26 18:01:28.645000+00:00</td>\n",
       "      <td>2023-01-16 08:23:55.662000+00:00</td>\n",
       "      <td>NaN</td>\n",
       "    </tr>\n",
       "    <tr>\n",
       "      <th>64</th>\n",
       "      <td>4HBWN2fZtQ</td>\n",
       "      <td>Male</td>\n",
       "      <td>55-64 years</td>\n",
       "      <td>cueband</td>\n",
       "      <td>phone</td>\n",
       "      <td>2022-10-23 08:37:23.731000+01:00</td>\n",
       "      <td>2022-11-13 00:05:30.759000+00:00</td>\n",
       "      <td>2022-11-27 16:19:33.829000+00:00</td>\n",
       "      <td>2022-12-18 18:12:32.256000+00:00</td>\n",
       "      <td>NaN</td>\n",
       "    </tr>\n",
       "    <tr>\n",
       "      <th>65</th>\n",
       "      <td>21BUALLxF6</td>\n",
       "      <td>Male</td>\n",
       "      <td>65+ years</td>\n",
       "      <td>cueband</td>\n",
       "      <td>phone</td>\n",
       "      <td>2022-11-28 15:02:45.523000+00:00</td>\n",
       "      <td>2022-12-19 08:42:53.211000+00:00</td>\n",
       "      <td>2023-01-04 16:22:12.456000+00:00</td>\n",
       "      <td>2023-01-25 12:49:44.594000+00:00</td>\n",
       "      <td>English, Welsh, Scottish, Northern Irish or Br...</td>\n",
       "    </tr>\n",
       "    <tr>\n",
       "      <th>66</th>\n",
       "      <td>8CG1nlTfeA</td>\n",
       "      <td>Male</td>\n",
       "      <td>65+ years</td>\n",
       "      <td>cueband</td>\n",
       "      <td>phone</td>\n",
       "      <td>2022-12-27 10:20:21.524000+00:00</td>\n",
       "      <td>2023-01-17 19:00:51.265000+00:00</td>\n",
       "      <td>2023-01-31 18:58:43.022000+00:00</td>\n",
       "      <td>2023-02-21 23:02:30.891000+00:00</td>\n",
       "      <td>English, Welsh, Scottish, Northern Irish or Br...</td>\n",
       "    </tr>\n",
       "    <tr>\n",
       "      <th>67</th>\n",
       "      <td>T7NmVm71XP</td>\n",
       "      <td>Male</td>\n",
       "      <td>65+ years</td>\n",
       "      <td>phone</td>\n",
       "      <td>cueband</td>\n",
       "      <td>2022-12-14 11:39:37.602000+00:00</td>\n",
       "      <td>2023-01-04 08:12:51.463000+00:00</td>\n",
       "      <td>2023-01-28 12:21:24.463000+00:00</td>\n",
       "      <td>2023-02-18 00:30:21.513000+00:00</td>\n",
       "      <td>NaN</td>\n",
       "    </tr>\n",
       "    <tr>\n",
       "      <th>68</th>\n",
       "      <td>N8eCQYSbd0</td>\n",
       "      <td>Male</td>\n",
       "      <td>65+ years</td>\n",
       "      <td>cueband</td>\n",
       "      <td>phone</td>\n",
       "      <td>2023-01-15 09:41:38.928000+00:00</td>\n",
       "      <td>2023-02-05 08:54:49.579000+00:00</td>\n",
       "      <td>2023-02-19 07:57:27.369000+00:00</td>\n",
       "      <td>2023-03-12 07:26:00.522000+00:00</td>\n",
       "      <td>English, Welsh, Scottish, Northern Irish or Br...</td>\n",
       "    </tr>\n",
       "  </tbody>\n",
       "</table>\n",
       "</div>"
      ],
      "text/plain": [
       "        userId  gender     ageRange cueingMethod1 cueingMethod2  \\\n",
       "59  GwKp4kQzpp    Male    65+ years       cueband         phone   \n",
       "60  C4ETJhJS6O  Female  55-64 years         phone       cueband   \n",
       "61  paHDEQgwBm    Male  55-64 years       cueband         phone   \n",
       "62  j7ET6wNJO1    Male    65+ years         phone       cueband   \n",
       "63  POR1TsiMtc  Female  55-64 years         phone       cueband   \n",
       "64  4HBWN2fZtQ    Male  55-64 years       cueband         phone   \n",
       "65  21BUALLxF6    Male    65+ years       cueband         phone   \n",
       "66  8CG1nlTfeA    Male    65+ years       cueband         phone   \n",
       "67  T7NmVm71XP    Male    65+ years         phone       cueband   \n",
       "68  N8eCQYSbd0    Male    65+ years       cueband         phone   \n",
       "\n",
       "                 cueingMethod1Start                 cueingMethod1End  \\\n",
       "59 2022-10-30 17:56:01.190000+00:00 2022-11-20 16:35:27.655000+00:00   \n",
       "60 2022-10-28 15:10:50.504000+01:00 2022-11-18 11:37:41.543000+00:00   \n",
       "61 2022-10-31 18:58:02.437000+00:00 2022-11-21 17:20:32.556000+00:00   \n",
       "62 2022-10-22 12:34:10.921000+01:00 2022-11-12 09:14:05.991000+00:00   \n",
       "63 2022-11-20 12:03:20.895000+00:00 2022-12-11 08:27:56.085000+00:00   \n",
       "64 2022-10-23 08:37:23.731000+01:00 2022-11-13 00:05:30.759000+00:00   \n",
       "65 2022-11-28 15:02:45.523000+00:00 2022-12-19 08:42:53.211000+00:00   \n",
       "66 2022-12-27 10:20:21.524000+00:00 2023-01-17 19:00:51.265000+00:00   \n",
       "67 2022-12-14 11:39:37.602000+00:00 2023-01-04 08:12:51.463000+00:00   \n",
       "68 2023-01-15 09:41:38.928000+00:00 2023-02-05 08:54:49.579000+00:00   \n",
       "\n",
       "                 cueingMethod2Start                 cueingMethod2End  \\\n",
       "59 2022-12-15 23:06:04.761000+00:00 2023-01-08 10:24:08.302000+00:00   \n",
       "60 2022-12-02 10:54:29.604000+00:00 2022-12-23 10:45:47.700000+00:00   \n",
       "61 2022-12-15 05:40:31.183000+00:00 2023-01-08 10:09:25.862000+00:00   \n",
       "62 2022-11-27 12:39:59.821000+00:00 2022-12-18 20:10:46.242000+00:00   \n",
       "63 2022-12-26 18:01:28.645000+00:00 2023-01-16 08:23:55.662000+00:00   \n",
       "64 2022-11-27 16:19:33.829000+00:00 2022-12-18 18:12:32.256000+00:00   \n",
       "65 2023-01-04 16:22:12.456000+00:00 2023-01-25 12:49:44.594000+00:00   \n",
       "66 2023-01-31 18:58:43.022000+00:00 2023-02-21 23:02:30.891000+00:00   \n",
       "67 2023-01-28 12:21:24.463000+00:00 2023-02-18 00:30:21.513000+00:00   \n",
       "68 2023-02-19 07:57:27.369000+00:00 2023-03-12 07:26:00.522000+00:00   \n",
       "\n",
       "                                          ethnicGroup  \n",
       "59                                                NaN  \n",
       "60                                                NaN  \n",
       "61                                                NaN  \n",
       "62                                                NaN  \n",
       "63                                                NaN  \n",
       "64                                                NaN  \n",
       "65  English, Welsh, Scottish, Northern Irish or Br...  \n",
       "66  English, Welsh, Scottish, Northern Irish or Br...  \n",
       "67                                                NaN  \n",
       "68  English, Welsh, Scottish, Northern Irish or Br...  "
      ]
     },
     "execution_count": 38,
     "metadata": {},
     "output_type": "execute_result"
    }
   ],
   "source": [
    "info = json.load(open('data/demographicAndStudyData.json', 'rb'))\n",
    "info.extend(info2)\n",
    "info = pd.json_normalize(info)\n",
    "info['cueingMethod1Start'] = pd.to_datetime(info['cueingMethod1Start']).dt.tz_convert(\"Europe/London\")\n",
    "info['cueingMethod1End'] = pd.to_datetime(info['cueingMethod1End']).dt.tz_convert(\"Europe/London\")\n",
    "info['cueingMethod2Start'] = pd.to_datetime(info['cueingMethod2Start']).dt.tz_convert(\"Europe/London\")\n",
    "info['cueingMethod2End'] = pd.to_datetime(info['cueingMethod2End']).dt.tz_convert(\"Europe/London\")\n",
    "info.tail(10)"
   ]
  },
  {
   "cell_type": "code",
   "execution_count": 46,
   "metadata": {},
   "outputs": [
    {
     "data": {
      "text/plain": [
       "{'createdAt': '2023-01-15T09:35:51.506Z',\n",
       " 'updatedAt': '2023-01-15T09:35:51.506Z',\n",
       " 'romps1': 5,\n",
       " 'romps2': 5,\n",
       " 'romps3': 5,\n",
       " 'romps4': 3,\n",
       " 'romps5': 2,\n",
       " 'romps6': 3,\n",
       " 'romps7': 3,\n",
       " 'romps8': 3,\n",
       " 'romps9': 4,\n",
       " 'updrs22': 4,\n",
       " 'nmsqpart1': [1, 2, 1, 2, 2, 2, 2, 2, 1],\n",
       " 'nmsqpart2': [1, 2, 2, 1, 2, 2, 2, 2],\n",
       " 'nmsqpart3': [1, 1, 2, 2, 2, 2, 1, 2],\n",
       " 'nmsqpart4': [2, 2, 2, 2, 2],\n",
       " 'pdq8': [1, 1, 1, 1, 1, 2, 2, 2],\n",
       " 'token': 'cWaiw6EP6AV4NRlD7so3TEuDmBfleZ0GNgql4t4q',\n",
       " 'assessmentNumber': 1,\n",
       " 'ACL': {},\n",
       " 'objectId': 'IgwukioAV2'}"
      ]
     },
     "execution_count": 46,
     "metadata": {},
     "output_type": "execute_result"
    }
   ],
   "source": [
    "data[\"N8eCQYSbd0\"][\"assessment1Data\"]"
   ]
  },
  {
   "cell_type": "code",
   "execution_count": 40,
   "metadata": {},
   "outputs": [],
   "source": [
    "info.to_parquet('data/patients_info.parquet')"
   ]
  },
  {
   "attachments": {},
   "cell_type": "markdown",
   "metadata": {},
   "source": [
    "### Remove unwanted events on AppLogs and blockSample\n",
    "- [x]  appLogs: keep: 9, 10, 11, 12, 13, 14, 15, 16, 17, 18, 19, 20, 21, 22, 23, 24, 25, 26, 27, 28, 29, 30, 31, 32, 33, 34\n",
    "- [x]  blockSample: keep: 256, 512, 1024, 2048, 4096, 8192, 16384, 32768"
   ]
  },
  {
   "cell_type": "code",
   "execution_count": 3,
   "metadata": {},
   "outputs": [
    {
     "data": {
      "text/plain": [
       "(12644, 13)"
      ]
     },
     "metadata": {},
     "output_type": "display_data"
    },
    {
     "data": {
      "text/plain": [
       "(3285263, 14)"
      ]
     },
     "metadata": {},
     "output_type": "display_data"
    }
   ],
   "source": [
    "cueing_appLogs = appLogs.query('events >=9 and events <=34')\n",
    "display(cueing_appLogs.shape)\n",
    "cueing_blockSamples = blockSamples.query('events >= 256')\n",
    "display(cueing_blockSamples.shape)"
   ]
  },
  {
   "cell_type": "code",
   "execution_count": 20,
   "metadata": {},
   "outputs": [
    {
     "data": {
      "text/html": [
       "<div>\n",
       "<style scoped>\n",
       "    .dataframe tbody tr th:only-of-type {\n",
       "        vertical-align: middle;\n",
       "    }\n",
       "\n",
       "    .dataframe tbody tr th {\n",
       "        vertical-align: top;\n",
       "    }\n",
       "\n",
       "    .dataframe thead th {\n",
       "        text-align: right;\n",
       "    }\n",
       "</style>\n",
       "<table border=\"1\" class=\"dataframe\">\n",
       "  <thead>\n",
       "    <tr style=\"text-align: right;\">\n",
       "      <th></th>\n",
       "      <th>createdAt</th>\n",
       "      <th>updatedAt</th>\n",
       "      <th>message</th>\n",
       "      <th>level</th>\n",
       "      <th>appVersion</th>\n",
       "      <th>deviceModel</th>\n",
       "      <th>osVersion</th>\n",
       "      <th>platform</th>\n",
       "      <th>user</th>\n",
       "      <th>objectId</th>\n",
       "      <th>timestamp.__type</th>\n",
       "      <th>timestamp.iso</th>\n",
       "      <th>events</th>\n",
       "    </tr>\n",
       "  </thead>\n",
       "  <tbody>\n",
       "    <tr>\n",
       "      <th>43</th>\n",
       "      <td>2022-10-10 11:18:31.153000+00:00</td>\n",
       "      <td>2022-10-10 11:18:31.153000+00:00</td>\n",
       "      <td>Wearable scheduled cueing started Until 13:10 ...</td>\n",
       "      <td>Information</td>\n",
       "      <td>1.1.2</td>\n",
       "      <td>Pixel 4a</td>\n",
       "      <td>13</td>\n",
       "      <td>Android</td>\n",
       "      <td>54hFUuEnJA</td>\n",
       "      <td>byNwU9GYsv</td>\n",
       "      <td>Date</td>\n",
       "      <td>2022-10-10 11:11:18.870000+00:00</td>\n",
       "      <td>13</td>\n",
       "    </tr>\n",
       "    <tr>\n",
       "      <th>42</th>\n",
       "      <td>2022-10-10 11:18:31.153000+00:00</td>\n",
       "      <td>2022-10-10 11:18:31.153000+00:00</td>\n",
       "      <td>Wearable scheduled cueing started Until 13:10 ...</td>\n",
       "      <td>Information</td>\n",
       "      <td>1.1.2</td>\n",
       "      <td>Pixel 4a</td>\n",
       "      <td>13</td>\n",
       "      <td>Android</td>\n",
       "      <td>54hFUuEnJA</td>\n",
       "      <td>Ujp9rlAfoA</td>\n",
       "      <td>Date</td>\n",
       "      <td>2022-10-10 11:10:58.288000+00:00</td>\n",
       "      <td>13</td>\n",
       "    </tr>\n",
       "    <tr>\n",
       "      <th>46</th>\n",
       "      <td>2022-10-10 11:45:26.823000+00:00</td>\n",
       "      <td>2022-10-10 11:45:26.823000+00:00</td>\n",
       "      <td>Wearable scheduled cueing started Until 13:10 ...</td>\n",
       "      <td>Information</td>\n",
       "      <td>1.1.2</td>\n",
       "      <td>Pixel 4a</td>\n",
       "      <td>13</td>\n",
       "      <td>Android</td>\n",
       "      <td>54hFUuEnJA</td>\n",
       "      <td>XcwRp2QPTt</td>\n",
       "      <td>Date</td>\n",
       "      <td>2022-10-10 11:44:29.017000+00:00</td>\n",
       "      <td>13</td>\n",
       "    </tr>\n",
       "    <tr>\n",
       "      <th>49</th>\n",
       "      <td>2022-10-10 11:45:26.823000+00:00</td>\n",
       "      <td>2022-10-10 11:45:26.823000+00:00</td>\n",
       "      <td>Wearable scheduled cueing started Until 13:10 ...</td>\n",
       "      <td>Information</td>\n",
       "      <td>1.1.2</td>\n",
       "      <td>Pixel 4a</td>\n",
       "      <td>13</td>\n",
       "      <td>Android</td>\n",
       "      <td>54hFUuEnJA</td>\n",
       "      <td>9AzZhwadMe</td>\n",
       "      <td>Date</td>\n",
       "      <td>2022-10-10 11:44:49.643000+00:00</td>\n",
       "      <td>13</td>\n",
       "    </tr>\n",
       "    <tr>\n",
       "      <th>50</th>\n",
       "      <td>2022-10-10 11:45:26.823000+00:00</td>\n",
       "      <td>2022-10-10 11:45:26.823000+00:00</td>\n",
       "      <td>Wearable scheduled cueing started Until 13:10 ...</td>\n",
       "      <td>Information</td>\n",
       "      <td>1.1.2</td>\n",
       "      <td>Pixel 4a</td>\n",
       "      <td>13</td>\n",
       "      <td>Android</td>\n",
       "      <td>54hFUuEnJA</td>\n",
       "      <td>roPTpCmLVs</td>\n",
       "      <td>Date</td>\n",
       "      <td>2022-10-10 11:45:10.157000+00:00</td>\n",
       "      <td>13</td>\n",
       "    </tr>\n",
       "    <tr>\n",
       "      <th>53</th>\n",
       "      <td>2022-10-10 11:46:02.079000+00:00</td>\n",
       "      <td>2022-10-10 11:46:02.079000+00:00</td>\n",
       "      <td>Wearable scheduled cueing started Until 13:10 ...</td>\n",
       "      <td>Information</td>\n",
       "      <td>1.1.2</td>\n",
       "      <td>Pixel 4a</td>\n",
       "      <td>13</td>\n",
       "      <td>Android</td>\n",
       "      <td>54hFUuEnJA</td>\n",
       "      <td>h7NmGq7S9L</td>\n",
       "      <td>Date</td>\n",
       "      <td>2022-10-10 11:45:51.063000+00:00</td>\n",
       "      <td>13</td>\n",
       "    </tr>\n",
       "    <tr>\n",
       "      <th>51</th>\n",
       "      <td>2022-10-10 11:46:02.079000+00:00</td>\n",
       "      <td>2022-10-10 11:46:02.079000+00:00</td>\n",
       "      <td>Wearable scheduled cueing started Until 13:10 ...</td>\n",
       "      <td>Information</td>\n",
       "      <td>1.1.2</td>\n",
       "      <td>Pixel 4a</td>\n",
       "      <td>13</td>\n",
       "      <td>Android</td>\n",
       "      <td>54hFUuEnJA</td>\n",
       "      <td>LuBXLvY7r6</td>\n",
       "      <td>Date</td>\n",
       "      <td>2022-10-10 11:45:30.629000+00:00</td>\n",
       "      <td>13</td>\n",
       "    </tr>\n",
       "    <tr>\n",
       "      <th>56</th>\n",
       "      <td>2022-10-10 11:57:46.921000+00:00</td>\n",
       "      <td>2022-10-10 11:57:46.921000+00:00</td>\n",
       "      <td>Wearable scheduled cueing started Until 13:10 ...</td>\n",
       "      <td>Information</td>\n",
       "      <td>1.1.2</td>\n",
       "      <td>Pixel 4a</td>\n",
       "      <td>13</td>\n",
       "      <td>Android</td>\n",
       "      <td>54hFUuEnJA</td>\n",
       "      <td>bQF32zWCs0</td>\n",
       "      <td>Date</td>\n",
       "      <td>2022-10-10 11:46:03.462000+00:00</td>\n",
       "      <td>13</td>\n",
       "    </tr>\n",
       "  </tbody>\n",
       "</table>\n",
       "</div>"
      ],
      "text/plain": [
       "                          createdAt                        updatedAt  \\\n",
       "43 2022-10-10 11:18:31.153000+00:00 2022-10-10 11:18:31.153000+00:00   \n",
       "42 2022-10-10 11:18:31.153000+00:00 2022-10-10 11:18:31.153000+00:00   \n",
       "46 2022-10-10 11:45:26.823000+00:00 2022-10-10 11:45:26.823000+00:00   \n",
       "49 2022-10-10 11:45:26.823000+00:00 2022-10-10 11:45:26.823000+00:00   \n",
       "50 2022-10-10 11:45:26.823000+00:00 2022-10-10 11:45:26.823000+00:00   \n",
       "53 2022-10-10 11:46:02.079000+00:00 2022-10-10 11:46:02.079000+00:00   \n",
       "51 2022-10-10 11:46:02.079000+00:00 2022-10-10 11:46:02.079000+00:00   \n",
       "56 2022-10-10 11:57:46.921000+00:00 2022-10-10 11:57:46.921000+00:00   \n",
       "\n",
       "                                              message        level appVersion  \\\n",
       "43  Wearable scheduled cueing started Until 13:10 ...  Information      1.1.2   \n",
       "42  Wearable scheduled cueing started Until 13:10 ...  Information      1.1.2   \n",
       "46  Wearable scheduled cueing started Until 13:10 ...  Information      1.1.2   \n",
       "49  Wearable scheduled cueing started Until 13:10 ...  Information      1.1.2   \n",
       "50  Wearable scheduled cueing started Until 13:10 ...  Information      1.1.2   \n",
       "53  Wearable scheduled cueing started Until 13:10 ...  Information      1.1.2   \n",
       "51  Wearable scheduled cueing started Until 13:10 ...  Information      1.1.2   \n",
       "56  Wearable scheduled cueing started Until 13:10 ...  Information      1.1.2   \n",
       "\n",
       "   deviceModel osVersion platform        user    objectId timestamp.__type  \\\n",
       "43    Pixel 4a        13  Android  54hFUuEnJA  byNwU9GYsv             Date   \n",
       "42    Pixel 4a        13  Android  54hFUuEnJA  Ujp9rlAfoA             Date   \n",
       "46    Pixel 4a        13  Android  54hFUuEnJA  XcwRp2QPTt             Date   \n",
       "49    Pixel 4a        13  Android  54hFUuEnJA  9AzZhwadMe             Date   \n",
       "50    Pixel 4a        13  Android  54hFUuEnJA  roPTpCmLVs             Date   \n",
       "53    Pixel 4a        13  Android  54hFUuEnJA  h7NmGq7S9L             Date   \n",
       "51    Pixel 4a        13  Android  54hFUuEnJA  LuBXLvY7r6             Date   \n",
       "56    Pixel 4a        13  Android  54hFUuEnJA  bQF32zWCs0             Date   \n",
       "\n",
       "                      timestamp.iso  events  \n",
       "43 2022-10-10 11:11:18.870000+00:00      13  \n",
       "42 2022-10-10 11:10:58.288000+00:00      13  \n",
       "46 2022-10-10 11:44:29.017000+00:00      13  \n",
       "49 2022-10-10 11:44:49.643000+00:00      13  \n",
       "50 2022-10-10 11:45:10.157000+00:00      13  \n",
       "53 2022-10-10 11:45:51.063000+00:00      13  \n",
       "51 2022-10-10 11:45:30.629000+00:00      13  \n",
       "56 2022-10-10 11:46:03.462000+00:00      13  "
      ]
     },
     "execution_count": 20,
     "metadata": {},
     "output_type": "execute_result"
    }
   ],
   "source": [
    "cueing_appLogs.query(\"events == 13 & user == '54hFUuEnJA'\")"
   ]
  },
  {
   "attachments": {},
   "cell_type": "markdown",
   "metadata": {},
   "source": [
    "### Find min created date and max created date of each cueing session"
   ]
  },
  {
   "cell_type": "code",
   "execution_count": 4,
   "metadata": {},
   "outputs": [
    {
     "data": {
      "text/html": [
       "<div>\n",
       "<style scoped>\n",
       "    .dataframe tbody tr th:only-of-type {\n",
       "        vertical-align: middle;\n",
       "    }\n",
       "\n",
       "    .dataframe tbody tr th {\n",
       "        vertical-align: top;\n",
       "    }\n",
       "\n",
       "    .dataframe thead th {\n",
       "        text-align: right;\n",
       "    }\n",
       "</style>\n",
       "<table border=\"1\" class=\"dataframe\">\n",
       "  <thead>\n",
       "    <tr style=\"text-align: right;\">\n",
       "      <th></th>\n",
       "      <th>user</th>\n",
       "      <th>applog_createdAt_min</th>\n",
       "      <th>applog_createdAt_max</th>\n",
       "      <th>applogDuration</th>\n",
       "    </tr>\n",
       "  </thead>\n",
       "  <tbody>\n",
       "    <tr>\n",
       "      <th>0</th>\n",
       "      <td>0tbGZHzjR7</td>\n",
       "      <td>2022-10-07 12:59:45.591000+00:00</td>\n",
       "      <td>2022-10-21 19:11:12+00:00</td>\n",
       "      <td>14</td>\n",
       "    </tr>\n",
       "    <tr>\n",
       "      <th>1</th>\n",
       "      <td>1r2J9taZha</td>\n",
       "      <td>2022-10-10 12:02:59.398000+00:00</td>\n",
       "      <td>2022-12-16 20:49:59.212000+00:00</td>\n",
       "      <td>67</td>\n",
       "    </tr>\n",
       "    <tr>\n",
       "      <th>2</th>\n",
       "      <td>2dbVKUDzd5</td>\n",
       "      <td>2022-10-11 13:02:58.069000+00:00</td>\n",
       "      <td>2022-12-20 21:04:25.798000+00:00</td>\n",
       "      <td>70</td>\n",
       "    </tr>\n",
       "    <tr>\n",
       "      <th>3</th>\n",
       "      <td>3kRR5MPMyj</td>\n",
       "      <td>2022-10-18 08:52:31.033000+00:00</td>\n",
       "      <td>2022-12-28 18:00:14.321000+00:00</td>\n",
       "      <td>71</td>\n",
       "    </tr>\n",
       "    <tr>\n",
       "      <th>4</th>\n",
       "      <td>54hFUuEnJA</td>\n",
       "      <td>2022-10-03 16:18:15.677000+00:00</td>\n",
       "      <td>2022-12-23 20:08:32.943000+00:00</td>\n",
       "      <td>81</td>\n",
       "    </tr>\n",
       "  </tbody>\n",
       "</table>\n",
       "</div>"
      ],
      "text/plain": [
       "         user             applog_createdAt_min  \\\n",
       "0  0tbGZHzjR7 2022-10-07 12:59:45.591000+00:00   \n",
       "1  1r2J9taZha 2022-10-10 12:02:59.398000+00:00   \n",
       "2  2dbVKUDzd5 2022-10-11 13:02:58.069000+00:00   \n",
       "3  3kRR5MPMyj 2022-10-18 08:52:31.033000+00:00   \n",
       "4  54hFUuEnJA 2022-10-03 16:18:15.677000+00:00   \n",
       "\n",
       "              applog_createdAt_max  applogDuration  \n",
       "0        2022-10-21 19:11:12+00:00              14  \n",
       "1 2022-12-16 20:49:59.212000+00:00              67  \n",
       "2 2022-12-20 21:04:25.798000+00:00              70  \n",
       "3 2022-12-28 18:00:14.321000+00:00              71  \n",
       "4 2022-12-23 20:08:32.943000+00:00              81  "
      ]
     },
     "execution_count": 4,
     "metadata": {},
     "output_type": "execute_result"
    }
   ],
   "source": [
    "appLogs_info = cueing_appLogs.groupby(['user']).agg({'createdAt': ['min', 'max']}).reset_index()\n",
    "appLogs_info.columns = ['user', 'applog_createdAt_min', 'applog_createdAt_max']\n",
    "appLogs_info['applogDuration'] = appLogs_info['applog_createdAt_max'] - appLogs_info['applog_createdAt_min']\n",
    "appLogs_info['applogDuration'] = appLogs_info['applogDuration'].dt.days\n",
    "appLogs_info.head()"
   ]
  },
  {
   "cell_type": "code",
   "execution_count": 5,
   "metadata": {},
   "outputs": [
    {
     "data": {
      "text/html": [
       "<div>\n",
       "<style scoped>\n",
       "    .dataframe tbody tr th:only-of-type {\n",
       "        vertical-align: middle;\n",
       "    }\n",
       "\n",
       "    .dataframe tbody tr th {\n",
       "        vertical-align: top;\n",
       "    }\n",
       "\n",
       "    .dataframe thead th {\n",
       "        text-align: right;\n",
       "    }\n",
       "</style>\n",
       "<table border=\"1\" class=\"dataframe\">\n",
       "  <thead>\n",
       "    <tr style=\"text-align: right;\">\n",
       "      <th></th>\n",
       "      <th>user</th>\n",
       "      <th>blockHeader_createdAt_min</th>\n",
       "      <th>blockHeader_createdAt_max</th>\n",
       "      <th>blockHeaderDuration</th>\n",
       "    </tr>\n",
       "  </thead>\n",
       "  <tbody>\n",
       "    <tr>\n",
       "      <th>0</th>\n",
       "      <td>0tbGZHzjR7</td>\n",
       "      <td>2022-10-17 08:17:51</td>\n",
       "      <td>2022-12-14 20:57:23</td>\n",
       "      <td>58</td>\n",
       "    </tr>\n",
       "    <tr>\n",
       "      <th>1</th>\n",
       "      <td>1r2J9taZha</td>\n",
       "      <td>2022-10-14 16:38:22</td>\n",
       "      <td>2022-12-11 10:04:52</td>\n",
       "      <td>57</td>\n",
       "    </tr>\n",
       "    <tr>\n",
       "      <th>2</th>\n",
       "      <td>2dbVKUDzd5</td>\n",
       "      <td>2022-10-14 15:35:40</td>\n",
       "      <td>2022-12-16 16:25:02</td>\n",
       "      <td>63</td>\n",
       "    </tr>\n",
       "    <tr>\n",
       "      <th>3</th>\n",
       "      <td>3kRR5MPMyj</td>\n",
       "      <td>2022-10-19 08:55:10</td>\n",
       "      <td>2022-12-28 15:15:25</td>\n",
       "      <td>70</td>\n",
       "    </tr>\n",
       "    <tr>\n",
       "      <th>4</th>\n",
       "      <td>54hFUuEnJA</td>\n",
       "      <td>2022-10-10 10:01:50</td>\n",
       "      <td>2022-12-18 13:23:34</td>\n",
       "      <td>69</td>\n",
       "    </tr>\n",
       "  </tbody>\n",
       "</table>\n",
       "</div>"
      ],
      "text/plain": [
       "         user blockHeader_createdAt_min blockHeader_createdAt_max  \\\n",
       "0  0tbGZHzjR7       2022-10-17 08:17:51       2022-12-14 20:57:23   \n",
       "1  1r2J9taZha       2022-10-14 16:38:22       2022-12-11 10:04:52   \n",
       "2  2dbVKUDzd5       2022-10-14 15:35:40       2022-12-16 16:25:02   \n",
       "3  3kRR5MPMyj       2022-10-19 08:55:10       2022-12-28 15:15:25   \n",
       "4  54hFUuEnJA       2022-10-10 10:01:50       2022-12-18 13:23:34   \n",
       "\n",
       "   blockHeaderDuration  \n",
       "0                   58  \n",
       "1                   57  \n",
       "2                   63  \n",
       "3                   70  \n",
       "4                   69  "
      ]
     },
     "execution_count": 5,
     "metadata": {},
     "output_type": "execute_result"
    }
   ],
   "source": [
    "blockSample_info = cueing_blockSamples.groupby(['user']).agg({'createdAt': ['min', 'max']}).reset_index()\n",
    "blockSample_info.columns = ['user', 'blockSample_createdAt_min', 'blockSample_createdAt_max']\n",
    "blockSample_info['blockSampleDuration'] = blockSample_info['blockSample_createdAt_max'] - blockSample_info['blockSample_createdAt_min']\n",
    "blockSample_info['blockSampleDuration'] = blockSample_info['blockSampleDuration'].dt.days\n",
    "blockSample_info.head()"
   ]
  },
  {
   "cell_type": "code",
   "execution_count": 6,
   "metadata": {},
   "outputs": [
    {
     "data": {
      "text/html": [
       "<div>\n",
       "<style scoped>\n",
       "    .dataframe tbody tr th:only-of-type {\n",
       "        vertical-align: middle;\n",
       "    }\n",
       "\n",
       "    .dataframe tbody tr th {\n",
       "        vertical-align: top;\n",
       "    }\n",
       "\n",
       "    .dataframe thead th {\n",
       "        text-align: right;\n",
       "    }\n",
       "</style>\n",
       "<table border=\"1\" class=\"dataframe\">\n",
       "  <thead>\n",
       "    <tr style=\"text-align: right;\">\n",
       "      <th></th>\n",
       "      <th>user</th>\n",
       "      <th>diary_createdAt_min</th>\n",
       "      <th>diary_createdAt_max</th>\n",
       "      <th>diaryDuration</th>\n",
       "    </tr>\n",
       "  </thead>\n",
       "  <tbody>\n",
       "    <tr>\n",
       "      <th>0</th>\n",
       "      <td>0tbGZHzjR7</td>\n",
       "      <td>2022-10-01 12:10:14.634000+00:00</td>\n",
       "      <td>2022-12-15 19:03:55.877000+00:00</td>\n",
       "      <td>75</td>\n",
       "    </tr>\n",
       "    <tr>\n",
       "      <th>1</th>\n",
       "      <td>1r2J9taZha</td>\n",
       "      <td>2022-09-30 18:05:44.265000+00:00</td>\n",
       "      <td>2022-11-22 20:10:17.676000+00:00</td>\n",
       "      <td>53</td>\n",
       "    </tr>\n",
       "    <tr>\n",
       "      <th>2</th>\n",
       "      <td>2dbVKUDzd5</td>\n",
       "      <td>2022-10-09 15:56:20.330000+00:00</td>\n",
       "      <td>2022-12-14 17:40:30.043000+00:00</td>\n",
       "      <td>66</td>\n",
       "    </tr>\n",
       "    <tr>\n",
       "      <th>3</th>\n",
       "      <td>3kRR5MPMyj</td>\n",
       "      <td>2022-10-10 16:17:34.650000+00:00</td>\n",
       "      <td>2022-12-15 08:59:24.586000+00:00</td>\n",
       "      <td>65</td>\n",
       "    </tr>\n",
       "    <tr>\n",
       "      <th>4</th>\n",
       "      <td>54hFUuEnJA</td>\n",
       "      <td>2022-09-30 15:15:27.748000+00:00</td>\n",
       "      <td>2022-12-23 20:08:30.638000+00:00</td>\n",
       "      <td>84</td>\n",
       "    </tr>\n",
       "  </tbody>\n",
       "</table>\n",
       "</div>"
      ],
      "text/plain": [
       "         user              diary_createdAt_min  \\\n",
       "0  0tbGZHzjR7 2022-10-01 12:10:14.634000+00:00   \n",
       "1  1r2J9taZha 2022-09-30 18:05:44.265000+00:00   \n",
       "2  2dbVKUDzd5 2022-10-09 15:56:20.330000+00:00   \n",
       "3  3kRR5MPMyj 2022-10-10 16:17:34.650000+00:00   \n",
       "4  54hFUuEnJA 2022-09-30 15:15:27.748000+00:00   \n",
       "\n",
       "               diary_createdAt_max  diaryDuration  \n",
       "0 2022-12-15 19:03:55.877000+00:00             75  \n",
       "1 2022-11-22 20:10:17.676000+00:00             53  \n",
       "2 2022-12-14 17:40:30.043000+00:00             66  \n",
       "3 2022-12-15 08:59:24.586000+00:00             65  \n",
       "4 2022-12-23 20:08:30.638000+00:00             84  "
      ]
     },
     "execution_count": 6,
     "metadata": {},
     "output_type": "execute_result"
    }
   ],
   "source": [
    "diaryEntries_info = diaryEntries.groupby(['user']).agg({'createdAt': ['min', 'max']}).reset_index()\n",
    "diaryEntries_info.columns = ['user', 'diary_createdAt_min', 'diary_createdAt_max']\n",
    "diaryEntries_info['diaryDuration'] = diaryEntries_info['diary_createdAt_max'] - diaryEntries_info['diary_createdAt_min']\n",
    "diaryEntries_info['diaryDuration'] = diaryEntries_info['diaryDuration'].dt.days\n",
    "diaryEntries_info.head()"
   ]
  },
  {
   "cell_type": "code",
   "execution_count": 7,
   "metadata": {},
   "outputs": [
    {
     "data": {
      "text/html": [
       "<div>\n",
       "<style scoped>\n",
       "    .dataframe tbody tr th:only-of-type {\n",
       "        vertical-align: middle;\n",
       "    }\n",
       "\n",
       "    .dataframe tbody tr th {\n",
       "        vertical-align: top;\n",
       "    }\n",
       "\n",
       "    .dataframe thead th {\n",
       "        text-align: right;\n",
       "    }\n",
       "</style>\n",
       "<table border=\"1\" class=\"dataframe\">\n",
       "  <thead>\n",
       "    <tr style=\"text-align: right;\">\n",
       "      <th></th>\n",
       "      <th>user</th>\n",
       "      <th>applog_createdAt_min</th>\n",
       "      <th>applog_createdAt_max</th>\n",
       "      <th>applogDuration</th>\n",
       "      <th>blockHeader_createdAt_min</th>\n",
       "      <th>blockHeader_createdAt_max</th>\n",
       "      <th>blockHeaderDuration</th>\n",
       "      <th>diary_createdAt_min</th>\n",
       "      <th>diary_createdAt_max</th>\n",
       "      <th>diaryDuration</th>\n",
       "    </tr>\n",
       "  </thead>\n",
       "  <tbody>\n",
       "    <tr>\n",
       "      <th>0</th>\n",
       "      <td>0tbGZHzjR7</td>\n",
       "      <td>2022-10-07 12:59:45.591000+00:00</td>\n",
       "      <td>2022-10-21 19:11:12+00:00</td>\n",
       "      <td>14</td>\n",
       "      <td>2022-10-17 08:17:51</td>\n",
       "      <td>2022-12-14 20:57:23</td>\n",
       "      <td>58</td>\n",
       "      <td>2022-10-01 12:10:14.634000+00:00</td>\n",
       "      <td>2022-12-15 19:03:55.877000+00:00</td>\n",
       "      <td>75</td>\n",
       "    </tr>\n",
       "    <tr>\n",
       "      <th>1</th>\n",
       "      <td>1r2J9taZha</td>\n",
       "      <td>2022-10-10 12:02:59.398000+00:00</td>\n",
       "      <td>2022-12-16 20:49:59.212000+00:00</td>\n",
       "      <td>67</td>\n",
       "      <td>2022-10-14 16:38:22</td>\n",
       "      <td>2022-12-11 10:04:52</td>\n",
       "      <td>57</td>\n",
       "      <td>2022-09-30 18:05:44.265000+00:00</td>\n",
       "      <td>2022-11-22 20:10:17.676000+00:00</td>\n",
       "      <td>53</td>\n",
       "    </tr>\n",
       "    <tr>\n",
       "      <th>2</th>\n",
       "      <td>2dbVKUDzd5</td>\n",
       "      <td>2022-10-11 13:02:58.069000+00:00</td>\n",
       "      <td>2022-12-20 21:04:25.798000+00:00</td>\n",
       "      <td>70</td>\n",
       "      <td>2022-10-14 15:35:40</td>\n",
       "      <td>2022-12-16 16:25:02</td>\n",
       "      <td>63</td>\n",
       "      <td>2022-10-09 15:56:20.330000+00:00</td>\n",
       "      <td>2022-12-14 17:40:30.043000+00:00</td>\n",
       "      <td>66</td>\n",
       "    </tr>\n",
       "    <tr>\n",
       "      <th>3</th>\n",
       "      <td>3kRR5MPMyj</td>\n",
       "      <td>2022-10-18 08:52:31.033000+00:00</td>\n",
       "      <td>2022-12-28 18:00:14.321000+00:00</td>\n",
       "      <td>71</td>\n",
       "      <td>2022-10-19 08:55:10</td>\n",
       "      <td>2022-12-28 15:15:25</td>\n",
       "      <td>70</td>\n",
       "      <td>2022-10-10 16:17:34.650000+00:00</td>\n",
       "      <td>2022-12-15 08:59:24.586000+00:00</td>\n",
       "      <td>65</td>\n",
       "    </tr>\n",
       "    <tr>\n",
       "      <th>4</th>\n",
       "      <td>54hFUuEnJA</td>\n",
       "      <td>2022-10-03 16:18:15.677000+00:00</td>\n",
       "      <td>2022-12-23 20:08:32.943000+00:00</td>\n",
       "      <td>81</td>\n",
       "      <td>2022-10-10 10:01:50</td>\n",
       "      <td>2022-12-18 13:23:34</td>\n",
       "      <td>69</td>\n",
       "      <td>2022-09-30 15:15:27.748000+00:00</td>\n",
       "      <td>2022-12-23 20:08:30.638000+00:00</td>\n",
       "      <td>84</td>\n",
       "    </tr>\n",
       "  </tbody>\n",
       "</table>\n",
       "</div>"
      ],
      "text/plain": [
       "         user             applog_createdAt_min  \\\n",
       "0  0tbGZHzjR7 2022-10-07 12:59:45.591000+00:00   \n",
       "1  1r2J9taZha 2022-10-10 12:02:59.398000+00:00   \n",
       "2  2dbVKUDzd5 2022-10-11 13:02:58.069000+00:00   \n",
       "3  3kRR5MPMyj 2022-10-18 08:52:31.033000+00:00   \n",
       "4  54hFUuEnJA 2022-10-03 16:18:15.677000+00:00   \n",
       "\n",
       "              applog_createdAt_max  applogDuration blockHeader_createdAt_min  \\\n",
       "0        2022-10-21 19:11:12+00:00              14       2022-10-17 08:17:51   \n",
       "1 2022-12-16 20:49:59.212000+00:00              67       2022-10-14 16:38:22   \n",
       "2 2022-12-20 21:04:25.798000+00:00              70       2022-10-14 15:35:40   \n",
       "3 2022-12-28 18:00:14.321000+00:00              71       2022-10-19 08:55:10   \n",
       "4 2022-12-23 20:08:32.943000+00:00              81       2022-10-10 10:01:50   \n",
       "\n",
       "  blockHeader_createdAt_max  blockHeaderDuration  \\\n",
       "0       2022-12-14 20:57:23                   58   \n",
       "1       2022-12-11 10:04:52                   57   \n",
       "2       2022-12-16 16:25:02                   63   \n",
       "3       2022-12-28 15:15:25                   70   \n",
       "4       2022-12-18 13:23:34                   69   \n",
       "\n",
       "               diary_createdAt_min              diary_createdAt_max  \\\n",
       "0 2022-10-01 12:10:14.634000+00:00 2022-12-15 19:03:55.877000+00:00   \n",
       "1 2022-09-30 18:05:44.265000+00:00 2022-11-22 20:10:17.676000+00:00   \n",
       "2 2022-10-09 15:56:20.330000+00:00 2022-12-14 17:40:30.043000+00:00   \n",
       "3 2022-10-10 16:17:34.650000+00:00 2022-12-15 08:59:24.586000+00:00   \n",
       "4 2022-09-30 15:15:27.748000+00:00 2022-12-23 20:08:30.638000+00:00   \n",
       "\n",
       "   diaryDuration  \n",
       "0             75  \n",
       "1             53  \n",
       "2             66  \n",
       "3             65  \n",
       "4             84  "
      ]
     },
     "execution_count": 7,
     "metadata": {},
     "output_type": "execute_result"
    }
   ],
   "source": [
    "cueing_info = pd.merge(appLogs_info, blockSample_info, how='left', on='user').merge(diaryEntries_info, how='left', on='user')\n",
    "cueing_info.head()"
   ]
  },
  {
   "cell_type": "code",
   "execution_count": 8,
   "metadata": {},
   "outputs": [
    {
     "data": {
      "text/plain": [
       "Timestamp('2022-09-30 15:15:27.748000+0000', tz='UTC')"
      ]
     },
     "metadata": {},
     "output_type": "display_data"
    },
    {
     "data": {
      "text/plain": [
       "Timestamp('2023-02-01 21:41:43.724000+0000', tz='UTC')"
      ]
     },
     "metadata": {},
     "output_type": "display_data"
    }
   ],
   "source": [
    "display(cueing_info['diary_createdAt_min'].min())\n",
    "display(cueing_info['diary_createdAt_max'].max())"
   ]
  },
  {
   "attachments": {},
   "cell_type": "markdown",
   "metadata": {},
   "source": [
    "### BlockHeader and BlockSample mapping + prompts_steps processing\n",
    "prompts_steps;             // @2 `PPUUZZSS SSSSSSSS` Lower 10-bits: step count; next 2-bits: snooze-muted prompt count (0-3, saturates); \n",
    "\n",
    "                            next 2-bits: unworn-muted prompt count (0-3, saturates); top 2-bits: prompt count (0-3, saturates)."
   ]
  },
  {
   "cell_type": "code",
   "execution_count": 24,
   "metadata": {},
   "outputs": [],
   "source": [
    "block = pd.merge(blockHeaders, blockSamples, how='inner', on=['user', 'blockId'])\n",
    "cols = ['user', 'blockId', 'battery', 'epochInterval', 'accelerometer', 'count', 'timestamp', \n",
    "        'temperature', 'event_time', 'events', 'promptsSteps', 'meanFilteredSvmmo', 'meanSvmmo', 'order', 'events_detail']\n",
    "block = block[cols].reset_index(drop=True)"
   ]
  },
  {
   "cell_type": "code",
   "execution_count": 93,
   "metadata": {},
   "outputs": [
    {
     "data": {
      "text/html": [
       "<div>\n",
       "<style scoped>\n",
       "    .dataframe tbody tr th:only-of-type {\n",
       "        vertical-align: middle;\n",
       "    }\n",
       "\n",
       "    .dataframe tbody tr th {\n",
       "        vertical-align: top;\n",
       "    }\n",
       "\n",
       "    .dataframe thead th {\n",
       "        text-align: right;\n",
       "    }\n",
       "</style>\n",
       "<table border=\"1\" class=\"dataframe\">\n",
       "  <thead>\n",
       "    <tr style=\"text-align: right;\">\n",
       "      <th></th>\n",
       "      <th>user</th>\n",
       "      <th>blockId</th>\n",
       "      <th>battery</th>\n",
       "      <th>epochInterval</th>\n",
       "      <th>accelerometer</th>\n",
       "      <th>count</th>\n",
       "      <th>timestamp</th>\n",
       "      <th>temperature</th>\n",
       "      <th>event_time</th>\n",
       "      <th>events</th>\n",
       "      <th>promptsSteps</th>\n",
       "      <th>meanFilteredSvmmo</th>\n",
       "      <th>meanSvmmo</th>\n",
       "      <th>order</th>\n",
       "      <th>events_detail</th>\n",
       "      <th>prompt_count</th>\n",
       "      <th>unworn_count</th>\n",
       "      <th>snooze_count</th>\n",
       "      <th>steps_count</th>\n",
       "    </tr>\n",
       "  </thead>\n",
       "  <tbody>\n",
       "    <tr>\n",
       "      <th>0</th>\n",
       "      <td>54hFUuEnJA</td>\n",
       "      <td>891</td>\n",
       "      <td>73</td>\n",
       "      <td>60</td>\n",
       "      <td>5</td>\n",
       "      <td>28</td>\n",
       "      <td>1666929600</td>\n",
       "      <td>128</td>\n",
       "      <td>2022-10-28 05:00:00+01:00</td>\n",
       "      <td>0</td>\n",
       "      <td>0</td>\n",
       "      <td>62</td>\n",
       "      <td>69</td>\n",
       "      <td>3</td>\n",
       "      <td>0</td>\n",
       "      <td>0</td>\n",
       "      <td>0</td>\n",
       "      <td>0</td>\n",
       "      <td>0</td>\n",
       "    </tr>\n",
       "    <tr>\n",
       "      <th>1</th>\n",
       "      <td>54hFUuEnJA</td>\n",
       "      <td>891</td>\n",
       "      <td>73</td>\n",
       "      <td>60</td>\n",
       "      <td>5</td>\n",
       "      <td>28</td>\n",
       "      <td>1666929600</td>\n",
       "      <td>128</td>\n",
       "      <td>2022-10-28 05:00:00+01:00</td>\n",
       "      <td>0</td>\n",
       "      <td>0</td>\n",
       "      <td>62</td>\n",
       "      <td>70</td>\n",
       "      <td>12</td>\n",
       "      <td>0</td>\n",
       "      <td>0</td>\n",
       "      <td>0</td>\n",
       "      <td>0</td>\n",
       "      <td>0</td>\n",
       "    </tr>\n",
       "    <tr>\n",
       "      <th>2</th>\n",
       "      <td>54hFUuEnJA</td>\n",
       "      <td>891</td>\n",
       "      <td>73</td>\n",
       "      <td>60</td>\n",
       "      <td>5</td>\n",
       "      <td>28</td>\n",
       "      <td>1666929600</td>\n",
       "      <td>128</td>\n",
       "      <td>2022-10-28 05:00:00+01:00</td>\n",
       "      <td>0</td>\n",
       "      <td>0</td>\n",
       "      <td>62</td>\n",
       "      <td>70</td>\n",
       "      <td>10</td>\n",
       "      <td>0</td>\n",
       "      <td>0</td>\n",
       "      <td>0</td>\n",
       "      <td>0</td>\n",
       "      <td>0</td>\n",
       "    </tr>\n",
       "    <tr>\n",
       "      <th>3</th>\n",
       "      <td>54hFUuEnJA</td>\n",
       "      <td>891</td>\n",
       "      <td>73</td>\n",
       "      <td>60</td>\n",
       "      <td>5</td>\n",
       "      <td>28</td>\n",
       "      <td>1666929600</td>\n",
       "      <td>128</td>\n",
       "      <td>2022-10-28 05:00:00+01:00</td>\n",
       "      <td>0</td>\n",
       "      <td>0</td>\n",
       "      <td>62</td>\n",
       "      <td>69</td>\n",
       "      <td>15</td>\n",
       "      <td>0</td>\n",
       "      <td>0</td>\n",
       "      <td>0</td>\n",
       "      <td>0</td>\n",
       "      <td>0</td>\n",
       "    </tr>\n",
       "    <tr>\n",
       "      <th>4</th>\n",
       "      <td>54hFUuEnJA</td>\n",
       "      <td>891</td>\n",
       "      <td>73</td>\n",
       "      <td>60</td>\n",
       "      <td>5</td>\n",
       "      <td>28</td>\n",
       "      <td>1666929600</td>\n",
       "      <td>128</td>\n",
       "      <td>2022-10-28 05:00:00+01:00</td>\n",
       "      <td>0</td>\n",
       "      <td>0</td>\n",
       "      <td>62</td>\n",
       "      <td>69</td>\n",
       "      <td>5</td>\n",
       "      <td>0</td>\n",
       "      <td>0</td>\n",
       "      <td>0</td>\n",
       "      <td>0</td>\n",
       "      <td>0</td>\n",
       "    </tr>\n",
       "    <tr>\n",
       "      <th>...</th>\n",
       "      <td>...</td>\n",
       "      <td>...</td>\n",
       "      <td>...</td>\n",
       "      <td>...</td>\n",
       "      <td>...</td>\n",
       "      <td>...</td>\n",
       "      <td>...</td>\n",
       "      <td>...</td>\n",
       "      <td>...</td>\n",
       "      <td>...</td>\n",
       "      <td>...</td>\n",
       "      <td>...</td>\n",
       "      <td>...</td>\n",
       "      <td>...</td>\n",
       "      <td>...</td>\n",
       "      <td>...</td>\n",
       "      <td>...</td>\n",
       "      <td>...</td>\n",
       "      <td>...</td>\n",
       "    </tr>\n",
       "    <tr>\n",
       "      <th>6416366</th>\n",
       "      <td>mkxN5gMcg2</td>\n",
       "      <td>2891</td>\n",
       "      <td>94</td>\n",
       "      <td>60</td>\n",
       "      <td>5</td>\n",
       "      <td>28</td>\n",
       "      <td>1675228140</td>\n",
       "      <td>128</td>\n",
       "      <td>2023-02-01 05:09:00+00:00</td>\n",
       "      <td>0</td>\n",
       "      <td>0</td>\n",
       "      <td>64</td>\n",
       "      <td>64</td>\n",
       "      <td>16</td>\n",
       "      <td>0</td>\n",
       "      <td>0</td>\n",
       "      <td>0</td>\n",
       "      <td>0</td>\n",
       "      <td>0</td>\n",
       "    </tr>\n",
       "    <tr>\n",
       "      <th>6416367</th>\n",
       "      <td>mkxN5gMcg2</td>\n",
       "      <td>2891</td>\n",
       "      <td>94</td>\n",
       "      <td>60</td>\n",
       "      <td>5</td>\n",
       "      <td>28</td>\n",
       "      <td>1675228140</td>\n",
       "      <td>128</td>\n",
       "      <td>2023-02-01 05:09:00+00:00</td>\n",
       "      <td>0</td>\n",
       "      <td>0</td>\n",
       "      <td>63</td>\n",
       "      <td>64</td>\n",
       "      <td>7</td>\n",
       "      <td>0</td>\n",
       "      <td>0</td>\n",
       "      <td>0</td>\n",
       "      <td>0</td>\n",
       "      <td>0</td>\n",
       "    </tr>\n",
       "    <tr>\n",
       "      <th>6416368</th>\n",
       "      <td>mkxN5gMcg2</td>\n",
       "      <td>2891</td>\n",
       "      <td>94</td>\n",
       "      <td>60</td>\n",
       "      <td>5</td>\n",
       "      <td>28</td>\n",
       "      <td>1675228140</td>\n",
       "      <td>128</td>\n",
       "      <td>2023-02-01 05:09:00+00:00</td>\n",
       "      <td>0</td>\n",
       "      <td>0</td>\n",
       "      <td>64</td>\n",
       "      <td>64</td>\n",
       "      <td>6</td>\n",
       "      <td>0</td>\n",
       "      <td>0</td>\n",
       "      <td>0</td>\n",
       "      <td>0</td>\n",
       "      <td>0</td>\n",
       "    </tr>\n",
       "    <tr>\n",
       "      <th>6416369</th>\n",
       "      <td>mkxN5gMcg2</td>\n",
       "      <td>2891</td>\n",
       "      <td>94</td>\n",
       "      <td>60</td>\n",
       "      <td>5</td>\n",
       "      <td>28</td>\n",
       "      <td>1675228140</td>\n",
       "      <td>128</td>\n",
       "      <td>2023-02-01 05:09:00+00:00</td>\n",
       "      <td>0</td>\n",
       "      <td>0</td>\n",
       "      <td>64</td>\n",
       "      <td>64</td>\n",
       "      <td>19</td>\n",
       "      <td>0</td>\n",
       "      <td>0</td>\n",
       "      <td>0</td>\n",
       "      <td>0</td>\n",
       "      <td>0</td>\n",
       "    </tr>\n",
       "    <tr>\n",
       "      <th>6416370</th>\n",
       "      <td>mkxN5gMcg2</td>\n",
       "      <td>2891</td>\n",
       "      <td>94</td>\n",
       "      <td>60</td>\n",
       "      <td>5</td>\n",
       "      <td>28</td>\n",
       "      <td>1675228140</td>\n",
       "      <td>128</td>\n",
       "      <td>2023-02-01 05:09:00+00:00</td>\n",
       "      <td>0</td>\n",
       "      <td>0</td>\n",
       "      <td>64</td>\n",
       "      <td>64</td>\n",
       "      <td>22</td>\n",
       "      <td>0</td>\n",
       "      <td>0</td>\n",
       "      <td>0</td>\n",
       "      <td>0</td>\n",
       "      <td>0</td>\n",
       "    </tr>\n",
       "  </tbody>\n",
       "</table>\n",
       "<p>6416371 rows × 19 columns</p>\n",
       "</div>"
      ],
      "text/plain": [
       "               user  blockId  battery  epochInterval  accelerometer  count  \\\n",
       "0        54hFUuEnJA      891       73             60              5     28   \n",
       "1        54hFUuEnJA      891       73             60              5     28   \n",
       "2        54hFUuEnJA      891       73             60              5     28   \n",
       "3        54hFUuEnJA      891       73             60              5     28   \n",
       "4        54hFUuEnJA      891       73             60              5     28   \n",
       "...             ...      ...      ...            ...            ...    ...   \n",
       "6416366  mkxN5gMcg2     2891       94             60              5     28   \n",
       "6416367  mkxN5gMcg2     2891       94             60              5     28   \n",
       "6416368  mkxN5gMcg2     2891       94             60              5     28   \n",
       "6416369  mkxN5gMcg2     2891       94             60              5     28   \n",
       "6416370  mkxN5gMcg2     2891       94             60              5     28   \n",
       "\n",
       "          timestamp  temperature                event_time  events  \\\n",
       "0        1666929600          128 2022-10-28 05:00:00+01:00       0   \n",
       "1        1666929600          128 2022-10-28 05:00:00+01:00       0   \n",
       "2        1666929600          128 2022-10-28 05:00:00+01:00       0   \n",
       "3        1666929600          128 2022-10-28 05:00:00+01:00       0   \n",
       "4        1666929600          128 2022-10-28 05:00:00+01:00       0   \n",
       "...             ...          ...                       ...     ...   \n",
       "6416366  1675228140          128 2023-02-01 05:09:00+00:00       0   \n",
       "6416367  1675228140          128 2023-02-01 05:09:00+00:00       0   \n",
       "6416368  1675228140          128 2023-02-01 05:09:00+00:00       0   \n",
       "6416369  1675228140          128 2023-02-01 05:09:00+00:00       0   \n",
       "6416370  1675228140          128 2023-02-01 05:09:00+00:00       0   \n",
       "\n",
       "         promptsSteps  meanFilteredSvmmo  meanSvmmo  order events_detail  \\\n",
       "0                   0                 62         69      3             0   \n",
       "1                   0                 62         70     12             0   \n",
       "2                   0                 62         70     10             0   \n",
       "3                   0                 62         69     15             0   \n",
       "4                   0                 62         69      5             0   \n",
       "...               ...                ...        ...    ...           ...   \n",
       "6416366             0                 64         64     16             0   \n",
       "6416367             0                 63         64      7             0   \n",
       "6416368             0                 64         64      6             0   \n",
       "6416369             0                 64         64     19             0   \n",
       "6416370             0                 64         64     22             0   \n",
       "\n",
       "         prompt_count  unworn_count  snooze_count  steps_count  \n",
       "0                   0             0             0            0  \n",
       "1                   0             0             0            0  \n",
       "2                   0             0             0            0  \n",
       "3                   0             0             0            0  \n",
       "4                   0             0             0            0  \n",
       "...               ...           ...           ...          ...  \n",
       "6416366             0             0             0            0  \n",
       "6416367             0             0             0            0  \n",
       "6416368             0             0             0            0  \n",
       "6416369             0             0             0            0  \n",
       "6416370             0             0             0            0  \n",
       "\n",
       "[6416371 rows x 19 columns]"
      ]
     },
     "execution_count": 93,
     "metadata": {},
     "output_type": "execute_result"
    }
   ],
   "source": [
    "x = block.iloc[0]\n",
    "def prompts_processing(x):\n",
    "    prompts = x['promptsSteps']\n",
    "\n",
    "    bin_prompts = bin(prompts)[2:].zfill(16)\n",
    "    prompt_count = int(bin_prompts[0:2], 2)\n",
    "    unworn_count = int(bin_prompts[2:4], 2)\n",
    "    snooze_count = int(bin_prompts[4:6], 2)\n",
    "    steps_count = int(bin_prompts[6:], 2)\n",
    "\n",
    "    x.loc['prompt_count'] = prompt_count\n",
    "    x.loc['unworn_count'] = unworn_count\n",
    "    x.loc['snooze_count'] = snooze_count\n",
    "    x.loc['steps_count'] = steps_count\n",
    "    \n",
    "    return x\n",
    "\n",
    "block = block.apply(prompts_processing, axis=1)\n",
    "block"
   ]
  },
  {
   "cell_type": "code",
   "execution_count": 84,
   "metadata": {},
   "outputs": [
    {
     "data": {
      "text/plain": [
       "0        5776088\n",
       "16384     270482\n",
       "8          41944\n",
       "32768      39757\n",
       "4096       33321\n",
       "          ...   \n",
       "19468          1\n",
       "4104           1\n",
       "16548          1\n",
       "206            1\n",
       "16536          1\n",
       "Name: promptsSteps, Length: 400, dtype: int64"
      ]
     },
     "execution_count": 84,
     "metadata": {},
     "output_type": "execute_result"
    }
   ],
   "source": [
    "block['promptsSteps'].value_counts()"
   ]
  },
  {
   "cell_type": "code",
   "execution_count": 94,
   "metadata": {},
   "outputs": [],
   "source": [
    "block.to_parquet('data/block.parquet')"
   ]
  },
  {
   "cell_type": "code",
   "execution_count": 22,
   "metadata": {},
   "outputs": [
    {
     "data": {
      "text/plain": [
       "array(['T00mMEwEZQ', 'JqZPr3q1LD', 'qIbpO14xtQ', 'qehDXrIutg',\n",
       "       '54hFUuEnJA', 'KpZ0DlA0Qa', 'gymn4uQetH', 'TD9pplcD4k',\n",
       "       'vmFt8cc4jE', 'ILi5G9vycp'], dtype=object)"
      ]
     },
     "execution_count": 22,
     "metadata": {},
     "output_type": "execute_result"
    }
   ],
   "source": [
    "df['user'].unique()"
   ]
  },
  {
   "cell_type": "code",
   "execution_count": 28,
   "metadata": {},
   "outputs": [
    {
     "data": {
      "text/html": [
       "<div>\n",
       "<style scoped>\n",
       "    .dataframe tbody tr th:only-of-type {\n",
       "        vertical-align: middle;\n",
       "    }\n",
       "\n",
       "    .dataframe tbody tr th {\n",
       "        vertical-align: top;\n",
       "    }\n",
       "\n",
       "    .dataframe thead th {\n",
       "        text-align: right;\n",
       "    }\n",
       "</style>\n",
       "<table border=\"1\" class=\"dataframe\">\n",
       "  <thead>\n",
       "    <tr style=\"text-align: right;\">\n",
       "      <th></th>\n",
       "      <th>createdAt</th>\n",
       "      <th>updatedAt</th>\n",
       "      <th>message</th>\n",
       "      <th>level</th>\n",
       "      <th>appVersion</th>\n",
       "      <th>deviceModel</th>\n",
       "      <th>osVersion</th>\n",
       "      <th>platform</th>\n",
       "      <th>user</th>\n",
       "      <th>objectId</th>\n",
       "      <th>timestamp.__type</th>\n",
       "      <th>timestamp.iso</th>\n",
       "      <th>events</th>\n",
       "    </tr>\n",
       "  </thead>\n",
       "  <tbody>\n",
       "    <tr>\n",
       "      <th>0</th>\n",
       "      <td>2022-09-30 15:21:53.717000+00:00</td>\n",
       "      <td>2022-09-30 15:21:53.717000+00:00</td>\n",
       "      <td>iOS App OnActivated</td>\n",
       "      <td>Information</td>\n",
       "      <td>1.1.1</td>\n",
       "      <td>Pixel 4a</td>\n",
       "      <td>13</td>\n",
       "      <td>Android</td>\n",
       "      <td>54hFUuEnJA</td>\n",
       "      <td>yzRTHPq1nj</td>\n",
       "      <td>Date</td>\n",
       "      <td>2022-09-30 15:10:45.209000+00:00</td>\n",
       "      <td>35</td>\n",
       "    </tr>\n",
       "    <tr>\n",
       "      <th>1</th>\n",
       "      <td>2022-09-30 15:21:53.717000+00:00</td>\n",
       "      <td>2022-09-30 15:21:53.717000+00:00</td>\n",
       "      <td>iOS App OnActivated</td>\n",
       "      <td>Information</td>\n",
       "      <td>1.1.1</td>\n",
       "      <td>Pixel 4a</td>\n",
       "      <td>13</td>\n",
       "      <td>Android</td>\n",
       "      <td>54hFUuEnJA</td>\n",
       "      <td>fGjqwVOLvY</td>\n",
       "      <td>Date</td>\n",
       "      <td>2022-09-30 15:14:53.930000+00:00</td>\n",
       "      <td>35</td>\n",
       "    </tr>\n",
       "    <tr>\n",
       "      <th>2</th>\n",
       "      <td>2022-09-30 15:21:53.717000+00:00</td>\n",
       "      <td>2022-09-30 15:21:53.717000+00:00</td>\n",
       "      <td>iOS App OnActivated</td>\n",
       "      <td>Information</td>\n",
       "      <td>1.1.1</td>\n",
       "      <td>Pixel 4a</td>\n",
       "      <td>13</td>\n",
       "      <td>Android</td>\n",
       "      <td>54hFUuEnJA</td>\n",
       "      <td>VUjtNAxSTJ</td>\n",
       "      <td>Date</td>\n",
       "      <td>2022-09-30 15:12:45.434000+00:00</td>\n",
       "      <td>35</td>\n",
       "    </tr>\n",
       "    <tr>\n",
       "      <th>3</th>\n",
       "      <td>2022-09-30 15:21:53.717000+00:00</td>\n",
       "      <td>2022-09-30 15:21:53.717000+00:00</td>\n",
       "      <td>iOS App OnActivated</td>\n",
       "      <td>Information</td>\n",
       "      <td>1.1.1</td>\n",
       "      <td>Pixel 4a</td>\n",
       "      <td>13</td>\n",
       "      <td>Android</td>\n",
       "      <td>54hFUuEnJA</td>\n",
       "      <td>ypHp9VGr51</td>\n",
       "      <td>Date</td>\n",
       "      <td>2022-09-30 15:14:15.386000+00:00</td>\n",
       "      <td>35</td>\n",
       "    </tr>\n",
       "    <tr>\n",
       "      <th>4</th>\n",
       "      <td>2022-09-30 15:21:53.717000+00:00</td>\n",
       "      <td>2022-09-30 15:21:53.717000+00:00</td>\n",
       "      <td>iOS App OnActivated</td>\n",
       "      <td>Information</td>\n",
       "      <td>1.1.1</td>\n",
       "      <td>Pixel 4a</td>\n",
       "      <td>13</td>\n",
       "      <td>Android</td>\n",
       "      <td>54hFUuEnJA</td>\n",
       "      <td>2FTBU1KTgb</td>\n",
       "      <td>Date</td>\n",
       "      <td>2022-09-30 15:13:45.646000+00:00</td>\n",
       "      <td>35</td>\n",
       "    </tr>\n",
       "    <tr>\n",
       "      <th>...</th>\n",
       "      <td>...</td>\n",
       "      <td>...</td>\n",
       "      <td>...</td>\n",
       "      <td>...</td>\n",
       "      <td>...</td>\n",
       "      <td>...</td>\n",
       "      <td>...</td>\n",
       "      <td>...</td>\n",
       "      <td>...</td>\n",
       "      <td>...</td>\n",
       "      <td>...</td>\n",
       "      <td>...</td>\n",
       "      <td>...</td>\n",
       "    </tr>\n",
       "    <tr>\n",
       "      <th>263</th>\n",
       "      <td>2023-02-01 08:11:59.976000+00:00</td>\n",
       "      <td>2023-02-01 08:11:59.976000+00:00</td>\n",
       "      <td>Application started</td>\n",
       "      <td>Information</td>\n",
       "      <td>1.19</td>\n",
       "      <td>iPhone13,2</td>\n",
       "      <td>16.2</td>\n",
       "      <td>iOS</td>\n",
       "      <td>mkxN5gMcg2</td>\n",
       "      <td>QPEDJZdqkJ</td>\n",
       "      <td>Date</td>\n",
       "      <td>2023-02-01 08:11:59.143000+00:00</td>\n",
       "      <td>0</td>\n",
       "    </tr>\n",
       "    <tr>\n",
       "      <th>252</th>\n",
       "      <td>2023-02-01 14:30:31.431000+00:00</td>\n",
       "      <td>2023-02-01 14:30:31.431000+00:00</td>\n",
       "      <td>Application started</td>\n",
       "      <td>Information</td>\n",
       "      <td>1.19</td>\n",
       "      <td>iPhone13,2</td>\n",
       "      <td>16.2</td>\n",
       "      <td>iOS</td>\n",
       "      <td>mkxN5gMcg2</td>\n",
       "      <td>d53NQGFKgL</td>\n",
       "      <td>Date</td>\n",
       "      <td>2023-02-01 14:30:30.762000+00:00</td>\n",
       "      <td>0</td>\n",
       "    </tr>\n",
       "    <tr>\n",
       "      <th>253</th>\n",
       "      <td>2023-02-01 17:00:18.450000+00:00</td>\n",
       "      <td>2023-02-01 17:00:18.450000+00:00</td>\n",
       "      <td>Wearable muted cueing started   Cueing period:...</td>\n",
       "      <td>Information</td>\n",
       "      <td>1.19</td>\n",
       "      <td>iPhone13,2</td>\n",
       "      <td>16.2</td>\n",
       "      <td>iOS</td>\n",
       "      <td>mkxN5gMcg2</td>\n",
       "      <td>9oBFIsS2Is</td>\n",
       "      <td>Date</td>\n",
       "      <td>2023-02-01 14:31:07.926000+00:00</td>\n",
       "      <td>11</td>\n",
       "    </tr>\n",
       "    <tr>\n",
       "      <th>254</th>\n",
       "      <td>2023-02-01 17:00:18.450000+00:00</td>\n",
       "      <td>2023-02-01 17:00:18.450000+00:00</td>\n",
       "      <td>Wearable muted cueing started   Cueing period:...</td>\n",
       "      <td>Information</td>\n",
       "      <td>1.19</td>\n",
       "      <td>iPhone13,2</td>\n",
       "      <td>16.2</td>\n",
       "      <td>iOS</td>\n",
       "      <td>mkxN5gMcg2</td>\n",
       "      <td>XyZHsOHQ8X</td>\n",
       "      <td>Date</td>\n",
       "      <td>2023-02-01 14:30:38.829000+00:00</td>\n",
       "      <td>11</td>\n",
       "    </tr>\n",
       "    <tr>\n",
       "      <th>255</th>\n",
       "      <td>2023-02-01 17:00:36.970000+00:00</td>\n",
       "      <td>2023-02-01 17:00:36.970000+00:00</td>\n",
       "      <td>Added new diary entry</td>\n",
       "      <td>Information</td>\n",
       "      <td>1.19</td>\n",
       "      <td>iPhone13,2</td>\n",
       "      <td>16.2</td>\n",
       "      <td>iOS</td>\n",
       "      <td>mkxN5gMcg2</td>\n",
       "      <td>HeHFQ7Pvfb</td>\n",
       "      <td>Date</td>\n",
       "      <td>2023-02-01 17:00:36.832000+00:00</td>\n",
       "      <td>9</td>\n",
       "    </tr>\n",
       "  </tbody>\n",
       "</table>\n",
       "<p>30636 rows × 13 columns</p>\n",
       "</div>"
      ],
      "text/plain": [
       "                           createdAt                        updatedAt  \\\n",
       "0   2022-09-30 15:21:53.717000+00:00 2022-09-30 15:21:53.717000+00:00   \n",
       "1   2022-09-30 15:21:53.717000+00:00 2022-09-30 15:21:53.717000+00:00   \n",
       "2   2022-09-30 15:21:53.717000+00:00 2022-09-30 15:21:53.717000+00:00   \n",
       "3   2022-09-30 15:21:53.717000+00:00 2022-09-30 15:21:53.717000+00:00   \n",
       "4   2022-09-30 15:21:53.717000+00:00 2022-09-30 15:21:53.717000+00:00   \n",
       "..                               ...                              ...   \n",
       "263 2023-02-01 08:11:59.976000+00:00 2023-02-01 08:11:59.976000+00:00   \n",
       "252 2023-02-01 14:30:31.431000+00:00 2023-02-01 14:30:31.431000+00:00   \n",
       "253 2023-02-01 17:00:18.450000+00:00 2023-02-01 17:00:18.450000+00:00   \n",
       "254 2023-02-01 17:00:18.450000+00:00 2023-02-01 17:00:18.450000+00:00   \n",
       "255 2023-02-01 17:00:36.970000+00:00 2023-02-01 17:00:36.970000+00:00   \n",
       "\n",
       "                                               message        level  \\\n",
       "0                                  iOS App OnActivated  Information   \n",
       "1                                  iOS App OnActivated  Information   \n",
       "2                                  iOS App OnActivated  Information   \n",
       "3                                  iOS App OnActivated  Information   \n",
       "4                                  iOS App OnActivated  Information   \n",
       "..                                                 ...          ...   \n",
       "263                                Application started  Information   \n",
       "252                                Application started  Information   \n",
       "253  Wearable muted cueing started   Cueing period:...  Information   \n",
       "254  Wearable muted cueing started   Cueing period:...  Information   \n",
       "255                              Added new diary entry  Information   \n",
       "\n",
       "    appVersion deviceModel osVersion platform        user    objectId  \\\n",
       "0        1.1.1    Pixel 4a        13  Android  54hFUuEnJA  yzRTHPq1nj   \n",
       "1        1.1.1    Pixel 4a        13  Android  54hFUuEnJA  fGjqwVOLvY   \n",
       "2        1.1.1    Pixel 4a        13  Android  54hFUuEnJA  VUjtNAxSTJ   \n",
       "3        1.1.1    Pixel 4a        13  Android  54hFUuEnJA  ypHp9VGr51   \n",
       "4        1.1.1    Pixel 4a        13  Android  54hFUuEnJA  2FTBU1KTgb   \n",
       "..         ...         ...       ...      ...         ...         ...   \n",
       "263       1.19  iPhone13,2      16.2      iOS  mkxN5gMcg2  QPEDJZdqkJ   \n",
       "252       1.19  iPhone13,2      16.2      iOS  mkxN5gMcg2  d53NQGFKgL   \n",
       "253       1.19  iPhone13,2      16.2      iOS  mkxN5gMcg2  9oBFIsS2Is   \n",
       "254       1.19  iPhone13,2      16.2      iOS  mkxN5gMcg2  XyZHsOHQ8X   \n",
       "255       1.19  iPhone13,2      16.2      iOS  mkxN5gMcg2  HeHFQ7Pvfb   \n",
       "\n",
       "    timestamp.__type                    timestamp.iso  events  \n",
       "0               Date 2022-09-30 15:10:45.209000+00:00      35  \n",
       "1               Date 2022-09-30 15:14:53.930000+00:00      35  \n",
       "2               Date 2022-09-30 15:12:45.434000+00:00      35  \n",
       "3               Date 2022-09-30 15:14:15.386000+00:00      35  \n",
       "4               Date 2022-09-30 15:13:45.646000+00:00      35  \n",
       "..               ...                              ...     ...  \n",
       "263             Date 2023-02-01 08:11:59.143000+00:00       0  \n",
       "252             Date 2023-02-01 14:30:30.762000+00:00       0  \n",
       "253             Date 2023-02-01 14:31:07.926000+00:00      11  \n",
       "254             Date 2023-02-01 14:30:38.829000+00:00      11  \n",
       "255             Date 2023-02-01 17:00:36.832000+00:00       9  \n",
       "\n",
       "[30636 rows x 13 columns]"
      ]
     },
     "execution_count": 28,
     "metadata": {},
     "output_type": "execute_result"
    }
   ],
   "source": [
    "appLogs"
   ]
  },
  {
   "attachments": {},
   "cell_type": "markdown",
   "metadata": {},
   "source": [
    "### Create scheduled cueing"
   ]
  },
  {
   "cell_type": "code",
   "execution_count": 14,
   "metadata": {},
   "outputs": [
    {
     "data": {
      "text/plain": [
       "['54hFUuEnJA', 'KpZ0DlA0Qa', 'gymn4uQetH', 'JqZPr3q1LD', 'CCGlM7KPWU']"
      ]
     },
     "execution_count": 14,
     "metadata": {},
     "output_type": "execute_result"
    }
   ],
   "source": [
    "id = 'qIbpO14xtQ'\n",
    "cueingIntervals['created_date'] = cueingIntervals['createdAt'].dt.weekday\n",
    "\n",
    "list(userIds)[:5]"
   ]
  },
  {
   "cell_type": "code",
   "execution_count": null,
   "metadata": {},
   "outputs": [],
   "source": []
  },
  {
   "attachments": {},
   "cell_type": "markdown",
   "metadata": {},
   "source": [
    "### Fix diaryEntry timezone\n",
    "the diaryEntry is in BST so for the time before 2022-11-01, we do not need to +1 for diaryEntry before 2022-11-01\n",
    "\n",
    "-> convert timezone of recordedtime in diary entry into Europe/London\n",
    "\n",
    "-> for every recorded time of diary, if recordedTime < 2022-11-01 '-1 hour'"
   ]
  },
  {
   "cell_type": "code",
   "execution_count": 41,
   "metadata": {},
   "outputs": [],
   "source": [
    "timechanged = pd.to_datetime('2022-11-01').tz_localize(\"Europe/London\")\n",
    "diaryEntries['recordedTime'] = diaryEntries['recordedTime.iso'].apply(lambda x: x - pd.Timedelta(1, 'H') if x < timechanged else x)"
   ]
  },
  {
   "cell_type": "code",
   "execution_count": 42,
   "metadata": {},
   "outputs": [],
   "source": [
    "diaryEntries.to_parquet('data/diaryEntries.parquet')"
   ]
  },
  {
   "attachments": {},
   "cell_type": "markdown",
   "metadata": {},
   "source": [
    "### Assessment question\n",
    "Output: \n",
    "```\n",
    "assessmentQ_radio.to_parquet('data/assessmentQ_radio.parquet')\n",
    "assessmentQ_likert.to_parquet('data/assessmentQ_likert.parquet')\n",
    "```"
   ]
  },
  {
   "cell_type": "code",
   "execution_count": 186,
   "metadata": {},
   "outputs": [
    {
     "data": {
      "text/plain": [
       "(15, 10, 5)"
      ]
     },
     "execution_count": 186,
     "metadata": {},
     "output_type": "execute_result"
    }
   ],
   "source": [
    "assessmentText = json.load(open(\"data/formDataAssessment.json\", 'rb'))\n",
    "sections = assessmentText['sections']\n",
    "assessmentQ_raw = [x for page in sections[1:4] for x in page]\n",
    "assessmentQ_radio_raw = [x for x in assessmentQ_raw if x['questions'][0]['type'] == 'radio']\n",
    "assessmentQ_likert_raw = [x for x in assessmentQ_raw if x['questions'][0]['type'] == 'likert-table']\n",
    "len(assessmentQ_raw), len(assessmentQ_radio_raw), len(assessmentQ_likert_raw)"
   ]
  },
  {
   "cell_type": "code",
   "execution_count": 187,
   "metadata": {},
   "outputs": [],
   "source": [
    "def process_radio(assessment):\n",
    "    assessmentQ = [x[\"questions\"][0] for x in assessment]\n",
    "    q = pd.json_normalize(assessmentQ)[['question', 'name']]\n",
    "\n",
    "    options = [x[\"questions\"][0]['options'] for x in assessment]\n",
    "    dfs = []\n",
    "    for i in range(len(options)):\n",
    "        df = pd.json_normalize(options[i]) \n",
    "        df['question_num'] = i\n",
    "        \n",
    "        dfs.append(df)\n",
    "        \n",
    "    df = pd.concat(dfs)\n",
    "    assessment = df.merge(q, how='left', right_index=True, left_on='question_num')[['question', 'question_num', 'text', 'value', 'name']]\n",
    "    assessment = assessment.rename(columns={'name': 'q_type'}).reset_index(drop=True)\n",
    "    \n",
    "    return assessment\n",
    "\n",
    "assessmentQ_radio = process_radio(assessmentQ_radio_raw)"
   ]
  },
  {
   "cell_type": "code",
   "execution_count": 208,
   "metadata": {},
   "outputs": [],
   "source": [
    "def process_likert(assessment):\n",
    "    assessmentQ = [x[\"questions\"][0] for x in assessment]\n",
    "    q = pd.json_normalize(assessmentQ)[['question', 'name']]\n",
    "\n",
    "    prompts = [x[\"questions\"][0]['prompts'] for x in assessment]\n",
    "    options = [x[\"questions\"][0]['options'] for x in assessment]\n",
    "    dfs = []\n",
    "    for i in range(len(prompts)):\n",
    "        df = pd.DataFrame({'prompts': prompts[i]})\n",
    "        df['num_options'] = len(options[i]) # ['Never', 'Occasionally', 'Sometimes', 'Often', 'Always'], ['Yes', 'No', 'Prefer not to say']\n",
    "        df['question_num'] = i\n",
    "        \n",
    "        dfs.append(df)\n",
    "        \n",
    "    df = pd.concat(dfs)\n",
    "\n",
    "    assessment = df.merge(q, how='left', right_index=True, left_on='question_num')[['question', 'question_num', 'prompts', 'num_options', 'name']]\n",
    "    assessment['name'] = assessment['name'] + '_' +assessment.index.astype(str)\n",
    "    assessment = assessment.rename(columns={'name': 'q_type'}).reset_index(drop=True)\n",
    "    \n",
    "    return assessment\n",
    "\n",
    "assessmentQ_likert = process_likert(assessmentQ_likert_raw)"
   ]
  },
  {
   "cell_type": "code",
   "execution_count": 189,
   "metadata": {},
   "outputs": [
    {
     "data": {
      "text/html": [
       "<div>\n",
       "<style scoped>\n",
       "    .dataframe tbody tr th:only-of-type {\n",
       "        vertical-align: middle;\n",
       "    }\n",
       "\n",
       "    .dataframe tbody tr th {\n",
       "        vertical-align: top;\n",
       "    }\n",
       "\n",
       "    .dataframe thead th {\n",
       "        text-align: right;\n",
       "    }\n",
       "</style>\n",
       "<table border=\"1\" class=\"dataframe\">\n",
       "  <thead>\n",
       "    <tr style=\"text-align: right;\">\n",
       "      <th></th>\n",
       "      <th>question</th>\n",
       "      <th>question_num</th>\n",
       "      <th>prompts</th>\n",
       "      <th>num_options</th>\n",
       "      <th>q_type</th>\n",
       "    </tr>\n",
       "  </thead>\n",
       "  <tbody>\n",
       "    <tr>\n",
       "      <th>0</th>\n",
       "      <td>Due to having Parkinson's disease, how often during the last month have you...</td>\n",
       "      <td>0</td>\n",
       "      <td>Had difficulty getting around in public</td>\n",
       "      <td>5</td>\n",
       "      <td>pdq8</td>\n",
       "    </tr>\n",
       "    <tr>\n",
       "      <th>1</th>\n",
       "      <td>Due to having Parkinson's disease, how often during the last month have you...</td>\n",
       "      <td>0</td>\n",
       "      <td>Had difficulty dressing yourself?</td>\n",
       "      <td>5</td>\n",
       "      <td>pdq8</td>\n",
       "    </tr>\n",
       "    <tr>\n",
       "      <th>2</th>\n",
       "      <td>Due to having Parkinson's disease, how often during the last month have you...</td>\n",
       "      <td>0</td>\n",
       "      <td>Felt depressed?</td>\n",
       "      <td>5</td>\n",
       "      <td>pdq8</td>\n",
       "    </tr>\n",
       "    <tr>\n",
       "      <th>3</th>\n",
       "      <td>Due to having Parkinson's disease, how often during the last month have you...</td>\n",
       "      <td>0</td>\n",
       "      <td>Had problems with close relationships?</td>\n",
       "      <td>5</td>\n",
       "      <td>pdq8</td>\n",
       "    </tr>\n",
       "    <tr>\n",
       "      <th>4</th>\n",
       "      <td>Due to having Parkinson's disease, how often during the last month have you...</td>\n",
       "      <td>0</td>\n",
       "      <td>Had problems with concentration?</td>\n",
       "      <td>5</td>\n",
       "      <td>pdq8</td>\n",
       "    </tr>\n",
       "  </tbody>\n",
       "</table>\n",
       "</div>"
      ],
      "text/plain": [
       "                                                                         question  \\\n",
       "0  Due to having Parkinson's disease, how often during the last month have you...   \n",
       "1  Due to having Parkinson's disease, how often during the last month have you...   \n",
       "2  Due to having Parkinson's disease, how often during the last month have you...   \n",
       "3  Due to having Parkinson's disease, how often during the last month have you...   \n",
       "4  Due to having Parkinson's disease, how often during the last month have you...   \n",
       "\n",
       "   question_num                                  prompts  num_options q_type  \n",
       "0             0  Had difficulty getting around in public            5   pdq8  \n",
       "1             0        Had difficulty dressing yourself?            5   pdq8  \n",
       "2             0                          Felt depressed?            5   pdq8  \n",
       "3             0   Had problems with close relationships?            5   pdq8  \n",
       "4             0         Had problems with concentration?            5   pdq8  "
      ]
     },
     "execution_count": 189,
     "metadata": {},
     "output_type": "execute_result"
    }
   ],
   "source": [
    "# pd.options.display.max_colwidth = None\n",
    "# pd.options.display.width = None\n",
    "# pd.reset_option('^display.', silent=True)\n",
    "\n",
    "assessmentQ_likert.head()"
   ]
  },
  {
   "cell_type": "code",
   "execution_count": 211,
   "metadata": {},
   "outputs": [],
   "source": [
    "assessmentQ_radio.to_parquet('data/assessmentQ_radio.parquet')\n",
    "assessmentQ_likert.to_parquet('data/assessmentQ_likert.parquet')"
   ]
  },
  {
   "attachments": {},
   "cell_type": "markdown",
   "metadata": {},
   "source": [
    "### Assessment Answer processing\n",
    "Output:\n",
    "```\n",
    "df.to_parquet('data/assessmentA.parquet')\n",
    "```"
   ]
  },
  {
   "cell_type": "code",
   "execution_count": 51,
   "metadata": {},
   "outputs": [
    {
     "data": {
      "text/plain": [
       "(276, 54)"
      ]
     },
     "execution_count": 51,
     "metadata": {},
     "output_type": "execute_result"
    }
   ],
   "source": [
    "x = data[id]['assessment1Data']\n",
    "rows = []\n",
    "for userId in userIds:\n",
    "    x = data[userId]['assessment1Data']\n",
    "    x = {**x, **{f\"nmsqpart1_{i+1}\": v for i, v in enumerate(x[\"nmsqpart1\"])}}\n",
    "    del(x['nmsqpart1'])\n",
    "    x = {**x, **{f\"nmsqpart2_{i+1}\": v for i, v in enumerate(x[\"nmsqpart2\"])}}\n",
    "    del(x['nmsqpart2'])\n",
    "    x = {**x, **{f\"nmsqpart3_{i+1}\": v for i, v in enumerate(x[\"nmsqpart3\"])}}\n",
    "    del(x['nmsqpart3'])\n",
    "    x = {**x, **{f\"nmsqpart4_{i+1}\": v for i, v in enumerate(x[\"nmsqpart4\"])}}\n",
    "    del(x['nmsqpart4'])\n",
    "    x = {**x, **{f\"pdq8_{i+1}\": v for i, v in enumerate(x[\"pdq8\"])}}\n",
    "    del(x['pdq8'])\n",
    "    x['userId'] = userId\n",
    "    rows.append(x)\n",
    "    \n",
    "for userId in userIds:\n",
    "    x = data[userId]['assessment2Data']\n",
    "    x = {**x, **{f\"nmsqpart1_{i+1}\": v for i, v in enumerate(x[\"nmsqpart1\"])}}\n",
    "    del(x['nmsqpart1'])\n",
    "    x = {**x, **{f\"nmsqpart2_{i+1}\": v for i, v in enumerate(x[\"nmsqpart2\"])}}\n",
    "    del(x['nmsqpart2'])\n",
    "    x = {**x, **{f\"nmsqpart3_{i+1}\": v for i, v in enumerate(x[\"nmsqpart3\"])}}\n",
    "    del(x['nmsqpart3'])\n",
    "    x = {**x, **{f\"nmsqpart4_{i+1}\": v for i, v in enumerate(x[\"nmsqpart4\"])}}\n",
    "    del(x['nmsqpart4'])\n",
    "    x = {**x, **{f\"pdq8_{i+1}\": v for i, v in enumerate(x[\"pdq8\"])}}\n",
    "    del(x['pdq8'])\n",
    "    x['userId'] = userId\n",
    "    rows.append(x)\n",
    "\n",
    "for userId in userIds:\n",
    "    x = data[userId]['assessment3Data']\n",
    "    x = {**x, **{f\"nmsqpart1_{i+1}\": v for i, v in enumerate(x[\"nmsqpart1\"])}}\n",
    "    del(x['nmsqpart1'])\n",
    "    x = {**x, **{f\"nmsqpart2_{i+1}\": v for i, v in enumerate(x[\"nmsqpart2\"])}}\n",
    "    del(x['nmsqpart2'])\n",
    "    x = {**x, **{f\"nmsqpart3_{i+1}\": v for i, v in enumerate(x[\"nmsqpart3\"])}}\n",
    "    del(x['nmsqpart3'])\n",
    "    x = {**x, **{f\"nmsqpart4_{i+1}\": v for i, v in enumerate(x[\"nmsqpart4\"])}}\n",
    "    del(x['nmsqpart4'])\n",
    "    x = {**x, **{f\"pdq8_{i+1}\": v for i, v in enumerate(x[\"pdq8\"])}}\n",
    "    del(x['pdq8'])\n",
    "    x['userId'] = userId\n",
    "    rows.append(x)\n",
    "    \n",
    "for userId in userIds:\n",
    "    x = data[userId]['assessment4Data']\n",
    "    x = {**x, **{f\"nmsqpart1_{i+1}\": v for i, v in enumerate(x[\"nmsqpart1\"])}}\n",
    "    del(x['nmsqpart1'])\n",
    "    x = {**x, **{f\"nmsqpart2_{i+1}\": v for i, v in enumerate(x[\"nmsqpart2\"])}}\n",
    "    del(x['nmsqpart2'])\n",
    "    x = {**x, **{f\"nmsqpart3_{i+1}\": v for i, v in enumerate(x[\"nmsqpart3\"])}}\n",
    "    del(x['nmsqpart3'])\n",
    "    x = {**x, **{f\"nmsqpart4_{i+1}\": v for i, v in enumerate(x[\"nmsqpart4\"])}}\n",
    "    del(x['nmsqpart4'])\n",
    "    x = {**x, **{f\"pdq8_{i+1}\": v for i, v in enumerate(x[\"pdq8\"])}}\n",
    "    del(x['pdq8'])\n",
    "    x['userId'] = userId\n",
    "    rows.append(x)\n",
    "    \n",
    "cols = ['createdAt', 'updatedAt', 'romps1', 'romps2', 'romps3', 'romps4', 'romps5', 'romps6', 'romps7', 'romps8', 'romps9', 'updrs22', \\\n",
    "    'nmsqpart1_1', 'nmsqpart1_2', 'nmsqpart1_3', 'nmsqpart1_4', 'nmsqpart1_5', 'nmsqpart1_6', 'nmsqpart1_7', 'nmsqpart1_8', 'nmsqpart1_9', \\\n",
    "        'nmsqpart2_1', 'nmsqpart2_2', 'nmsqpart2_3', 'nmsqpart2_4', 'nmsqpart2_5', 'nmsqpart2_6', 'nmsqpart2_7', 'nmsqpart2_8', \\\n",
    "            'nmsqpart3_1', 'nmsqpart3_2', 'nmsqpart3_3', 'nmsqpart3_4', 'nmsqpart3_5', 'nmsqpart3_6', 'nmsqpart3_7', 'nmsqpart3_8', \\\n",
    "                'nmsqpart4_1', 'nmsqpart4_2', 'nmsqpart4_3', 'nmsqpart4_4', 'nmsqpart4_5', \\\n",
    "                    'pdq8_1', 'pdq8_2', 'pdq8_3', 'pdq8_4', 'pdq8_5', 'pdq8_6', 'pdq8_7', 'pdq8_8', \\\n",
    "                        'token', 'assessmentNumber', 'objectId', 'userId']\n",
    "df = pd.json_normalize(rows)[cols]\n",
    "df['createdAt'] = pd.to_datetime(df['createdAt']).dt.tz_convert('Europe/London')\n",
    "df['updatedAt'] = pd.to_datetime(df['updatedAt']).dt.tz_convert('Europe/London')\n",
    "df.shape"
   ]
  },
  {
   "cell_type": "code",
   "execution_count": 53,
   "metadata": {},
   "outputs": [
    {
     "data": {
      "text/html": [
       "<div>\n",
       "<style scoped>\n",
       "    .dataframe tbody tr th:only-of-type {\n",
       "        vertical-align: middle;\n",
       "    }\n",
       "\n",
       "    .dataframe tbody tr th {\n",
       "        vertical-align: top;\n",
       "    }\n",
       "\n",
       "    .dataframe thead th {\n",
       "        text-align: right;\n",
       "    }\n",
       "</style>\n",
       "<table border=\"1\" class=\"dataframe\">\n",
       "  <thead>\n",
       "    <tr style=\"text-align: right;\">\n",
       "      <th></th>\n",
       "      <th>createdAt</th>\n",
       "      <th>updatedAt</th>\n",
       "      <th>romps1</th>\n",
       "      <th>romps2</th>\n",
       "      <th>romps3</th>\n",
       "      <th>romps4</th>\n",
       "      <th>romps5</th>\n",
       "      <th>romps6</th>\n",
       "      <th>romps7</th>\n",
       "      <th>romps8</th>\n",
       "      <th>...</th>\n",
       "      <th>pdq8_3</th>\n",
       "      <th>pdq8_4</th>\n",
       "      <th>pdq8_5</th>\n",
       "      <th>pdq8_6</th>\n",
       "      <th>pdq8_7</th>\n",
       "      <th>pdq8_8</th>\n",
       "      <th>token</th>\n",
       "      <th>assessmentNumber</th>\n",
       "      <th>objectId</th>\n",
       "      <th>userId</th>\n",
       "    </tr>\n",
       "  </thead>\n",
       "  <tbody>\n",
       "    <tr>\n",
       "      <th>0</th>\n",
       "      <td>2022-10-17 09:23:38.466000+01:00</td>\n",
       "      <td>2022-10-17 09:23:38.466000+01:00</td>\n",
       "      <td>3</td>\n",
       "      <td>3</td>\n",
       "      <td>3</td>\n",
       "      <td>1</td>\n",
       "      <td>2</td>\n",
       "      <td>2</td>\n",
       "      <td>3</td>\n",
       "      <td>2</td>\n",
       "      <td>...</td>\n",
       "      <td>1</td>\n",
       "      <td>1</td>\n",
       "      <td>1</td>\n",
       "      <td>2</td>\n",
       "      <td>3</td>\n",
       "      <td>2</td>\n",
       "      <td>cB3oTRtTlg6aLVn7kW2g5FgTSGafpaDDPZjvUS9V</td>\n",
       "      <td>1</td>\n",
       "      <td>k9YKnxMhkc</td>\n",
       "      <td>0tbGZHzjR7</td>\n",
       "    </tr>\n",
       "    <tr>\n",
       "      <th>1</th>\n",
       "      <td>2022-11-07 21:50:44.963000+00:00</td>\n",
       "      <td>2022-11-07 21:50:44.963000+00:00</td>\n",
       "      <td>3</td>\n",
       "      <td>3</td>\n",
       "      <td>3</td>\n",
       "      <td>1</td>\n",
       "      <td>2</td>\n",
       "      <td>2</td>\n",
       "      <td>2</td>\n",
       "      <td>2</td>\n",
       "      <td>...</td>\n",
       "      <td>1</td>\n",
       "      <td>1</td>\n",
       "      <td>1</td>\n",
       "      <td>2</td>\n",
       "      <td>3</td>\n",
       "      <td>3</td>\n",
       "      <td>Tv93yp24AGNxMJju5cBSC0fQXiHnTPFTuo2nszAE</td>\n",
       "      <td>2</td>\n",
       "      <td>NVGDEas2y4</td>\n",
       "      <td>0tbGZHzjR7</td>\n",
       "    </tr>\n",
       "    <tr>\n",
       "      <th>2</th>\n",
       "      <td>2022-11-21 18:58:18.302000+00:00</td>\n",
       "      <td>2022-11-21 18:58:18.302000+00:00</td>\n",
       "      <td>3</td>\n",
       "      <td>3</td>\n",
       "      <td>3</td>\n",
       "      <td>1</td>\n",
       "      <td>1</td>\n",
       "      <td>2</td>\n",
       "      <td>1</td>\n",
       "      <td>2</td>\n",
       "      <td>...</td>\n",
       "      <td>1</td>\n",
       "      <td>1</td>\n",
       "      <td>1</td>\n",
       "      <td>2</td>\n",
       "      <td>3</td>\n",
       "      <td>2</td>\n",
       "      <td>2IUr3WpQAGujedmYvrc1aoJKDeZaLqMo75lY4xQi</td>\n",
       "      <td>3</td>\n",
       "      <td>zAFmuPSYgr</td>\n",
       "      <td>0tbGZHzjR7</td>\n",
       "    </tr>\n",
       "    <tr>\n",
       "      <th>3</th>\n",
       "      <td>2022-12-13 16:40:21.313000+00:00</td>\n",
       "      <td>2022-12-13 16:40:21.313000+00:00</td>\n",
       "      <td>3</td>\n",
       "      <td>3</td>\n",
       "      <td>2</td>\n",
       "      <td>1</td>\n",
       "      <td>1</td>\n",
       "      <td>2</td>\n",
       "      <td>1</td>\n",
       "      <td>1</td>\n",
       "      <td>...</td>\n",
       "      <td>1</td>\n",
       "      <td>1</td>\n",
       "      <td>1</td>\n",
       "      <td>1</td>\n",
       "      <td>3</td>\n",
       "      <td>2</td>\n",
       "      <td>IFviQVkYQhiQEWs9ontUD5jA5QFwyGToKLJa4rbs</td>\n",
       "      <td>4</td>\n",
       "      <td>HYkqstwvoZ</td>\n",
       "      <td>0tbGZHzjR7</td>\n",
       "    </tr>\n",
       "    <tr>\n",
       "      <th>4</th>\n",
       "      <td>2022-10-14 17:42:41.743000+01:00</td>\n",
       "      <td>2022-10-14 17:42:41.743000+01:00</td>\n",
       "      <td>2</td>\n",
       "      <td>2</td>\n",
       "      <td>3</td>\n",
       "      <td>1</td>\n",
       "      <td>2</td>\n",
       "      <td>1</td>\n",
       "      <td>1</td>\n",
       "      <td>1</td>\n",
       "      <td>...</td>\n",
       "      <td>2</td>\n",
       "      <td>2</td>\n",
       "      <td>3</td>\n",
       "      <td>4</td>\n",
       "      <td>5</td>\n",
       "      <td>3</td>\n",
       "      <td>kQhksACy2OJ49wphTilytIVLar1ypGxlj4nHXdIl</td>\n",
       "      <td>1</td>\n",
       "      <td>OIRC7s7LEP</td>\n",
       "      <td>1r2J9taZha</td>\n",
       "    </tr>\n",
       "    <tr>\n",
       "      <th>...</th>\n",
       "      <td>...</td>\n",
       "      <td>...</td>\n",
       "      <td>...</td>\n",
       "      <td>...</td>\n",
       "      <td>...</td>\n",
       "      <td>...</td>\n",
       "      <td>...</td>\n",
       "      <td>...</td>\n",
       "      <td>...</td>\n",
       "      <td>...</td>\n",
       "      <td>...</td>\n",
       "      <td>...</td>\n",
       "      <td>...</td>\n",
       "      <td>...</td>\n",
       "      <td>...</td>\n",
       "      <td>...</td>\n",
       "      <td>...</td>\n",
       "      <td>...</td>\n",
       "      <td>...</td>\n",
       "      <td>...</td>\n",
       "      <td>...</td>\n",
       "    </tr>\n",
       "    <tr>\n",
       "      <th>271</th>\n",
       "      <td>2022-12-15 10:11:43.277000+00:00</td>\n",
       "      <td>2022-12-15 10:11:43.277000+00:00</td>\n",
       "      <td>2</td>\n",
       "      <td>2</td>\n",
       "      <td>2</td>\n",
       "      <td>1</td>\n",
       "      <td>1</td>\n",
       "      <td>1</td>\n",
       "      <td>1</td>\n",
       "      <td>1</td>\n",
       "      <td>...</td>\n",
       "      <td>1</td>\n",
       "      <td>4</td>\n",
       "      <td>4</td>\n",
       "      <td>4</td>\n",
       "      <td>1</td>\n",
       "      <td>3</td>\n",
       "      <td>Q9xtxxqeKFZ5dTiyepvygbvV8y4tmPrgTfnpfBhJ</td>\n",
       "      <td>4</td>\n",
       "      <td>mXYXNB76bW</td>\n",
       "      <td>yA5oo0mfBh</td>\n",
       "    </tr>\n",
       "    <tr>\n",
       "      <th>272</th>\n",
       "      <td>2022-10-14 15:45:43.473000+01:00</td>\n",
       "      <td>2022-10-14 15:45:43.473000+01:00</td>\n",
       "      <td>3</td>\n",
       "      <td>2</td>\n",
       "      <td>1</td>\n",
       "      <td>1</td>\n",
       "      <td>3</td>\n",
       "      <td>1</td>\n",
       "      <td>1</td>\n",
       "      <td>1</td>\n",
       "      <td>...</td>\n",
       "      <td>2</td>\n",
       "      <td>1</td>\n",
       "      <td>4</td>\n",
       "      <td>2</td>\n",
       "      <td>2</td>\n",
       "      <td>1</td>\n",
       "      <td>M7QdOFdP7REBabVOTKURdjXS9ejQmxgbo1MI5Q55</td>\n",
       "      <td>1</td>\n",
       "      <td>DK8B1ZjVLN</td>\n",
       "      <td>yHK1hn0pTA</td>\n",
       "    </tr>\n",
       "    <tr>\n",
       "      <th>273</th>\n",
       "      <td>2022-11-05 09:14:30.652000+00:00</td>\n",
       "      <td>2022-11-05 09:14:30.652000+00:00</td>\n",
       "      <td>3</td>\n",
       "      <td>2</td>\n",
       "      <td>1</td>\n",
       "      <td>1</td>\n",
       "      <td>2</td>\n",
       "      <td>1</td>\n",
       "      <td>1</td>\n",
       "      <td>1</td>\n",
       "      <td>...</td>\n",
       "      <td>2</td>\n",
       "      <td>1</td>\n",
       "      <td>2</td>\n",
       "      <td>2</td>\n",
       "      <td>3</td>\n",
       "      <td>1</td>\n",
       "      <td>EIifEAFTJoW8ZfyWzPWjMwMzHm1YvA0KRTkivoUe</td>\n",
       "      <td>2</td>\n",
       "      <td>ZICBo5Gs14</td>\n",
       "      <td>yHK1hn0pTA</td>\n",
       "    </tr>\n",
       "    <tr>\n",
       "      <th>274</th>\n",
       "      <td>2022-11-19 17:10:30.057000+00:00</td>\n",
       "      <td>2022-11-19 17:10:30.057000+00:00</td>\n",
       "      <td>2</td>\n",
       "      <td>3</td>\n",
       "      <td>1</td>\n",
       "      <td>1</td>\n",
       "      <td>2</td>\n",
       "      <td>1</td>\n",
       "      <td>1</td>\n",
       "      <td>1</td>\n",
       "      <td>...</td>\n",
       "      <td>2</td>\n",
       "      <td>1</td>\n",
       "      <td>3</td>\n",
       "      <td>2</td>\n",
       "      <td>2</td>\n",
       "      <td>1</td>\n",
       "      <td>9aykrC9e4iM4V5yiAicZSBK1qVAiXGQxC6GkkuxQ</td>\n",
       "      <td>3</td>\n",
       "      <td>fH8zLAaErD</td>\n",
       "      <td>yHK1hn0pTA</td>\n",
       "    </tr>\n",
       "    <tr>\n",
       "      <th>275</th>\n",
       "      <td>2022-12-11 19:52:55.514000+00:00</td>\n",
       "      <td>2022-12-11 19:52:55.514000+00:00</td>\n",
       "      <td>2</td>\n",
       "      <td>2</td>\n",
       "      <td>2</td>\n",
       "      <td>1</td>\n",
       "      <td>2</td>\n",
       "      <td>1</td>\n",
       "      <td>1</td>\n",
       "      <td>1</td>\n",
       "      <td>...</td>\n",
       "      <td>2</td>\n",
       "      <td>1</td>\n",
       "      <td>3</td>\n",
       "      <td>2</td>\n",
       "      <td>2</td>\n",
       "      <td>1</td>\n",
       "      <td>GMPc63nh5kGSRafodoIBE8wriCgZIXAMIPOfyUAw</td>\n",
       "      <td>4</td>\n",
       "      <td>vK5b0JQCZG</td>\n",
       "      <td>yHK1hn0pTA</td>\n",
       "    </tr>\n",
       "  </tbody>\n",
       "</table>\n",
       "<p>276 rows × 54 columns</p>\n",
       "</div>"
      ],
      "text/plain": [
       "                           createdAt                        updatedAt  romps1  \\\n",
       "0   2022-10-17 09:23:38.466000+01:00 2022-10-17 09:23:38.466000+01:00       3   \n",
       "1   2022-11-07 21:50:44.963000+00:00 2022-11-07 21:50:44.963000+00:00       3   \n",
       "2   2022-11-21 18:58:18.302000+00:00 2022-11-21 18:58:18.302000+00:00       3   \n",
       "3   2022-12-13 16:40:21.313000+00:00 2022-12-13 16:40:21.313000+00:00       3   \n",
       "4   2022-10-14 17:42:41.743000+01:00 2022-10-14 17:42:41.743000+01:00       2   \n",
       "..                               ...                              ...     ...   \n",
       "271 2022-12-15 10:11:43.277000+00:00 2022-12-15 10:11:43.277000+00:00       2   \n",
       "272 2022-10-14 15:45:43.473000+01:00 2022-10-14 15:45:43.473000+01:00       3   \n",
       "273 2022-11-05 09:14:30.652000+00:00 2022-11-05 09:14:30.652000+00:00       3   \n",
       "274 2022-11-19 17:10:30.057000+00:00 2022-11-19 17:10:30.057000+00:00       2   \n",
       "275 2022-12-11 19:52:55.514000+00:00 2022-12-11 19:52:55.514000+00:00       2   \n",
       "\n",
       "     romps2  romps3  romps4  romps5  romps6  romps7  romps8  ...  pdq8_3  \\\n",
       "0         3       3       1       2       2       3       2  ...       1   \n",
       "1         3       3       1       2       2       2       2  ...       1   \n",
       "2         3       3       1       1       2       1       2  ...       1   \n",
       "3         3       2       1       1       2       1       1  ...       1   \n",
       "4         2       3       1       2       1       1       1  ...       2   \n",
       "..      ...     ...     ...     ...     ...     ...     ...  ...     ...   \n",
       "271       2       2       1       1       1       1       1  ...       1   \n",
       "272       2       1       1       3       1       1       1  ...       2   \n",
       "273       2       1       1       2       1       1       1  ...       2   \n",
       "274       3       1       1       2       1       1       1  ...       2   \n",
       "275       2       2       1       2       1       1       1  ...       2   \n",
       "\n",
       "     pdq8_4  pdq8_5  pdq8_6  pdq8_7  pdq8_8  \\\n",
       "0         1       1       2       3       2   \n",
       "1         1       1       2       3       3   \n",
       "2         1       1       2       3       2   \n",
       "3         1       1       1       3       2   \n",
       "4         2       3       4       5       3   \n",
       "..      ...     ...     ...     ...     ...   \n",
       "271       4       4       4       1       3   \n",
       "272       1       4       2       2       1   \n",
       "273       1       2       2       3       1   \n",
       "274       1       3       2       2       1   \n",
       "275       1       3       2       2       1   \n",
       "\n",
       "                                        token  assessmentNumber    objectId  \\\n",
       "0    cB3oTRtTlg6aLVn7kW2g5FgTSGafpaDDPZjvUS9V                 1  k9YKnxMhkc   \n",
       "1    Tv93yp24AGNxMJju5cBSC0fQXiHnTPFTuo2nszAE                 2  NVGDEas2y4   \n",
       "2    2IUr3WpQAGujedmYvrc1aoJKDeZaLqMo75lY4xQi                 3  zAFmuPSYgr   \n",
       "3    IFviQVkYQhiQEWs9ontUD5jA5QFwyGToKLJa4rbs                 4  HYkqstwvoZ   \n",
       "4    kQhksACy2OJ49wphTilytIVLar1ypGxlj4nHXdIl                 1  OIRC7s7LEP   \n",
       "..                                        ...               ...         ...   \n",
       "271  Q9xtxxqeKFZ5dTiyepvygbvV8y4tmPrgTfnpfBhJ                 4  mXYXNB76bW   \n",
       "272  M7QdOFdP7REBabVOTKURdjXS9ejQmxgbo1MI5Q55                 1  DK8B1ZjVLN   \n",
       "273  EIifEAFTJoW8ZfyWzPWjMwMzHm1YvA0KRTkivoUe                 2  ZICBo5Gs14   \n",
       "274  9aykrC9e4iM4V5yiAicZSBK1qVAiXGQxC6GkkuxQ                 3  fH8zLAaErD   \n",
       "275  GMPc63nh5kGSRafodoIBE8wriCgZIXAMIPOfyUAw                 4  vK5b0JQCZG   \n",
       "\n",
       "         userId  \n",
       "0    0tbGZHzjR7  \n",
       "1    0tbGZHzjR7  \n",
       "2    0tbGZHzjR7  \n",
       "3    0tbGZHzjR7  \n",
       "4    1r2J9taZha  \n",
       "..          ...  \n",
       "271  yA5oo0mfBh  \n",
       "272  yHK1hn0pTA  \n",
       "273  yHK1hn0pTA  \n",
       "274  yHK1hn0pTA  \n",
       "275  yHK1hn0pTA  \n",
       "\n",
       "[276 rows x 54 columns]"
      ]
     },
     "execution_count": 53,
     "metadata": {},
     "output_type": "execute_result"
    }
   ],
   "source": [
    "df = df.sort_values(['userId', 'assessmentNumber']).reset_index(drop=True)\n",
    "df"
   ]
  },
  {
   "cell_type": "code",
   "execution_count": 54,
   "metadata": {},
   "outputs": [],
   "source": [
    "df.to_parquet('data/assessmentA.parquet')"
   ]
  },
  {
   "attachments": {},
   "cell_type": "markdown",
   "metadata": {},
   "source": [
    "### Assessment Answer processing\n",
    "- [ ]  ROMPS: sum every answer, lower is better\n",
    "    - The ROMP is a self-evaluative protocol in three domains: speech, swallowing and saliva. It consists of 23 items, seven items in the speech domain, seven items for swallowing and nine items relating to saliva. \n",
    "    The patient marks the frequency of symptoms from 1-5 (1 = normal; 5 = worst score).\n",
    "    - [https://www.scielo.br/j/anp/a/XchZxtpmffmXYgv4Sr97Pdw/?lang=en#:~:text=The ROMP is a self,%3B 5 %3D worst score](https://www.scielo.br/j/anp/a/XchZxtpmffmXYgv4Sr97Pdw/?lang=en#:~:text=The%20ROMP%20is%20a%20self,%3B%205%20%3D%20worst%20score)).\n",
    "- [ ]  UPDRS22: only 1 question, lower is better\n",
    "    - Higher scores show increased severity. Then the administrator rates the patient on the H and Y Scale and the Schwab and England Activities of Daily Living Scale.\n",
    "    - [https://www.physio-pedia.com/Unified_Parkinson's_Disease_Rating_Scale_(UPDRS)#](https://www.physio-pedia.com/Unified_Parkinson%27s_Disease_Rating_Scale_(UPDRS)#)\n",
    "- [ ]  PDQ8: sum answer., lower is better, need to convert to 0→4\n",
    "    - A higher score signifies poorer quality of life.\n",
    "    - [https://www.physio-pedia.com/Parkinson's_Disease_Questionnaire_(PDQ-8)](https://www.physio-pedia.com/Parkinson%27s_Disease_Questionnaire_(PDQ-8))\n",
    "- [ ]  NMSQ: original is Yes: 1, No: 2, No answer is 3 → mapping to No answer: 0, No: 0, Yes: 1 → sum patients with answer, lower is better:\n",
    "    - The points should be totalled to give a score out of 30. A score of under 10 is mild, 10-20 moderate and over 20, severe.\n",
    "    - [https://www.parkinsons.org.uk/sites/default/files/2017-12/nonmotorsymptomsquestionnaire_guidelines.pdf](https://www.parkinsons.org.uk/sites/default/files/2017-12/nonmotorsymptomsquestionnaire_guidelines.pdf)"
   ]
  },
  {
   "cell_type": "code",
   "execution_count": 55,
   "metadata": {},
   "outputs": [],
   "source": [
    "assessmentA = pd.read_parquet('data/assessmentA.parquet')"
   ]
  },
  {
   "cell_type": "code",
   "execution_count": 56,
   "metadata": {},
   "outputs": [],
   "source": [
    "romps_col = ['romps1', 'romps2', 'romps3', 'romps4', 'romps5', 'romps6', 'romps7', 'romps8', 'romps9'] #9\n",
    "updrs22_col = ['updrs22'] #1\n",
    "pdq8_col = ['pdq8_1', 'pdq8_2', 'pdq8_3', 'pdq8_4', 'pdq8_5', 'pdq8_6', 'pdq8_7', 'pdq8_8'] #8\n",
    "nmsq_col = ['nmsqpart1_1', 'nmsqpart1_2', 'nmsqpart1_3', 'nmsqpart1_4', 'nmsqpart1_5', 'nmsqpart1_6', 'nmsqpart1_7', 'nmsqpart1_8', 'nmsqpart1_9', \\\n",
    "        'nmsqpart2_1', 'nmsqpart2_2', 'nmsqpart2_3', 'nmsqpart2_4', 'nmsqpart2_5', 'nmsqpart2_6', 'nmsqpart2_7', 'nmsqpart2_8', \\\n",
    "            'nmsqpart3_1', 'nmsqpart3_2', 'nmsqpart3_3', 'nmsqpart3_4', 'nmsqpart3_5', 'nmsqpart3_6', 'nmsqpart3_7', 'nmsqpart3_8', \\\n",
    "                'nmsqpart4_1', 'nmsqpart4_2', 'nmsqpart4_3', 'nmsqpart4_4', 'nmsqpart4_5'] #30\n",
    "\n",
    "nmsq_replace = {\n",
    "    1: 1,\n",
    "    2: 0,\n",
    "    3: 0,\n",
    "}\n",
    "pdq8_replace = {\n",
    "    1: 0,\n",
    "    2: 1,\n",
    "    3: 2,\n",
    "    4: 3,\n",
    "    5: 4,\n",
    "}\n",
    "\n",
    "assessmentA['nmsq_score'] = assessmentA.filter(nmsq_col).replace(nmsq_replace).sum(axis=1)\n",
    "assessmentA['pdq8_score'] = assessmentA.filter(pdq8_col).replace(pdq8_replace).sum(axis=1)\n",
    "assessmentA['updrs22_score'] = assessmentA.filter(updrs22_col).sum(axis=1)\n",
    "assessmentA['romps_score'] = assessmentA.filter(romps_col).sum(axis=1)\n",
    "assessmentA = assessmentA.sort_values(by=['userId', 'assessmentNumber'])\n",
    "\n"
   ]
  },
  {
   "cell_type": "code",
   "execution_count": 6,
   "metadata": {},
   "outputs": [
    {
     "data": {
      "text/html": [
       "<div>\n",
       "<style scoped>\n",
       "    .dataframe tbody tr th:only-of-type {\n",
       "        vertical-align: middle;\n",
       "    }\n",
       "\n",
       "    .dataframe tbody tr th {\n",
       "        vertical-align: top;\n",
       "    }\n",
       "\n",
       "    .dataframe thead th {\n",
       "        text-align: right;\n",
       "    }\n",
       "</style>\n",
       "<table border=\"1\" class=\"dataframe\">\n",
       "  <thead>\n",
       "    <tr style=\"text-align: right;\">\n",
       "      <th></th>\n",
       "      <th>pdq8_score</th>\n",
       "      <th>pdq8_1</th>\n",
       "      <th>pdq8_2</th>\n",
       "      <th>pdq8_3</th>\n",
       "      <th>pdq8_4</th>\n",
       "      <th>pdq8_5</th>\n",
       "      <th>pdq8_6</th>\n",
       "      <th>pdq8_7</th>\n",
       "      <th>pdq8_8</th>\n",
       "    </tr>\n",
       "  </thead>\n",
       "  <tbody>\n",
       "    <tr>\n",
       "      <th>0</th>\n",
       "      <td>6</td>\n",
       "      <td>2</td>\n",
       "      <td>2</td>\n",
       "      <td>1</td>\n",
       "      <td>1</td>\n",
       "      <td>1</td>\n",
       "      <td>2</td>\n",
       "      <td>3</td>\n",
       "      <td>2</td>\n",
       "    </tr>\n",
       "    <tr>\n",
       "      <th>1</th>\n",
       "      <td>8</td>\n",
       "      <td>3</td>\n",
       "      <td>2</td>\n",
       "      <td>1</td>\n",
       "      <td>1</td>\n",
       "      <td>1</td>\n",
       "      <td>2</td>\n",
       "      <td>3</td>\n",
       "      <td>3</td>\n",
       "    </tr>\n",
       "    <tr>\n",
       "      <th>2</th>\n",
       "      <td>6</td>\n",
       "      <td>2</td>\n",
       "      <td>2</td>\n",
       "      <td>1</td>\n",
       "      <td>1</td>\n",
       "      <td>1</td>\n",
       "      <td>2</td>\n",
       "      <td>3</td>\n",
       "      <td>2</td>\n",
       "    </tr>\n",
       "    <tr>\n",
       "      <th>3</th>\n",
       "      <td>5</td>\n",
       "      <td>2</td>\n",
       "      <td>2</td>\n",
       "      <td>1</td>\n",
       "      <td>1</td>\n",
       "      <td>1</td>\n",
       "      <td>1</td>\n",
       "      <td>3</td>\n",
       "      <td>2</td>\n",
       "    </tr>\n",
       "    <tr>\n",
       "      <th>4</th>\n",
       "      <td>15</td>\n",
       "      <td>2</td>\n",
       "      <td>2</td>\n",
       "      <td>2</td>\n",
       "      <td>2</td>\n",
       "      <td>3</td>\n",
       "      <td>4</td>\n",
       "      <td>5</td>\n",
       "      <td>3</td>\n",
       "    </tr>\n",
       "    <tr>\n",
       "      <th>...</th>\n",
       "      <td>...</td>\n",
       "      <td>...</td>\n",
       "      <td>...</td>\n",
       "      <td>...</td>\n",
       "      <td>...</td>\n",
       "      <td>...</td>\n",
       "      <td>...</td>\n",
       "      <td>...</td>\n",
       "      <td>...</td>\n",
       "    </tr>\n",
       "    <tr>\n",
       "      <th>271</th>\n",
       "      <td>15</td>\n",
       "      <td>2</td>\n",
       "      <td>4</td>\n",
       "      <td>1</td>\n",
       "      <td>4</td>\n",
       "      <td>4</td>\n",
       "      <td>4</td>\n",
       "      <td>1</td>\n",
       "      <td>3</td>\n",
       "    </tr>\n",
       "    <tr>\n",
       "      <th>272</th>\n",
       "      <td>6</td>\n",
       "      <td>1</td>\n",
       "      <td>1</td>\n",
       "      <td>2</td>\n",
       "      <td>1</td>\n",
       "      <td>4</td>\n",
       "      <td>2</td>\n",
       "      <td>2</td>\n",
       "      <td>1</td>\n",
       "    </tr>\n",
       "    <tr>\n",
       "      <th>273</th>\n",
       "      <td>5</td>\n",
       "      <td>1</td>\n",
       "      <td>1</td>\n",
       "      <td>2</td>\n",
       "      <td>1</td>\n",
       "      <td>2</td>\n",
       "      <td>2</td>\n",
       "      <td>3</td>\n",
       "      <td>1</td>\n",
       "    </tr>\n",
       "    <tr>\n",
       "      <th>274</th>\n",
       "      <td>5</td>\n",
       "      <td>1</td>\n",
       "      <td>1</td>\n",
       "      <td>2</td>\n",
       "      <td>1</td>\n",
       "      <td>3</td>\n",
       "      <td>2</td>\n",
       "      <td>2</td>\n",
       "      <td>1</td>\n",
       "    </tr>\n",
       "    <tr>\n",
       "      <th>275</th>\n",
       "      <td>5</td>\n",
       "      <td>1</td>\n",
       "      <td>1</td>\n",
       "      <td>2</td>\n",
       "      <td>1</td>\n",
       "      <td>3</td>\n",
       "      <td>2</td>\n",
       "      <td>2</td>\n",
       "      <td>1</td>\n",
       "    </tr>\n",
       "  </tbody>\n",
       "</table>\n",
       "<p>276 rows × 9 columns</p>\n",
       "</div>"
      ],
      "text/plain": [
       "     pdq8_score  pdq8_1  pdq8_2  pdq8_3  pdq8_4  pdq8_5  pdq8_6  pdq8_7  \\\n",
       "0             6       2       2       1       1       1       2       3   \n",
       "1             8       3       2       1       1       1       2       3   \n",
       "2             6       2       2       1       1       1       2       3   \n",
       "3             5       2       2       1       1       1       1       3   \n",
       "4            15       2       2       2       2       3       4       5   \n",
       "..          ...     ...     ...     ...     ...     ...     ...     ...   \n",
       "271          15       2       4       1       4       4       4       1   \n",
       "272           6       1       1       2       1       4       2       2   \n",
       "273           5       1       1       2       1       2       2       3   \n",
       "274           5       1       1       2       1       3       2       2   \n",
       "275           5       1       1       2       1       3       2       2   \n",
       "\n",
       "     pdq8_8  \n",
       "0         2  \n",
       "1         3  \n",
       "2         2  \n",
       "3         2  \n",
       "4         3  \n",
       "..      ...  \n",
       "271       3  \n",
       "272       1  \n",
       "273       1  \n",
       "274       1  \n",
       "275       1  \n",
       "\n",
       "[276 rows x 9 columns]"
      ]
     },
     "execution_count": 6,
     "metadata": {},
     "output_type": "execute_result"
    }
   ],
   "source": [
    "assessmentA = pd.read_parquet('data/assessmentA.parquet')\n",
    "pdq8_col = ['pdq8_1', 'pdq8_2', 'pdq8_3', 'pdq8_4', 'pdq8_5', 'pdq8_6', 'pdq8_7', 'pdq8_8'] #8\n",
    "# assessmentA.filter([\"romps1\", \"romps2\", \"romps3\", \"romps4\", \"romps5\", \"romps6\", \"romps7\", \"romps8\", \"romps9\", \"romps_score\" ])\n",
    "assessmentA.filter([\"pdq8_score\"] + pdq8_col)"
   ]
  },
  {
   "cell_type": "code",
   "execution_count": 58,
   "metadata": {},
   "outputs": [],
   "source": [
    "assessmentA.to_parquet('data/assessmentA.parquet')"
   ]
  },
  {
   "attachments": {},
   "cell_type": "markdown",
   "metadata": {},
   "source": [
    "### VAS data processing - diaryEntries\n",
    "Split the diaryEntries into 4 phases:\n",
    "- 0: Before study\n",
    "- 1: Cueing method 1\n",
    "- 2: no-method\n",
    "- 3: cueing method 2,\n",
    "- 4: After cueing method 2\n",
    "\n",
    "Notes: using floor to round date down: if patient end cueingmethod in the morning, same day diary will be considered as in same method."
   ]
  },
  {
   "cell_type": "code",
   "execution_count": 73,
   "metadata": {},
   "outputs": [
    {
     "data": {
      "text/html": [
       "<div>\n",
       "<style scoped>\n",
       "    .dataframe tbody tr th:only-of-type {\n",
       "        vertical-align: middle;\n",
       "    }\n",
       "\n",
       "    .dataframe tbody tr th {\n",
       "        vertical-align: top;\n",
       "    }\n",
       "\n",
       "    .dataframe thead th {\n",
       "        text-align: right;\n",
       "    }\n",
       "</style>\n",
       "<table border=\"1\" class=\"dataframe\">\n",
       "  <thead>\n",
       "    <tr style=\"text-align: right;\">\n",
       "      <th></th>\n",
       "      <th>gender</th>\n",
       "      <th>ageRange</th>\n",
       "      <th>cueingMethod1</th>\n",
       "      <th>cueingMethod2</th>\n",
       "      <th>cueingMethod1Start</th>\n",
       "      <th>cueingMethod1End</th>\n",
       "      <th>cueingMethod2Start</th>\n",
       "      <th>cueingMethod2End</th>\n",
       "      <th>ethnicGroup</th>\n",
       "    </tr>\n",
       "    <tr>\n",
       "      <th>userId</th>\n",
       "      <th></th>\n",
       "      <th></th>\n",
       "      <th></th>\n",
       "      <th></th>\n",
       "      <th></th>\n",
       "      <th></th>\n",
       "      <th></th>\n",
       "      <th></th>\n",
       "      <th></th>\n",
       "    </tr>\n",
       "  </thead>\n",
       "  <tbody>\n",
       "    <tr>\n",
       "      <th>54hFUuEnJA</th>\n",
       "      <td>Male</td>\n",
       "      <td>65+ years</td>\n",
       "      <td>cueband</td>\n",
       "      <td>phone</td>\n",
       "      <td>2022-10-10 11:09:46.931000+01:00</td>\n",
       "      <td>2022-10-31 16:21:35.457000+00:00</td>\n",
       "      <td>2022-11-18 07:10:46.007000+00:00</td>\n",
       "      <td>2022-12-09 07:13:48.303000+00:00</td>\n",
       "      <td>None</td>\n",
       "    </tr>\n",
       "    <tr>\n",
       "      <th>KpZ0DlA0Qa</th>\n",
       "      <td>Male</td>\n",
       "      <td>65+ years</td>\n",
       "      <td>phone</td>\n",
       "      <td>cueband</td>\n",
       "      <td>2022-10-10 20:33:12.394000+01:00</td>\n",
       "      <td>2022-10-31 08:15:23.953000+00:00</td>\n",
       "      <td>2022-12-01 18:53:48.907000+00:00</td>\n",
       "      <td>2022-12-22 08:38:43.432000+00:00</td>\n",
       "      <td>English, Welsh, Scottish, Northern Irish or Br...</td>\n",
       "    </tr>\n",
       "    <tr>\n",
       "      <th>gymn4uQetH</th>\n",
       "      <td>Female</td>\n",
       "      <td>45-54 years</td>\n",
       "      <td>cueband</td>\n",
       "      <td>phone</td>\n",
       "      <td>2022-10-10 17:09:37.394000+01:00</td>\n",
       "      <td>2022-10-31 06:40:01.004000+00:00</td>\n",
       "      <td>2022-11-19 19:14:05.478000+00:00</td>\n",
       "      <td>2022-12-10 06:41:12.195000+00:00</td>\n",
       "      <td>None</td>\n",
       "    </tr>\n",
       "    <tr>\n",
       "      <th>JqZPr3q1LD</th>\n",
       "      <td>Male</td>\n",
       "      <td>55-64 years</td>\n",
       "      <td>cueband</td>\n",
       "      <td>phone</td>\n",
       "      <td>2022-10-12 13:44:51.067000+01:00</td>\n",
       "      <td>2022-11-02 07:43:55.523000+00:00</td>\n",
       "      <td>2022-11-18 08:49:14.698000+00:00</td>\n",
       "      <td>2022-12-09 06:45:46.859000+00:00</td>\n",
       "      <td>English, Welsh, Scottish, Northern Irish or Br...</td>\n",
       "    </tr>\n",
       "    <tr>\n",
       "      <th>CCGlM7KPWU</th>\n",
       "      <td>Female</td>\n",
       "      <td>45-54 years</td>\n",
       "      <td>phone</td>\n",
       "      <td>cueband</td>\n",
       "      <td>2022-10-25 14:42:29.405000+01:00</td>\n",
       "      <td>2022-11-15 22:21:31.352000+00:00</td>\n",
       "      <td>2022-11-29 12:57:32.672000+00:00</td>\n",
       "      <td>2022-12-20 00:05:46.527000+00:00</td>\n",
       "      <td>English, Welsh, Scottish, Northern Irish or Br...</td>\n",
       "    </tr>\n",
       "    <tr>\n",
       "      <th>...</th>\n",
       "      <td>...</td>\n",
       "      <td>...</td>\n",
       "      <td>...</td>\n",
       "      <td>...</td>\n",
       "      <td>...</td>\n",
       "      <td>...</td>\n",
       "      <td>...</td>\n",
       "      <td>...</td>\n",
       "      <td>...</td>\n",
       "    </tr>\n",
       "    <tr>\n",
       "      <th>4HBWN2fZtQ</th>\n",
       "      <td>Male</td>\n",
       "      <td>55-64 years</td>\n",
       "      <td>cueband</td>\n",
       "      <td>phone</td>\n",
       "      <td>2022-10-23 08:37:23.731000+01:00</td>\n",
       "      <td>2022-11-13 00:05:30.759000+00:00</td>\n",
       "      <td>2022-11-27 16:19:33.829000+00:00</td>\n",
       "      <td>2022-12-18 18:12:32.256000+00:00</td>\n",
       "      <td>None</td>\n",
       "    </tr>\n",
       "    <tr>\n",
       "      <th>21BUALLxF6</th>\n",
       "      <td>Male</td>\n",
       "      <td>65+ years</td>\n",
       "      <td>cueband</td>\n",
       "      <td>phone</td>\n",
       "      <td>2022-11-28 15:02:45.523000+00:00</td>\n",
       "      <td>2022-12-19 08:42:53.211000+00:00</td>\n",
       "      <td>2023-01-04 16:22:12.456000+00:00</td>\n",
       "      <td>2023-01-25 12:49:44.594000+00:00</td>\n",
       "      <td>English, Welsh, Scottish, Northern Irish or Br...</td>\n",
       "    </tr>\n",
       "    <tr>\n",
       "      <th>8CG1nlTfeA</th>\n",
       "      <td>Male</td>\n",
       "      <td>65+ years</td>\n",
       "      <td>cueband</td>\n",
       "      <td>phone</td>\n",
       "      <td>2022-12-27 10:20:21.524000+00:00</td>\n",
       "      <td>2023-01-17 19:00:51.265000+00:00</td>\n",
       "      <td>2023-01-31 18:58:43.022000+00:00</td>\n",
       "      <td>2023-02-21 23:02:30.891000+00:00</td>\n",
       "      <td>English, Welsh, Scottish, Northern Irish or Br...</td>\n",
       "    </tr>\n",
       "    <tr>\n",
       "      <th>T7NmVm71XP</th>\n",
       "      <td>Male</td>\n",
       "      <td>65+ years</td>\n",
       "      <td>phone</td>\n",
       "      <td>cueband</td>\n",
       "      <td>2022-12-14 11:39:37.602000+00:00</td>\n",
       "      <td>2023-01-04 08:12:51.463000+00:00</td>\n",
       "      <td>2023-01-28 12:21:24.463000+00:00</td>\n",
       "      <td>2023-02-18 00:30:21.513000+00:00</td>\n",
       "      <td>None</td>\n",
       "    </tr>\n",
       "    <tr>\n",
       "      <th>N8eCQYSbd0</th>\n",
       "      <td>Male</td>\n",
       "      <td>65+ years</td>\n",
       "      <td>cueband</td>\n",
       "      <td>phone</td>\n",
       "      <td>2023-01-15 09:41:38.928000+00:00</td>\n",
       "      <td>2023-02-05 08:54:49.579000+00:00</td>\n",
       "      <td>2023-02-19 07:57:27.369000+00:00</td>\n",
       "      <td>2023-03-12 07:26:00.522000+00:00</td>\n",
       "      <td>English, Welsh, Scottish, Northern Irish or Br...</td>\n",
       "    </tr>\n",
       "  </tbody>\n",
       "</table>\n",
       "<p>69 rows × 9 columns</p>\n",
       "</div>"
      ],
      "text/plain": [
       "            gender     ageRange cueingMethod1 cueingMethod2  \\\n",
       "userId                                                        \n",
       "54hFUuEnJA    Male    65+ years       cueband         phone   \n",
       "KpZ0DlA0Qa    Male    65+ years         phone       cueband   \n",
       "gymn4uQetH  Female  45-54 years       cueband         phone   \n",
       "JqZPr3q1LD    Male  55-64 years       cueband         phone   \n",
       "CCGlM7KPWU  Female  45-54 years         phone       cueband   \n",
       "...            ...          ...           ...           ...   \n",
       "4HBWN2fZtQ    Male  55-64 years       cueband         phone   \n",
       "21BUALLxF6    Male    65+ years       cueband         phone   \n",
       "8CG1nlTfeA    Male    65+ years       cueband         phone   \n",
       "T7NmVm71XP    Male    65+ years         phone       cueband   \n",
       "N8eCQYSbd0    Male    65+ years       cueband         phone   \n",
       "\n",
       "                         cueingMethod1Start                 cueingMethod1End  \\\n",
       "userId                                                                         \n",
       "54hFUuEnJA 2022-10-10 11:09:46.931000+01:00 2022-10-31 16:21:35.457000+00:00   \n",
       "KpZ0DlA0Qa 2022-10-10 20:33:12.394000+01:00 2022-10-31 08:15:23.953000+00:00   \n",
       "gymn4uQetH 2022-10-10 17:09:37.394000+01:00 2022-10-31 06:40:01.004000+00:00   \n",
       "JqZPr3q1LD 2022-10-12 13:44:51.067000+01:00 2022-11-02 07:43:55.523000+00:00   \n",
       "CCGlM7KPWU 2022-10-25 14:42:29.405000+01:00 2022-11-15 22:21:31.352000+00:00   \n",
       "...                                     ...                              ...   \n",
       "4HBWN2fZtQ 2022-10-23 08:37:23.731000+01:00 2022-11-13 00:05:30.759000+00:00   \n",
       "21BUALLxF6 2022-11-28 15:02:45.523000+00:00 2022-12-19 08:42:53.211000+00:00   \n",
       "8CG1nlTfeA 2022-12-27 10:20:21.524000+00:00 2023-01-17 19:00:51.265000+00:00   \n",
       "T7NmVm71XP 2022-12-14 11:39:37.602000+00:00 2023-01-04 08:12:51.463000+00:00   \n",
       "N8eCQYSbd0 2023-01-15 09:41:38.928000+00:00 2023-02-05 08:54:49.579000+00:00   \n",
       "\n",
       "                         cueingMethod2Start                 cueingMethod2End  \\\n",
       "userId                                                                         \n",
       "54hFUuEnJA 2022-11-18 07:10:46.007000+00:00 2022-12-09 07:13:48.303000+00:00   \n",
       "KpZ0DlA0Qa 2022-12-01 18:53:48.907000+00:00 2022-12-22 08:38:43.432000+00:00   \n",
       "gymn4uQetH 2022-11-19 19:14:05.478000+00:00 2022-12-10 06:41:12.195000+00:00   \n",
       "JqZPr3q1LD 2022-11-18 08:49:14.698000+00:00 2022-12-09 06:45:46.859000+00:00   \n",
       "CCGlM7KPWU 2022-11-29 12:57:32.672000+00:00 2022-12-20 00:05:46.527000+00:00   \n",
       "...                                     ...                              ...   \n",
       "4HBWN2fZtQ 2022-11-27 16:19:33.829000+00:00 2022-12-18 18:12:32.256000+00:00   \n",
       "21BUALLxF6 2023-01-04 16:22:12.456000+00:00 2023-01-25 12:49:44.594000+00:00   \n",
       "8CG1nlTfeA 2023-01-31 18:58:43.022000+00:00 2023-02-21 23:02:30.891000+00:00   \n",
       "T7NmVm71XP 2023-01-28 12:21:24.463000+00:00 2023-02-18 00:30:21.513000+00:00   \n",
       "N8eCQYSbd0 2023-02-19 07:57:27.369000+00:00 2023-03-12 07:26:00.522000+00:00   \n",
       "\n",
       "                                                  ethnicGroup  \n",
       "userId                                                         \n",
       "54hFUuEnJA                                               None  \n",
       "KpZ0DlA0Qa  English, Welsh, Scottish, Northern Irish or Br...  \n",
       "gymn4uQetH                                               None  \n",
       "JqZPr3q1LD  English, Welsh, Scottish, Northern Irish or Br...  \n",
       "CCGlM7KPWU  English, Welsh, Scottish, Northern Irish or Br...  \n",
       "...                                                       ...  \n",
       "4HBWN2fZtQ                                               None  \n",
       "21BUALLxF6  English, Welsh, Scottish, Northern Irish or Br...  \n",
       "8CG1nlTfeA  English, Welsh, Scottish, Northern Irish or Br...  \n",
       "T7NmVm71XP                                               None  \n",
       "N8eCQYSbd0  English, Welsh, Scottish, Northern Irish or Br...  \n",
       "\n",
       "[69 rows x 9 columns]"
      ]
     },
     "execution_count": 73,
     "metadata": {},
     "output_type": "execute_result"
    }
   ],
   "source": [
    "df_info = patients_info.set_index('userId')\n",
    "df_info"
   ]
  },
  {
   "cell_type": "code",
   "execution_count": 74,
   "metadata": {},
   "outputs": [],
   "source": [
    "x = diaryEntries.iloc[5]\n",
    "def diaryEntries_phase(x):\n",
    "    phase = -1\n",
    "    # print(x['user'])\n",
    "\n",
    "    userId = x['user']\n",
    "    recordedTime = x['recordedTime'].floor('1d')\n",
    "    partialAssessment = x['partialAssessment']\n",
    "\n",
    "    cueingMethod1Start = df_info.loc[userId]['cueingMethod1Start'].floor('1d')\n",
    "    cueingMethod1End = df_info.loc[userId]['cueingMethod1End'].floor('1d')\n",
    "\n",
    "    cueingMethod2Start = df_info.loc[userId]['cueingMethod2Start'].floor('1d')\n",
    "    cueingMethod2End = df_info.loc[userId]['cueingMethod2End'].floor('1d')\n",
    "\n",
    "    if recordedTime < cueingMethod1Start: # use to compare before cueingMethod 1\n",
    "        phase = 0\n",
    "    elif cueingMethod1Start <= recordedTime and recordedTime <= cueingMethod1End: # use to compare after cueingMethod 1\n",
    "        phase = 1\n",
    "    elif cueingMethod1End < recordedTime and recordedTime < cueingMethod2Start: # use to compare before cueingMethod 2\n",
    "        phase = 2\n",
    "    elif cueingMethod2Start <= recordedTime and recordedTime <= cueingMethod2End: # use to compare after cueingMethod 2\n",
    "        phase = 3\n",
    "    else:\n",
    "        phase = 4\n",
    "        \n",
    "    return phase\n",
    "\n",
    "diaryEntries['phase'] = diaryEntries.apply(diaryEntries_phase, axis= 1)"
   ]
  },
  {
   "cell_type": "code",
   "execution_count": 77,
   "metadata": {},
   "outputs": [
    {
     "data": {
      "text/html": [
       "<div>\n",
       "<style scoped>\n",
       "    .dataframe tbody tr th:only-of-type {\n",
       "        vertical-align: middle;\n",
       "    }\n",
       "\n",
       "    .dataframe tbody tr th {\n",
       "        vertical-align: top;\n",
       "    }\n",
       "\n",
       "    .dataframe thead th {\n",
       "        text-align: right;\n",
       "    }\n",
       "</style>\n",
       "<table border=\"1\" class=\"dataframe\">\n",
       "  <thead>\n",
       "    <tr style=\"text-align: right;\">\n",
       "      <th></th>\n",
       "      <th>user</th>\n",
       "      <th>phase</th>\n",
       "      <th>freq_mean</th>\n",
       "      <th>freq_median</th>\n",
       "      <th>duration_mean</th>\n",
       "      <th>duration_median</th>\n",
       "      <th>severity_mean</th>\n",
       "      <th>severity_median</th>\n",
       "      <th>record_count</th>\n",
       "    </tr>\n",
       "  </thead>\n",
       "  <tbody>\n",
       "    <tr>\n",
       "      <th>0</th>\n",
       "      <td>0tbGZHzjR7</td>\n",
       "      <td>0</td>\n",
       "      <td>33.500000</td>\n",
       "      <td>30.0</td>\n",
       "      <td>26.900000</td>\n",
       "      <td>25.0</td>\n",
       "      <td>34.700000</td>\n",
       "      <td>34.5</td>\n",
       "      <td>10</td>\n",
       "    </tr>\n",
       "    <tr>\n",
       "      <th>1</th>\n",
       "      <td>0tbGZHzjR7</td>\n",
       "      <td>1</td>\n",
       "      <td>19.363636</td>\n",
       "      <td>19.0</td>\n",
       "      <td>14.409091</td>\n",
       "      <td>14.5</td>\n",
       "      <td>16.818182</td>\n",
       "      <td>15.5</td>\n",
       "      <td>22</td>\n",
       "    </tr>\n",
       "    <tr>\n",
       "      <th>2</th>\n",
       "      <td>0tbGZHzjR7</td>\n",
       "      <td>2</td>\n",
       "      <td>15.833333</td>\n",
       "      <td>15.5</td>\n",
       "      <td>10.250000</td>\n",
       "      <td>9.5</td>\n",
       "      <td>12.083333</td>\n",
       "      <td>11.0</td>\n",
       "      <td>12</td>\n",
       "    </tr>\n",
       "    <tr>\n",
       "      <th>3</th>\n",
       "      <td>0tbGZHzjR7</td>\n",
       "      <td>3</td>\n",
       "      <td>5.750000</td>\n",
       "      <td>5.0</td>\n",
       "      <td>1.500000</td>\n",
       "      <td>0.0</td>\n",
       "      <td>3.900000</td>\n",
       "      <td>2.5</td>\n",
       "      <td>20</td>\n",
       "    </tr>\n",
       "    <tr>\n",
       "      <th>4</th>\n",
       "      <td>0tbGZHzjR7</td>\n",
       "      <td>4</td>\n",
       "      <td>3.000000</td>\n",
       "      <td>3.0</td>\n",
       "      <td>0.000000</td>\n",
       "      <td>0.0</td>\n",
       "      <td>2.500000</td>\n",
       "      <td>2.5</td>\n",
       "      <td>2</td>\n",
       "    </tr>\n",
       "    <tr>\n",
       "      <th>...</th>\n",
       "      <td>...</td>\n",
       "      <td>...</td>\n",
       "      <td>...</td>\n",
       "      <td>...</td>\n",
       "      <td>...</td>\n",
       "      <td>...</td>\n",
       "      <td>...</td>\n",
       "      <td>...</td>\n",
       "      <td>...</td>\n",
       "    </tr>\n",
       "    <tr>\n",
       "      <th>291</th>\n",
       "      <td>yHK1hn0pTA</td>\n",
       "      <td>0</td>\n",
       "      <td>13.666667</td>\n",
       "      <td>11.0</td>\n",
       "      <td>15.000000</td>\n",
       "      <td>14.0</td>\n",
       "      <td>13.333333</td>\n",
       "      <td>13.0</td>\n",
       "      <td>3</td>\n",
       "    </tr>\n",
       "    <tr>\n",
       "      <th>292</th>\n",
       "      <td>yHK1hn0pTA</td>\n",
       "      <td>1</td>\n",
       "      <td>7.125000</td>\n",
       "      <td>7.0</td>\n",
       "      <td>9.875000</td>\n",
       "      <td>9.5</td>\n",
       "      <td>9.250000</td>\n",
       "      <td>8.0</td>\n",
       "      <td>8</td>\n",
       "    </tr>\n",
       "    <tr>\n",
       "      <th>293</th>\n",
       "      <td>yHK1hn0pTA</td>\n",
       "      <td>2</td>\n",
       "      <td>5.142857</td>\n",
       "      <td>6.0</td>\n",
       "      <td>5.928571</td>\n",
       "      <td>6.0</td>\n",
       "      <td>5.714286</td>\n",
       "      <td>6.0</td>\n",
       "      <td>14</td>\n",
       "    </tr>\n",
       "    <tr>\n",
       "      <th>294</th>\n",
       "      <td>yHK1hn0pTA</td>\n",
       "      <td>3</td>\n",
       "      <td>3.380952</td>\n",
       "      <td>3.0</td>\n",
       "      <td>3.761905</td>\n",
       "      <td>4.0</td>\n",
       "      <td>4.238095</td>\n",
       "      <td>4.0</td>\n",
       "      <td>21</td>\n",
       "    </tr>\n",
       "    <tr>\n",
       "      <th>295</th>\n",
       "      <td>yHK1hn0pTA</td>\n",
       "      <td>4</td>\n",
       "      <td>1.250000</td>\n",
       "      <td>0.5</td>\n",
       "      <td>1.250000</td>\n",
       "      <td>0.0</td>\n",
       "      <td>1.000000</td>\n",
       "      <td>0.0</td>\n",
       "      <td>4</td>\n",
       "    </tr>\n",
       "  </tbody>\n",
       "</table>\n",
       "<p>296 rows × 9 columns</p>\n",
       "</div>"
      ],
      "text/plain": [
       "           user  phase  freq_mean  freq_median  duration_mean  \\\n",
       "0    0tbGZHzjR7      0  33.500000         30.0      26.900000   \n",
       "1    0tbGZHzjR7      1  19.363636         19.0      14.409091   \n",
       "2    0tbGZHzjR7      2  15.833333         15.5      10.250000   \n",
       "3    0tbGZHzjR7      3   5.750000          5.0       1.500000   \n",
       "4    0tbGZHzjR7      4   3.000000          3.0       0.000000   \n",
       "..          ...    ...        ...          ...            ...   \n",
       "291  yHK1hn0pTA      0  13.666667         11.0      15.000000   \n",
       "292  yHK1hn0pTA      1   7.125000          7.0       9.875000   \n",
       "293  yHK1hn0pTA      2   5.142857          6.0       5.928571   \n",
       "294  yHK1hn0pTA      3   3.380952          3.0       3.761905   \n",
       "295  yHK1hn0pTA      4   1.250000          0.5       1.250000   \n",
       "\n",
       "     duration_median  severity_mean  severity_median  record_count  \n",
       "0               25.0      34.700000             34.5            10  \n",
       "1               14.5      16.818182             15.5            22  \n",
       "2                9.5      12.083333             11.0            12  \n",
       "3                0.0       3.900000              2.5            20  \n",
       "4                0.0       2.500000              2.5             2  \n",
       "..               ...            ...              ...           ...  \n",
       "291             14.0      13.333333             13.0             3  \n",
       "292              9.5       9.250000              8.0             8  \n",
       "293              6.0       5.714286              6.0            14  \n",
       "294              4.0       4.238095              4.0            21  \n",
       "295              0.0       1.000000              0.0             4  \n",
       "\n",
       "[296 rows x 9 columns]"
      ]
     },
     "execution_count": 77,
     "metadata": {},
     "output_type": "execute_result"
    }
   ],
   "source": [
    "vas_data = diaryEntries.query(\"partialAssessment == False\").groupby(['user', 'phase'], as_index=False).agg({'frequency': ['mean', 'median'], \n",
    "                                                                                                            'duration': ['mean', 'median'],\n",
    "                                                                                                            'severity': ['mean', 'median'],\n",
    "                                                                                                            'recordedTime': 'count'})\n",
    "# vas_data.columns = vas_data.columns.map('_'.join)\n",
    "vas_data.columns = ['user', 'phase', 'freq_mean', 'freq_median', 'duration_mean', 'duration_median', 'severity_mean', 'severity_median', 'record_count']\n",
    "vas_data"
   ]
  },
  {
   "cell_type": "code",
   "execution_count": 78,
   "metadata": {},
   "outputs": [],
   "source": [
    "vas_data.to_parquet('data/vas_data.parquet')"
   ]
  },
  {
   "cell_type": "code",
   "execution_count": null,
   "metadata": {},
   "outputs": [],
   "source": []
  },
  {
   "attachments": {},
   "cell_type": "markdown",
   "metadata": {},
   "source": [
    "### Combine VAS and assessment score and patient info - pannel data\n",
    "- [ ] Add phase to Assessment score\n",
    "- [ ] Only keep phase with assessment \n",
    "- [ ] cols: \n",
    "```\n",
    "['userId', 'createdAt', 'assessmentNumber', 'nmsq_score', 'pdq8_score', 'updrs22_score', 'romps_score', \\\n",
    "    'gender', 'ageRange', 'freq_mean', 'freq_median', 'duration_mean', 'duration_median', 'severity_mean', 'severity_median', 'record_count', \\\n",
    "    'cueingMethod1', 'cueingMethod2', 'cueingMethod1Start', 'cueingMethod1End', 'cueingMethod2Start', 'cueingMethod2End', 'ethnicGroup']\n",
    "```"
   ]
  },
  {
   "cell_type": "code",
   "execution_count": 80,
   "metadata": {},
   "outputs": [
    {
     "data": {
      "text/plain": [
       "(276, 76)"
      ]
     },
     "execution_count": 80,
     "metadata": {},
     "output_type": "execute_result"
    }
   ],
   "source": [
    "cols = ['userId', 'createdAt', 'assessmentNumber', 'nmsq_score', 'pdq8_score', 'updrs22_score', 'romps_score', \\\n",
    "    'gender', 'ageRange', 'freq_mean', 'freq_median', 'duration_mean', 'duration_median', 'severity_mean', 'severity_median', 'record_count', \\\n",
    "    'cueingMethod1', 'cueingMethod2', 'cueingMethod1Start', 'cueingMethod1End', 'cueingMethod2Start', 'cueingMethod2End', 'ethnicGroup']\n",
    "df = assessmentA.merge(patients_info, how='left', on= 'userId')\n",
    "df['phase'] = df['assessmentNumber'] - 1\n",
    "df = df.merge(vas_data, how='left', left_on= ['userId', 'phase'], right_on=['user', 'phase'])\n",
    "df.shape"
   ]
  },
  {
   "cell_type": "code",
   "execution_count": 81,
   "metadata": {},
   "outputs": [],
   "source": [
    "df.to_parquet('data/score_pannel.parquet')"
   ]
  },
  {
   "attachments": {},
   "cell_type": "markdown",
   "metadata": {},
   "source": [
    "# Applog processing - Predict timing windows"
   ]
  },
  {
   "cell_type": "code",
   "execution_count": 5,
   "metadata": {},
   "outputs": [],
   "source": [
    "def cueingDate(x):\n",
    "    # Manula cueingInterval\n",
    "    createdAt = x['createdAt'].round(freq='D')\n",
    "    createdWD = createdAt.weekday()\n",
    "    schWD = x['weekDay']\n",
    "    start_sch = createdAt - pd.Timedelta(createdWD, unit='d') + pd.Timedelta(schWD, unit='d') \\\n",
    "        # + pd.Timedelta(x['startTimeHours'], unit='H') + pd.Timedelta(x['startTimeMinutes'], unit='T')\n",
    "    if start_sch < createdAt:\n",
    "        start_sch += pd.Timedelta(7, 'd')\n",
    "    x['start_sch'] = start_sch\n",
    "    cueingDate = pd.date_range(start_sch, freq='7D', periods=8).to_list()\n",
    "    x['cueingDate'] = cueingDate\n",
    "    \n",
    "    return x\n",
    "\n",
    "def create_cueing_events(x):\n",
    "    # create Manual Cueing Events\n",
    "    dates = x['cueingDate']\n",
    "    # createdAt = x['createdAt']\n",
    "    startTime = pd.Timedelta(x['startTimeHours'], 'H') + pd.Timedelta(x['startTimeMinutes'], 'T')\n",
    "    endTime = pd.Timedelta(x['endTimeHours'], 'H') + pd.Timedelta(x['endTimeMinutes'], 'T')\n",
    "    df = pd.DataFrame({'date': dates})\n",
    "    df[\"date\"] = df['date'].dt.round(\"d\")\n",
    "    df['source'] = 'createdInterval'\n",
    "    df['events'] = 'Scheduled'\n",
    "    df['message'] = f'Scheduled Cueing until {endTime}'\n",
    "    df['user'] = x['user']\n",
    "    df['duration'] = x['duration']\n",
    "    # df['date'] = df['date'].dt.tz_localize(None)\n",
    "    \n",
    "    df['startCueingTime'] = df['date'].apply(lambda x: x + startTime).dt.tz_convert(\"Europe/London\")\n",
    "    df['endCueingTime'] = df['date'].apply(lambda x: x + endTime).dt.tz_convert(\"Europe/London\")\n",
    "    \n",
    "    return df\n",
    "\n",
    "cueingIntervals = cueingIntervals.apply(cueingDate, axis=1)\n",
    "cueingEvents = pd.concat([create_cueing_events(row) for _, row in cueingIntervals.iterrows()]).reset_index(drop=True)\n",
    "# cueingEvents['startCueingTime'] = cueingEvents['startCueingTime'].dt.tz_convert(\"Europe/London\")\n",
    "# cueingEvents['endCueingTime'] = cueingEvents['endCueingTime'].dt.tz_convert(\"Europe/London\")\n",
    "timechanged = pd.to_datetime('2022-10-30').tz_localize(\"Europe/London\")\n",
    "cueingEvents['startCueingTime'] = cueingEvents['startCueingTime'].apply(lambda x: x + pd.Timedelta(1, 'H') if x.floor(\"D\") == timechanged else x) # TZ change in phone automaticly\n",
    "cueingEvents['endCueingTime'] = cueingEvents['endCueingTime'].apply(lambda x: x + pd.Timedelta(1, 'H') if x.floor(\"D\") == timechanged else x)\n",
    "\n",
    "def diary_message(x):\n",
    "    frequency = x['frequency']\n",
    "    duration = x['duration']\n",
    "    severity = x['severity']\n",
    "    \n",
    "    x['message'] = f\"{frequency} - {duration} - {severity}\"\n",
    "    \n",
    "    return x"
   ]
  },
  {
   "cell_type": "code",
   "execution_count": 18,
   "metadata": {},
   "outputs": [
    {
     "name": "stderr",
     "output_type": "stream",
     "text": [
      "100%|██████████| 69/69 [00:02<00:00, 30.53it/s]\n"
     ]
    },
    {
     "data": {
      "text/plain": [
       "((4981, 11), (704, 12))"
      ]
     },
     "execution_count": 18,
     "metadata": {},
     "output_type": "execute_result"
    }
   ],
   "source": [
    "# id = 'hWKgqVxmMM'\n",
    "userIds = patients_info['userId'].to_list()\n",
    "\n",
    "def appLog_preprocess(id):\n",
    "    group = 'A' if patients_info.query(\"userId == @id\")['cueingMethod1'].iloc[0] == 'phone' else 'B'\n",
    "    if group == 'A':\n",
    "        start = pd.to_datetime(patients_info.query(\"userId == @id\")['cueingMethod1Start'].values[0]).tz_localize(\"Europe/London\")\n",
    "        end = pd.to_datetime(patients_info.query(\"userId == @id\")['cueingMethod1End'].values[0]).tz_localize(\"Europe/London\")\n",
    "    else: \n",
    "        start = pd.to_datetime(patients_info.query(\"userId == @id\")['cueingMethod2Start'].values[0]).tz_localize(\"Europe/London\")\n",
    "        end = pd.to_datetime(patients_info.query(\"userId == @id\")['cueingMethod2End'].values[0]).tz_localize(\"Europe/London\")\n",
    "\n",
    "    df1 = cueingEvents.query(f\"user == '{id}'\").rename(columns={'startCueingTime': 'event_time'}) \\\n",
    "            .assign(event_time = lambda x: x['event_time'])\\\n",
    "            .filter(['event_time', 'events', 'message', 'source']) \\\n",
    "            .query(\"event_time >= @start and event_time <= @end\")\n",
    "            \n",
    "    df3 = appLogs.query(f\"user == '{id}'\").assign(source = 'appLog')\\\n",
    "            .assign(event_time = lambda x: x['timestamp.iso'].dt.tz_convert(\"Europe/London\"))\\\n",
    "            .filter(['event_time', 'message', 'events', 'source']) \\\n",
    "            .query(\"event_time >= @start and event_time <= @end\") \\\n",
    "            .query('(events >=10 and events <= 19) or (events >=25 and events <=31)') \\\n",
    "            \n",
    "            # .query('events ==20 or events == 21 or events == 33 or events == 34') \\\n",
    "            # .drop_duplicates(subset=['createdAt', 'events']) \\              \n",
    "\n",
    "    error_date = pd.Timestamp(\"2022-01-01\").tz_localize(\"Europe/London\") # remove 1970 error\n",
    "\n",
    "    df = pd.concat([df1, df3]).sort_values(by = 'event_time').sort_values(by='event_time').reset_index(drop=True)\\\n",
    "            .assign(events = lambda x: x['events'].astype(str)) \\\n",
    "            .assign(weekday = lambda x: x['event_time'].dt.weekday).drop_duplicates(subset=['event_time', 'events']) \\\n",
    "            # .query('event_time >= @error_date')\n",
    "    ts = df.assign(date= lambda x: x.event_time.dt.strftime('%Y-%m-%d'))\\\n",
    "            .reset_index().assign(hour = lambda x: x.event_time.dt.hour, minute = lambda x: x.event_time.dt.minute)\\\n",
    "            .assign(time = lambda x: x.hour + x.minute/60).assign(user = id)\\\n",
    "            .sort_values(\"event_time\")\n",
    "    # ts = df.assign(date= lambda x: x.event_time.dt.strftime('%Y-%m-%d')).groupby([\"date\", \"events\", \"message\"])\\\n",
    "    #         .agg({\"event_time\": 'first', \"source\": 'count', \"weekday\": 'first'}).rename(columns={\"source\": \"count_col\"})\\\n",
    "    #         .reset_index().assign(hour = lambda x: x.event_time.dt.hour, minute = lambda x: x.event_time.dt.minute)\\\n",
    "    #         .assign(time = lambda x: x.hour + x.minute/60).assign(user = id)\\\n",
    "    #         .sort_values(\"event_time\")\n",
    "\n",
    "    vis = ts\n",
    "            \n",
    "    keep = ['17', '18', '19', '25', '27', '30']\n",
    "    ts = ts.query(\"events in @keep\")\n",
    "    ts = ts.assign(diff = ts['event_time'].shift(-1) - ts['event_time'], \\\n",
    "                    diff_hour= (ts['event_time'].shift(-1) - ts['event_time']).dt.days*24 + (ts['event_time'].shift(-1) - ts['event_time']).dt.seconds/3600, \\\n",
    "                    lag_event = ts['event_time'].shift(-1))\\\n",
    "                    .filter([\"date\", \"events\", \"message\", \"event_time\", \"lag_event\", \"diff\", \"diff_hour\", \"count_col\", \"weekday\", \"user\", \"hour\", \"minute\", \"time\"])\\\n",
    "                    .query(\"diff_hour > 11/60 and (events == '18' or events == '19')\").reset_index(drop=True)\n",
    "    ts = ts.assign(diff = ts['event_time'].shift(-1) - ts['event_time'], \\\n",
    "                    diff_hour= (ts['event_time'].shift(-1) - ts['event_time']).dt.days*24 + (ts['event_time'].shift(-1) - ts['event_time']).dt.seconds/3600, \\\n",
    "                    lag_event = ts['event_time'].shift(-1))\n",
    "\n",
    "    return vis, ts\n",
    "\n",
    "df_vis = []\n",
    "df_ts = []\n",
    "\n",
    "for i in tqdm(userIds):\n",
    "    vis, ts = appLog_preprocess(i)\n",
    "    df_vis.append(vis)\n",
    "    df_ts.append(ts)\n",
    "    \n",
    "df_vis = pd.concat(df_vis)\n",
    "df_ts = pd.concat(df_ts)\n",
    "\n",
    "df_vis.shape, df_ts.shape"
   ]
  },
  {
   "cell_type": "code",
   "execution_count": 20,
   "metadata": {},
   "outputs": [
    {
     "data": {
      "text/plain": [
       "94"
      ]
     },
     "execution_count": 20,
     "metadata": {},
     "output_type": "execute_result"
    }
   ],
   "source": [
    "freeliving = pd.read_parquet('data/df_ts_free_living.parquet')\n",
    "df_ts = pd.concat([df_ts, freeliving])\n",
    "df_ts['user'].nunique()\n",
    "# diaryEntries = diaryEntries.assign(date = lambda x: x[\"recordedTime.iso\"].dt.strftime(\"%Y-%m-%d\"))\n",
    "# df.merge(diaryEntries.filter([\"user\", \"date\", \"frequency\", \"duration\", \"severity\"]), how=\"left\", on=[\"user\", \"date\"])\n",
    "# df.head()"
   ]
  },
  {
   "cell_type": "code",
   "execution_count": 41,
   "metadata": {},
   "outputs": [
    {
     "data": {
      "application/vnd.plotly.v1+json": {
       "config": {
        "plotlyServerURL": "https://plot.ly"
       },
       "data": [
        {
         "customdata": [
          [
           "Phone manual cueing started. Until 18:24 Cueing period: 60 seconds. Vibration pattern: Long. Vibration intensity: Default"
          ]
         ],
         "hovertemplate": "user=431V37PJr1<br>index=%{x}<br>diff_hour=%{y}<br>message=%{customdata[0]}<extra></extra>",
         "legendgroup": "431V37PJr1",
         "line": {
          "color": "#636efa",
          "dash": "solid"
         },
         "marker": {
          "symbol": "circle"
         },
         "mode": "markers+lines",
         "name": "431V37PJr1",
         "orientation": "v",
         "showlegend": true,
         "type": "scatter",
         "x": [
          0
         ],
         "xaxis": "x",
         "y": [
          null
         ],
         "yaxis": "y"
        },
        {
         "customdata": [
          [
           "Phone manual cueing started. Until 11:13 Cueing period: 60 seconds. Vibration pattern: 3x Times. Vibration intensity: Default"
          ],
          [
           "Phone manual cueing started. Until 11:00 Cueing period: 60 seconds. Vibration pattern: 3x Times. Vibration intensity: Default"
          ],
          [
           "Phone scheduled cueing started. Until 11:50 Cueing period: 60 seconds. Vibration pattern: 3x Times. Vibration intensity: Default"
          ],
          [
           "Phone scheduled cueing started. Until 11:50 Cueing period: 60 seconds. Vibration pattern: 3x Times. Vibration intensity: Default"
          ]
         ],
         "hovertemplate": "user=W6Cg0j7N00<br>index=%{x}<br>diff_hour=%{y}<br>message=%{customdata[0]}<extra></extra>",
         "legendgroup": "W6Cg0j7N00",
         "line": {
          "color": "#EF553B",
          "dash": "solid"
         },
         "marker": {
          "symbol": "circle"
         },
         "mode": "markers+lines",
         "name": "W6Cg0j7N00",
         "orientation": "v",
         "showlegend": true,
         "type": "scatter",
         "x": [
          0,
          1,
          2,
          3
         ],
         "xaxis": "x",
         "y": [
          504.78833333333336,
          336.0730555555556,
          167.9477777777778,
          null
         ],
         "yaxis": "y"
        },
        {
         "customdata": [
          [
           "Phone manual cueing started. Until 16:17 Cueing period: 60 seconds. Vibration pattern: Long. Vibration intensity: Default"
          ]
         ],
         "hovertemplate": "user=BjTkuez4di<br>index=%{x}<br>diff_hour=%{y}<br>message=%{customdata[0]}<extra></extra>",
         "legendgroup": "BjTkuez4di",
         "line": {
          "color": "#00cc96",
          "dash": "solid"
         },
         "marker": {
          "symbol": "circle"
         },
         "mode": "markers+lines",
         "name": "BjTkuez4di",
         "orientation": "v",
         "showlegend": true,
         "type": "scatter",
         "x": [
          0
         ],
         "xaxis": "x",
         "y": [
          null
         ],
         "yaxis": "y"
        },
        {
         "customdata": [
          [
           "Phone manual cueing started. Until 12:15 Cueing period: 60 seconds. Vibration pattern: Long. Vibration intensity: Default"
          ]
         ],
         "hovertemplate": "user=ycAloEmo3J<br>index=%{x}<br>diff_hour=%{y}<br>message=%{customdata[0]}<extra></extra>",
         "legendgroup": "ycAloEmo3J",
         "line": {
          "color": "#ab63fa",
          "dash": "solid"
         },
         "marker": {
          "symbol": "circle"
         },
         "mode": "markers+lines",
         "name": "ycAloEmo3J",
         "orientation": "v",
         "showlegend": true,
         "type": "scatter",
         "x": [
          0
         ],
         "xaxis": "x",
         "y": [
          null
         ],
         "yaxis": "y"
        },
        {
         "customdata": [
          [
           "Phone scheduled cueing started. Until 20:05 Cueing period: 60 seconds. Vibration pattern: 3x Times. Vibration intensity: Default"
          ]
         ],
         "hovertemplate": "user=T90VjPCkfa<br>index=%{x}<br>diff_hour=%{y}<br>message=%{customdata[0]}<extra></extra>",
         "legendgroup": "T90VjPCkfa",
         "line": {
          "color": "#FFA15A",
          "dash": "solid"
         },
         "marker": {
          "symbol": "circle"
         },
         "mode": "markers+lines",
         "name": "T90VjPCkfa",
         "orientation": "v",
         "showlegend": true,
         "type": "scatter",
         "x": [
          0
         ],
         "xaxis": "x",
         "y": [
          null
         ],
         "yaxis": "y"
        },
        {
         "customdata": [
          [
           "Phone manual cueing started. Until 13:07 Cueing period: 120 seconds. Vibration pattern: 3x Times. Vibration intensity: Default"
          ],
          [
           "Phone manual cueing started. Until 07:59 Cueing period: 240 seconds. Vibration pattern: 3x Short. Vibration intensity: Default"
          ],
          [
           "Phone manual cueing started. Until 18:02 Cueing period: 240 seconds. Vibration pattern: Long. Vibration intensity: Default"
          ]
         ],
         "hovertemplate": "user=ZhYNKlzwn8<br>index=%{x}<br>diff_hour=%{y}<br>message=%{customdata[0]}<extra></extra>",
         "legendgroup": "ZhYNKlzwn8",
         "line": {
          "color": "#19d3f3",
          "dash": "solid"
         },
         "marker": {
          "symbol": "circle"
         },
         "mode": "markers+lines",
         "name": "ZhYNKlzwn8",
         "orientation": "v",
         "showlegend": true,
         "type": "scatter",
         "x": [
          0,
          1,
          2
         ],
         "xaxis": "x",
         "y": [
          66.8675,
          34.04611111111111,
          null
         ],
         "yaxis": "y"
        },
        {
         "customdata": [
          [
           "Phone manual cueing started. Until 14:57 Cueing period: 60 seconds. Vibration pattern: 3x Times. Vibration intensity: Default"
          ],
          [
           "Phone scheduled cueing started. Until 20:20 Cueing period: 60 seconds. Vibration pattern: 3x Times. Vibration intensity: Default"
          ]
         ],
         "hovertemplate": "user=s8wtIjITxx<br>index=%{x}<br>diff_hour=%{y}<br>message=%{customdata[0]}<extra></extra>",
         "legendgroup": "s8wtIjITxx",
         "line": {
          "color": "#FF6692",
          "dash": "solid"
         },
         "marker": {
          "symbol": "circle"
         },
         "mode": "markers+lines",
         "name": "s8wtIjITxx",
         "orientation": "v",
         "showlegend": true,
         "type": "scatter",
         "x": [
          0,
          1
         ],
         "xaxis": "x",
         "y": [
          28.780555555555555,
          null
         ],
         "yaxis": "y"
        },
        {
         "customdata": [
          [
           "Phone manual cueing started. Until 17:21 Cueing period: 60 seconds. Vibration pattern: 3x Times. Vibration intensity: Default"
          ],
          [
           "Phone scheduled cueing started. Until 22:00 Cueing period: 60 seconds. Vibration pattern: 3x Times. Vibration intensity: Default"
          ]
         ],
         "hovertemplate": "user=rGHrkeCNBf<br>index=%{x}<br>diff_hour=%{y}<br>message=%{customdata[0]}<extra></extra>",
         "legendgroup": "rGHrkeCNBf",
         "line": {
          "color": "#B6E880",
          "dash": "solid"
         },
         "marker": {
          "symbol": "circle"
         },
         "mode": "markers+lines",
         "name": "rGHrkeCNBf",
         "orientation": "v",
         "showlegend": true,
         "type": "scatter",
         "x": [
          0,
          1
         ],
         "xaxis": "x",
         "y": [
          16.294444444444444,
          null
         ],
         "yaxis": "y"
        },
        {
         "customdata": [
          [
           "Phone manual cueing started. Until 15:56 Cueing period: 60 seconds. Vibration pattern: 3x Times. Vibration intensity: Default"
          ],
          [
           "Phone scheduled cueing started. Until 11:20 Cueing period: 60 seconds. Vibration pattern: 3x Times. Vibration intensity: Default"
          ]
         ],
         "hovertemplate": "user=iqREz2wbus<br>index=%{x}<br>diff_hour=%{y}<br>message=%{customdata[0]}<extra></extra>",
         "legendgroup": "iqREz2wbus",
         "line": {
          "color": "#FF97FF",
          "dash": "solid"
         },
         "marker": {
          "symbol": "circle"
         },
         "mode": "markers+lines",
         "name": "iqREz2wbus",
         "orientation": "v",
         "showlegend": true,
         "type": "scatter",
         "x": [
          0,
          1
         ],
         "xaxis": "x",
         "y": [
          1410.9061111111112,
          null
         ],
         "yaxis": "y"
        },
        {
         "customdata": [
          [
           "Phone manual cueing started. Until 20:57 Cueing period: 60 seconds. Vibration pattern: 3x Times. Vibration intensity: Default"
          ],
          [
           "Phone scheduled cueing started. Until 10:15 Cueing period: 30 seconds. Vibration pattern: 3x Times. Vibration intensity: Default"
          ],
          [
           "Phone scheduled cueing started. Until 13:15 Cueing period: 30 seconds. Vibration pattern: 3x Times. Vibration intensity: Default"
          ]
         ],
         "hovertemplate": "user=xvPUnmfVCu<br>index=%{x}<br>diff_hour=%{y}<br>message=%{customdata[0]}<extra></extra>",
         "legendgroup": "xvPUnmfVCu",
         "line": {
          "color": "#FECB52",
          "dash": "solid"
         },
         "marker": {
          "symbol": "circle"
         },
         "mode": "markers+lines",
         "name": "xvPUnmfVCu",
         "orientation": "v",
         "showlegend": true,
         "type": "scatter",
         "x": [
          0,
          1,
          2
         ],
         "xaxis": "x",
         "y": [
          13.36888888888889,
          75.00166666666667,
          null
         ],
         "yaxis": "y"
        },
        {
         "customdata": [
          [
           "Phone scheduled cueing started. Until 13:55 Cueing period: 60 seconds. Vibration pattern: 3x Times. Vibration intensity: Default"
          ],
          [
           "Phone scheduled cueing started. Until 13:55 Cueing period: 60 seconds. Vibration pattern: 3x Times. Vibration intensity: Default"
          ]
         ],
         "hovertemplate": "user=yvybX2kbIe<br>index=%{x}<br>diff_hour=%{y}<br>message=%{customdata[0]}<extra></extra>",
         "legendgroup": "yvybX2kbIe",
         "line": {
          "color": "#636efa",
          "dash": "solid"
         },
         "marker": {
          "symbol": "circle"
         },
         "mode": "markers+lines",
         "name": "yvybX2kbIe",
         "orientation": "v",
         "showlegend": true,
         "type": "scatter",
         "x": [
          0,
          1
         ],
         "xaxis": "x",
         "y": [
          192.9411111111111,
          null
         ],
         "yaxis": "y"
        },
        {
         "customdata": [
          [
           "Phone scheduled cueing started. Until 23:00 Cueing period: 60 seconds. Vibration pattern: 3x Times. Vibration intensity: Default"
          ],
          [
           "Phone scheduled cueing started. Until 23:00 Cueing period: 60 seconds. Vibration pattern: 3x Times. Vibration intensity: Default"
          ],
          [
           "Phone manual cueing started. Until 11:46 Cueing period: 60 seconds. Vibration pattern: 3x Times. Vibration intensity: Default"
          ],
          [
           "Phone manual cueing started. Until 12:08 Cueing period: 60 seconds. Vibration pattern: 3x Times. Vibration intensity: Default"
          ],
          [
           "Phone manual cueing started. Until 13:28 Cueing period: 60 seconds. Vibration pattern: 3x Times. Vibration intensity: Default"
          ],
          [
           "Phone scheduled cueing started. Until 23:00 Cueing period: 60 seconds. Vibration pattern: 3x Times. Vibration intensity: Default"
          ],
          [
           "Phone scheduled cueing started. Until 23:00 Cueing period: 60 seconds. Vibration pattern: 3x Times. Vibration intensity: Default"
          ],
          [
           "Phone scheduled cueing started. Until 23:00 Cueing period: 60 seconds. Vibration pattern: 3x Times. Vibration intensity: Default"
          ]
         ],
         "hovertemplate": "user=kMNnYGz6yL<br>index=%{x}<br>diff_hour=%{y}<br>message=%{customdata[0]}<extra></extra>",
         "legendgroup": "kMNnYGz6yL",
         "line": {
          "color": "#EF553B",
          "dash": "solid"
         },
         "marker": {
          "symbol": "circle"
         },
         "mode": "markers+lines",
         "name": "kMNnYGz6yL",
         "orientation": "v",
         "showlegend": true,
         "type": "scatter",
         "x": [
          0,
          1,
          2,
          3,
          4,
          5,
          6,
          7
         ],
         "xaxis": "x",
         "y": [
          0.5708333333333333,
          21.465555555555557,
          0.3641666666666667,
          1.3352777777777778,
          1.0127777777777778,
          8.001388888888888,
          15.355833333333333,
          null
         ],
         "yaxis": "y"
        },
        {
         "customdata": [
          [
           "Phone scheduled cueing started. Until 19:45 Cueing period: 60 seconds. Vibration pattern: Long. Vibration intensity: Default"
          ]
         ],
         "hovertemplate": "user=SdXaRAR4Ow<br>index=%{x}<br>diff_hour=%{y}<br>message=%{customdata[0]}<extra></extra>",
         "legendgroup": "SdXaRAR4Ow",
         "line": {
          "color": "#00cc96",
          "dash": "solid"
         },
         "marker": {
          "symbol": "circle"
         },
         "mode": "markers+lines",
         "name": "SdXaRAR4Ow",
         "orientation": "v",
         "showlegend": true,
         "type": "scatter",
         "x": [
          0
         ],
         "xaxis": "x",
         "y": [
          null
         ],
         "yaxis": "y"
        },
        {
         "customdata": [
          [
           "Phone scheduled cueing started. Until 13:50 Cueing period: 60 seconds. Vibration pattern: 3x Times. Vibration intensity: Default"
          ],
          [
           "Phone manual cueing started. Until 14:44 Cueing period: 60 seconds. Vibration pattern: 3x Times. Vibration intensity: Default"
          ]
         ],
         "hovertemplate": "user=nYaQS9Ulkq<br>index=%{x}<br>diff_hour=%{y}<br>message=%{customdata[0]}<extra></extra>",
         "legendgroup": "nYaQS9Ulkq",
         "line": {
          "color": "#ab63fa",
          "dash": "solid"
         },
         "marker": {
          "symbol": "circle"
         },
         "mode": "markers+lines",
         "name": "nYaQS9Ulkq",
         "orientation": "v",
         "showlegend": true,
         "type": "scatter",
         "x": [
          0,
          1
         ],
         "xaxis": "x",
         "y": [
          1.7322222222222223,
          null
         ],
         "yaxis": "y"
        },
        {
         "customdata": [
          [
           "Phone manual cueing started. Until 20:55 Cueing period: 180 seconds. Vibration pattern: Long. Vibration intensity: Default"
          ]
         ],
         "hovertemplate": "user=UCkgGOkRts<br>index=%{x}<br>diff_hour=%{y}<br>message=%{customdata[0]}<extra></extra>",
         "legendgroup": "UCkgGOkRts",
         "line": {
          "color": "#FFA15A",
          "dash": "solid"
         },
         "marker": {
          "symbol": "circle"
         },
         "mode": "markers+lines",
         "name": "UCkgGOkRts",
         "orientation": "v",
         "showlegend": true,
         "type": "scatter",
         "x": [
          0
         ],
         "xaxis": "x",
         "y": [
          null
         ],
         "yaxis": "y"
        },
        {
         "customdata": [
          [
           "Phone manual cueing started. Until 17:09 Cueing period: 60 seconds. Vibration pattern: 3x Times. Vibration intensity: Default"
          ],
          [
           "Phone manual cueing started. Until 14:23 Cueing period: 60 seconds. Vibration pattern: 3x Times. Vibration intensity: Default"
          ]
         ],
         "hovertemplate": "user=XJjx4T4rkE<br>index=%{x}<br>diff_hour=%{y}<br>message=%{customdata[0]}<extra></extra>",
         "legendgroup": "XJjx4T4rkE",
         "line": {
          "color": "#19d3f3",
          "dash": "solid"
         },
         "marker": {
          "symbol": "circle"
         },
         "mode": "markers+lines",
         "name": "XJjx4T4rkE",
         "orientation": "v",
         "showlegend": true,
         "type": "scatter",
         "x": [
          0,
          1
         ],
         "xaxis": "x",
         "y": [
          93.23305555555555,
          null
         ],
         "yaxis": "y"
        },
        {
         "customdata": [
          [
           "Phone scheduled cueing started. Until 18:45 Cueing period: 60 seconds. Vibration pattern: 3x Times. Vibration intensity: Default"
          ],
          [
           "Phone scheduled cueing started. Until 12:45 Cueing period: 60 seconds. Vibration pattern: 3x Times. Vibration intensity: Default"
          ],
          [
           "Phone scheduled cueing started. Until 12:45 Cueing period: 60 seconds. Vibration pattern: 3x Times. Vibration intensity: Default"
          ],
          [
           "Phone manual cueing started. Until 19:26 Cueing period: 60 seconds. Vibration pattern: 3x Times. Vibration intensity: Default"
          ],
          [
           "Phone manual cueing started. Until 19:11 Cueing period: 60 seconds. Vibration pattern: 3x Times. Vibration intensity: Default"
          ]
         ],
         "hovertemplate": "user=oFteR0cASq<br>index=%{x}<br>diff_hour=%{y}<br>message=%{customdata[0]}<extra></extra>",
         "legendgroup": "oFteR0cASq",
         "line": {
          "color": "#FF6692",
          "dash": "solid"
         },
         "marker": {
          "symbol": "circle"
         },
         "mode": "markers+lines",
         "name": "oFteR0cASq",
         "orientation": "v",
         "showlegend": true,
         "type": "scatter",
         "x": [
          0,
          1,
          2,
          3,
          4
         ],
         "xaxis": "x",
         "y": [
          17.92361111111111,
          24.05361111111111,
          54.641666666666666,
          47.75333333333333,
          null
         ],
         "yaxis": "y"
        },
        {
         "customdata": [
          [
           "Phone scheduled cueing started. Until 12:00 Cueing period: 60 seconds. Vibration pattern: 3x Times. Vibration intensity: Default"
          ],
          [
           "Phone scheduled cueing started. Until 12:00 Cueing period: 60 seconds. Vibration pattern: 3x Times. Vibration intensity: Default"
          ],
          [
           "Phone scheduled cueing started. Until 12:00 Cueing period: 60 seconds. Vibration pattern: 3x Times. Vibration intensity: Default"
          ],
          [
           "Phone scheduled cueing started. Until 12:00 Cueing period: 60 seconds. Vibration pattern: 3x Times. Vibration intensity: Default"
          ]
         ],
         "hovertemplate": "user=L8gnBFppsj<br>index=%{x}<br>diff_hour=%{y}<br>message=%{customdata[0]}<extra></extra>",
         "legendgroup": "L8gnBFppsj",
         "line": {
          "color": "#B6E880",
          "dash": "solid"
         },
         "marker": {
          "symbol": "circle"
         },
         "mode": "markers+lines",
         "name": "L8gnBFppsj",
         "orientation": "v",
         "showlegend": true,
         "type": "scatter",
         "x": [
          0,
          1,
          2,
          3
         ],
         "xaxis": "x",
         "y": [
          23.344444444444445,
          96.20722222222223,
          863.5272222222222,
          null
         ],
         "yaxis": "y"
        },
        {
         "customdata": [
          [
           "Phone scheduled cueing started. Until 14:55 Cueing period: 60 seconds. Vibration pattern: 3x Times. Vibration intensity: Default"
          ],
          [
           "Phone scheduled cueing started. Until 14:55 Cueing period: 60 seconds. Vibration pattern: 3x Times. Vibration intensity: Default"
          ]
         ],
         "hovertemplate": "user=39DE9fE5uv<br>index=%{x}<br>diff_hour=%{y}<br>message=%{customdata[0]}<extra></extra>",
         "legendgroup": "39DE9fE5uv",
         "line": {
          "color": "#FF97FF",
          "dash": "solid"
         },
         "marker": {
          "symbol": "circle"
         },
         "mode": "markers+lines",
         "name": "39DE9fE5uv",
         "orientation": "v",
         "showlegend": true,
         "type": "scatter",
         "x": [
          0,
          1
         ],
         "xaxis": "x",
         "y": [
          0.23472222222222222,
          null
         ],
         "yaxis": "y"
        },
        {
         "customdata": [
          [
           "Phone manual cueing started. Until 10:29 Cueing period: 60 seconds. Vibration pattern: 3x Times. Vibration intensity: Default"
          ]
         ],
         "hovertemplate": "user=5HO7BTPqJJ<br>index=%{x}<br>diff_hour=%{y}<br>message=%{customdata[0]}<extra></extra>",
         "legendgroup": "5HO7BTPqJJ",
         "line": {
          "color": "#FECB52",
          "dash": "solid"
         },
         "marker": {
          "symbol": "circle"
         },
         "mode": "markers+lines",
         "name": "5HO7BTPqJJ",
         "orientation": "v",
         "showlegend": true,
         "type": "scatter",
         "x": [
          0
         ],
         "xaxis": "x",
         "y": [
          null
         ],
         "yaxis": "y"
        },
        {
         "customdata": [
          [
           "Phone manual cueing started. Until 10:31 Cueing period: 60 seconds. Vibration pattern: Long. Vibration intensity: Default"
          ]
         ],
         "hovertemplate": "user=kvUTb56HWf<br>index=%{x}<br>diff_hour=%{y}<br>message=%{customdata[0]}<extra></extra>",
         "legendgroup": "kvUTb56HWf",
         "line": {
          "color": "#636efa",
          "dash": "solid"
         },
         "marker": {
          "symbol": "circle"
         },
         "mode": "markers+lines",
         "name": "kvUTb56HWf",
         "orientation": "v",
         "showlegend": true,
         "type": "scatter",
         "x": [
          0
         ],
         "xaxis": "x",
         "y": [
          null
         ],
         "yaxis": "y"
        },
        {
         "customdata": [
          [
           "Phone scheduled cueing started. Until 12:00 Cueing period: 60 seconds. Vibration pattern: Long. Vibration intensity: Default"
          ]
         ],
         "hovertemplate": "user=rSMko35CCg<br>index=%{x}<br>diff_hour=%{y}<br>message=%{customdata[0]}<extra></extra>",
         "legendgroup": "rSMko35CCg",
         "line": {
          "color": "#EF553B",
          "dash": "solid"
         },
         "marker": {
          "symbol": "circle"
         },
         "mode": "markers+lines",
         "name": "rSMko35CCg",
         "orientation": "v",
         "showlegend": true,
         "type": "scatter",
         "x": [
          0
         ],
         "xaxis": "x",
         "y": [
          null
         ],
         "yaxis": "y"
        },
        {
         "customdata": [
          [
           "Phone scheduled cueing started. Until 23:00 Cueing period: 60 seconds. Vibration pattern: 3x Times. Vibration intensity: Default"
          ],
          [
           "Phone scheduled cueing started. Until 23:00 Cueing period: 60 seconds. Vibration pattern: 3x Times. Vibration intensity: Default"
          ],
          [
           "Phone scheduled cueing started. Until 22:30 Cueing period: 60 seconds. Vibration pattern: 3x Times. Vibration intensity: Default"
          ],
          [
           "Phone scheduled cueing started. Until 22:30 Cueing period: 60 seconds. Vibration pattern: 3x Times. Vibration intensity: Default"
          ],
          [
           "Phone scheduled cueing started. Until 22:30 Cueing period: 60 seconds. Vibration pattern: 3x Times. Vibration intensity: Default"
          ],
          [
           "Phone scheduled cueing started. Until 22:30 Cueing period: 60 seconds. Vibration pattern: 3x Times. Vibration intensity: Default"
          ],
          [
           "Phone scheduled cueing started. Until 22:30 Cueing period: 60 seconds. Vibration pattern: 3x Times. Vibration intensity: Default"
          ],
          [
           "Phone scheduled cueing started. Until 22:30 Cueing period: 60 seconds. Vibration pattern: 3x Times. Vibration intensity: Default"
          ],
          [
           "Phone scheduled cueing started. Until 22:30 Cueing period: 60 seconds. Vibration pattern: 3x Times. Vibration intensity: Default"
          ],
          [
           "Phone scheduled cueing started. Until 22:30 Cueing period: 60 seconds. Vibration pattern: 3x Times. Vibration intensity: Default"
          ],
          [
           "Phone scheduled cueing started. Until 22:30 Cueing period: 60 seconds. Vibration pattern: 3x Times. Vibration intensity: Default"
          ],
          [
           "Phone scheduled cueing started. Until 22:30 Cueing period: 60 seconds. Vibration pattern: 3x Times. Vibration intensity: Default"
          ],
          [
           "Phone scheduled cueing started. Until 22:30 Cueing period: 60 seconds. Vibration pattern: 3x Times. Vibration intensity: Default"
          ],
          [
           "Phone scheduled cueing started. Until 22:30 Cueing period: 60 seconds. Vibration pattern: 3x Times. Vibration intensity: Default"
          ]
         ],
         "hovertemplate": "user=k4r54tpUAh<br>index=%{x}<br>diff_hour=%{y}<br>message=%{customdata[0]}<extra></extra>",
         "legendgroup": "k4r54tpUAh",
         "line": {
          "color": "#00cc96",
          "dash": "solid"
         },
         "marker": {
          "symbol": "circle"
         },
         "mode": "markers+lines",
         "name": "k4r54tpUAh",
         "orientation": "v",
         "showlegend": true,
         "type": "scatter",
         "x": [
          0,
          1,
          2,
          3,
          4,
          5,
          6,
          7,
          8,
          9,
          10,
          11,
          12,
          13
         ],
         "xaxis": "x",
         "y": [
          0.9705555555555555,
          21.016111111111112,
          23.220833333333335,
          2.6,
          31.184444444444445,
          41.04333333333334,
          1.4369444444444444,
          20.244444444444444,
          0.28305555555555556,
          0.38416666666666666,
          1.5563888888888888,
          3.0125,
          19.045833333333334,
          null
         ],
         "yaxis": "y"
        },
        {
         "customdata": [
          [
           "Phone manual cueing started. Until 14:12 Cueing period: 60 seconds. Vibration pattern: Long. Vibration intensity: Default"
          ]
         ],
         "hovertemplate": "user=eXKILteZUn<br>index=%{x}<br>diff_hour=%{y}<br>message=%{customdata[0]}<extra></extra>",
         "legendgroup": "eXKILteZUn",
         "line": {
          "color": "#ab63fa",
          "dash": "solid"
         },
         "marker": {
          "symbol": "circle"
         },
         "mode": "markers+lines",
         "name": "eXKILteZUn",
         "orientation": "v",
         "showlegend": true,
         "type": "scatter",
         "x": [
          0
         ],
         "xaxis": "x",
         "y": [
          null
         ],
         "yaxis": "y"
        },
        {
         "customdata": [
          [
           "Phone manual cueing started. Until 17:21 Cueing period: 60 seconds. Vibration pattern: 3x Times. Vibration intensity: Default"
          ],
          [
           "Phone manual cueing started. Until 15:35 Cueing period: 60 seconds. Vibration pattern: 3x Times. Vibration intensity: Default"
          ],
          [
           "Phone manual cueing started. Until 17:37 Cueing period: 60 seconds. Vibration pattern: 3x Times. Vibration intensity: Default"
          ]
         ],
         "hovertemplate": "user=rhdsCEGkYs<br>index=%{x}<br>diff_hour=%{y}<br>message=%{customdata[0]}<extra></extra>",
         "legendgroup": "rhdsCEGkYs",
         "line": {
          "color": "#FFA15A",
          "dash": "solid"
         },
         "marker": {
          "symbol": "circle"
         },
         "mode": "markers+lines",
         "name": "rhdsCEGkYs",
         "orientation": "v",
         "showlegend": true,
         "type": "scatter",
         "x": [
          0,
          1,
          2
         ],
         "xaxis": "x",
         "y": [
          22.56833333333333,
          2.0297222222222224,
          null
         ],
         "yaxis": "y"
        }
       ],
       "layout": {
        "legend": {
         "title": {
          "text": "user"
         },
         "tracegroupgap": 0
        },
        "margin": {
         "t": 60
        },
        "template": {
         "data": {
          "bar": [
           {
            "error_x": {
             "color": "#2a3f5f"
            },
            "error_y": {
             "color": "#2a3f5f"
            },
            "marker": {
             "line": {
              "color": "#E5ECF6",
              "width": 0.5
             },
             "pattern": {
              "fillmode": "overlay",
              "size": 10,
              "solidity": 0.2
             }
            },
            "type": "bar"
           }
          ],
          "barpolar": [
           {
            "marker": {
             "line": {
              "color": "#E5ECF6",
              "width": 0.5
             },
             "pattern": {
              "fillmode": "overlay",
              "size": 10,
              "solidity": 0.2
             }
            },
            "type": "barpolar"
           }
          ],
          "carpet": [
           {
            "aaxis": {
             "endlinecolor": "#2a3f5f",
             "gridcolor": "white",
             "linecolor": "white",
             "minorgridcolor": "white",
             "startlinecolor": "#2a3f5f"
            },
            "baxis": {
             "endlinecolor": "#2a3f5f",
             "gridcolor": "white",
             "linecolor": "white",
             "minorgridcolor": "white",
             "startlinecolor": "#2a3f5f"
            },
            "type": "carpet"
           }
          ],
          "choropleth": [
           {
            "colorbar": {
             "outlinewidth": 0,
             "ticks": ""
            },
            "type": "choropleth"
           }
          ],
          "contour": [
           {
            "colorbar": {
             "outlinewidth": 0,
             "ticks": ""
            },
            "colorscale": [
             [
              0,
              "#0d0887"
             ],
             [
              0.1111111111111111,
              "#46039f"
             ],
             [
              0.2222222222222222,
              "#7201a8"
             ],
             [
              0.3333333333333333,
              "#9c179e"
             ],
             [
              0.4444444444444444,
              "#bd3786"
             ],
             [
              0.5555555555555556,
              "#d8576b"
             ],
             [
              0.6666666666666666,
              "#ed7953"
             ],
             [
              0.7777777777777778,
              "#fb9f3a"
             ],
             [
              0.8888888888888888,
              "#fdca26"
             ],
             [
              1,
              "#f0f921"
             ]
            ],
            "type": "contour"
           }
          ],
          "contourcarpet": [
           {
            "colorbar": {
             "outlinewidth": 0,
             "ticks": ""
            },
            "type": "contourcarpet"
           }
          ],
          "heatmap": [
           {
            "colorbar": {
             "outlinewidth": 0,
             "ticks": ""
            },
            "colorscale": [
             [
              0,
              "#0d0887"
             ],
             [
              0.1111111111111111,
              "#46039f"
             ],
             [
              0.2222222222222222,
              "#7201a8"
             ],
             [
              0.3333333333333333,
              "#9c179e"
             ],
             [
              0.4444444444444444,
              "#bd3786"
             ],
             [
              0.5555555555555556,
              "#d8576b"
             ],
             [
              0.6666666666666666,
              "#ed7953"
             ],
             [
              0.7777777777777778,
              "#fb9f3a"
             ],
             [
              0.8888888888888888,
              "#fdca26"
             ],
             [
              1,
              "#f0f921"
             ]
            ],
            "type": "heatmap"
           }
          ],
          "heatmapgl": [
           {
            "colorbar": {
             "outlinewidth": 0,
             "ticks": ""
            },
            "colorscale": [
             [
              0,
              "#0d0887"
             ],
             [
              0.1111111111111111,
              "#46039f"
             ],
             [
              0.2222222222222222,
              "#7201a8"
             ],
             [
              0.3333333333333333,
              "#9c179e"
             ],
             [
              0.4444444444444444,
              "#bd3786"
             ],
             [
              0.5555555555555556,
              "#d8576b"
             ],
             [
              0.6666666666666666,
              "#ed7953"
             ],
             [
              0.7777777777777778,
              "#fb9f3a"
             ],
             [
              0.8888888888888888,
              "#fdca26"
             ],
             [
              1,
              "#f0f921"
             ]
            ],
            "type": "heatmapgl"
           }
          ],
          "histogram": [
           {
            "marker": {
             "pattern": {
              "fillmode": "overlay",
              "size": 10,
              "solidity": 0.2
             }
            },
            "type": "histogram"
           }
          ],
          "histogram2d": [
           {
            "colorbar": {
             "outlinewidth": 0,
             "ticks": ""
            },
            "colorscale": [
             [
              0,
              "#0d0887"
             ],
             [
              0.1111111111111111,
              "#46039f"
             ],
             [
              0.2222222222222222,
              "#7201a8"
             ],
             [
              0.3333333333333333,
              "#9c179e"
             ],
             [
              0.4444444444444444,
              "#bd3786"
             ],
             [
              0.5555555555555556,
              "#d8576b"
             ],
             [
              0.6666666666666666,
              "#ed7953"
             ],
             [
              0.7777777777777778,
              "#fb9f3a"
             ],
             [
              0.8888888888888888,
              "#fdca26"
             ],
             [
              1,
              "#f0f921"
             ]
            ],
            "type": "histogram2d"
           }
          ],
          "histogram2dcontour": [
           {
            "colorbar": {
             "outlinewidth": 0,
             "ticks": ""
            },
            "colorscale": [
             [
              0,
              "#0d0887"
             ],
             [
              0.1111111111111111,
              "#46039f"
             ],
             [
              0.2222222222222222,
              "#7201a8"
             ],
             [
              0.3333333333333333,
              "#9c179e"
             ],
             [
              0.4444444444444444,
              "#bd3786"
             ],
             [
              0.5555555555555556,
              "#d8576b"
             ],
             [
              0.6666666666666666,
              "#ed7953"
             ],
             [
              0.7777777777777778,
              "#fb9f3a"
             ],
             [
              0.8888888888888888,
              "#fdca26"
             ],
             [
              1,
              "#f0f921"
             ]
            ],
            "type": "histogram2dcontour"
           }
          ],
          "mesh3d": [
           {
            "colorbar": {
             "outlinewidth": 0,
             "ticks": ""
            },
            "type": "mesh3d"
           }
          ],
          "parcoords": [
           {
            "line": {
             "colorbar": {
              "outlinewidth": 0,
              "ticks": ""
             }
            },
            "type": "parcoords"
           }
          ],
          "pie": [
           {
            "automargin": true,
            "type": "pie"
           }
          ],
          "scatter": [
           {
            "fillpattern": {
             "fillmode": "overlay",
             "size": 10,
             "solidity": 0.2
            },
            "type": "scatter"
           }
          ],
          "scatter3d": [
           {
            "line": {
             "colorbar": {
              "outlinewidth": 0,
              "ticks": ""
             }
            },
            "marker": {
             "colorbar": {
              "outlinewidth": 0,
              "ticks": ""
             }
            },
            "type": "scatter3d"
           }
          ],
          "scattercarpet": [
           {
            "marker": {
             "colorbar": {
              "outlinewidth": 0,
              "ticks": ""
             }
            },
            "type": "scattercarpet"
           }
          ],
          "scattergeo": [
           {
            "marker": {
             "colorbar": {
              "outlinewidth": 0,
              "ticks": ""
             }
            },
            "type": "scattergeo"
           }
          ],
          "scattergl": [
           {
            "marker": {
             "colorbar": {
              "outlinewidth": 0,
              "ticks": ""
             }
            },
            "type": "scattergl"
           }
          ],
          "scattermapbox": [
           {
            "marker": {
             "colorbar": {
              "outlinewidth": 0,
              "ticks": ""
             }
            },
            "type": "scattermapbox"
           }
          ],
          "scatterpolar": [
           {
            "marker": {
             "colorbar": {
              "outlinewidth": 0,
              "ticks": ""
             }
            },
            "type": "scatterpolar"
           }
          ],
          "scatterpolargl": [
           {
            "marker": {
             "colorbar": {
              "outlinewidth": 0,
              "ticks": ""
             }
            },
            "type": "scatterpolargl"
           }
          ],
          "scatterternary": [
           {
            "marker": {
             "colorbar": {
              "outlinewidth": 0,
              "ticks": ""
             }
            },
            "type": "scatterternary"
           }
          ],
          "surface": [
           {
            "colorbar": {
             "outlinewidth": 0,
             "ticks": ""
            },
            "colorscale": [
             [
              0,
              "#0d0887"
             ],
             [
              0.1111111111111111,
              "#46039f"
             ],
             [
              0.2222222222222222,
              "#7201a8"
             ],
             [
              0.3333333333333333,
              "#9c179e"
             ],
             [
              0.4444444444444444,
              "#bd3786"
             ],
             [
              0.5555555555555556,
              "#d8576b"
             ],
             [
              0.6666666666666666,
              "#ed7953"
             ],
             [
              0.7777777777777778,
              "#fb9f3a"
             ],
             [
              0.8888888888888888,
              "#fdca26"
             ],
             [
              1,
              "#f0f921"
             ]
            ],
            "type": "surface"
           }
          ],
          "table": [
           {
            "cells": {
             "fill": {
              "color": "#EBF0F8"
             },
             "line": {
              "color": "white"
             }
            },
            "header": {
             "fill": {
              "color": "#C8D4E3"
             },
             "line": {
              "color": "white"
             }
            },
            "type": "table"
           }
          ]
         },
         "layout": {
          "annotationdefaults": {
           "arrowcolor": "#2a3f5f",
           "arrowhead": 0,
           "arrowwidth": 1
          },
          "autotypenumbers": "strict",
          "coloraxis": {
           "colorbar": {
            "outlinewidth": 0,
            "ticks": ""
           }
          },
          "colorscale": {
           "diverging": [
            [
             0,
             "#8e0152"
            ],
            [
             0.1,
             "#c51b7d"
            ],
            [
             0.2,
             "#de77ae"
            ],
            [
             0.3,
             "#f1b6da"
            ],
            [
             0.4,
             "#fde0ef"
            ],
            [
             0.5,
             "#f7f7f7"
            ],
            [
             0.6,
             "#e6f5d0"
            ],
            [
             0.7,
             "#b8e186"
            ],
            [
             0.8,
             "#7fbc41"
            ],
            [
             0.9,
             "#4d9221"
            ],
            [
             1,
             "#276419"
            ]
           ],
           "sequential": [
            [
             0,
             "#0d0887"
            ],
            [
             0.1111111111111111,
             "#46039f"
            ],
            [
             0.2222222222222222,
             "#7201a8"
            ],
            [
             0.3333333333333333,
             "#9c179e"
            ],
            [
             0.4444444444444444,
             "#bd3786"
            ],
            [
             0.5555555555555556,
             "#d8576b"
            ],
            [
             0.6666666666666666,
             "#ed7953"
            ],
            [
             0.7777777777777778,
             "#fb9f3a"
            ],
            [
             0.8888888888888888,
             "#fdca26"
            ],
            [
             1,
             "#f0f921"
            ]
           ],
           "sequentialminus": [
            [
             0,
             "#0d0887"
            ],
            [
             0.1111111111111111,
             "#46039f"
            ],
            [
             0.2222222222222222,
             "#7201a8"
            ],
            [
             0.3333333333333333,
             "#9c179e"
            ],
            [
             0.4444444444444444,
             "#bd3786"
            ],
            [
             0.5555555555555556,
             "#d8576b"
            ],
            [
             0.6666666666666666,
             "#ed7953"
            ],
            [
             0.7777777777777778,
             "#fb9f3a"
            ],
            [
             0.8888888888888888,
             "#fdca26"
            ],
            [
             1,
             "#f0f921"
            ]
           ]
          },
          "colorway": [
           "#636efa",
           "#EF553B",
           "#00cc96",
           "#ab63fa",
           "#FFA15A",
           "#19d3f3",
           "#FF6692",
           "#B6E880",
           "#FF97FF",
           "#FECB52"
          ],
          "font": {
           "color": "#2a3f5f"
          },
          "geo": {
           "bgcolor": "white",
           "lakecolor": "white",
           "landcolor": "#E5ECF6",
           "showlakes": true,
           "showland": true,
           "subunitcolor": "white"
          },
          "hoverlabel": {
           "align": "left"
          },
          "hovermode": "closest",
          "mapbox": {
           "style": "light"
          },
          "paper_bgcolor": "white",
          "plot_bgcolor": "#E5ECF6",
          "polar": {
           "angularaxis": {
            "gridcolor": "white",
            "linecolor": "white",
            "ticks": ""
           },
           "bgcolor": "#E5ECF6",
           "radialaxis": {
            "gridcolor": "white",
            "linecolor": "white",
            "ticks": ""
           }
          },
          "scene": {
           "xaxis": {
            "backgroundcolor": "#E5ECF6",
            "gridcolor": "white",
            "gridwidth": 2,
            "linecolor": "white",
            "showbackground": true,
            "ticks": "",
            "zerolinecolor": "white"
           },
           "yaxis": {
            "backgroundcolor": "#E5ECF6",
            "gridcolor": "white",
            "gridwidth": 2,
            "linecolor": "white",
            "showbackground": true,
            "ticks": "",
            "zerolinecolor": "white"
           },
           "zaxis": {
            "backgroundcolor": "#E5ECF6",
            "gridcolor": "white",
            "gridwidth": 2,
            "linecolor": "white",
            "showbackground": true,
            "ticks": "",
            "zerolinecolor": "white"
           }
          },
          "shapedefaults": {
           "line": {
            "color": "#2a3f5f"
           }
          },
          "ternary": {
           "aaxis": {
            "gridcolor": "white",
            "linecolor": "white",
            "ticks": ""
           },
           "baxis": {
            "gridcolor": "white",
            "linecolor": "white",
            "ticks": ""
           },
           "bgcolor": "#E5ECF6",
           "caxis": {
            "gridcolor": "white",
            "linecolor": "white",
            "ticks": ""
           }
          },
          "title": {
           "x": 0.05
          },
          "xaxis": {
           "automargin": true,
           "gridcolor": "white",
           "linecolor": "white",
           "ticks": "",
           "title": {
            "standoff": 15
           },
           "zerolinecolor": "white",
           "zerolinewidth": 2
          },
          "yaxis": {
           "automargin": true,
           "gridcolor": "white",
           "linecolor": "white",
           "ticks": "",
           "title": {
            "standoff": 15
           },
           "zerolinecolor": "white",
           "zerolinewidth": 2
          }
         }
        },
        "xaxis": {
         "anchor": "y",
         "domain": [
          0,
          1
         ],
         "title": {
          "text": "index"
         }
        },
        "yaxis": {
         "anchor": "x",
         "domain": [
          0,
          1
         ],
         "title": {
          "text": "diff_hour"
         }
        }
       }
      }
     },
     "metadata": {},
     "output_type": "display_data"
    }
   ],
   "source": [
    "# df = df.query(\"diff_hour < 100\")\n",
    "px.line(df, x=df.index, y=\"diff_hour\", color=\"user\", hover_data=[\"message\"], markers=True)"
   ]
  },
  {
   "attachments": {},
   "cell_type": "markdown",
   "metadata": {},
   "source": [
    "'84R29C7UDR'\n",
    "\n",
    "'mkxN5gMcg2'\n",
    "\n",
    "'T00mMEwEZQ'\n",
    "\n",
    "''"
   ]
  },
  {
   "cell_type": "code",
   "execution_count": 7,
   "metadata": {},
   "outputs": [
    {
     "data": {
      "application/vnd.plotly.v1+json": {
       "config": {
        "plotlyServerURL": "https://plot.ly"
       },
       "data": [
        {
         "customdata": [
          [
           "Phone scheduled cueing started. Until 22:00 Cueing period: 60 seconds. Vibration pattern: 3x Times. Vibration intensity: Default"
          ],
          [
           "Phone scheduled cueing started. Until 22:00 Cueing period: 60 seconds. Vibration pattern: 3x Times. Vibration intensity: Default"
          ],
          [
           "Phone scheduled cueing started. Until 22:00 Cueing period: 60 seconds. Vibration pattern: 3x Times. Vibration intensity: Default"
          ],
          [
           "Phone scheduled cueing started. Until 22:00 Cueing period: 60 seconds. Vibration pattern: 3x Times. Vibration intensity: Default"
          ],
          [
           "Phone scheduled cueing started. Until 22:00 Cueing period: 60 seconds. Vibration pattern: 3x Times. Vibration intensity: Default"
          ],
          [
           "Phone scheduled cueing started. Until 22:00 Cueing period: 60 seconds. Vibration pattern: 3x Times. Vibration intensity: Default"
          ],
          [
           "Phone scheduled cueing started. Until 22:00 Cueing period: 60 seconds. Vibration pattern: 3x Times. Vibration intensity: Default"
          ],
          [
           "Phone scheduled cueing started. Until 22:00 Cueing period: 60 seconds. Vibration pattern: 3x Times. Vibration intensity: Default"
          ],
          [
           "Phone scheduled cueing started. Until 22:00 Cueing period: 60 seconds. Vibration pattern: 3x Times. Vibration intensity: Default"
          ],
          [
           "Phone scheduled cueing started. Until 22:00 Cueing period: 60 seconds. Vibration pattern: 3x Times. Vibration intensity: Default"
          ],
          [
           "Phone scheduled cueing started. Until 22:00 Cueing period: 60 seconds. Vibration pattern: 3x Times. Vibration intensity: Default"
          ],
          [
           "Phone scheduled cueing started. Until 22:00 Cueing period: 60 seconds. Vibration pattern: 3x Times. Vibration intensity: Default"
          ],
          [
           "Phone scheduled cueing started. Until 22:00 Cueing period: 60 seconds. Vibration pattern: 3x Times. Vibration intensity: Default"
          ],
          [
           "Phone scheduled cueing started. Until 22:00 Cueing period: 60 seconds. Vibration pattern: 3x Times. Vibration intensity: Default"
          ],
          [
           "Phone scheduled cueing started. Until 22:00 Cueing period: 60 seconds. Vibration pattern: 3x Times. Vibration intensity: Default"
          ],
          [
           "Phone scheduled cueing started. Until 22:00 Cueing period: 60 seconds. Vibration pattern: 3x Times. Vibration intensity: Default"
          ],
          [
           "Phone scheduled cueing started. Until 22:00 Cueing period: 60 seconds. Vibration pattern: 3x Times. Vibration intensity: Default"
          ],
          [
           "Phone scheduled cueing started. Until 22:00 Cueing period: 60 seconds. Vibration pattern: 3x Times. Vibration intensity: Default"
          ],
          [
           "Phone scheduled cueing started. Until 22:00 Cueing period: 60 seconds. Vibration pattern: 3x Times. Vibration intensity: Default"
          ],
          [
           "Phone scheduled cueing started. Until 22:00 Cueing period: 60 seconds. Vibration pattern: 3x Times. Vibration intensity: Default"
          ],
          [
           "Phone scheduled cueing started. Until 22:00 Cueing period: 60 seconds. Vibration pattern: 3x Times. Vibration intensity: Default"
          ],
          [
           "Phone scheduled cueing started. Until 22:00 Cueing period: 60 seconds. Vibration pattern: 3x Times. Vibration intensity: Default"
          ],
          [
           "Phone scheduled cueing started. Until 22:00 Cueing period: 60 seconds. Vibration pattern: 3x Times. Vibration intensity: Default"
          ],
          [
           "Phone scheduled cueing started. Until 22:00 Cueing period: 60 seconds. Vibration pattern: 3x Times. Vibration intensity: Default"
          ],
          [
           "Phone scheduled cueing started. Until 22:00 Cueing period: 60 seconds. Vibration pattern: 3x Times. Vibration intensity: Default"
          ],
          [
           "Phone scheduled cueing started. Until 22:00 Cueing period: 60 seconds. Vibration pattern: 3x Times. Vibration intensity: Default"
          ],
          [
           "Phone scheduled cueing started. Until 22:00 Cueing period: 60 seconds. Vibration pattern: 3x Times. Vibration intensity: Default"
          ],
          [
           "Phone scheduled cueing started. Until 22:00 Cueing period: 60 seconds. Vibration pattern: 3x Times. Vibration intensity: Default"
          ],
          [
           "Phone scheduled cueing started. Until 22:00 Cueing period: 60 seconds. Vibration pattern: 3x Times. Vibration intensity: Default"
          ],
          [
           "Phone scheduled cueing started. Until 22:00 Cueing period: 60 seconds. Vibration pattern: 3x Times. Vibration intensity: Default"
          ],
          [
           "Phone scheduled cueing started. Until 22:00 Cueing period: 60 seconds. Vibration pattern: 3x Times. Vibration intensity: Default"
          ],
          [
           "Phone scheduled cueing started. Until 22:00 Cueing period: 60 seconds. Vibration pattern: 3x Times. Vibration intensity: Default"
          ]
         ],
         "hovertemplate": "events=19<br>date=%{x}<br>time=%{y}<br>message=%{customdata[0]}<extra></extra>",
         "legendgroup": "19",
         "line": {
          "color": "#636efa",
          "dash": "solid"
         },
         "marker": {
          "symbol": "circle"
         },
         "mode": "lines+markers",
         "name": "19",
         "orientation": "v",
         "showlegend": true,
         "type": "scatter",
         "x": [
          "2022-10-15",
          "2022-10-15",
          "2022-10-15",
          "2022-10-15",
          "2022-10-15",
          "2022-10-15",
          "2022-10-15",
          "2022-10-15",
          "2022-10-15",
          "2022-10-15",
          "2022-10-15",
          "2022-10-16",
          "2022-10-16",
          "2022-10-16",
          "2022-10-16",
          "2022-10-16",
          "2022-10-16",
          "2022-10-16",
          "2022-10-16",
          "2022-10-16",
          "2022-10-16",
          "2022-10-16",
          "2022-10-16",
          "2022-10-17",
          "2022-10-17",
          "2022-10-18",
          "2022-10-18",
          "2022-10-18",
          "2022-10-18",
          "2022-10-18",
          "2022-10-19",
          "2022-10-20"
         ],
         "xaxis": "x",
         "y": [
          11.8,
          11.866666666666667,
          12.016666666666667,
          12.016666666666667,
          12.05,
          12.05,
          12.05,
          12.05,
          12.266666666666667,
          18.45,
          20.266666666666666,
          8.5,
          8.633333333333333,
          8.633333333333333,
          8.633333333333333,
          8.633333333333333,
          8.683333333333334,
          8.95,
          9.3,
          15.8,
          16.5,
          20.65,
          20.866666666666667,
          10.666666666666666,
          13.883333333333333,
          8.266666666666667,
          13.333333333333334,
          14.133333333333333,
          15.716666666666667,
          18.183333333333334,
          14.05,
          9.233333333333333
         ],
         "yaxis": "y"
        },
        {
         "customdata": [
          [
           "Scheduled cueing muted completely"
          ],
          [
           "Scheduled cueing muted completely"
          ],
          [
           "Scheduled cueing muted completely"
          ]
         ],
         "hovertemplate": "events=27<br>date=%{x}<br>time=%{y}<br>message=%{customdata[0]}<extra></extra>",
         "legendgroup": "27",
         "line": {
          "color": "#EF553B",
          "dash": "solid"
         },
         "marker": {
          "symbol": "circle"
         },
         "mode": "lines+markers",
         "name": "27",
         "orientation": "v",
         "showlegend": true,
         "type": "scatter",
         "x": [
          "2022-10-15",
          "2022-10-15",
          "2022-10-16"
         ],
         "xaxis": "x",
         "y": [
          12.016666666666667,
          12.283333333333333,
          8.633333333333333
         ],
         "yaxis": "y"
        },
        {
         "customdata": [
          [
           "Muted scheduled cueing on phone for 35933867 ms"
          ],
          [
           "Muted scheduled cueing on phone for 34953109 ms"
          ],
          [
           "Muted scheduled cueing on phone for 48096246 ms"
          ]
         ],
         "hovertemplate": "events=30<br>date=%{x}<br>time=%{y}<br>message=%{customdata[0]}<extra></extra>",
         "legendgroup": "30",
         "line": {
          "color": "#00cc96",
          "dash": "solid"
         },
         "marker": {
          "symbol": "circle"
         },
         "mode": "lines+markers",
         "name": "30",
         "orientation": "v",
         "showlegend": true,
         "type": "scatter",
         "x": [
          "2022-10-15",
          "2022-10-15",
          "2022-10-16"
         ],
         "xaxis": "x",
         "y": [
          12.016666666666667,
          12.283333333333333,
          8.633333333333333
         ],
         "yaxis": "y"
        },
        {
         "customdata": [
          [
           "Phone muted cueing started. Until 22:00 Cueing period: 60 seconds. Vibration pattern: 3x Times. Vibration intensity: Default"
          ],
          [
           "Phone muted cueing started. Until 22:00 Cueing period: 60 seconds. Vibration pattern: 3x Times. Vibration intensity: Default"
          ],
          [
           "Phone muted cueing started. Until 22:00 Cueing period: 60 seconds. Vibration pattern: 3x Times. Vibration intensity: Default"
          ]
         ],
         "hovertemplate": "events=17<br>date=%{x}<br>time=%{y}<br>message=%{customdata[0]}<extra></extra>",
         "legendgroup": "17",
         "line": {
          "color": "#ab63fa",
          "dash": "solid"
         },
         "marker": {
          "symbol": "circle"
         },
         "mode": "lines+markers",
         "name": "17",
         "orientation": "v",
         "showlegend": true,
         "type": "scatter",
         "x": [
          "2022-10-15",
          "2022-10-15",
          "2022-10-16"
         ],
         "xaxis": "x",
         "y": [
          12.016666666666667,
          12.283333333333333,
          8.633333333333333
         ],
         "yaxis": "y"
        },
        {
         "customdata": [
          [
           "Silence mode stopped on phone"
          ],
          [
           "Silence mode stopped on phone"
          ]
         ],
         "hovertemplate": "events=28<br>date=%{x}<br>time=%{y}<br>message=%{customdata[0]}<extra></extra>",
         "legendgroup": "28",
         "line": {
          "color": "#FFA15A",
          "dash": "solid"
         },
         "marker": {
          "symbol": "circle"
         },
         "mode": "lines+markers",
         "name": "28",
         "orientation": "v",
         "showlegend": true,
         "type": "scatter",
         "x": [
          "2022-10-15",
          "2022-10-16"
         ],
         "xaxis": "x",
         "y": [
          12.016666666666667,
          8.633333333333333
         ],
         "yaxis": "y"
        },
        {
         "customdata": [
          [
           "Phone manual cueing started. Until 12:07 Cueing period: 60 seconds. Vibration pattern: 3x Times. Vibration intensity: Default"
          ],
          [
           "Phone manual cueing started. Until 12:07 Cueing period: 60 seconds. Vibration pattern: 3x Times. Vibration intensity: Default"
          ],
          [
           "Phone manual cueing started. Until 12:08 Cueing period: 60 seconds. Vibration pattern: 3x Times. Vibration intensity: Default"
          ],
          [
           "Phone manual cueing started. Until 08:43 Cueing period: 60 seconds. Vibration pattern: 3x Times. Vibration intensity: Default"
          ]
         ],
         "hovertemplate": "events=18<br>date=%{x}<br>time=%{y}<br>message=%{customdata[0]}<extra></extra>",
         "legendgroup": "18",
         "line": {
          "color": "#19d3f3",
          "dash": "solid"
         },
         "marker": {
          "symbol": "circle"
         },
         "mode": "lines+markers",
         "name": "18",
         "orientation": "v",
         "showlegend": true,
         "type": "scatter",
         "x": [
          "2022-10-15",
          "2022-10-15",
          "2022-10-15",
          "2022-10-16"
         ],
         "xaxis": "x",
         "y": [
          12.033333333333333,
          12.033333333333333,
          12.05,
          8.55
         ],
         "yaxis": "y"
        },
        {
         "customdata": [
          [
           "Scheduled Cueing until 0 days 22:00:00"
          ],
          [
           "Scheduled Cueing until 0 days 22:00:00"
          ],
          [
           "Scheduled Cueing until 0 days 22:00:00"
          ],
          [
           "Scheduled Cueing until 0 days 22:00:00"
          ],
          [
           "Scheduled Cueing until 0 days 22:00:00"
          ],
          [
           "Scheduled Cueing until 0 days 22:00:00"
          ],
          [
           "Scheduled Cueing until 0 days 22:00:00"
          ],
          [
           "Scheduled Cueing until 0 days 22:00:00"
          ],
          [
           "Scheduled Cueing until 0 days 22:00:00"
          ],
          [
           "Scheduled Cueing until 0 days 22:00:00"
          ],
          [
           "Scheduled Cueing until 0 days 22:00:00"
          ],
          [
           "Scheduled Cueing until 0 days 22:00:00"
          ],
          [
           "Scheduled Cueing until 0 days 22:00:00"
          ],
          [
           "Scheduled Cueing until 0 days 22:00:00"
          ],
          [
           "Scheduled Cueing until 0 days 22:00:00"
          ],
          [
           "Scheduled Cueing until 0 days 22:00:00"
          ],
          [
           "Scheduled Cueing until 0 days 22:00:00"
          ],
          [
           "Scheduled Cueing until 0 days 22:00:00"
          ],
          [
           "Scheduled Cueing until 0 days 22:00:00"
          ],
          [
           "Scheduled Cueing until 0 days 22:00:00"
          ],
          [
           "Scheduled Cueing until 0 days 22:00:00"
          ]
         ],
         "hovertemplate": "events=Scheduled<br>date=%{x}<br>time=%{y}<br>message=%{customdata[0]}<extra></extra>",
         "legendgroup": "Scheduled",
         "line": {
          "color": "#FF6692",
          "dash": "solid"
         },
         "marker": {
          "symbol": "circle"
         },
         "mode": "lines+markers",
         "name": "Scheduled",
         "orientation": "v",
         "showlegend": true,
         "type": "scatter",
         "x": [
          "2022-10-16",
          "2022-10-17",
          "2022-10-18",
          "2022-10-19",
          "2022-10-20",
          "2022-10-21",
          "2022-10-22",
          "2022-10-23",
          "2022-10-24",
          "2022-10-25",
          "2022-10-26",
          "2022-10-27",
          "2022-10-28",
          "2022-10-29",
          "2022-10-30",
          "2022-10-31",
          "2022-11-01",
          "2022-11-02",
          "2022-11-03",
          "2022-11-04",
          "2022-11-05"
         ],
         "xaxis": "x",
         "y": [
          7,
          7,
          7,
          7,
          7,
          7,
          7,
          7,
          7,
          7,
          7,
          7,
          7,
          7,
          7,
          7,
          7,
          7,
          7,
          7,
          7
         ],
         "yaxis": "y"
        },
        {
         "customdata": [
          [
           "Manual Cueing stopped on phone"
          ]
         ],
         "hovertemplate": "events=25<br>date=%{x}<br>time=%{y}<br>message=%{customdata[0]}<extra></extra>",
         "legendgroup": "25",
         "line": {
          "color": "#B6E880",
          "dash": "solid"
         },
         "marker": {
          "symbol": "circle"
         },
         "mode": "lines+markers",
         "name": "25",
         "orientation": "v",
         "showlegend": true,
         "type": "scatter",
         "x": [
          "2022-10-16"
         ],
         "xaxis": "x",
         "y": [
          8.633333333333333
         ],
         "yaxis": "y"
        }
       ],
       "layout": {
        "legend": {
         "title": {
          "text": "events"
         },
         "tracegroupgap": 0
        },
        "margin": {
         "t": 60
        },
        "template": {
         "data": {
          "bar": [
           {
            "error_x": {
             "color": "#2a3f5f"
            },
            "error_y": {
             "color": "#2a3f5f"
            },
            "marker": {
             "line": {
              "color": "#E5ECF6",
              "width": 0.5
             },
             "pattern": {
              "fillmode": "overlay",
              "size": 10,
              "solidity": 0.2
             }
            },
            "type": "bar"
           }
          ],
          "barpolar": [
           {
            "marker": {
             "line": {
              "color": "#E5ECF6",
              "width": 0.5
             },
             "pattern": {
              "fillmode": "overlay",
              "size": 10,
              "solidity": 0.2
             }
            },
            "type": "barpolar"
           }
          ],
          "carpet": [
           {
            "aaxis": {
             "endlinecolor": "#2a3f5f",
             "gridcolor": "white",
             "linecolor": "white",
             "minorgridcolor": "white",
             "startlinecolor": "#2a3f5f"
            },
            "baxis": {
             "endlinecolor": "#2a3f5f",
             "gridcolor": "white",
             "linecolor": "white",
             "minorgridcolor": "white",
             "startlinecolor": "#2a3f5f"
            },
            "type": "carpet"
           }
          ],
          "choropleth": [
           {
            "colorbar": {
             "outlinewidth": 0,
             "ticks": ""
            },
            "type": "choropleth"
           }
          ],
          "contour": [
           {
            "colorbar": {
             "outlinewidth": 0,
             "ticks": ""
            },
            "colorscale": [
             [
              0,
              "#0d0887"
             ],
             [
              0.1111111111111111,
              "#46039f"
             ],
             [
              0.2222222222222222,
              "#7201a8"
             ],
             [
              0.3333333333333333,
              "#9c179e"
             ],
             [
              0.4444444444444444,
              "#bd3786"
             ],
             [
              0.5555555555555556,
              "#d8576b"
             ],
             [
              0.6666666666666666,
              "#ed7953"
             ],
             [
              0.7777777777777778,
              "#fb9f3a"
             ],
             [
              0.8888888888888888,
              "#fdca26"
             ],
             [
              1,
              "#f0f921"
             ]
            ],
            "type": "contour"
           }
          ],
          "contourcarpet": [
           {
            "colorbar": {
             "outlinewidth": 0,
             "ticks": ""
            },
            "type": "contourcarpet"
           }
          ],
          "heatmap": [
           {
            "colorbar": {
             "outlinewidth": 0,
             "ticks": ""
            },
            "colorscale": [
             [
              0,
              "#0d0887"
             ],
             [
              0.1111111111111111,
              "#46039f"
             ],
             [
              0.2222222222222222,
              "#7201a8"
             ],
             [
              0.3333333333333333,
              "#9c179e"
             ],
             [
              0.4444444444444444,
              "#bd3786"
             ],
             [
              0.5555555555555556,
              "#d8576b"
             ],
             [
              0.6666666666666666,
              "#ed7953"
             ],
             [
              0.7777777777777778,
              "#fb9f3a"
             ],
             [
              0.8888888888888888,
              "#fdca26"
             ],
             [
              1,
              "#f0f921"
             ]
            ],
            "type": "heatmap"
           }
          ],
          "heatmapgl": [
           {
            "colorbar": {
             "outlinewidth": 0,
             "ticks": ""
            },
            "colorscale": [
             [
              0,
              "#0d0887"
             ],
             [
              0.1111111111111111,
              "#46039f"
             ],
             [
              0.2222222222222222,
              "#7201a8"
             ],
             [
              0.3333333333333333,
              "#9c179e"
             ],
             [
              0.4444444444444444,
              "#bd3786"
             ],
             [
              0.5555555555555556,
              "#d8576b"
             ],
             [
              0.6666666666666666,
              "#ed7953"
             ],
             [
              0.7777777777777778,
              "#fb9f3a"
             ],
             [
              0.8888888888888888,
              "#fdca26"
             ],
             [
              1,
              "#f0f921"
             ]
            ],
            "type": "heatmapgl"
           }
          ],
          "histogram": [
           {
            "marker": {
             "pattern": {
              "fillmode": "overlay",
              "size": 10,
              "solidity": 0.2
             }
            },
            "type": "histogram"
           }
          ],
          "histogram2d": [
           {
            "colorbar": {
             "outlinewidth": 0,
             "ticks": ""
            },
            "colorscale": [
             [
              0,
              "#0d0887"
             ],
             [
              0.1111111111111111,
              "#46039f"
             ],
             [
              0.2222222222222222,
              "#7201a8"
             ],
             [
              0.3333333333333333,
              "#9c179e"
             ],
             [
              0.4444444444444444,
              "#bd3786"
             ],
             [
              0.5555555555555556,
              "#d8576b"
             ],
             [
              0.6666666666666666,
              "#ed7953"
             ],
             [
              0.7777777777777778,
              "#fb9f3a"
             ],
             [
              0.8888888888888888,
              "#fdca26"
             ],
             [
              1,
              "#f0f921"
             ]
            ],
            "type": "histogram2d"
           }
          ],
          "histogram2dcontour": [
           {
            "colorbar": {
             "outlinewidth": 0,
             "ticks": ""
            },
            "colorscale": [
             [
              0,
              "#0d0887"
             ],
             [
              0.1111111111111111,
              "#46039f"
             ],
             [
              0.2222222222222222,
              "#7201a8"
             ],
             [
              0.3333333333333333,
              "#9c179e"
             ],
             [
              0.4444444444444444,
              "#bd3786"
             ],
             [
              0.5555555555555556,
              "#d8576b"
             ],
             [
              0.6666666666666666,
              "#ed7953"
             ],
             [
              0.7777777777777778,
              "#fb9f3a"
             ],
             [
              0.8888888888888888,
              "#fdca26"
             ],
             [
              1,
              "#f0f921"
             ]
            ],
            "type": "histogram2dcontour"
           }
          ],
          "mesh3d": [
           {
            "colorbar": {
             "outlinewidth": 0,
             "ticks": ""
            },
            "type": "mesh3d"
           }
          ],
          "parcoords": [
           {
            "line": {
             "colorbar": {
              "outlinewidth": 0,
              "ticks": ""
             }
            },
            "type": "parcoords"
           }
          ],
          "pie": [
           {
            "automargin": true,
            "type": "pie"
           }
          ],
          "scatter": [
           {
            "fillpattern": {
             "fillmode": "overlay",
             "size": 10,
             "solidity": 0.2
            },
            "type": "scatter"
           }
          ],
          "scatter3d": [
           {
            "line": {
             "colorbar": {
              "outlinewidth": 0,
              "ticks": ""
             }
            },
            "marker": {
             "colorbar": {
              "outlinewidth": 0,
              "ticks": ""
             }
            },
            "type": "scatter3d"
           }
          ],
          "scattercarpet": [
           {
            "marker": {
             "colorbar": {
              "outlinewidth": 0,
              "ticks": ""
             }
            },
            "type": "scattercarpet"
           }
          ],
          "scattergeo": [
           {
            "marker": {
             "colorbar": {
              "outlinewidth": 0,
              "ticks": ""
             }
            },
            "type": "scattergeo"
           }
          ],
          "scattergl": [
           {
            "marker": {
             "colorbar": {
              "outlinewidth": 0,
              "ticks": ""
             }
            },
            "type": "scattergl"
           }
          ],
          "scattermapbox": [
           {
            "marker": {
             "colorbar": {
              "outlinewidth": 0,
              "ticks": ""
             }
            },
            "type": "scattermapbox"
           }
          ],
          "scatterpolar": [
           {
            "marker": {
             "colorbar": {
              "outlinewidth": 0,
              "ticks": ""
             }
            },
            "type": "scatterpolar"
           }
          ],
          "scatterpolargl": [
           {
            "marker": {
             "colorbar": {
              "outlinewidth": 0,
              "ticks": ""
             }
            },
            "type": "scatterpolargl"
           }
          ],
          "scatterternary": [
           {
            "marker": {
             "colorbar": {
              "outlinewidth": 0,
              "ticks": ""
             }
            },
            "type": "scatterternary"
           }
          ],
          "surface": [
           {
            "colorbar": {
             "outlinewidth": 0,
             "ticks": ""
            },
            "colorscale": [
             [
              0,
              "#0d0887"
             ],
             [
              0.1111111111111111,
              "#46039f"
             ],
             [
              0.2222222222222222,
              "#7201a8"
             ],
             [
              0.3333333333333333,
              "#9c179e"
             ],
             [
              0.4444444444444444,
              "#bd3786"
             ],
             [
              0.5555555555555556,
              "#d8576b"
             ],
             [
              0.6666666666666666,
              "#ed7953"
             ],
             [
              0.7777777777777778,
              "#fb9f3a"
             ],
             [
              0.8888888888888888,
              "#fdca26"
             ],
             [
              1,
              "#f0f921"
             ]
            ],
            "type": "surface"
           }
          ],
          "table": [
           {
            "cells": {
             "fill": {
              "color": "#EBF0F8"
             },
             "line": {
              "color": "white"
             }
            },
            "header": {
             "fill": {
              "color": "#C8D4E3"
             },
             "line": {
              "color": "white"
             }
            },
            "type": "table"
           }
          ]
         },
         "layout": {
          "annotationdefaults": {
           "arrowcolor": "#2a3f5f",
           "arrowhead": 0,
           "arrowwidth": 1
          },
          "autotypenumbers": "strict",
          "coloraxis": {
           "colorbar": {
            "outlinewidth": 0,
            "ticks": ""
           }
          },
          "colorscale": {
           "diverging": [
            [
             0,
             "#8e0152"
            ],
            [
             0.1,
             "#c51b7d"
            ],
            [
             0.2,
             "#de77ae"
            ],
            [
             0.3,
             "#f1b6da"
            ],
            [
             0.4,
             "#fde0ef"
            ],
            [
             0.5,
             "#f7f7f7"
            ],
            [
             0.6,
             "#e6f5d0"
            ],
            [
             0.7,
             "#b8e186"
            ],
            [
             0.8,
             "#7fbc41"
            ],
            [
             0.9,
             "#4d9221"
            ],
            [
             1,
             "#276419"
            ]
           ],
           "sequential": [
            [
             0,
             "#0d0887"
            ],
            [
             0.1111111111111111,
             "#46039f"
            ],
            [
             0.2222222222222222,
             "#7201a8"
            ],
            [
             0.3333333333333333,
             "#9c179e"
            ],
            [
             0.4444444444444444,
             "#bd3786"
            ],
            [
             0.5555555555555556,
             "#d8576b"
            ],
            [
             0.6666666666666666,
             "#ed7953"
            ],
            [
             0.7777777777777778,
             "#fb9f3a"
            ],
            [
             0.8888888888888888,
             "#fdca26"
            ],
            [
             1,
             "#f0f921"
            ]
           ],
           "sequentialminus": [
            [
             0,
             "#0d0887"
            ],
            [
             0.1111111111111111,
             "#46039f"
            ],
            [
             0.2222222222222222,
             "#7201a8"
            ],
            [
             0.3333333333333333,
             "#9c179e"
            ],
            [
             0.4444444444444444,
             "#bd3786"
            ],
            [
             0.5555555555555556,
             "#d8576b"
            ],
            [
             0.6666666666666666,
             "#ed7953"
            ],
            [
             0.7777777777777778,
             "#fb9f3a"
            ],
            [
             0.8888888888888888,
             "#fdca26"
            ],
            [
             1,
             "#f0f921"
            ]
           ]
          },
          "colorway": [
           "#636efa",
           "#EF553B",
           "#00cc96",
           "#ab63fa",
           "#FFA15A",
           "#19d3f3",
           "#FF6692",
           "#B6E880",
           "#FF97FF",
           "#FECB52"
          ],
          "font": {
           "color": "#2a3f5f"
          },
          "geo": {
           "bgcolor": "white",
           "lakecolor": "white",
           "landcolor": "#E5ECF6",
           "showlakes": true,
           "showland": true,
           "subunitcolor": "white"
          },
          "hoverlabel": {
           "align": "left"
          },
          "hovermode": "closest",
          "mapbox": {
           "style": "light"
          },
          "paper_bgcolor": "white",
          "plot_bgcolor": "#E5ECF6",
          "polar": {
           "angularaxis": {
            "gridcolor": "white",
            "linecolor": "white",
            "ticks": ""
           },
           "bgcolor": "#E5ECF6",
           "radialaxis": {
            "gridcolor": "white",
            "linecolor": "white",
            "ticks": ""
           }
          },
          "scene": {
           "xaxis": {
            "backgroundcolor": "#E5ECF6",
            "gridcolor": "white",
            "gridwidth": 2,
            "linecolor": "white",
            "showbackground": true,
            "ticks": "",
            "zerolinecolor": "white"
           },
           "yaxis": {
            "backgroundcolor": "#E5ECF6",
            "gridcolor": "white",
            "gridwidth": 2,
            "linecolor": "white",
            "showbackground": true,
            "ticks": "",
            "zerolinecolor": "white"
           },
           "zaxis": {
            "backgroundcolor": "#E5ECF6",
            "gridcolor": "white",
            "gridwidth": 2,
            "linecolor": "white",
            "showbackground": true,
            "ticks": "",
            "zerolinecolor": "white"
           }
          },
          "shapedefaults": {
           "line": {
            "color": "#2a3f5f"
           }
          },
          "ternary": {
           "aaxis": {
            "gridcolor": "white",
            "linecolor": "white",
            "ticks": ""
           },
           "baxis": {
            "gridcolor": "white",
            "linecolor": "white",
            "ticks": ""
           },
           "bgcolor": "#E5ECF6",
           "caxis": {
            "gridcolor": "white",
            "linecolor": "white",
            "ticks": ""
           }
          },
          "title": {
           "x": 0.05
          },
          "xaxis": {
           "automargin": true,
           "gridcolor": "white",
           "linecolor": "white",
           "ticks": "",
           "title": {
            "standoff": 15
           },
           "zerolinecolor": "white",
           "zerolinewidth": 2
          },
          "yaxis": {
           "automargin": true,
           "gridcolor": "white",
           "linecolor": "white",
           "ticks": "",
           "title": {
            "standoff": 15
           },
           "zerolinecolor": "white",
           "zerolinewidth": 2
          }
         }
        },
        "xaxis": {
         "anchor": "y",
         "domain": [
          0,
          1
         ],
         "title": {
          "text": "date"
         }
        },
        "yaxis": {
         "anchor": "x",
         "domain": [
          0,
          1
         ],
         "title": {
          "text": "time"
         }
        }
       }
      }
     },
     "metadata": {},
     "output_type": "display_data"
    }
   ],
   "source": [
    "id = 'UGsSC0G3ek'\n",
    "tmp = df_vis.query(\"user == @id\")\n",
    "# display(tmp)\n",
    "# display(cueingIntervals.query(\"user == @id\").head())\n",
    "px.line(tmp, x=\"date\", y=\"time\", hover_data=[\"message\"], color=\"events\", markers= True)"
   ]
  },
  {
   "cell_type": "code",
   "execution_count": 8,
   "metadata": {},
   "outputs": [
    {
     "data": {
      "text/html": [
       "<div>\n",
       "<style scoped>\n",
       "    .dataframe tbody tr th:only-of-type {\n",
       "        vertical-align: middle;\n",
       "    }\n",
       "\n",
       "    .dataframe tbody tr th {\n",
       "        vertical-align: top;\n",
       "    }\n",
       "\n",
       "    .dataframe thead th {\n",
       "        text-align: right;\n",
       "    }\n",
       "</style>\n",
       "<table border=\"1\" class=\"dataframe\">\n",
       "  <thead>\n",
       "    <tr style=\"text-align: right;\">\n",
       "      <th></th>\n",
       "      <th>date</th>\n",
       "      <th>events</th>\n",
       "      <th>message</th>\n",
       "      <th>event_time</th>\n",
       "      <th>lag_event</th>\n",
       "      <th>diff</th>\n",
       "      <th>diff_hour</th>\n",
       "      <th>weekday</th>\n",
       "      <th>user</th>\n",
       "      <th>hour</th>\n",
       "      <th>minute</th>\n",
       "      <th>time</th>\n",
       "    </tr>\n",
       "  </thead>\n",
       "  <tbody>\n",
       "    <tr>\n",
       "      <th>0</th>\n",
       "      <td>2022-10-15</td>\n",
       "      <td>19</td>\n",
       "      <td>Phone scheduled cueing started. Until 22:00 Cu...</td>\n",
       "      <td>2022-10-15 12:03:07.055000+01:00</td>\n",
       "      <td>2022-10-15 18:27:00.542000+01:00</td>\n",
       "      <td>0 days 06:23:53.487000</td>\n",
       "      <td>6.398056</td>\n",
       "      <td>5</td>\n",
       "      <td>UGsSC0G3ek</td>\n",
       "      <td>12</td>\n",
       "      <td>3</td>\n",
       "      <td>12.050000</td>\n",
       "    </tr>\n",
       "    <tr>\n",
       "      <th>1</th>\n",
       "      <td>2022-10-15</td>\n",
       "      <td>19</td>\n",
       "      <td>Phone scheduled cueing started. Until 22:00 Cu...</td>\n",
       "      <td>2022-10-15 18:27:00.542000+01:00</td>\n",
       "      <td>2022-10-15 20:16:15.484000+01:00</td>\n",
       "      <td>0 days 01:49:14.942000</td>\n",
       "      <td>1.820556</td>\n",
       "      <td>5</td>\n",
       "      <td>UGsSC0G3ek</td>\n",
       "      <td>18</td>\n",
       "      <td>27</td>\n",
       "      <td>18.450000</td>\n",
       "    </tr>\n",
       "    <tr>\n",
       "      <th>2</th>\n",
       "      <td>2022-10-15</td>\n",
       "      <td>19</td>\n",
       "      <td>Phone scheduled cueing started. Until 22:00 Cu...</td>\n",
       "      <td>2022-10-15 20:16:15.484000+01:00</td>\n",
       "      <td>2022-10-16 08:41:22.545000+01:00</td>\n",
       "      <td>0 days 12:25:07.061000</td>\n",
       "      <td>12.418611</td>\n",
       "      <td>5</td>\n",
       "      <td>UGsSC0G3ek</td>\n",
       "      <td>20</td>\n",
       "      <td>16</td>\n",
       "      <td>20.266667</td>\n",
       "    </tr>\n",
       "    <tr>\n",
       "      <th>3</th>\n",
       "      <td>2022-10-16</td>\n",
       "      <td>19</td>\n",
       "      <td>Phone scheduled cueing started. Until 22:00 Cu...</td>\n",
       "      <td>2022-10-16 08:41:22.545000+01:00</td>\n",
       "      <td>2022-10-16 08:57:43.865000+01:00</td>\n",
       "      <td>0 days 00:16:21.320000</td>\n",
       "      <td>0.272500</td>\n",
       "      <td>6</td>\n",
       "      <td>UGsSC0G3ek</td>\n",
       "      <td>8</td>\n",
       "      <td>41</td>\n",
       "      <td>8.683333</td>\n",
       "    </tr>\n",
       "    <tr>\n",
       "      <th>4</th>\n",
       "      <td>2022-10-16</td>\n",
       "      <td>19</td>\n",
       "      <td>Phone scheduled cueing started. Until 22:00 Cu...</td>\n",
       "      <td>2022-10-16 08:57:43.865000+01:00</td>\n",
       "      <td>2022-10-16 09:18:18.653000+01:00</td>\n",
       "      <td>0 days 00:20:34.788000</td>\n",
       "      <td>0.342778</td>\n",
       "      <td>6</td>\n",
       "      <td>UGsSC0G3ek</td>\n",
       "      <td>8</td>\n",
       "      <td>57</td>\n",
       "      <td>8.950000</td>\n",
       "    </tr>\n",
       "    <tr>\n",
       "      <th>5</th>\n",
       "      <td>2022-10-16</td>\n",
       "      <td>19</td>\n",
       "      <td>Phone scheduled cueing started. Until 22:00 Cu...</td>\n",
       "      <td>2022-10-16 09:18:18.653000+01:00</td>\n",
       "      <td>2022-10-16 15:48:49.182000+01:00</td>\n",
       "      <td>0 days 06:30:30.529000</td>\n",
       "      <td>6.508333</td>\n",
       "      <td>6</td>\n",
       "      <td>UGsSC0G3ek</td>\n",
       "      <td>9</td>\n",
       "      <td>18</td>\n",
       "      <td>9.300000</td>\n",
       "    </tr>\n",
       "    <tr>\n",
       "      <th>6</th>\n",
       "      <td>2022-10-16</td>\n",
       "      <td>19</td>\n",
       "      <td>Phone scheduled cueing started. Until 22:00 Cu...</td>\n",
       "      <td>2022-10-16 15:48:49.182000+01:00</td>\n",
       "      <td>2022-10-16 16:30:26.349000+01:00</td>\n",
       "      <td>0 days 00:41:37.167000</td>\n",
       "      <td>0.693611</td>\n",
       "      <td>6</td>\n",
       "      <td>UGsSC0G3ek</td>\n",
       "      <td>15</td>\n",
       "      <td>48</td>\n",
       "      <td>15.800000</td>\n",
       "    </tr>\n",
       "    <tr>\n",
       "      <th>7</th>\n",
       "      <td>2022-10-16</td>\n",
       "      <td>19</td>\n",
       "      <td>Phone scheduled cueing started. Until 22:00 Cu...</td>\n",
       "      <td>2022-10-16 16:30:26.349000+01:00</td>\n",
       "      <td>2022-10-16 20:39:30.029000+01:00</td>\n",
       "      <td>0 days 04:09:03.680000</td>\n",
       "      <td>4.150833</td>\n",
       "      <td>6</td>\n",
       "      <td>UGsSC0G3ek</td>\n",
       "      <td>16</td>\n",
       "      <td>30</td>\n",
       "      <td>16.500000</td>\n",
       "    </tr>\n",
       "    <tr>\n",
       "      <th>8</th>\n",
       "      <td>2022-10-16</td>\n",
       "      <td>19</td>\n",
       "      <td>Phone scheduled cueing started. Until 22:00 Cu...</td>\n",
       "      <td>2022-10-16 20:39:30.029000+01:00</td>\n",
       "      <td>2022-10-16 20:52:57.324000+01:00</td>\n",
       "      <td>0 days 00:13:27.295000</td>\n",
       "      <td>0.224167</td>\n",
       "      <td>6</td>\n",
       "      <td>UGsSC0G3ek</td>\n",
       "      <td>20</td>\n",
       "      <td>39</td>\n",
       "      <td>20.650000</td>\n",
       "    </tr>\n",
       "    <tr>\n",
       "      <th>9</th>\n",
       "      <td>2022-10-16</td>\n",
       "      <td>19</td>\n",
       "      <td>Phone scheduled cueing started. Until 22:00 Cu...</td>\n",
       "      <td>2022-10-16 20:52:57.324000+01:00</td>\n",
       "      <td>2022-10-17 10:40:04.479000+01:00</td>\n",
       "      <td>0 days 13:47:07.155000</td>\n",
       "      <td>13.785278</td>\n",
       "      <td>6</td>\n",
       "      <td>UGsSC0G3ek</td>\n",
       "      <td>20</td>\n",
       "      <td>52</td>\n",
       "      <td>20.866667</td>\n",
       "    </tr>\n",
       "    <tr>\n",
       "      <th>10</th>\n",
       "      <td>2022-10-17</td>\n",
       "      <td>19</td>\n",
       "      <td>Phone scheduled cueing started. Until 22:00 Cu...</td>\n",
       "      <td>2022-10-17 10:40:04.479000+01:00</td>\n",
       "      <td>2022-10-17 13:53:31.280000+01:00</td>\n",
       "      <td>0 days 03:13:26.801000</td>\n",
       "      <td>3.223889</td>\n",
       "      <td>0</td>\n",
       "      <td>UGsSC0G3ek</td>\n",
       "      <td>10</td>\n",
       "      <td>40</td>\n",
       "      <td>10.666667</td>\n",
       "    </tr>\n",
       "    <tr>\n",
       "      <th>11</th>\n",
       "      <td>2022-10-17</td>\n",
       "      <td>19</td>\n",
       "      <td>Phone scheduled cueing started. Until 22:00 Cu...</td>\n",
       "      <td>2022-10-17 13:53:31.280000+01:00</td>\n",
       "      <td>2022-10-18 08:16:28.272000+01:00</td>\n",
       "      <td>0 days 18:22:56.992000</td>\n",
       "      <td>18.382222</td>\n",
       "      <td>0</td>\n",
       "      <td>UGsSC0G3ek</td>\n",
       "      <td>13</td>\n",
       "      <td>53</td>\n",
       "      <td>13.883333</td>\n",
       "    </tr>\n",
       "    <tr>\n",
       "      <th>12</th>\n",
       "      <td>2022-10-18</td>\n",
       "      <td>19</td>\n",
       "      <td>Phone scheduled cueing started. Until 22:00 Cu...</td>\n",
       "      <td>2022-10-18 08:16:28.272000+01:00</td>\n",
       "      <td>2022-10-18 13:20:09.394000+01:00</td>\n",
       "      <td>0 days 05:03:41.122000</td>\n",
       "      <td>5.061389</td>\n",
       "      <td>1</td>\n",
       "      <td>UGsSC0G3ek</td>\n",
       "      <td>8</td>\n",
       "      <td>16</td>\n",
       "      <td>8.266667</td>\n",
       "    </tr>\n",
       "    <tr>\n",
       "      <th>13</th>\n",
       "      <td>2022-10-18</td>\n",
       "      <td>19</td>\n",
       "      <td>Phone scheduled cueing started. Until 22:00 Cu...</td>\n",
       "      <td>2022-10-18 13:20:09.394000+01:00</td>\n",
       "      <td>2022-10-18 14:08:47.557000+01:00</td>\n",
       "      <td>0 days 00:48:38.163000</td>\n",
       "      <td>0.810556</td>\n",
       "      <td>1</td>\n",
       "      <td>UGsSC0G3ek</td>\n",
       "      <td>13</td>\n",
       "      <td>20</td>\n",
       "      <td>13.333333</td>\n",
       "    </tr>\n",
       "    <tr>\n",
       "      <th>14</th>\n",
       "      <td>2022-10-18</td>\n",
       "      <td>19</td>\n",
       "      <td>Phone scheduled cueing started. Until 22:00 Cu...</td>\n",
       "      <td>2022-10-18 14:08:47.557000+01:00</td>\n",
       "      <td>2022-10-18 15:43:43.448000+01:00</td>\n",
       "      <td>0 days 01:34:55.891000</td>\n",
       "      <td>1.581944</td>\n",
       "      <td>1</td>\n",
       "      <td>UGsSC0G3ek</td>\n",
       "      <td>14</td>\n",
       "      <td>8</td>\n",
       "      <td>14.133333</td>\n",
       "    </tr>\n",
       "    <tr>\n",
       "      <th>15</th>\n",
       "      <td>2022-10-18</td>\n",
       "      <td>19</td>\n",
       "      <td>Phone scheduled cueing started. Until 22:00 Cu...</td>\n",
       "      <td>2022-10-18 15:43:43.448000+01:00</td>\n",
       "      <td>2022-10-18 18:11:24.694000+01:00</td>\n",
       "      <td>0 days 02:27:41.246000</td>\n",
       "      <td>2.461389</td>\n",
       "      <td>1</td>\n",
       "      <td>UGsSC0G3ek</td>\n",
       "      <td>15</td>\n",
       "      <td>43</td>\n",
       "      <td>15.716667</td>\n",
       "    </tr>\n",
       "    <tr>\n",
       "      <th>16</th>\n",
       "      <td>2022-10-18</td>\n",
       "      <td>19</td>\n",
       "      <td>Phone scheduled cueing started. Until 22:00 Cu...</td>\n",
       "      <td>2022-10-18 18:11:24.694000+01:00</td>\n",
       "      <td>2022-10-19 14:03:39.860000+01:00</td>\n",
       "      <td>0 days 19:52:15.166000</td>\n",
       "      <td>19.870833</td>\n",
       "      <td>1</td>\n",
       "      <td>UGsSC0G3ek</td>\n",
       "      <td>18</td>\n",
       "      <td>11</td>\n",
       "      <td>18.183333</td>\n",
       "    </tr>\n",
       "    <tr>\n",
       "      <th>17</th>\n",
       "      <td>2022-10-19</td>\n",
       "      <td>19</td>\n",
       "      <td>Phone scheduled cueing started. Until 22:00 Cu...</td>\n",
       "      <td>2022-10-19 14:03:39.860000+01:00</td>\n",
       "      <td>NaT</td>\n",
       "      <td>NaT</td>\n",
       "      <td>NaN</td>\n",
       "      <td>2</td>\n",
       "      <td>UGsSC0G3ek</td>\n",
       "      <td>14</td>\n",
       "      <td>3</td>\n",
       "      <td>14.050000</td>\n",
       "    </tr>\n",
       "  </tbody>\n",
       "</table>\n",
       "</div>"
      ],
      "text/plain": [
       "          date events                                            message  \\\n",
       "0   2022-10-15     19  Phone scheduled cueing started. Until 22:00 Cu...   \n",
       "1   2022-10-15     19  Phone scheduled cueing started. Until 22:00 Cu...   \n",
       "2   2022-10-15     19  Phone scheduled cueing started. Until 22:00 Cu...   \n",
       "3   2022-10-16     19  Phone scheduled cueing started. Until 22:00 Cu...   \n",
       "4   2022-10-16     19  Phone scheduled cueing started. Until 22:00 Cu...   \n",
       "5   2022-10-16     19  Phone scheduled cueing started. Until 22:00 Cu...   \n",
       "6   2022-10-16     19  Phone scheduled cueing started. Until 22:00 Cu...   \n",
       "7   2022-10-16     19  Phone scheduled cueing started. Until 22:00 Cu...   \n",
       "8   2022-10-16     19  Phone scheduled cueing started. Until 22:00 Cu...   \n",
       "9   2022-10-16     19  Phone scheduled cueing started. Until 22:00 Cu...   \n",
       "10  2022-10-17     19  Phone scheduled cueing started. Until 22:00 Cu...   \n",
       "11  2022-10-17     19  Phone scheduled cueing started. Until 22:00 Cu...   \n",
       "12  2022-10-18     19  Phone scheduled cueing started. Until 22:00 Cu...   \n",
       "13  2022-10-18     19  Phone scheduled cueing started. Until 22:00 Cu...   \n",
       "14  2022-10-18     19  Phone scheduled cueing started. Until 22:00 Cu...   \n",
       "15  2022-10-18     19  Phone scheduled cueing started. Until 22:00 Cu...   \n",
       "16  2022-10-18     19  Phone scheduled cueing started. Until 22:00 Cu...   \n",
       "17  2022-10-19     19  Phone scheduled cueing started. Until 22:00 Cu...   \n",
       "\n",
       "                         event_time                        lag_event  \\\n",
       "0  2022-10-15 12:03:07.055000+01:00 2022-10-15 18:27:00.542000+01:00   \n",
       "1  2022-10-15 18:27:00.542000+01:00 2022-10-15 20:16:15.484000+01:00   \n",
       "2  2022-10-15 20:16:15.484000+01:00 2022-10-16 08:41:22.545000+01:00   \n",
       "3  2022-10-16 08:41:22.545000+01:00 2022-10-16 08:57:43.865000+01:00   \n",
       "4  2022-10-16 08:57:43.865000+01:00 2022-10-16 09:18:18.653000+01:00   \n",
       "5  2022-10-16 09:18:18.653000+01:00 2022-10-16 15:48:49.182000+01:00   \n",
       "6  2022-10-16 15:48:49.182000+01:00 2022-10-16 16:30:26.349000+01:00   \n",
       "7  2022-10-16 16:30:26.349000+01:00 2022-10-16 20:39:30.029000+01:00   \n",
       "8  2022-10-16 20:39:30.029000+01:00 2022-10-16 20:52:57.324000+01:00   \n",
       "9  2022-10-16 20:52:57.324000+01:00 2022-10-17 10:40:04.479000+01:00   \n",
       "10 2022-10-17 10:40:04.479000+01:00 2022-10-17 13:53:31.280000+01:00   \n",
       "11 2022-10-17 13:53:31.280000+01:00 2022-10-18 08:16:28.272000+01:00   \n",
       "12 2022-10-18 08:16:28.272000+01:00 2022-10-18 13:20:09.394000+01:00   \n",
       "13 2022-10-18 13:20:09.394000+01:00 2022-10-18 14:08:47.557000+01:00   \n",
       "14 2022-10-18 14:08:47.557000+01:00 2022-10-18 15:43:43.448000+01:00   \n",
       "15 2022-10-18 15:43:43.448000+01:00 2022-10-18 18:11:24.694000+01:00   \n",
       "16 2022-10-18 18:11:24.694000+01:00 2022-10-19 14:03:39.860000+01:00   \n",
       "17 2022-10-19 14:03:39.860000+01:00                              NaT   \n",
       "\n",
       "                     diff  diff_hour  weekday        user  hour  minute  \\\n",
       "0  0 days 06:23:53.487000   6.398056        5  UGsSC0G3ek    12       3   \n",
       "1  0 days 01:49:14.942000   1.820556        5  UGsSC0G3ek    18      27   \n",
       "2  0 days 12:25:07.061000  12.418611        5  UGsSC0G3ek    20      16   \n",
       "3  0 days 00:16:21.320000   0.272500        6  UGsSC0G3ek     8      41   \n",
       "4  0 days 00:20:34.788000   0.342778        6  UGsSC0G3ek     8      57   \n",
       "5  0 days 06:30:30.529000   6.508333        6  UGsSC0G3ek     9      18   \n",
       "6  0 days 00:41:37.167000   0.693611        6  UGsSC0G3ek    15      48   \n",
       "7  0 days 04:09:03.680000   4.150833        6  UGsSC0G3ek    16      30   \n",
       "8  0 days 00:13:27.295000   0.224167        6  UGsSC0G3ek    20      39   \n",
       "9  0 days 13:47:07.155000  13.785278        6  UGsSC0G3ek    20      52   \n",
       "10 0 days 03:13:26.801000   3.223889        0  UGsSC0G3ek    10      40   \n",
       "11 0 days 18:22:56.992000  18.382222        0  UGsSC0G3ek    13      53   \n",
       "12 0 days 05:03:41.122000   5.061389        1  UGsSC0G3ek     8      16   \n",
       "13 0 days 00:48:38.163000   0.810556        1  UGsSC0G3ek    13      20   \n",
       "14 0 days 01:34:55.891000   1.581944        1  UGsSC0G3ek    14       8   \n",
       "15 0 days 02:27:41.246000   2.461389        1  UGsSC0G3ek    15      43   \n",
       "16 0 days 19:52:15.166000  19.870833        1  UGsSC0G3ek    18      11   \n",
       "17                    NaT        NaN        2  UGsSC0G3ek    14       3   \n",
       "\n",
       "         time  \n",
       "0   12.050000  \n",
       "1   18.450000  \n",
       "2   20.266667  \n",
       "3    8.683333  \n",
       "4    8.950000  \n",
       "5    9.300000  \n",
       "6   15.800000  \n",
       "7   16.500000  \n",
       "8   20.650000  \n",
       "9   20.866667  \n",
       "10  10.666667  \n",
       "11  13.883333  \n",
       "12   8.266667  \n",
       "13  13.333333  \n",
       "14  14.133333  \n",
       "15  15.716667  \n",
       "16  18.183333  \n",
       "17  14.050000  "
      ]
     },
     "metadata": {},
     "output_type": "display_data"
    },
    {
     "data": {
      "application/vnd.plotly.v1+json": {
       "config": {
        "plotlyServerURL": "https://plot.ly"
       },
       "data": [
        {
         "customdata": [
          [
           "Phone scheduled cueing started. Until 22:00 Cueing period: 60 seconds. Vibration pattern: 3x Times. Vibration intensity: Default"
          ],
          [
           "Phone scheduled cueing started. Until 22:00 Cueing period: 60 seconds. Vibration pattern: 3x Times. Vibration intensity: Default"
          ],
          [
           "Phone scheduled cueing started. Until 22:00 Cueing period: 60 seconds. Vibration pattern: 3x Times. Vibration intensity: Default"
          ],
          [
           "Phone scheduled cueing started. Until 22:00 Cueing period: 60 seconds. Vibration pattern: 3x Times. Vibration intensity: Default"
          ],
          [
           "Phone scheduled cueing started. Until 22:00 Cueing period: 60 seconds. Vibration pattern: 3x Times. Vibration intensity: Default"
          ],
          [
           "Phone scheduled cueing started. Until 22:00 Cueing period: 60 seconds. Vibration pattern: 3x Times. Vibration intensity: Default"
          ],
          [
           "Phone scheduled cueing started. Until 22:00 Cueing period: 60 seconds. Vibration pattern: 3x Times. Vibration intensity: Default"
          ],
          [
           "Phone scheduled cueing started. Until 22:00 Cueing period: 60 seconds. Vibration pattern: 3x Times. Vibration intensity: Default"
          ],
          [
           "Phone scheduled cueing started. Until 22:00 Cueing period: 60 seconds. Vibration pattern: 3x Times. Vibration intensity: Default"
          ],
          [
           "Phone scheduled cueing started. Until 22:00 Cueing period: 60 seconds. Vibration pattern: 3x Times. Vibration intensity: Default"
          ],
          [
           "Phone scheduled cueing started. Until 22:00 Cueing period: 60 seconds. Vibration pattern: 3x Times. Vibration intensity: Default"
          ],
          [
           "Phone scheduled cueing started. Until 22:00 Cueing period: 60 seconds. Vibration pattern: 3x Times. Vibration intensity: Default"
          ],
          [
           "Phone scheduled cueing started. Until 22:00 Cueing period: 60 seconds. Vibration pattern: 3x Times. Vibration intensity: Default"
          ],
          [
           "Phone scheduled cueing started. Until 22:00 Cueing period: 60 seconds. Vibration pattern: 3x Times. Vibration intensity: Default"
          ],
          [
           "Phone scheduled cueing started. Until 22:00 Cueing period: 60 seconds. Vibration pattern: 3x Times. Vibration intensity: Default"
          ],
          [
           "Phone scheduled cueing started. Until 22:00 Cueing period: 60 seconds. Vibration pattern: 3x Times. Vibration intensity: Default"
          ],
          [
           "Phone scheduled cueing started. Until 22:00 Cueing period: 60 seconds. Vibration pattern: 3x Times. Vibration intensity: Default"
          ],
          [
           "Phone scheduled cueing started. Until 22:00 Cueing period: 60 seconds. Vibration pattern: 3x Times. Vibration intensity: Default"
          ]
         ],
         "hovertemplate": "events=19<br>date=%{x}<br>time=%{y}<br>message=%{customdata[0]}<extra></extra>",
         "legendgroup": "19",
         "line": {
          "color": "#636efa",
          "dash": "solid"
         },
         "marker": {
          "symbol": "circle"
         },
         "mode": "lines+markers",
         "name": "19",
         "orientation": "v",
         "showlegend": true,
         "type": "scatter",
         "x": [
          "2022-10-15",
          "2022-10-15",
          "2022-10-15",
          "2022-10-16",
          "2022-10-16",
          "2022-10-16",
          "2022-10-16",
          "2022-10-16",
          "2022-10-16",
          "2022-10-16",
          "2022-10-17",
          "2022-10-17",
          "2022-10-18",
          "2022-10-18",
          "2022-10-18",
          "2022-10-18",
          "2022-10-18",
          "2022-10-19"
         ],
         "xaxis": "x",
         "y": [
          12.05,
          18.45,
          20.266666666666666,
          8.683333333333334,
          8.95,
          9.3,
          15.8,
          16.5,
          20.65,
          20.866666666666667,
          10.666666666666666,
          13.883333333333333,
          8.266666666666667,
          13.333333333333334,
          14.133333333333333,
          15.716666666666667,
          18.183333333333334,
          14.05
         ],
         "yaxis": "y"
        }
       ],
       "layout": {
        "legend": {
         "title": {
          "text": "events"
         },
         "tracegroupgap": 0
        },
        "margin": {
         "t": 60
        },
        "template": {
         "data": {
          "bar": [
           {
            "error_x": {
             "color": "#2a3f5f"
            },
            "error_y": {
             "color": "#2a3f5f"
            },
            "marker": {
             "line": {
              "color": "#E5ECF6",
              "width": 0.5
             },
             "pattern": {
              "fillmode": "overlay",
              "size": 10,
              "solidity": 0.2
             }
            },
            "type": "bar"
           }
          ],
          "barpolar": [
           {
            "marker": {
             "line": {
              "color": "#E5ECF6",
              "width": 0.5
             },
             "pattern": {
              "fillmode": "overlay",
              "size": 10,
              "solidity": 0.2
             }
            },
            "type": "barpolar"
           }
          ],
          "carpet": [
           {
            "aaxis": {
             "endlinecolor": "#2a3f5f",
             "gridcolor": "white",
             "linecolor": "white",
             "minorgridcolor": "white",
             "startlinecolor": "#2a3f5f"
            },
            "baxis": {
             "endlinecolor": "#2a3f5f",
             "gridcolor": "white",
             "linecolor": "white",
             "minorgridcolor": "white",
             "startlinecolor": "#2a3f5f"
            },
            "type": "carpet"
           }
          ],
          "choropleth": [
           {
            "colorbar": {
             "outlinewidth": 0,
             "ticks": ""
            },
            "type": "choropleth"
           }
          ],
          "contour": [
           {
            "colorbar": {
             "outlinewidth": 0,
             "ticks": ""
            },
            "colorscale": [
             [
              0,
              "#0d0887"
             ],
             [
              0.1111111111111111,
              "#46039f"
             ],
             [
              0.2222222222222222,
              "#7201a8"
             ],
             [
              0.3333333333333333,
              "#9c179e"
             ],
             [
              0.4444444444444444,
              "#bd3786"
             ],
             [
              0.5555555555555556,
              "#d8576b"
             ],
             [
              0.6666666666666666,
              "#ed7953"
             ],
             [
              0.7777777777777778,
              "#fb9f3a"
             ],
             [
              0.8888888888888888,
              "#fdca26"
             ],
             [
              1,
              "#f0f921"
             ]
            ],
            "type": "contour"
           }
          ],
          "contourcarpet": [
           {
            "colorbar": {
             "outlinewidth": 0,
             "ticks": ""
            },
            "type": "contourcarpet"
           }
          ],
          "heatmap": [
           {
            "colorbar": {
             "outlinewidth": 0,
             "ticks": ""
            },
            "colorscale": [
             [
              0,
              "#0d0887"
             ],
             [
              0.1111111111111111,
              "#46039f"
             ],
             [
              0.2222222222222222,
              "#7201a8"
             ],
             [
              0.3333333333333333,
              "#9c179e"
             ],
             [
              0.4444444444444444,
              "#bd3786"
             ],
             [
              0.5555555555555556,
              "#d8576b"
             ],
             [
              0.6666666666666666,
              "#ed7953"
             ],
             [
              0.7777777777777778,
              "#fb9f3a"
             ],
             [
              0.8888888888888888,
              "#fdca26"
             ],
             [
              1,
              "#f0f921"
             ]
            ],
            "type": "heatmap"
           }
          ],
          "heatmapgl": [
           {
            "colorbar": {
             "outlinewidth": 0,
             "ticks": ""
            },
            "colorscale": [
             [
              0,
              "#0d0887"
             ],
             [
              0.1111111111111111,
              "#46039f"
             ],
             [
              0.2222222222222222,
              "#7201a8"
             ],
             [
              0.3333333333333333,
              "#9c179e"
             ],
             [
              0.4444444444444444,
              "#bd3786"
             ],
             [
              0.5555555555555556,
              "#d8576b"
             ],
             [
              0.6666666666666666,
              "#ed7953"
             ],
             [
              0.7777777777777778,
              "#fb9f3a"
             ],
             [
              0.8888888888888888,
              "#fdca26"
             ],
             [
              1,
              "#f0f921"
             ]
            ],
            "type": "heatmapgl"
           }
          ],
          "histogram": [
           {
            "marker": {
             "pattern": {
              "fillmode": "overlay",
              "size": 10,
              "solidity": 0.2
             }
            },
            "type": "histogram"
           }
          ],
          "histogram2d": [
           {
            "colorbar": {
             "outlinewidth": 0,
             "ticks": ""
            },
            "colorscale": [
             [
              0,
              "#0d0887"
             ],
             [
              0.1111111111111111,
              "#46039f"
             ],
             [
              0.2222222222222222,
              "#7201a8"
             ],
             [
              0.3333333333333333,
              "#9c179e"
             ],
             [
              0.4444444444444444,
              "#bd3786"
             ],
             [
              0.5555555555555556,
              "#d8576b"
             ],
             [
              0.6666666666666666,
              "#ed7953"
             ],
             [
              0.7777777777777778,
              "#fb9f3a"
             ],
             [
              0.8888888888888888,
              "#fdca26"
             ],
             [
              1,
              "#f0f921"
             ]
            ],
            "type": "histogram2d"
           }
          ],
          "histogram2dcontour": [
           {
            "colorbar": {
             "outlinewidth": 0,
             "ticks": ""
            },
            "colorscale": [
             [
              0,
              "#0d0887"
             ],
             [
              0.1111111111111111,
              "#46039f"
             ],
             [
              0.2222222222222222,
              "#7201a8"
             ],
             [
              0.3333333333333333,
              "#9c179e"
             ],
             [
              0.4444444444444444,
              "#bd3786"
             ],
             [
              0.5555555555555556,
              "#d8576b"
             ],
             [
              0.6666666666666666,
              "#ed7953"
             ],
             [
              0.7777777777777778,
              "#fb9f3a"
             ],
             [
              0.8888888888888888,
              "#fdca26"
             ],
             [
              1,
              "#f0f921"
             ]
            ],
            "type": "histogram2dcontour"
           }
          ],
          "mesh3d": [
           {
            "colorbar": {
             "outlinewidth": 0,
             "ticks": ""
            },
            "type": "mesh3d"
           }
          ],
          "parcoords": [
           {
            "line": {
             "colorbar": {
              "outlinewidth": 0,
              "ticks": ""
             }
            },
            "type": "parcoords"
           }
          ],
          "pie": [
           {
            "automargin": true,
            "type": "pie"
           }
          ],
          "scatter": [
           {
            "fillpattern": {
             "fillmode": "overlay",
             "size": 10,
             "solidity": 0.2
            },
            "type": "scatter"
           }
          ],
          "scatter3d": [
           {
            "line": {
             "colorbar": {
              "outlinewidth": 0,
              "ticks": ""
             }
            },
            "marker": {
             "colorbar": {
              "outlinewidth": 0,
              "ticks": ""
             }
            },
            "type": "scatter3d"
           }
          ],
          "scattercarpet": [
           {
            "marker": {
             "colorbar": {
              "outlinewidth": 0,
              "ticks": ""
             }
            },
            "type": "scattercarpet"
           }
          ],
          "scattergeo": [
           {
            "marker": {
             "colorbar": {
              "outlinewidth": 0,
              "ticks": ""
             }
            },
            "type": "scattergeo"
           }
          ],
          "scattergl": [
           {
            "marker": {
             "colorbar": {
              "outlinewidth": 0,
              "ticks": ""
             }
            },
            "type": "scattergl"
           }
          ],
          "scattermapbox": [
           {
            "marker": {
             "colorbar": {
              "outlinewidth": 0,
              "ticks": ""
             }
            },
            "type": "scattermapbox"
           }
          ],
          "scatterpolar": [
           {
            "marker": {
             "colorbar": {
              "outlinewidth": 0,
              "ticks": ""
             }
            },
            "type": "scatterpolar"
           }
          ],
          "scatterpolargl": [
           {
            "marker": {
             "colorbar": {
              "outlinewidth": 0,
              "ticks": ""
             }
            },
            "type": "scatterpolargl"
           }
          ],
          "scatterternary": [
           {
            "marker": {
             "colorbar": {
              "outlinewidth": 0,
              "ticks": ""
             }
            },
            "type": "scatterternary"
           }
          ],
          "surface": [
           {
            "colorbar": {
             "outlinewidth": 0,
             "ticks": ""
            },
            "colorscale": [
             [
              0,
              "#0d0887"
             ],
             [
              0.1111111111111111,
              "#46039f"
             ],
             [
              0.2222222222222222,
              "#7201a8"
             ],
             [
              0.3333333333333333,
              "#9c179e"
             ],
             [
              0.4444444444444444,
              "#bd3786"
             ],
             [
              0.5555555555555556,
              "#d8576b"
             ],
             [
              0.6666666666666666,
              "#ed7953"
             ],
             [
              0.7777777777777778,
              "#fb9f3a"
             ],
             [
              0.8888888888888888,
              "#fdca26"
             ],
             [
              1,
              "#f0f921"
             ]
            ],
            "type": "surface"
           }
          ],
          "table": [
           {
            "cells": {
             "fill": {
              "color": "#EBF0F8"
             },
             "line": {
              "color": "white"
             }
            },
            "header": {
             "fill": {
              "color": "#C8D4E3"
             },
             "line": {
              "color": "white"
             }
            },
            "type": "table"
           }
          ]
         },
         "layout": {
          "annotationdefaults": {
           "arrowcolor": "#2a3f5f",
           "arrowhead": 0,
           "arrowwidth": 1
          },
          "autotypenumbers": "strict",
          "coloraxis": {
           "colorbar": {
            "outlinewidth": 0,
            "ticks": ""
           }
          },
          "colorscale": {
           "diverging": [
            [
             0,
             "#8e0152"
            ],
            [
             0.1,
             "#c51b7d"
            ],
            [
             0.2,
             "#de77ae"
            ],
            [
             0.3,
             "#f1b6da"
            ],
            [
             0.4,
             "#fde0ef"
            ],
            [
             0.5,
             "#f7f7f7"
            ],
            [
             0.6,
             "#e6f5d0"
            ],
            [
             0.7,
             "#b8e186"
            ],
            [
             0.8,
             "#7fbc41"
            ],
            [
             0.9,
             "#4d9221"
            ],
            [
             1,
             "#276419"
            ]
           ],
           "sequential": [
            [
             0,
             "#0d0887"
            ],
            [
             0.1111111111111111,
             "#46039f"
            ],
            [
             0.2222222222222222,
             "#7201a8"
            ],
            [
             0.3333333333333333,
             "#9c179e"
            ],
            [
             0.4444444444444444,
             "#bd3786"
            ],
            [
             0.5555555555555556,
             "#d8576b"
            ],
            [
             0.6666666666666666,
             "#ed7953"
            ],
            [
             0.7777777777777778,
             "#fb9f3a"
            ],
            [
             0.8888888888888888,
             "#fdca26"
            ],
            [
             1,
             "#f0f921"
            ]
           ],
           "sequentialminus": [
            [
             0,
             "#0d0887"
            ],
            [
             0.1111111111111111,
             "#46039f"
            ],
            [
             0.2222222222222222,
             "#7201a8"
            ],
            [
             0.3333333333333333,
             "#9c179e"
            ],
            [
             0.4444444444444444,
             "#bd3786"
            ],
            [
             0.5555555555555556,
             "#d8576b"
            ],
            [
             0.6666666666666666,
             "#ed7953"
            ],
            [
             0.7777777777777778,
             "#fb9f3a"
            ],
            [
             0.8888888888888888,
             "#fdca26"
            ],
            [
             1,
             "#f0f921"
            ]
           ]
          },
          "colorway": [
           "#636efa",
           "#EF553B",
           "#00cc96",
           "#ab63fa",
           "#FFA15A",
           "#19d3f3",
           "#FF6692",
           "#B6E880",
           "#FF97FF",
           "#FECB52"
          ],
          "font": {
           "color": "#2a3f5f"
          },
          "geo": {
           "bgcolor": "white",
           "lakecolor": "white",
           "landcolor": "#E5ECF6",
           "showlakes": true,
           "showland": true,
           "subunitcolor": "white"
          },
          "hoverlabel": {
           "align": "left"
          },
          "hovermode": "closest",
          "mapbox": {
           "style": "light"
          },
          "paper_bgcolor": "white",
          "plot_bgcolor": "#E5ECF6",
          "polar": {
           "angularaxis": {
            "gridcolor": "white",
            "linecolor": "white",
            "ticks": ""
           },
           "bgcolor": "#E5ECF6",
           "radialaxis": {
            "gridcolor": "white",
            "linecolor": "white",
            "ticks": ""
           }
          },
          "scene": {
           "xaxis": {
            "backgroundcolor": "#E5ECF6",
            "gridcolor": "white",
            "gridwidth": 2,
            "linecolor": "white",
            "showbackground": true,
            "ticks": "",
            "zerolinecolor": "white"
           },
           "yaxis": {
            "backgroundcolor": "#E5ECF6",
            "gridcolor": "white",
            "gridwidth": 2,
            "linecolor": "white",
            "showbackground": true,
            "ticks": "",
            "zerolinecolor": "white"
           },
           "zaxis": {
            "backgroundcolor": "#E5ECF6",
            "gridcolor": "white",
            "gridwidth": 2,
            "linecolor": "white",
            "showbackground": true,
            "ticks": "",
            "zerolinecolor": "white"
           }
          },
          "shapedefaults": {
           "line": {
            "color": "#2a3f5f"
           }
          },
          "ternary": {
           "aaxis": {
            "gridcolor": "white",
            "linecolor": "white",
            "ticks": ""
           },
           "baxis": {
            "gridcolor": "white",
            "linecolor": "white",
            "ticks": ""
           },
           "bgcolor": "#E5ECF6",
           "caxis": {
            "gridcolor": "white",
            "linecolor": "white",
            "ticks": ""
           }
          },
          "title": {
           "x": 0.05
          },
          "xaxis": {
           "automargin": true,
           "gridcolor": "white",
           "linecolor": "white",
           "ticks": "",
           "title": {
            "standoff": 15
           },
           "zerolinecolor": "white",
           "zerolinewidth": 2
          },
          "yaxis": {
           "automargin": true,
           "gridcolor": "white",
           "linecolor": "white",
           "ticks": "",
           "title": {
            "standoff": 15
           },
           "zerolinecolor": "white",
           "zerolinewidth": 2
          }
         }
        },
        "xaxis": {
         "anchor": "y",
         "domain": [
          0,
          1
         ],
         "title": {
          "text": "date"
         }
        },
        "yaxis": {
         "anchor": "x",
         "domain": [
          0,
          1
         ],
         "title": {
          "text": "time"
         }
        }
       }
      }
     },
     "metadata": {},
     "output_type": "display_data"
    }
   ],
   "source": [
    "tmp = df_ts.query(\"user == @id\")\n",
    "display(tmp)\n",
    "px.line(tmp, x=\"date\", y=\"time\", hover_data=[\"message\"], color=\"events\", markers= True)"
   ]
  },
  {
   "cell_type": "code",
   "execution_count": 9,
   "metadata": {},
   "outputs": [
    {
     "data": {
      "application/vnd.plotly.v1+json": {
       "config": {
        "plotlyServerURL": "https://plot.ly"
       },
       "data": [
        {
         "customdata": [
          [
           "Phone scheduled cueing started. Until 22:00 Cueing period: 60 seconds. Vibration pattern: 3x Times. Vibration intensity: Default"
          ],
          [
           "Phone scheduled cueing started. Until 22:00 Cueing period: 60 seconds. Vibration pattern: 3x Times. Vibration intensity: Default"
          ],
          [
           "Phone scheduled cueing started. Until 22:00 Cueing period: 60 seconds. Vibration pattern: 3x Times. Vibration intensity: Default"
          ],
          [
           "Phone scheduled cueing started. Until 22:00 Cueing period: 60 seconds. Vibration pattern: 3x Times. Vibration intensity: Default"
          ],
          [
           "Phone scheduled cueing started. Until 22:00 Cueing period: 60 seconds. Vibration pattern: 3x Times. Vibration intensity: Default"
          ],
          [
           "Phone scheduled cueing started. Until 22:00 Cueing period: 60 seconds. Vibration pattern: 3x Times. Vibration intensity: Default"
          ],
          [
           "Phone scheduled cueing started. Until 22:00 Cueing period: 60 seconds. Vibration pattern: 3x Times. Vibration intensity: Default"
          ],
          [
           "Phone scheduled cueing started. Until 22:00 Cueing period: 60 seconds. Vibration pattern: 3x Times. Vibration intensity: Default"
          ],
          [
           "Phone scheduled cueing started. Until 22:00 Cueing period: 60 seconds. Vibration pattern: 3x Times. Vibration intensity: Default"
          ],
          [
           "Phone scheduled cueing started. Until 22:00 Cueing period: 60 seconds. Vibration pattern: 3x Times. Vibration intensity: Default"
          ],
          [
           "Phone scheduled cueing started. Until 22:00 Cueing period: 60 seconds. Vibration pattern: 3x Times. Vibration intensity: Default"
          ],
          [
           "Phone scheduled cueing started. Until 22:00 Cueing period: 60 seconds. Vibration pattern: 3x Times. Vibration intensity: Default"
          ],
          [
           "Phone scheduled cueing started. Until 22:00 Cueing period: 60 seconds. Vibration pattern: 3x Times. Vibration intensity: Default"
          ],
          [
           "Phone scheduled cueing started. Until 22:00 Cueing period: 60 seconds. Vibration pattern: 3x Times. Vibration intensity: Default"
          ],
          [
           "Phone scheduled cueing started. Until 22:00 Cueing period: 60 seconds. Vibration pattern: 3x Times. Vibration intensity: Default"
          ],
          [
           "Phone scheduled cueing started. Until 22:00 Cueing period: 60 seconds. Vibration pattern: 3x Times. Vibration intensity: Default"
          ],
          [
           "Phone scheduled cueing started. Until 22:00 Cueing period: 60 seconds. Vibration pattern: 3x Times. Vibration intensity: Default"
          ],
          [
           "Phone scheduled cueing started. Until 22:00 Cueing period: 60 seconds. Vibration pattern: 3x Times. Vibration intensity: Default"
          ]
         ],
         "hovertemplate": "index=%{x}<br>diff_hour=%{y}<br>message=%{customdata[0]}<extra></extra>",
         "legendgroup": "",
         "line": {
          "color": "#636efa",
          "dash": "solid"
         },
         "marker": {
          "symbol": "circle"
         },
         "mode": "lines+markers",
         "name": "",
         "orientation": "v",
         "showlegend": false,
         "type": "scatter",
         "x": [
          0,
          1,
          2,
          3,
          4,
          5,
          6,
          7,
          8,
          9,
          10,
          11,
          12,
          13,
          14,
          15,
          16,
          17
         ],
         "xaxis": "x",
         "y": [
          6.398055555555556,
          1.8205555555555555,
          12.418611111111112,
          0.2725,
          0.3427777777777778,
          6.508333333333334,
          0.6936111111111111,
          4.150833333333333,
          0.22416666666666665,
          13.785277777777777,
          3.223888888888889,
          18.38222222222222,
          5.061388888888889,
          0.8105555555555556,
          1.5819444444444444,
          2.461388888888889,
          19.870833333333334,
          null
         ],
         "yaxis": "y"
        }
       ],
       "layout": {
        "legend": {
         "tracegroupgap": 0
        },
        "margin": {
         "t": 60
        },
        "template": {
         "data": {
          "bar": [
           {
            "error_x": {
             "color": "#2a3f5f"
            },
            "error_y": {
             "color": "#2a3f5f"
            },
            "marker": {
             "line": {
              "color": "#E5ECF6",
              "width": 0.5
             },
             "pattern": {
              "fillmode": "overlay",
              "size": 10,
              "solidity": 0.2
             }
            },
            "type": "bar"
           }
          ],
          "barpolar": [
           {
            "marker": {
             "line": {
              "color": "#E5ECF6",
              "width": 0.5
             },
             "pattern": {
              "fillmode": "overlay",
              "size": 10,
              "solidity": 0.2
             }
            },
            "type": "barpolar"
           }
          ],
          "carpet": [
           {
            "aaxis": {
             "endlinecolor": "#2a3f5f",
             "gridcolor": "white",
             "linecolor": "white",
             "minorgridcolor": "white",
             "startlinecolor": "#2a3f5f"
            },
            "baxis": {
             "endlinecolor": "#2a3f5f",
             "gridcolor": "white",
             "linecolor": "white",
             "minorgridcolor": "white",
             "startlinecolor": "#2a3f5f"
            },
            "type": "carpet"
           }
          ],
          "choropleth": [
           {
            "colorbar": {
             "outlinewidth": 0,
             "ticks": ""
            },
            "type": "choropleth"
           }
          ],
          "contour": [
           {
            "colorbar": {
             "outlinewidth": 0,
             "ticks": ""
            },
            "colorscale": [
             [
              0,
              "#0d0887"
             ],
             [
              0.1111111111111111,
              "#46039f"
             ],
             [
              0.2222222222222222,
              "#7201a8"
             ],
             [
              0.3333333333333333,
              "#9c179e"
             ],
             [
              0.4444444444444444,
              "#bd3786"
             ],
             [
              0.5555555555555556,
              "#d8576b"
             ],
             [
              0.6666666666666666,
              "#ed7953"
             ],
             [
              0.7777777777777778,
              "#fb9f3a"
             ],
             [
              0.8888888888888888,
              "#fdca26"
             ],
             [
              1,
              "#f0f921"
             ]
            ],
            "type": "contour"
           }
          ],
          "contourcarpet": [
           {
            "colorbar": {
             "outlinewidth": 0,
             "ticks": ""
            },
            "type": "contourcarpet"
           }
          ],
          "heatmap": [
           {
            "colorbar": {
             "outlinewidth": 0,
             "ticks": ""
            },
            "colorscale": [
             [
              0,
              "#0d0887"
             ],
             [
              0.1111111111111111,
              "#46039f"
             ],
             [
              0.2222222222222222,
              "#7201a8"
             ],
             [
              0.3333333333333333,
              "#9c179e"
             ],
             [
              0.4444444444444444,
              "#bd3786"
             ],
             [
              0.5555555555555556,
              "#d8576b"
             ],
             [
              0.6666666666666666,
              "#ed7953"
             ],
             [
              0.7777777777777778,
              "#fb9f3a"
             ],
             [
              0.8888888888888888,
              "#fdca26"
             ],
             [
              1,
              "#f0f921"
             ]
            ],
            "type": "heatmap"
           }
          ],
          "heatmapgl": [
           {
            "colorbar": {
             "outlinewidth": 0,
             "ticks": ""
            },
            "colorscale": [
             [
              0,
              "#0d0887"
             ],
             [
              0.1111111111111111,
              "#46039f"
             ],
             [
              0.2222222222222222,
              "#7201a8"
             ],
             [
              0.3333333333333333,
              "#9c179e"
             ],
             [
              0.4444444444444444,
              "#bd3786"
             ],
             [
              0.5555555555555556,
              "#d8576b"
             ],
             [
              0.6666666666666666,
              "#ed7953"
             ],
             [
              0.7777777777777778,
              "#fb9f3a"
             ],
             [
              0.8888888888888888,
              "#fdca26"
             ],
             [
              1,
              "#f0f921"
             ]
            ],
            "type": "heatmapgl"
           }
          ],
          "histogram": [
           {
            "marker": {
             "pattern": {
              "fillmode": "overlay",
              "size": 10,
              "solidity": 0.2
             }
            },
            "type": "histogram"
           }
          ],
          "histogram2d": [
           {
            "colorbar": {
             "outlinewidth": 0,
             "ticks": ""
            },
            "colorscale": [
             [
              0,
              "#0d0887"
             ],
             [
              0.1111111111111111,
              "#46039f"
             ],
             [
              0.2222222222222222,
              "#7201a8"
             ],
             [
              0.3333333333333333,
              "#9c179e"
             ],
             [
              0.4444444444444444,
              "#bd3786"
             ],
             [
              0.5555555555555556,
              "#d8576b"
             ],
             [
              0.6666666666666666,
              "#ed7953"
             ],
             [
              0.7777777777777778,
              "#fb9f3a"
             ],
             [
              0.8888888888888888,
              "#fdca26"
             ],
             [
              1,
              "#f0f921"
             ]
            ],
            "type": "histogram2d"
           }
          ],
          "histogram2dcontour": [
           {
            "colorbar": {
             "outlinewidth": 0,
             "ticks": ""
            },
            "colorscale": [
             [
              0,
              "#0d0887"
             ],
             [
              0.1111111111111111,
              "#46039f"
             ],
             [
              0.2222222222222222,
              "#7201a8"
             ],
             [
              0.3333333333333333,
              "#9c179e"
             ],
             [
              0.4444444444444444,
              "#bd3786"
             ],
             [
              0.5555555555555556,
              "#d8576b"
             ],
             [
              0.6666666666666666,
              "#ed7953"
             ],
             [
              0.7777777777777778,
              "#fb9f3a"
             ],
             [
              0.8888888888888888,
              "#fdca26"
             ],
             [
              1,
              "#f0f921"
             ]
            ],
            "type": "histogram2dcontour"
           }
          ],
          "mesh3d": [
           {
            "colorbar": {
             "outlinewidth": 0,
             "ticks": ""
            },
            "type": "mesh3d"
           }
          ],
          "parcoords": [
           {
            "line": {
             "colorbar": {
              "outlinewidth": 0,
              "ticks": ""
             }
            },
            "type": "parcoords"
           }
          ],
          "pie": [
           {
            "automargin": true,
            "type": "pie"
           }
          ],
          "scatter": [
           {
            "fillpattern": {
             "fillmode": "overlay",
             "size": 10,
             "solidity": 0.2
            },
            "type": "scatter"
           }
          ],
          "scatter3d": [
           {
            "line": {
             "colorbar": {
              "outlinewidth": 0,
              "ticks": ""
             }
            },
            "marker": {
             "colorbar": {
              "outlinewidth": 0,
              "ticks": ""
             }
            },
            "type": "scatter3d"
           }
          ],
          "scattercarpet": [
           {
            "marker": {
             "colorbar": {
              "outlinewidth": 0,
              "ticks": ""
             }
            },
            "type": "scattercarpet"
           }
          ],
          "scattergeo": [
           {
            "marker": {
             "colorbar": {
              "outlinewidth": 0,
              "ticks": ""
             }
            },
            "type": "scattergeo"
           }
          ],
          "scattergl": [
           {
            "marker": {
             "colorbar": {
              "outlinewidth": 0,
              "ticks": ""
             }
            },
            "type": "scattergl"
           }
          ],
          "scattermapbox": [
           {
            "marker": {
             "colorbar": {
              "outlinewidth": 0,
              "ticks": ""
             }
            },
            "type": "scattermapbox"
           }
          ],
          "scatterpolar": [
           {
            "marker": {
             "colorbar": {
              "outlinewidth": 0,
              "ticks": ""
             }
            },
            "type": "scatterpolar"
           }
          ],
          "scatterpolargl": [
           {
            "marker": {
             "colorbar": {
              "outlinewidth": 0,
              "ticks": ""
             }
            },
            "type": "scatterpolargl"
           }
          ],
          "scatterternary": [
           {
            "marker": {
             "colorbar": {
              "outlinewidth": 0,
              "ticks": ""
             }
            },
            "type": "scatterternary"
           }
          ],
          "surface": [
           {
            "colorbar": {
             "outlinewidth": 0,
             "ticks": ""
            },
            "colorscale": [
             [
              0,
              "#0d0887"
             ],
             [
              0.1111111111111111,
              "#46039f"
             ],
             [
              0.2222222222222222,
              "#7201a8"
             ],
             [
              0.3333333333333333,
              "#9c179e"
             ],
             [
              0.4444444444444444,
              "#bd3786"
             ],
             [
              0.5555555555555556,
              "#d8576b"
             ],
             [
              0.6666666666666666,
              "#ed7953"
             ],
             [
              0.7777777777777778,
              "#fb9f3a"
             ],
             [
              0.8888888888888888,
              "#fdca26"
             ],
             [
              1,
              "#f0f921"
             ]
            ],
            "type": "surface"
           }
          ],
          "table": [
           {
            "cells": {
             "fill": {
              "color": "#EBF0F8"
             },
             "line": {
              "color": "white"
             }
            },
            "header": {
             "fill": {
              "color": "#C8D4E3"
             },
             "line": {
              "color": "white"
             }
            },
            "type": "table"
           }
          ]
         },
         "layout": {
          "annotationdefaults": {
           "arrowcolor": "#2a3f5f",
           "arrowhead": 0,
           "arrowwidth": 1
          },
          "autotypenumbers": "strict",
          "coloraxis": {
           "colorbar": {
            "outlinewidth": 0,
            "ticks": ""
           }
          },
          "colorscale": {
           "diverging": [
            [
             0,
             "#8e0152"
            ],
            [
             0.1,
             "#c51b7d"
            ],
            [
             0.2,
             "#de77ae"
            ],
            [
             0.3,
             "#f1b6da"
            ],
            [
             0.4,
             "#fde0ef"
            ],
            [
             0.5,
             "#f7f7f7"
            ],
            [
             0.6,
             "#e6f5d0"
            ],
            [
             0.7,
             "#b8e186"
            ],
            [
             0.8,
             "#7fbc41"
            ],
            [
             0.9,
             "#4d9221"
            ],
            [
             1,
             "#276419"
            ]
           ],
           "sequential": [
            [
             0,
             "#0d0887"
            ],
            [
             0.1111111111111111,
             "#46039f"
            ],
            [
             0.2222222222222222,
             "#7201a8"
            ],
            [
             0.3333333333333333,
             "#9c179e"
            ],
            [
             0.4444444444444444,
             "#bd3786"
            ],
            [
             0.5555555555555556,
             "#d8576b"
            ],
            [
             0.6666666666666666,
             "#ed7953"
            ],
            [
             0.7777777777777778,
             "#fb9f3a"
            ],
            [
             0.8888888888888888,
             "#fdca26"
            ],
            [
             1,
             "#f0f921"
            ]
           ],
           "sequentialminus": [
            [
             0,
             "#0d0887"
            ],
            [
             0.1111111111111111,
             "#46039f"
            ],
            [
             0.2222222222222222,
             "#7201a8"
            ],
            [
             0.3333333333333333,
             "#9c179e"
            ],
            [
             0.4444444444444444,
             "#bd3786"
            ],
            [
             0.5555555555555556,
             "#d8576b"
            ],
            [
             0.6666666666666666,
             "#ed7953"
            ],
            [
             0.7777777777777778,
             "#fb9f3a"
            ],
            [
             0.8888888888888888,
             "#fdca26"
            ],
            [
             1,
             "#f0f921"
            ]
           ]
          },
          "colorway": [
           "#636efa",
           "#EF553B",
           "#00cc96",
           "#ab63fa",
           "#FFA15A",
           "#19d3f3",
           "#FF6692",
           "#B6E880",
           "#FF97FF",
           "#FECB52"
          ],
          "font": {
           "color": "#2a3f5f"
          },
          "geo": {
           "bgcolor": "white",
           "lakecolor": "white",
           "landcolor": "#E5ECF6",
           "showlakes": true,
           "showland": true,
           "subunitcolor": "white"
          },
          "hoverlabel": {
           "align": "left"
          },
          "hovermode": "closest",
          "mapbox": {
           "style": "light"
          },
          "paper_bgcolor": "white",
          "plot_bgcolor": "#E5ECF6",
          "polar": {
           "angularaxis": {
            "gridcolor": "white",
            "linecolor": "white",
            "ticks": ""
           },
           "bgcolor": "#E5ECF6",
           "radialaxis": {
            "gridcolor": "white",
            "linecolor": "white",
            "ticks": ""
           }
          },
          "scene": {
           "xaxis": {
            "backgroundcolor": "#E5ECF6",
            "gridcolor": "white",
            "gridwidth": 2,
            "linecolor": "white",
            "showbackground": true,
            "ticks": "",
            "zerolinecolor": "white"
           },
           "yaxis": {
            "backgroundcolor": "#E5ECF6",
            "gridcolor": "white",
            "gridwidth": 2,
            "linecolor": "white",
            "showbackground": true,
            "ticks": "",
            "zerolinecolor": "white"
           },
           "zaxis": {
            "backgroundcolor": "#E5ECF6",
            "gridcolor": "white",
            "gridwidth": 2,
            "linecolor": "white",
            "showbackground": true,
            "ticks": "",
            "zerolinecolor": "white"
           }
          },
          "shapedefaults": {
           "line": {
            "color": "#2a3f5f"
           }
          },
          "ternary": {
           "aaxis": {
            "gridcolor": "white",
            "linecolor": "white",
            "ticks": ""
           },
           "baxis": {
            "gridcolor": "white",
            "linecolor": "white",
            "ticks": ""
           },
           "bgcolor": "#E5ECF6",
           "caxis": {
            "gridcolor": "white",
            "linecolor": "white",
            "ticks": ""
           }
          },
          "title": {
           "x": 0.05
          },
          "xaxis": {
           "automargin": true,
           "gridcolor": "white",
           "linecolor": "white",
           "ticks": "",
           "title": {
            "standoff": 15
           },
           "zerolinecolor": "white",
           "zerolinewidth": 2
          },
          "yaxis": {
           "automargin": true,
           "gridcolor": "white",
           "linecolor": "white",
           "ticks": "",
           "title": {
            "standoff": 15
           },
           "zerolinecolor": "white",
           "zerolinewidth": 2
          }
         }
        },
        "xaxis": {
         "anchor": "y",
         "domain": [
          0,
          1
         ],
         "title": {
          "text": "index"
         }
        },
        "yaxis": {
         "anchor": "x",
         "domain": [
          0,
          1
         ],
         "title": {
          "text": "diff_hour"
         }
        }
       }
      }
     },
     "metadata": {},
     "output_type": "display_data"
    }
   ],
   "source": [
    "px.line(tmp, x=tmp.index, y=\"diff_hour\", hover_data=[\"message\"], markers=True)"
   ]
  },
  {
   "cell_type": "code",
   "execution_count": 13,
   "metadata": {},
   "outputs": [
    {
     "data": {
      "text/html": [
       "<div>\n",
       "<style scoped>\n",
       "    .dataframe tbody tr th:only-of-type {\n",
       "        vertical-align: middle;\n",
       "    }\n",
       "\n",
       "    .dataframe tbody tr th {\n",
       "        vertical-align: top;\n",
       "    }\n",
       "\n",
       "    .dataframe thead th {\n",
       "        text-align: right;\n",
       "    }\n",
       "</style>\n",
       "<table border=\"1\" class=\"dataframe\">\n",
       "  <thead>\n",
       "    <tr style=\"text-align: right;\">\n",
       "      <th></th>\n",
       "      <th>user</th>\n",
       "      <th>diff_hour</th>\n",
       "      <th>num_events</th>\n",
       "    </tr>\n",
       "  </thead>\n",
       "  <tbody>\n",
       "    <tr>\n",
       "      <th>0</th>\n",
       "      <td>SdXaRAR4Ow</td>\n",
       "      <td>NaN</td>\n",
       "      <td>1</td>\n",
       "    </tr>\n",
       "    <tr>\n",
       "      <th>1</th>\n",
       "      <td>uzfF0FE2Ep</td>\n",
       "      <td>NaN</td>\n",
       "      <td>1</td>\n",
       "    </tr>\n",
       "    <tr>\n",
       "      <th>2</th>\n",
       "      <td>rhdsCEGkYs</td>\n",
       "      <td>NaN</td>\n",
       "      <td>1</td>\n",
       "    </tr>\n",
       "    <tr>\n",
       "      <th>3</th>\n",
       "      <td>paHDEQgwBm</td>\n",
       "      <td>NaN</td>\n",
       "      <td>1</td>\n",
       "    </tr>\n",
       "    <tr>\n",
       "      <th>4</th>\n",
       "      <td>nYaQS9Ulkq</td>\n",
       "      <td>NaN</td>\n",
       "      <td>1</td>\n",
       "    </tr>\n",
       "    <tr>\n",
       "      <th>...</th>\n",
       "      <td>...</td>\n",
       "      <td>...</td>\n",
       "      <td>...</td>\n",
       "    </tr>\n",
       "    <tr>\n",
       "      <th>89</th>\n",
       "      <td>AkZCK3y8qH</td>\n",
       "      <td>14.211988</td>\n",
       "      <td>33</td>\n",
       "    </tr>\n",
       "    <tr>\n",
       "      <th>90</th>\n",
       "      <td>mkxN5gMcg2</td>\n",
       "      <td>14.147051</td>\n",
       "      <td>35</td>\n",
       "    </tr>\n",
       "    <tr>\n",
       "      <th>91</th>\n",
       "      <td>k4r54tpUAh</td>\n",
       "      <td>30.488778</td>\n",
       "      <td>41</td>\n",
       "    </tr>\n",
       "    <tr>\n",
       "      <th>92</th>\n",
       "      <td>CCGlM7KPWU</td>\n",
       "      <td>8.647698</td>\n",
       "      <td>43</td>\n",
       "    </tr>\n",
       "    <tr>\n",
       "      <th>93</th>\n",
       "      <td>GRKG1mJkNo</td>\n",
       "      <td>45.896762</td>\n",
       "      <td>68</td>\n",
       "    </tr>\n",
       "  </tbody>\n",
       "</table>\n",
       "<p>94 rows × 3 columns</p>\n",
       "</div>"
      ],
      "text/plain": [
       "          user  diff_hour  num_events\n",
       "0   SdXaRAR4Ow        NaN           1\n",
       "1   uzfF0FE2Ep        NaN           1\n",
       "2   rhdsCEGkYs        NaN           1\n",
       "3   paHDEQgwBm        NaN           1\n",
       "4   nYaQS9Ulkq        NaN           1\n",
       "..         ...        ...         ...\n",
       "89  AkZCK3y8qH  14.211988          33\n",
       "90  mkxN5gMcg2  14.147051          35\n",
       "91  k4r54tpUAh  30.488778          41\n",
       "92  CCGlM7KPWU   8.647698          43\n",
       "93  GRKG1mJkNo  45.896762          68\n",
       "\n",
       "[94 rows x 3 columns]"
      ]
     },
     "execution_count": 13,
     "metadata": {},
     "output_type": "execute_result"
    }
   ],
   "source": [
    "des = df_ts.groupby(\"user\").agg({\"diff_hour\": \"mean\", \"events\": \"count\"}).sort_values(\"events\").rename(columns={\"events\": \"num_events\"}).reset_index()\n",
    "# des = des.merge(appLogs, how='left', on='user').filter([\"user\", \"num_events\", \"platform\"]).drop_duplicates().reset_index(drop=True)\n",
    "# patients_info = patients_info.merge(appLogs[['user', 'platform']], how='left', left_on='userId', right_on='user').drop(columns=['user'])\n",
    "# patients_info = patients_info.merge(des[['user', 'num_events']], how='left', left_on='userId', right_on='user').drop(columns=['user'])\n",
    "des"
   ]
  },
  {
   "cell_type": "code",
   "execution_count": 3,
   "metadata": {},
   "outputs": [
    {
     "ename": "NameError",
     "evalue": "name 'patients_info' is not defined",
     "output_type": "error",
     "traceback": [
      "\u001b[0;31m---------------------------------------------------------------------------\u001b[0m",
      "\u001b[0;31mNameError\u001b[0m                                 Traceback (most recent call last)",
      "Cell \u001b[0;32mIn[3], line 2\u001b[0m\n\u001b[1;32m      1\u001b[0m \u001b[39m# freeliving_info = pd.read_parquet('data/freeliving_info.parquet')\u001b[39;00m\n\u001b[0;32m----> 2\u001b[0m patients_info \u001b[39m=\u001b[39m pd\u001b[39m.\u001b[39mconcat([patients_info, freeliving_info])\u001b[39m.\u001b[39mreset_index()\n\u001b[1;32m      3\u001b[0m patients_info\n",
      "\u001b[0;31mNameError\u001b[0m: name 'patients_info' is not defined"
     ]
    }
   ],
   "source": [
    "# freeliving_info = pd.read_parquet('data/freeliving_info.parquet')\n",
    "patients_info = pd.concat([patients_info, freeliving_info]).reset_index()\n",
    "patients_info"
   ]
  },
  {
   "cell_type": "code",
   "execution_count": null,
   "metadata": {},
   "outputs": [],
   "source": [
    "patients_info = patients_info.drop_duplicates(subset=['userId']).reset_index(drop=True).drop(columns=['platform_y']).rename(columns={'platform_x': 'platform'})\n",
    "patients_info = patients_info.drop(columns=['num_events_x', 'num_events_y'])\n"
   ]
  },
  {
   "cell_type": "code",
   "execution_count": 26,
   "metadata": {},
   "outputs": [
    {
     "data": {
      "text/html": [
       "<div>\n",
       "<style scoped>\n",
       "    .dataframe tbody tr th:only-of-type {\n",
       "        vertical-align: middle;\n",
       "    }\n",
       "\n",
       "    .dataframe tbody tr th {\n",
       "        vertical-align: top;\n",
       "    }\n",
       "\n",
       "    .dataframe thead th {\n",
       "        text-align: right;\n",
       "    }\n",
       "</style>\n",
       "<table border=\"1\" class=\"dataframe\">\n",
       "  <thead>\n",
       "    <tr style=\"text-align: right;\">\n",
       "      <th></th>\n",
       "      <th>userId</th>\n",
       "      <th>gender</th>\n",
       "      <th>ageRange</th>\n",
       "      <th>ethnicGroup</th>\n",
       "      <th>platform</th>\n",
       "      <th>num_events</th>\n",
       "    </tr>\n",
       "  </thead>\n",
       "  <tbody>\n",
       "    <tr>\n",
       "      <th>0</th>\n",
       "      <td>54hFUuEnJA</td>\n",
       "      <td>Male</td>\n",
       "      <td>65+ years</td>\n",
       "      <td>None</td>\n",
       "      <td>Android</td>\n",
       "      <td>7.0</td>\n",
       "    </tr>\n",
       "    <tr>\n",
       "      <th>1</th>\n",
       "      <td>KpZ0DlA0Qa</td>\n",
       "      <td>Male</td>\n",
       "      <td>65+ years</td>\n",
       "      <td>English, Welsh, Scottish, Northern Irish or Br...</td>\n",
       "      <td>iOS</td>\n",
       "      <td>29.0</td>\n",
       "    </tr>\n",
       "    <tr>\n",
       "      <th>2</th>\n",
       "      <td>gymn4uQetH</td>\n",
       "      <td>Female</td>\n",
       "      <td>45-54 years</td>\n",
       "      <td>None</td>\n",
       "      <td>iOS</td>\n",
       "      <td>NaN</td>\n",
       "    </tr>\n",
       "    <tr>\n",
       "      <th>3</th>\n",
       "      <td>JqZPr3q1LD</td>\n",
       "      <td>Male</td>\n",
       "      <td>55-64 years</td>\n",
       "      <td>English, Welsh, Scottish, Northern Irish or Br...</td>\n",
       "      <td>Android</td>\n",
       "      <td>NaN</td>\n",
       "    </tr>\n",
       "    <tr>\n",
       "      <th>4</th>\n",
       "      <td>CCGlM7KPWU</td>\n",
       "      <td>Female</td>\n",
       "      <td>45-54 years</td>\n",
       "      <td>English, Welsh, Scottish, Northern Irish or Br...</td>\n",
       "      <td>Android</td>\n",
       "      <td>43.0</td>\n",
       "    </tr>\n",
       "    <tr>\n",
       "      <th>...</th>\n",
       "      <td>...</td>\n",
       "      <td>...</td>\n",
       "      <td>...</td>\n",
       "      <td>...</td>\n",
       "      <td>...</td>\n",
       "      <td>...</td>\n",
       "    </tr>\n",
       "    <tr>\n",
       "      <th>160</th>\n",
       "      <td>oUCkUDBVJN</td>\n",
       "      <td>Male</td>\n",
       "      <td>65+ years</td>\n",
       "      <td>English, Welsh, Scottish, Northern Irish or Br...</td>\n",
       "      <td>iOS</td>\n",
       "      <td>NaN</td>\n",
       "    </tr>\n",
       "    <tr>\n",
       "      <th>161</th>\n",
       "      <td>DKbVAN98Ia</td>\n",
       "      <td>Male</td>\n",
       "      <td>65+ years</td>\n",
       "      <td>English, Welsh, Scottish, Northern Irish or Br...</td>\n",
       "      <td>iOS</td>\n",
       "      <td>14.0</td>\n",
       "    </tr>\n",
       "    <tr>\n",
       "      <th>162</th>\n",
       "      <td>l6oEaMAWYG</td>\n",
       "      <td>Male</td>\n",
       "      <td>65+ years</td>\n",
       "      <td>English, Welsh, Scottish, Northern Irish or Br...</td>\n",
       "      <td>Android</td>\n",
       "      <td>NaN</td>\n",
       "    </tr>\n",
       "    <tr>\n",
       "      <th>163</th>\n",
       "      <td>rhdsCEGkYs</td>\n",
       "      <td>Male</td>\n",
       "      <td>55-64 years</td>\n",
       "      <td>English, Welsh, Scottish, Northern Irish or Br...</td>\n",
       "      <td>iOS</td>\n",
       "      <td>1.0</td>\n",
       "    </tr>\n",
       "    <tr>\n",
       "      <th>164</th>\n",
       "      <td>TLjW3uGMNh</td>\n",
       "      <td>Male</td>\n",
       "      <td>65+ years</td>\n",
       "      <td>None</td>\n",
       "      <td>iOS</td>\n",
       "      <td>NaN</td>\n",
       "    </tr>\n",
       "  </tbody>\n",
       "</table>\n",
       "<p>165 rows × 6 columns</p>\n",
       "</div>"
      ],
      "text/plain": [
       "         userId  gender     ageRange  \\\n",
       "0    54hFUuEnJA    Male    65+ years   \n",
       "1    KpZ0DlA0Qa    Male    65+ years   \n",
       "2    gymn4uQetH  Female  45-54 years   \n",
       "3    JqZPr3q1LD    Male  55-64 years   \n",
       "4    CCGlM7KPWU  Female  45-54 years   \n",
       "..          ...     ...          ...   \n",
       "160  oUCkUDBVJN    Male    65+ years   \n",
       "161  DKbVAN98Ia    Male    65+ years   \n",
       "162  l6oEaMAWYG    Male    65+ years   \n",
       "163  rhdsCEGkYs    Male  55-64 years   \n",
       "164  TLjW3uGMNh    Male    65+ years   \n",
       "\n",
       "                                           ethnicGroup platform  num_events  \n",
       "0                                                 None  Android         7.0  \n",
       "1    English, Welsh, Scottish, Northern Irish or Br...      iOS        29.0  \n",
       "2                                                 None      iOS         NaN  \n",
       "3    English, Welsh, Scottish, Northern Irish or Br...  Android         NaN  \n",
       "4    English, Welsh, Scottish, Northern Irish or Br...  Android        43.0  \n",
       "..                                                 ...      ...         ...  \n",
       "160  English, Welsh, Scottish, Northern Irish or Br...      iOS         NaN  \n",
       "161  English, Welsh, Scottish, Northern Irish or Br...      iOS        14.0  \n",
       "162  English, Welsh, Scottish, Northern Irish or Br...  Android         NaN  \n",
       "163  English, Welsh, Scottish, Northern Irish or Br...      iOS         1.0  \n",
       "164                                               None      iOS         NaN  \n",
       "\n",
       "[165 rows x 6 columns]"
      ]
     },
     "execution_count": 26,
     "metadata": {},
     "output_type": "execute_result"
    }
   ],
   "source": [
    "patients_info= patients_info.merge(des, how=\"left\", left_on='userId', right_on='user').filter([\"userId\", \"gender\", \"ageRange\", \"ethnicGroup\", \"platform\", \"num_events\"])\n",
    "patients_info"
   ]
  },
  {
   "cell_type": "code",
   "execution_count": 13,
   "metadata": {},
   "outputs": [
    {
     "data": {
      "text/plain": [
       "<AxesSubplot: >"
      ]
     },
     "execution_count": 13,
     "metadata": {},
     "output_type": "execute_result"
    },
    {
     "data": {
      "image/png": "[encoded data removed]",
      "text/plain": [
       "<Figure size 640x480 with 1 Axes>"
      ]
     },
     "metadata": {},
     "output_type": "display_data"
    }
   ],
   "source": [
    "des['num_events'].hist()"
   ]
  },
  {
   "cell_type": "code",
   "execution_count": 27,
   "metadata": {},
   "outputs": [
    {
     "data": {
      "text/html": [
       "<div>\n",
       "<style scoped>\n",
       "    .dataframe tbody tr th:only-of-type {\n",
       "        vertical-align: middle;\n",
       "    }\n",
       "\n",
       "    .dataframe tbody tr th {\n",
       "        vertical-align: top;\n",
       "    }\n",
       "\n",
       "    .dataframe thead th {\n",
       "        text-align: right;\n",
       "    }\n",
       "</style>\n",
       "<table border=\"1\" class=\"dataframe\">\n",
       "  <thead>\n",
       "    <tr style=\"text-align: right;\">\n",
       "      <th></th>\n",
       "      <th>date</th>\n",
       "      <th>events</th>\n",
       "      <th>message</th>\n",
       "      <th>event_time</th>\n",
       "      <th>lag_event</th>\n",
       "      <th>diff</th>\n",
       "      <th>diff_hour</th>\n",
       "      <th>weekday</th>\n",
       "      <th>user</th>\n",
       "      <th>hour</th>\n",
       "      <th>minute</th>\n",
       "      <th>time</th>\n",
       "      <th>end_time</th>\n",
       "    </tr>\n",
       "  </thead>\n",
       "  <tbody>\n",
       "    <tr>\n",
       "      <th>0</th>\n",
       "      <td>2022-11-25</td>\n",
       "      <td>19</td>\n",
       "      <td>Phone scheduled cueing started. Until 13:00 Cu...</td>\n",
       "      <td>2022-11-25 12:01:13.166000+00:00</td>\n",
       "      <td>2022-11-27 09:00:19.121000+00:00</td>\n",
       "      <td>1 days 20:59:05.955000</td>\n",
       "      <td>44.984722</td>\n",
       "      <td>4</td>\n",
       "      <td>54hFUuEnJA</td>\n",
       "      <td>12</td>\n",
       "      <td>1</td>\n",
       "      <td>12.016667</td>\n",
       "      <td>2022-11-25 13:00:00+00:00</td>\n",
       "    </tr>\n",
       "    <tr>\n",
       "      <th>1</th>\n",
       "      <td>2022-11-27</td>\n",
       "      <td>19</td>\n",
       "      <td>Phone scheduled cueing started. Until 10:00 Cu...</td>\n",
       "      <td>2022-11-27 09:00:19.121000+00:00</td>\n",
       "      <td>2022-11-28 17:13:12.183000+00:00</td>\n",
       "      <td>1 days 08:12:53.062000</td>\n",
       "      <td>32.214722</td>\n",
       "      <td>6</td>\n",
       "      <td>54hFUuEnJA</td>\n",
       "      <td>9</td>\n",
       "      <td>0</td>\n",
       "      <td>9.000000</td>\n",
       "      <td>2022-11-27 10:00:00+00:00</td>\n",
       "    </tr>\n",
       "    <tr>\n",
       "      <th>2</th>\n",
       "      <td>2022-11-28</td>\n",
       "      <td>19</td>\n",
       "      <td>Phone scheduled cueing started. Until 18:00 Cu...</td>\n",
       "      <td>2022-11-28 17:13:12.183000+00:00</td>\n",
       "      <td>2022-11-29 17:49:31.522000+00:00</td>\n",
       "      <td>1 days 00:36:19.339000</td>\n",
       "      <td>24.605278</td>\n",
       "      <td>0</td>\n",
       "      <td>54hFUuEnJA</td>\n",
       "      <td>17</td>\n",
       "      <td>13</td>\n",
       "      <td>17.216667</td>\n",
       "      <td>2022-11-28 18:00:00+00:00</td>\n",
       "    </tr>\n",
       "    <tr>\n",
       "      <th>3</th>\n",
       "      <td>2022-11-29</td>\n",
       "      <td>19</td>\n",
       "      <td>Phone scheduled cueing started. Until 18:00 Cu...</td>\n",
       "      <td>2022-11-29 17:49:31.522000+00:00</td>\n",
       "      <td>2022-11-30 17:35:52.147000+00:00</td>\n",
       "      <td>0 days 23:46:20.625000</td>\n",
       "      <td>23.772222</td>\n",
       "      <td>1</td>\n",
       "      <td>54hFUuEnJA</td>\n",
       "      <td>17</td>\n",
       "      <td>49</td>\n",
       "      <td>17.816667</td>\n",
       "      <td>2022-11-29 18:00:00+00:00</td>\n",
       "    </tr>\n",
       "    <tr>\n",
       "      <th>4</th>\n",
       "      <td>2022-11-30</td>\n",
       "      <td>19</td>\n",
       "      <td>Phone scheduled cueing started. Until 18:00 Cu...</td>\n",
       "      <td>2022-11-30 17:35:52.147000+00:00</td>\n",
       "      <td>2022-12-06 17:05:03.768000+00:00</td>\n",
       "      <td>5 days 23:29:11.621000</td>\n",
       "      <td>143.486389</td>\n",
       "      <td>2</td>\n",
       "      <td>54hFUuEnJA</td>\n",
       "      <td>17</td>\n",
       "      <td>35</td>\n",
       "      <td>17.583333</td>\n",
       "      <td>2022-11-30 18:00:00+00:00</td>\n",
       "    </tr>\n",
       "    <tr>\n",
       "      <th>...</th>\n",
       "      <td>...</td>\n",
       "      <td>...</td>\n",
       "      <td>...</td>\n",
       "      <td>...</td>\n",
       "      <td>...</td>\n",
       "      <td>...</td>\n",
       "      <td>...</td>\n",
       "      <td>...</td>\n",
       "      <td>...</td>\n",
       "      <td>...</td>\n",
       "      <td>...</td>\n",
       "      <td>...</td>\n",
       "      <td>...</td>\n",
       "    </tr>\n",
       "    <tr>\n",
       "      <th>10</th>\n",
       "      <td>2023-03-23</td>\n",
       "      <td>13</td>\n",
       "      <td>Wearable scheduled cueing started Until 20:00 ...</td>\n",
       "      <td>2023-03-23 15:49:04.669000+00:00</td>\n",
       "      <td>2023-03-24 13:09:08.143000+00:00</td>\n",
       "      <td>0 days 21:20:03.474000</td>\n",
       "      <td>21.334167</td>\n",
       "      <td>3</td>\n",
       "      <td>DKbVAN98Ia</td>\n",
       "      <td>15</td>\n",
       "      <td>49</td>\n",
       "      <td>15.816667</td>\n",
       "      <td>2023-03-23 20:00:00+00:00</td>\n",
       "    </tr>\n",
       "    <tr>\n",
       "      <th>11</th>\n",
       "      <td>2023-03-24</td>\n",
       "      <td>13</td>\n",
       "      <td>Wearable scheduled cueing started Until 20:00 ...</td>\n",
       "      <td>2023-03-24 13:09:08.143000+00:00</td>\n",
       "      <td>2023-03-25 12:57:53.691000+00:00</td>\n",
       "      <td>0 days 23:48:45.548000</td>\n",
       "      <td>23.812500</td>\n",
       "      <td>4</td>\n",
       "      <td>DKbVAN98Ia</td>\n",
       "      <td>13</td>\n",
       "      <td>9</td>\n",
       "      <td>13.150000</td>\n",
       "      <td>2023-03-24 20:00:00+00:00</td>\n",
       "    </tr>\n",
       "    <tr>\n",
       "      <th>12</th>\n",
       "      <td>2023-03-25</td>\n",
       "      <td>13</td>\n",
       "      <td>Wearable scheduled cueing started Until 20:00 ...</td>\n",
       "      <td>2023-03-25 12:57:53.691000+00:00</td>\n",
       "      <td>2023-03-26 10:04:37.760000+01:00</td>\n",
       "      <td>0 days 20:06:44.069000</td>\n",
       "      <td>20.112222</td>\n",
       "      <td>5</td>\n",
       "      <td>DKbVAN98Ia</td>\n",
       "      <td>12</td>\n",
       "      <td>57</td>\n",
       "      <td>12.950000</td>\n",
       "      <td>2023-03-25 20:00:00+00:00</td>\n",
       "    </tr>\n",
       "    <tr>\n",
       "      <th>13</th>\n",
       "      <td>2023-03-26</td>\n",
       "      <td>13</td>\n",
       "      <td>Wearable scheduled cueing started Until 20:00 ...</td>\n",
       "      <td>2023-03-26 10:04:37.760000+01:00</td>\n",
       "      <td>NaT</td>\n",
       "      <td>NaT</td>\n",
       "      <td>NaN</td>\n",
       "      <td>6</td>\n",
       "      <td>DKbVAN98Ia</td>\n",
       "      <td>10</td>\n",
       "      <td>4</td>\n",
       "      <td>10.066667</td>\n",
       "      <td>2023-03-26 21:00:00+01:00</td>\n",
       "    </tr>\n",
       "    <tr>\n",
       "      <th>0</th>\n",
       "      <td>2023-03-28</td>\n",
       "      <td>12</td>\n",
       "      <td>Wearable manual cueing started Until 19:57 Cue...</td>\n",
       "      <td>2023-03-28 19:47:20.854000+01:00</td>\n",
       "      <td>NaT</td>\n",
       "      <td>NaT</td>\n",
       "      <td>NaN</td>\n",
       "      <td>1</td>\n",
       "      <td>rhdsCEGkYs</td>\n",
       "      <td>19</td>\n",
       "      <td>47</td>\n",
       "      <td>19.783333</td>\n",
       "      <td>2023-03-28 19:57:00+01:00</td>\n",
       "    </tr>\n",
       "  </tbody>\n",
       "</table>\n",
       "<p>1003 rows × 13 columns</p>\n",
       "</div>"
      ],
      "text/plain": [
       "          date events                                            message  \\\n",
       "0   2022-11-25     19  Phone scheduled cueing started. Until 13:00 Cu...   \n",
       "1   2022-11-27     19  Phone scheduled cueing started. Until 10:00 Cu...   \n",
       "2   2022-11-28     19  Phone scheduled cueing started. Until 18:00 Cu...   \n",
       "3   2022-11-29     19  Phone scheduled cueing started. Until 18:00 Cu...   \n",
       "4   2022-11-30     19  Phone scheduled cueing started. Until 18:00 Cu...   \n",
       "..         ...    ...                                                ...   \n",
       "10  2023-03-23     13  Wearable scheduled cueing started Until 20:00 ...   \n",
       "11  2023-03-24     13  Wearable scheduled cueing started Until 20:00 ...   \n",
       "12  2023-03-25     13  Wearable scheduled cueing started Until 20:00 ...   \n",
       "13  2023-03-26     13  Wearable scheduled cueing started Until 20:00 ...   \n",
       "0   2023-03-28     12  Wearable manual cueing started Until 19:57 Cue...   \n",
       "\n",
       "                         event_time                        lag_event  \\\n",
       "0  2022-11-25 12:01:13.166000+00:00 2022-11-27 09:00:19.121000+00:00   \n",
       "1  2022-11-27 09:00:19.121000+00:00 2022-11-28 17:13:12.183000+00:00   \n",
       "2  2022-11-28 17:13:12.183000+00:00 2022-11-29 17:49:31.522000+00:00   \n",
       "3  2022-11-29 17:49:31.522000+00:00 2022-11-30 17:35:52.147000+00:00   \n",
       "4  2022-11-30 17:35:52.147000+00:00 2022-12-06 17:05:03.768000+00:00   \n",
       "..                              ...                              ...   \n",
       "10 2023-03-23 15:49:04.669000+00:00 2023-03-24 13:09:08.143000+00:00   \n",
       "11 2023-03-24 13:09:08.143000+00:00 2023-03-25 12:57:53.691000+00:00   \n",
       "12 2023-03-25 12:57:53.691000+00:00 2023-03-26 10:04:37.760000+01:00   \n",
       "13 2023-03-26 10:04:37.760000+01:00                              NaT   \n",
       "0  2023-03-28 19:47:20.854000+01:00                              NaT   \n",
       "\n",
       "                     diff   diff_hour  weekday        user  hour  minute  \\\n",
       "0  1 days 20:59:05.955000   44.984722        4  54hFUuEnJA    12       1   \n",
       "1  1 days 08:12:53.062000   32.214722        6  54hFUuEnJA     9       0   \n",
       "2  1 days 00:36:19.339000   24.605278        0  54hFUuEnJA    17      13   \n",
       "3  0 days 23:46:20.625000   23.772222        1  54hFUuEnJA    17      49   \n",
       "4  5 days 23:29:11.621000  143.486389        2  54hFUuEnJA    17      35   \n",
       "..                    ...         ...      ...         ...   ...     ...   \n",
       "10 0 days 21:20:03.474000   21.334167        3  DKbVAN98Ia    15      49   \n",
       "11 0 days 23:48:45.548000   23.812500        4  DKbVAN98Ia    13       9   \n",
       "12 0 days 20:06:44.069000   20.112222        5  DKbVAN98Ia    12      57   \n",
       "13                    NaT         NaN        6  DKbVAN98Ia    10       4   \n",
       "0                     NaT         NaN        1  rhdsCEGkYs    19      47   \n",
       "\n",
       "         time                  end_time  \n",
       "0   12.016667 2022-11-25 13:00:00+00:00  \n",
       "1    9.000000 2022-11-27 10:00:00+00:00  \n",
       "2   17.216667 2022-11-28 18:00:00+00:00  \n",
       "3   17.816667 2022-11-29 18:00:00+00:00  \n",
       "4   17.583333 2022-11-30 18:00:00+00:00  \n",
       "..        ...                       ...  \n",
       "10  15.816667 2023-03-23 20:00:00+00:00  \n",
       "11  13.150000 2023-03-24 20:00:00+00:00  \n",
       "12  12.950000 2023-03-25 20:00:00+00:00  \n",
       "13  10.066667 2023-03-26 21:00:00+01:00  \n",
       "0   19.783333 2023-03-28 19:57:00+01:00  \n",
       "\n",
       "[1003 rows x 13 columns]"
      ]
     },
     "execution_count": 27,
     "metadata": {},
     "output_type": "execute_result"
    }
   ],
   "source": [
    "# x = tmp.iloc[7]\n",
    "# event_type = x['events']\n",
    "def process_end_event(x):\n",
    "    event_type = x['events'] # '18' scheduled, '19' manual \n",
    "    message = x['message']\n",
    "    date = x['event_time'].floor(\"D\")\n",
    "    loc = message.find(\"Until\")\n",
    "    \n",
    "    h = message[loc + 6:loc + 8]\n",
    "    m = message[loc + 9:loc + 11]\n",
    "\n",
    "    end_time = date + pd.Timedelta(int(h), 'H') + pd.Timedelta(int(m), 'T')\n",
    "    x['end_time'] = end_time\n",
    "    \n",
    "    return x\n",
    "    \n",
    "df_ts = df_ts.apply(process_end_event, axis=1)\n",
    "df_ts\n",
    "# x[38:43]\n",
    "# x[35:40]"
   ]
  },
  {
   "cell_type": "code",
   "execution_count": null,
   "metadata": {},
   "outputs": [],
   "source": [
    "sample = df_ts.query(\"user == @id\")\n",
    "idx = pd.date_range(start = pd.Timestamp('05:00:00'), end=pd.Timestamp('23:59:00'), freq='5min').strftime('%H:%M:%S')\n",
    "\n",
    "sample = sample.assign(day_start_time = lambda x: x['event_time'].dt.round(\"5T\").dt.strftime('%H:%M:%S'), \\\n",
    "                       day_end_time = lambda x: x['end_time'].dt.round(\"5T\").dt.strftime('%H:%M:%S'))\n",
    "dates = list(sample['date'].unique())\n",
    "date = dates[4]\n",
    "df = pd.DataFrame({'time': idx}).set_index('time')\n",
    "df['val'] = 0\n",
    "display(sample.query(\"date == @date\"))\n",
    "for i, r in sample.query(\"date == @date\").iterrows():\n",
    "    start_time = r['day_start_time']\n",
    "    end_time = r['day_end_time']\n",
    "    event = int(r['events'])\n",
    "    df.loc[start_time:end_time] = event\n",
    "    \n",
    "px.line(df, x=df.index, y='val')"
   ]
  },
  {
   "cell_type": "code",
   "execution_count": 31,
   "metadata": {},
   "outputs": [],
   "source": [
    "patients_info = patients_info.set_index(\"userId\")"
   ]
  },
  {
   "cell_type": "code",
   "execution_count": 35,
   "metadata": {},
   "outputs": [],
   "source": [
    "# import os\n",
    "ids = patients_info.query(\"num_events > 10\").index.to_list()\n",
    "f = open(f\"plot/00/concat.html\", \"a\")\n",
    "for id in ids:\n",
    "    sample = df_ts.query(\"user == @id\")\n",
    "\n",
    "    sample = sample.assign(day_start_time = lambda x: x['event_time'].dt.round(\"5T\").dt.strftime('%H:%M:%S'), \\\n",
    "                    day_end_time = lambda x: x['end_time'].dt.round(\"5T\").dt.strftime('%H:%M:%S'))\\\n",
    "                    .assign(info = lambda x: x['day_start_time'].str[:5] + ' - ' + x['day_end_time'].str[:5])\\\n",
    "                            .replace({\"19\": \"Scheduled\", \"18\": \"Manual\"})\n",
    "    min_date = sample['date'].min()\n",
    "\n",
    "    sample['days'] = sample['date'].apply(lambda x: pd.to_datetime(x)-pd.to_datetime(min_date)).dt.days\n",
    "    sample['day_start_time'] = pd.to_datetime(sample['day_start_time'])\n",
    "    sample['day_end_time'] = pd.to_datetime(sample['day_end_time'])\n",
    "    sample['day_end_time'] = sample['day_end_time'].apply(lambda x: x+pd.Timedelta(1,\"D\") if x.hour == 0 else x)\n",
    "\n",
    "    platform = patients_info.loc[id, 'platform']\n",
    "    num_events = patients_info.loc[id, 'num_events'] if not None else 0\n",
    "\n",
    "    fig = px.timeline(sample, x_start= \"day_start_time\", x_end=\"day_end_time\", y=\"days\", color=\"events\", \\\n",
    "            hover_data={\"day_start_time\": False, \"day_end_time\": False, \"info\": True, \"weekday\": True}, \\\n",
    "                    color_discrete_map = {\"Scheduled\": \"#636EFA\", \"Manual\": \"#EF553B\"},\n",
    "                    title = f\"{id}<br><sup>Platform: {platform}, num_events: {num_events}</sup>\")\n",
    "\n",
    "    fig.update_traces(width=1)\n",
    "    fig.update_xaxes(ticktext= [d.strftime('%H:%M') for d in sample['day_start_time']], tickformat='%H:%M')\n",
    "    fig.update_layout(yaxis_range=[0-0.5,max(sample['days'])+0.5])\n",
    "\n",
    "    fig.write_image(f\"plot/00/{id}.png\")\n",
    "    f.write(fig.to_html(full_html=False, include_plotlyjs='cdn'))\n",
    "    \n",
    "f.close()\n",
    "    "
   ]
  },
  {
   "cell_type": "code",
   "execution_count": null,
   "metadata": {},
   "outputs": [],
   "source": [
    "# patients_info = patients_info.set_index(\"userId\")\n",
    "id = 'yHK1hn0pTA'\n",
    "sample = df_ts.query(\"user == @id\")\n",
    "\n",
    "sample = sample.assign(day_start_time = lambda x: x['event_time'].dt.round(\"5T\").dt.strftime('%H:%M:%S'), \\\n",
    "                    day_end_time = lambda x: x['end_time'].dt.round(\"5T\").dt.strftime('%H:%M:%S'))\\\n",
    "                    .assign(info = lambda x: x['day_start_time'].str[:5] + ' - ' + x['day_end_time'].str[:5])\\\n",
    "                            .replace({\"19\": \"Scheduled\", \"18\": \"Manual\"})\n",
    "min_date = sample['date'].min()\n",
    "\n",
    "sample['days'] = sample['date'].apply(lambda x: pd.to_datetime(x)-pd.to_datetime(min_date)).dt.days\n",
    "sample['day_start_time'] = pd.to_datetime(sample['day_start_time'])\n",
    "sample['day_end_time'] = pd.to_datetime(sample['day_end_time'])\n",
    "sample['day_end_time'] = sample['day_end_time'].apply(lambda x: x+pd.Timedelta(1,\"D\") if x.hour == 0 else x)\n",
    "\n",
    "platform = patients_info.loc[id, 'platform']\n",
    "num_events = patients_info.loc[id, 'num_events'] if not None else 0\n",
    "\n",
    "fig = px.timeline(sample, x_start= \"day_start_time\", x_end=\"day_end_time\", y=\"days\", color=\"events\", \\\n",
    "        hover_data={\"day_start_time\": False, \"day_end_time\": False, \"info\": True, \"weekday\": True}, \\\n",
    "                color_discrete_map = {\"Scheduled\": \"#636EFA\", \"Manual\": \"#EF553B\"},\n",
    "                title = f\"{id}<br><sup>Platform: {platform}, num_events: {num_events}</sup>\")\n",
    "\n",
    "fig.update_traces(width=1)\n",
    "fig.update_xaxes(ticktext= [d.strftime('%H:%M') for d in sample['day_start_time']], tickformat='%H:%M')\n",
    "fig.update_layout(yaxis_range=[0-0.5,max(sample['days'])+0.5])\n",
    "\n",
    "fig.show()"
   ]
  },
  {
   "cell_type": "code",
   "execution_count": 81,
   "metadata": {},
   "outputs": [
    {
     "data": {
      "text/html": [
       "<div>\n",
       "<style scoped>\n",
       "    .dataframe tbody tr th:only-of-type {\n",
       "        vertical-align: middle;\n",
       "    }\n",
       "\n",
       "    .dataframe tbody tr th {\n",
       "        vertical-align: top;\n",
       "    }\n",
       "\n",
       "    .dataframe thead th {\n",
       "        text-align: right;\n",
       "    }\n",
       "</style>\n",
       "<table border=\"1\" class=\"dataframe\">\n",
       "  <thead>\n",
       "    <tr style=\"text-align: right;\">\n",
       "      <th></th>\n",
       "      <th>date</th>\n",
       "      <th>events</th>\n",
       "      <th>message</th>\n",
       "      <th>event_time</th>\n",
       "      <th>lag_event</th>\n",
       "      <th>diff</th>\n",
       "      <th>diff_hour</th>\n",
       "      <th>weekday</th>\n",
       "      <th>user</th>\n",
       "      <th>hour</th>\n",
       "      <th>minute</th>\n",
       "      <th>time</th>\n",
       "      <th>end_time</th>\n",
       "      <th>day_start_time</th>\n",
       "      <th>day_end_time</th>\n",
       "      <th>info</th>\n",
       "      <th>days</th>\n",
       "    </tr>\n",
       "  </thead>\n",
       "  <tbody>\n",
       "    <tr>\n",
       "      <th>0</th>\n",
       "      <td>2022-10-15</td>\n",
       "      <td>Scheduled</td>\n",
       "      <td>Phone scheduled cueing started. Until 02:00 Cu...</td>\n",
       "      <td>2022-10-15 01:00:00.885000+01:00</td>\n",
       "      <td>2022-10-15 21:55:29.837000+01:00</td>\n",
       "      <td>0 days 20:55:28.952000</td>\n",
       "      <td>20.924444</td>\n",
       "      <td>5</td>\n",
       "      <td>yHK1hn0pTA</td>\n",
       "      <td>1</td>\n",
       "      <td>0</td>\n",
       "      <td>1.000000</td>\n",
       "      <td>2022-10-15 02:00:00+01:00</td>\n",
       "      <td>2023-03-28 01:00:00</td>\n",
       "      <td>2023-03-28 02:00:00</td>\n",
       "      <td>01:00 - 02:00</td>\n",
       "      <td>0</td>\n",
       "    </tr>\n",
       "    <tr>\n",
       "      <th>1</th>\n",
       "      <td>2022-10-15</td>\n",
       "      <td>Scheduled</td>\n",
       "      <td>Phone scheduled cueing started. Until 23:00 Cu...</td>\n",
       "      <td>2022-10-15 21:55:29.837000+01:00</td>\n",
       "      <td>2022-10-16 09:35:57.978000+01:00</td>\n",
       "      <td>0 days 11:40:28.141000</td>\n",
       "      <td>11.674444</td>\n",
       "      <td>5</td>\n",
       "      <td>yHK1hn0pTA</td>\n",
       "      <td>21</td>\n",
       "      <td>55</td>\n",
       "      <td>21.916667</td>\n",
       "      <td>2022-10-16 23:00:00+01:00</td>\n",
       "      <td>2023-03-28 21:55:00</td>\n",
       "      <td>2023-03-28 23:00:00</td>\n",
       "      <td>21:55 - 23:00</td>\n",
       "      <td>0</td>\n",
       "    </tr>\n",
       "    <tr>\n",
       "      <th>2</th>\n",
       "      <td>2022-10-16</td>\n",
       "      <td>Scheduled</td>\n",
       "      <td>Phone scheduled cueing started. Until 23:00 Cu...</td>\n",
       "      <td>2022-10-16 09:35:57.978000+01:00</td>\n",
       "      <td>2022-10-16 11:30:08.551000+01:00</td>\n",
       "      <td>0 days 01:54:10.573000</td>\n",
       "      <td>1.902778</td>\n",
       "      <td>6</td>\n",
       "      <td>yHK1hn0pTA</td>\n",
       "      <td>9</td>\n",
       "      <td>35</td>\n",
       "      <td>9.583333</td>\n",
       "      <td>2022-10-16 23:00:00+01:00</td>\n",
       "      <td>2023-03-28 09:35:00</td>\n",
       "      <td>2023-03-28 23:00:00</td>\n",
       "      <td>09:35 - 23:00</td>\n",
       "      <td>1</td>\n",
       "    </tr>\n",
       "    <tr>\n",
       "      <th>3</th>\n",
       "      <td>2022-10-16</td>\n",
       "      <td>Scheduled</td>\n",
       "      <td>Phone scheduled cueing started. Until 23:00 Cu...</td>\n",
       "      <td>2022-10-16 11:30:08.551000+01:00</td>\n",
       "      <td>2022-10-16 12:58:03.759000+01:00</td>\n",
       "      <td>0 days 01:27:55.208000</td>\n",
       "      <td>1.465278</td>\n",
       "      <td>6</td>\n",
       "      <td>yHK1hn0pTA</td>\n",
       "      <td>11</td>\n",
       "      <td>30</td>\n",
       "      <td>11.500000</td>\n",
       "      <td>2022-10-16 23:00:00+01:00</td>\n",
       "      <td>2023-03-28 11:30:00</td>\n",
       "      <td>2023-03-28 23:00:00</td>\n",
       "      <td>11:30 - 23:00</td>\n",
       "      <td>1</td>\n",
       "    </tr>\n",
       "    <tr>\n",
       "      <th>4</th>\n",
       "      <td>2022-10-16</td>\n",
       "      <td>Scheduled</td>\n",
       "      <td>Phone scheduled cueing started. Until 23:00 Cu...</td>\n",
       "      <td>2022-10-16 12:58:03.759000+01:00</td>\n",
       "      <td>2022-10-16 21:17:38.877000+01:00</td>\n",
       "      <td>0 days 08:19:35.118000</td>\n",
       "      <td>8.326389</td>\n",
       "      <td>6</td>\n",
       "      <td>yHK1hn0pTA</td>\n",
       "      <td>12</td>\n",
       "      <td>58</td>\n",
       "      <td>12.966667</td>\n",
       "      <td>2022-10-17 23:00:00+01:00</td>\n",
       "      <td>2023-03-28 13:00:00</td>\n",
       "      <td>2023-03-28 23:00:00</td>\n",
       "      <td>13:00 - 23:00</td>\n",
       "      <td>1</td>\n",
       "    </tr>\n",
       "  </tbody>\n",
       "</table>\n",
       "</div>"
      ],
      "text/plain": [
       "         date     events                                            message  \\\n",
       "0  2022-10-15  Scheduled  Phone scheduled cueing started. Until 02:00 Cu...   \n",
       "1  2022-10-15  Scheduled  Phone scheduled cueing started. Until 23:00 Cu...   \n",
       "2  2022-10-16  Scheduled  Phone scheduled cueing started. Until 23:00 Cu...   \n",
       "3  2022-10-16  Scheduled  Phone scheduled cueing started. Until 23:00 Cu...   \n",
       "4  2022-10-16  Scheduled  Phone scheduled cueing started. Until 23:00 Cu...   \n",
       "\n",
       "                        event_time                        lag_event  \\\n",
       "0 2022-10-15 01:00:00.885000+01:00 2022-10-15 21:55:29.837000+01:00   \n",
       "1 2022-10-15 21:55:29.837000+01:00 2022-10-16 09:35:57.978000+01:00   \n",
       "2 2022-10-16 09:35:57.978000+01:00 2022-10-16 11:30:08.551000+01:00   \n",
       "3 2022-10-16 11:30:08.551000+01:00 2022-10-16 12:58:03.759000+01:00   \n",
       "4 2022-10-16 12:58:03.759000+01:00 2022-10-16 21:17:38.877000+01:00   \n",
       "\n",
       "                    diff  diff_hour  weekday        user  hour  minute  \\\n",
       "0 0 days 20:55:28.952000  20.924444        5  yHK1hn0pTA     1       0   \n",
       "1 0 days 11:40:28.141000  11.674444        5  yHK1hn0pTA    21      55   \n",
       "2 0 days 01:54:10.573000   1.902778        6  yHK1hn0pTA     9      35   \n",
       "3 0 days 01:27:55.208000   1.465278        6  yHK1hn0pTA    11      30   \n",
       "4 0 days 08:19:35.118000   8.326389        6  yHK1hn0pTA    12      58   \n",
       "\n",
       "        time                  end_time      day_start_time  \\\n",
       "0   1.000000 2022-10-15 02:00:00+01:00 2023-03-28 01:00:00   \n",
       "1  21.916667 2022-10-16 23:00:00+01:00 2023-03-28 21:55:00   \n",
       "2   9.583333 2022-10-16 23:00:00+01:00 2023-03-28 09:35:00   \n",
       "3  11.500000 2022-10-16 23:00:00+01:00 2023-03-28 11:30:00   \n",
       "4  12.966667 2022-10-17 23:00:00+01:00 2023-03-28 13:00:00   \n",
       "\n",
       "         day_end_time           info  days  \n",
       "0 2023-03-28 02:00:00  01:00 - 02:00     0  \n",
       "1 2023-03-28 23:00:00  21:55 - 23:00     0  \n",
       "2 2023-03-28 23:00:00  09:35 - 23:00     1  \n",
       "3 2023-03-28 23:00:00  11:30 - 23:00     1  \n",
       "4 2023-03-28 23:00:00  13:00 - 23:00     1  "
      ]
     },
     "execution_count": 81,
     "metadata": {},
     "output_type": "execute_result"
    }
   ],
   "source": [
    "sample.head()"
   ]
  },
  {
   "attachments": {},
   "cell_type": "markdown",
   "metadata": {},
   "source": [
    "# XGBoost"
   ]
  },
  {
   "attachments": {},
   "cell_type": "markdown",
   "metadata": {},
   "source": [
    "## preprocess"
   ]
  },
  {
   "cell_type": "code",
   "execution_count": 36,
   "metadata": {},
   "outputs": [],
   "source": [
    "df = df_ts.groupby([\"user\", \"date\"]).count().reset_index().query(\"user in @ids\").filter([\"user\",\"date\"]).assign(Morning = 0, Afternoon=0, Night=0)\n",
    "df = df.melt(id_vars=['user', 'date'], value_vars=['Morning', 'Afternoon', 'Night'], var_name = 'day_part', value_name='cueing')"
   ]
  },
  {
   "cell_type": "code",
   "execution_count": 37,
   "metadata": {},
   "outputs": [],
   "source": [
    "df_ts = df_ts.assign(day_start_time = lambda x: x['event_time'].dt.round(\"5T\").dt.strftime('%H:%M:%S'), \\\n",
    "                    day_end_time = lambda x: x['end_time'].dt.round(\"5T\").dt.strftime('%H:%M:%S'))\\\n",
    "                    .assign(info = lambda x: x['day_start_time'].str[:5] + ' - ' + x['day_end_time'].str[:5]) "
   ]
  },
  {
   "cell_type": "code",
   "execution_count": 38,
   "metadata": {},
   "outputs": [],
   "source": [
    "# x = df_ts.iloc[0]['day_start_time']\n",
    "def day_part(x):\n",
    "    if x >= \"06:00:00\" and x <= \"12:00:00\": return \"Morning\"\n",
    "    elif x > \"12:00:00\" and x <= \"18:00:00\": return \"Afternoon\"\n",
    "    \n",
    "    return \"Night\"\n",
    "    \n",
    "df_ts['day_part'] = df_ts[\"day_start_time\"].apply(day_part)"
   ]
  },
  {
   "cell_type": "code",
   "execution_count": null,
   "metadata": {},
   "outputs": [],
   "source": [
    "df_ts"
   ]
  },
  {
   "cell_type": "code",
   "execution_count": 40,
   "metadata": {},
   "outputs": [
    {
     "data": {
      "text/html": [
       "<div>\n",
       "<style scoped>\n",
       "    .dataframe tbody tr th:only-of-type {\n",
       "        vertical-align: middle;\n",
       "    }\n",
       "\n",
       "    .dataframe tbody tr th {\n",
       "        vertical-align: top;\n",
       "    }\n",
       "\n",
       "    .dataframe thead th {\n",
       "        text-align: right;\n",
       "    }\n",
       "</style>\n",
       "<table border=\"1\" class=\"dataframe\">\n",
       "  <thead>\n",
       "    <tr style=\"text-align: right;\">\n",
       "      <th></th>\n",
       "      <th>user</th>\n",
       "      <th>date</th>\n",
       "      <th>day_part</th>\n",
       "      <th>cueing</th>\n",
       "      <th>events</th>\n",
       "      <th>info</th>\n",
       "    </tr>\n",
       "  </thead>\n",
       "  <tbody>\n",
       "    <tr>\n",
       "      <th>0</th>\n",
       "      <td>1r2J9taZha</td>\n",
       "      <td>2022-10-14</td>\n",
       "      <td>Morning</td>\n",
       "      <td>0</td>\n",
       "      <td>NaN</td>\n",
       "      <td>NaN</td>\n",
       "    </tr>\n",
       "    <tr>\n",
       "      <th>1</th>\n",
       "      <td>1r2J9taZha</td>\n",
       "      <td>2022-10-15</td>\n",
       "      <td>Morning</td>\n",
       "      <td>1</td>\n",
       "      <td>19</td>\n",
       "      <td>08:55 - 22:00</td>\n",
       "    </tr>\n",
       "    <tr>\n",
       "      <th>2</th>\n",
       "      <td>1r2J9taZha</td>\n",
       "      <td>2022-10-16</td>\n",
       "      <td>Morning</td>\n",
       "      <td>1</td>\n",
       "      <td>19</td>\n",
       "      <td>07:00 - 22:00</td>\n",
       "    </tr>\n",
       "    <tr>\n",
       "      <th>3</th>\n",
       "      <td>1r2J9taZha</td>\n",
       "      <td>2022-10-17</td>\n",
       "      <td>Morning</td>\n",
       "      <td>1</td>\n",
       "      <td>19</td>\n",
       "      <td>07:10 - 22:00</td>\n",
       "    </tr>\n",
       "    <tr>\n",
       "      <th>4</th>\n",
       "      <td>1r2J9taZha</td>\n",
       "      <td>2022-10-18</td>\n",
       "      <td>Morning</td>\n",
       "      <td>1</td>\n",
       "      <td>19</td>\n",
       "      <td>07:10 - 22:00</td>\n",
       "    </tr>\n",
       "    <tr>\n",
       "      <th>...</th>\n",
       "      <td>...</td>\n",
       "      <td>...</td>\n",
       "      <td>...</td>\n",
       "      <td>...</td>\n",
       "      <td>...</td>\n",
       "      <td>...</td>\n",
       "    </tr>\n",
       "    <tr>\n",
       "      <th>1378</th>\n",
       "      <td>yHK1hn0pTA</td>\n",
       "      <td>2022-10-21</td>\n",
       "      <td>Night</td>\n",
       "      <td>1</td>\n",
       "      <td>19</td>\n",
       "      <td>21:10 - 23:00</td>\n",
       "    </tr>\n",
       "    <tr>\n",
       "      <th>1379</th>\n",
       "      <td>yHK1hn0pTA</td>\n",
       "      <td>2022-10-22</td>\n",
       "      <td>Night</td>\n",
       "      <td>1</td>\n",
       "      <td>19</td>\n",
       "      <td>20:20 - 23:00</td>\n",
       "    </tr>\n",
       "    <tr>\n",
       "      <th>1380</th>\n",
       "      <td>yHK1hn0pTA</td>\n",
       "      <td>2022-10-23</td>\n",
       "      <td>Night</td>\n",
       "      <td>1</td>\n",
       "      <td>19</td>\n",
       "      <td>22:45 - 23:00</td>\n",
       "    </tr>\n",
       "    <tr>\n",
       "      <th>1381</th>\n",
       "      <td>yHK1hn0pTA</td>\n",
       "      <td>2022-10-24</td>\n",
       "      <td>Night</td>\n",
       "      <td>0</td>\n",
       "      <td>NaN</td>\n",
       "      <td>NaN</td>\n",
       "    </tr>\n",
       "    <tr>\n",
       "      <th>1382</th>\n",
       "      <td>yHK1hn0pTA</td>\n",
       "      <td>2022-10-25</td>\n",
       "      <td>Night</td>\n",
       "      <td>0</td>\n",
       "      <td>NaN</td>\n",
       "      <td>NaN</td>\n",
       "    </tr>\n",
       "  </tbody>\n",
       "</table>\n",
       "<p>1383 rows × 6 columns</p>\n",
       "</div>"
      ],
      "text/plain": [
       "            user        date day_part  cueing events           info\n",
       "0     1r2J9taZha  2022-10-14  Morning       0    NaN            NaN\n",
       "1     1r2J9taZha  2022-10-15  Morning       1     19  08:55 - 22:00\n",
       "2     1r2J9taZha  2022-10-16  Morning       1     19  07:00 - 22:00\n",
       "3     1r2J9taZha  2022-10-17  Morning       1     19  07:10 - 22:00\n",
       "4     1r2J9taZha  2022-10-18  Morning       1     19  07:10 - 22:00\n",
       "...          ...         ...      ...     ...    ...            ...\n",
       "1378  yHK1hn0pTA  2022-10-21    Night       1     19  21:10 - 23:00\n",
       "1379  yHK1hn0pTA  2022-10-22    Night       1     19  20:20 - 23:00\n",
       "1380  yHK1hn0pTA  2022-10-23    Night       1     19  22:45 - 23:00\n",
       "1381  yHK1hn0pTA  2022-10-24    Night       0    NaN            NaN\n",
       "1382  yHK1hn0pTA  2022-10-25    Night       0    NaN            NaN\n",
       "\n",
       "[1383 rows x 6 columns]"
      ]
     },
     "execution_count": 40,
     "metadata": {},
     "output_type": "execute_result"
    }
   ],
   "source": [
    "# df.merge(df_ts, how=\"left\", on=['user', 'date', 'day_part']).filter([\"user\", \"date\", \"day_part\", \"cueing\", \"info\"])\n",
    "tmp = df_ts.groupby([\"user\", \"date\", \"day_part\"]).first().filter([\"events\", \"info\"]).reset_index()\n",
    "df = df.merge(tmp, how='left', on=['user', 'date', 'day_part'])\n",
    "df['cueing'] = df['info'].apply(lambda x: 0 if pd.isna(x) else 1)\n",
    "df"
   ]
  },
  {
   "cell_type": "code",
   "execution_count": 41,
   "metadata": {},
   "outputs": [],
   "source": [
    "df= df.merge(df.groupby(\"user\").agg({'date': 'min'}).rename(columns={'date': 'min_date'}).reset_index(), how='left', on='user')\\\n",
    "        .assign(days = lambda x: (pd.to_datetime(x['date']) - pd.to_datetime(x['min_date'])).dt.days)"
   ]
  },
  {
   "cell_type": "code",
   "execution_count": null,
   "metadata": {},
   "outputs": [],
   "source": [
    "df = df.merge(patients_info.filter(['gender', 'ageRange', 'ethnicGroup', 'platform', 'num_events']), how='left', left_on='user', right_index=True)\n",
    "df.to_parquet(\"data/trial_freeliving.parquet\")"
   ]
  },
  {
   "cell_type": "code",
   "execution_count": null,
   "metadata": {},
   "outputs": [],
   "source": [
    "patients_info['group'] = patients_info['cueingMethod1'].apply(lambda x: 'A' if x == 'cueband' else 'B')\n",
    "df = df.merge(patients_info.filter(['gender', 'ageRange', 'ethnicGroup', 'platform', 'num_events', 'group']), how='left', left_on='user', right_index=True)"
   ]
  },
  {
   "cell_type": "code",
   "execution_count": 46,
   "metadata": {},
   "outputs": [],
   "source": [
    "# df.groupby('user').agg({'group': 'count'})\n",
    "df.to_parquet(\"data/trial_freeliving.parquet\")"
   ]
  },
  {
   "attachments": {},
   "cell_type": "markdown",
   "metadata": {},
   "source": [
    "## XGboost diaryEntries data"
   ]
  },
  {
   "cell_type": "code",
   "execution_count": null,
   "metadata": {},
   "outputs": [],
   "source": [
    "diaryEntries = pd.read_parquet(\"data/diaryEntries.parquet\")\n",
    "freeliving_diary = pd.read_parquet(\"data/freeliving_diary.parquet\")\n",
    "\n",
    "diaryEntries = pd.concat([diaryEntries, freeliving_diary]).reset_index(drop=True)\n",
    "diaryEntries"
   ]
  },
  {
   "cell_type": "code",
   "execution_count": 57,
   "metadata": {},
   "outputs": [],
   "source": [
    "diaryEntries = diaryEntries.assign(date = lambda x: x[\"recordedTime\"].dt.strftime(\"%Y-%m-%d\"))\n",
    "diaryEntries = diaryEntries.sort_values(['user', 'recordedTime'])\n",
    "diaryEntries['date_lag'] = diaryEntries.groupby(['user'])['date'].shift(-1)\n"
   ]
  },
  {
   "cell_type": "code",
   "execution_count": 67,
   "metadata": {},
   "outputs": [
    {
     "data": {
      "text/html": [
       "<div>\n",
       "<style scoped>\n",
       "    .dataframe tbody tr th:only-of-type {\n",
       "        vertical-align: middle;\n",
       "    }\n",
       "\n",
       "    .dataframe tbody tr th {\n",
       "        vertical-align: top;\n",
       "    }\n",
       "\n",
       "    .dataframe thead th {\n",
       "        text-align: right;\n",
       "    }\n",
       "</style>\n",
       "<table border=\"1\" class=\"dataframe\">\n",
       "  <thead>\n",
       "    <tr style=\"text-align: right;\">\n",
       "      <th></th>\n",
       "      <th>createdAt</th>\n",
       "      <th>updatedAt</th>\n",
       "      <th>localId</th>\n",
       "      <th>month</th>\n",
       "      <th>year</th>\n",
       "      <th>frequency</th>\n",
       "      <th>duration</th>\n",
       "      <th>severity</th>\n",
       "      <th>partialAssessment</th>\n",
       "      <th>user</th>\n",
       "      <th>objectId</th>\n",
       "      <th>recordedTime.__type</th>\n",
       "      <th>recordedTime.iso</th>\n",
       "      <th>dayDate.__type</th>\n",
       "      <th>dayDate.iso</th>\n",
       "      <th>recordedTime</th>\n",
       "      <th>date</th>\n",
       "      <th>date_lag</th>\n",
       "    </tr>\n",
       "  </thead>\n",
       "  <tbody>\n",
       "    <tr>\n",
       "      <th>20</th>\n",
       "      <td>2022-10-28 13:57:45.493000+01:00</td>\n",
       "      <td>2022-10-28 13:57:45.493000+01:00</td>\n",
       "      <td>2</td>\n",
       "      <td>10</td>\n",
       "      <td>2022</td>\n",
       "      <td>13</td>\n",
       "      <td>19</td>\n",
       "      <td>17</td>\n",
       "      <td>None</td>\n",
       "      <td>yHK1hn0pTA</td>\n",
       "      <td>8o2ldrgTl9</td>\n",
       "      <td>Date</td>\n",
       "      <td>2022-10-15 22:31:34.253000+01:00</td>\n",
       "      <td>Date</td>\n",
       "      <td>2022-10-15 00:00:00+00:00</td>\n",
       "      <td>2022-10-15 21:31:34.253000+01:00</td>\n",
       "      <td>2022-10-15</td>\n",
       "      <td>2022-10-16</td>\n",
       "    </tr>\n",
       "  </tbody>\n",
       "</table>\n",
       "</div>"
      ],
      "text/plain": [
       "                          createdAt                        updatedAt  localId  \\\n",
       "20 2022-10-28 13:57:45.493000+01:00 2022-10-28 13:57:45.493000+01:00        2   \n",
       "\n",
       "    month  year  frequency  duration  severity partialAssessment        user  \\\n",
       "20     10  2022         13        19        17              None  yHK1hn0pTA   \n",
       "\n",
       "      objectId recordedTime.__type                 recordedTime.iso  \\\n",
       "20  8o2ldrgTl9                Date 2022-10-15 22:31:34.253000+01:00   \n",
       "\n",
       "   dayDate.__type               dayDate.iso                     recordedTime  \\\n",
       "20           Date 2022-10-15 00:00:00+00:00 2022-10-15 21:31:34.253000+01:00   \n",
       "\n",
       "          date    date_lag  \n",
       "20  2022-10-15  2022-10-16  "
      ]
     },
     "execution_count": 67,
     "metadata": {},
     "output_type": "execute_result"
    }
   ],
   "source": [
    "id = 'yHK1hn0pTA'\n",
    "date = '2022-10-15'\n",
    "diaryEntries.query(\"user == @id and date == @date\")"
   ]
  },
  {
   "cell_type": "code",
   "execution_count": 58,
   "metadata": {},
   "outputs": [],
   "source": [
    "df= pd.merge(df, diaryEntries.filter(['user', 'date_lag','frequency', 'duration', 'severity']), how = 'left', left_on=['user', 'date'], right_on = ['user', 'date_lag']).fillna(0)#.query(\"user == @id\")"
   ]
  },
  {
   "cell_type": "code",
   "execution_count": 59,
   "metadata": {},
   "outputs": [],
   "source": [
    "df['events'] = df['events'].astype(int)\n",
    "df['info'] = df['info'].astype(str)\n",
    "df['ethnicGroup'] = df['ethnicGroup'].astype(str)\n",
    "df['date_lag'] = df['date_lag'].astype(str)"
   ]
  },
  {
   "cell_type": "code",
   "execution_count": 61,
   "metadata": {},
   "outputs": [],
   "source": [
    "# df.to_parquet(\"data/xgboost_data.parquet\")\n",
    "df.to_parquet(\"data/freeliving_and_trial_data.parquet\")"
   ]
  },
  {
   "cell_type": "code",
   "execution_count": null,
   "metadata": {},
   "outputs": [],
   "source": []
  },
  {
   "attachments": {},
   "cell_type": "markdown",
   "metadata": {},
   "source": [
    "# Visualising time-series events"
   ]
  },
  {
   "cell_type": "code",
   "execution_count": 5,
   "metadata": {},
   "outputs": [],
   "source": [
    "def cueingDate(x):\n",
    "    # Manula cueingInterval\n",
    "    createdAt = x['createdAt'].round(freq='D')\n",
    "    createdWD = createdAt.weekday()\n",
    "    schWD = x['weekDay']\n",
    "    start_sch = createdAt - pd.Timedelta(createdWD, unit='d') + pd.Timedelta(schWD, unit='d') \\\n",
    "        # + pd.Timedelta(x['startTimeHours'], unit='H') + pd.Timedelta(x['startTimeMinutes'], unit='T')\n",
    "    if start_sch < createdAt:\n",
    "        start_sch += pd.Timedelta(7, 'd')\n",
    "    x['start_sch'] = start_sch\n",
    "    cueingDate = pd.date_range(start_sch, freq='7D', periods=8).to_list()\n",
    "    x['cueingDate'] = cueingDate\n",
    "    \n",
    "    return x\n",
    "\n",
    "def create_cueing_events(x):\n",
    "    # create Manual Cueing Events\n",
    "    dates = x['cueingDate']\n",
    "    # createdAt = x['createdAt']\n",
    "    startTime = pd.Timedelta(x['startTimeHours'], 'H') + pd.Timedelta(x['startTimeMinutes'], 'T')\n",
    "    endTime = pd.Timedelta(x['endTimeHours'], 'H') + pd.Timedelta(x['endTimeMinutes'], 'T')\n",
    "    df = pd.DataFrame({'date': dates})\n",
    "    df[\"date\"] = df['date'].dt.round(\"d\")\n",
    "    df['source'] = 'createdInterval'\n",
    "    df['events'] = 'Scheduled'\n",
    "    df['message'] = f'Scheduled Cueing until {endTime}'\n",
    "    df['user'] = x['user']\n",
    "    df['duration'] = x['duration']\n",
    "    # df['date'] = df['date'].dt.tz_localize(None)\n",
    "    \n",
    "    df['startCueingTime'] = df['date'].apply(lambda x: x + startTime).dt.tz_convert(\"Europe/London\")\n",
    "    df['endCueingTime'] = df['date'].apply(lambda x: x + endTime).dt.tz_convert(\"Europe/London\")\n",
    "    \n",
    "    return df\n",
    "\n",
    "cueingIntervals = cueingIntervals.apply(cueingDate, axis=1)\n",
    "cueingEvents = pd.concat([create_cueing_events(row) for _, row in cueingIntervals.iterrows()]).reset_index(drop=True)\n",
    "# cueingEvents['startCueingTime'] = cueingEvents['startCueingTime'].dt.tz_convert(\"Europe/London\")\n",
    "# cueingEvents['endCueingTime'] = cueingEvents['endCueingTime'].dt.tz_convert(\"Europe/London\")\n",
    "timechanged = pd.to_datetime('2022-10-30').tz_localize(\"Europe/London\")\n",
    "cueingEvents['startCueingTime'] = cueingEvents['startCueingTime'].apply(lambda x: x + pd.Timedelta(1, 'H') if x.floor(\"D\") == timechanged else x) # TZ change in phone automaticly\n",
    "cueingEvents['endCueingTime'] = cueingEvents['endCueingTime'].apply(lambda x: x + pd.Timedelta(1, 'H') if x.floor(\"D\") == timechanged else x)\n",
    "\n",
    "def diary_message(x):\n",
    "    frequency = x['frequency']\n",
    "    duration = x['duration']\n",
    "    severity = x['severity']\n",
    "    \n",
    "    x['message'] = f\"{frequency} - {duration} - {severity}\"\n",
    "    \n",
    "    return x\n"
   ]
  },
  {
   "cell_type": "code",
   "execution_count": 99,
   "metadata": {},
   "outputs": [
    {
     "data": {
      "text/html": [
       "<div>\n",
       "<style scoped>\n",
       "    .dataframe tbody tr th:only-of-type {\n",
       "        vertical-align: middle;\n",
       "    }\n",
       "\n",
       "    .dataframe tbody tr th {\n",
       "        vertical-align: top;\n",
       "    }\n",
       "\n",
       "    .dataframe thead th {\n",
       "        text-align: right;\n",
       "    }\n",
       "</style>\n",
       "<table border=\"1\" class=\"dataframe\">\n",
       "  <thead>\n",
       "    <tr style=\"text-align: right;\">\n",
       "      <th></th>\n",
       "      <th>event_time</th>\n",
       "      <th>events</th>\n",
       "      <th>message</th>\n",
       "      <th>source</th>\n",
       "      <th>weekday</th>\n",
       "    </tr>\n",
       "  </thead>\n",
       "  <tbody>\n",
       "    <tr>\n",
       "      <th>0</th>\n",
       "      <td>2022-12-05 16:02:17.647000+00:00</td>\n",
       "      <td>18</td>\n",
       "      <td>Phone manual cueing started. Until 16:12 Cueing period: 30 seconds. Vibration pattern: 3x Times. Vibration intensity: Default</td>\n",
       "      <td>appLog</td>\n",
       "      <td>0</td>\n",
       "    </tr>\n",
       "    <tr>\n",
       "      <th>1</th>\n",
       "      <td>2022-12-05 16:02:27.831000+00:00</td>\n",
       "      <td>25</td>\n",
       "      <td>Manual Cueing stopped on phone</td>\n",
       "      <td>appLog</td>\n",
       "      <td>0</td>\n",
       "    </tr>\n",
       "    <tr>\n",
       "      <th>2</th>\n",
       "      <td>2022-12-05 16:03:58.360000+00:00</td>\n",
       "      <td>19</td>\n",
       "      <td>Phone scheduled cueing started. Until 19:00 Cueing period: 30 seconds. Vibration pattern: 3x Times. Vibration intensity: Default</td>\n",
       "      <td>appLog</td>\n",
       "      <td>0</td>\n",
       "    </tr>\n",
       "    <tr>\n",
       "      <th>3</th>\n",
       "      <td>2022-12-05 17:00:32.650000+00:00</td>\n",
       "      <td>19</td>\n",
       "      <td>Phone scheduled cueing started. Until 19:00 Cueing period: 30 seconds. Vibration pattern: 3x Times. Vibration intensity: Default</td>\n",
       "      <td>appLog</td>\n",
       "      <td>0</td>\n",
       "    </tr>\n",
       "    <tr>\n",
       "      <th>4</th>\n",
       "      <td>2022-12-05 17:01:45.797000+00:00</td>\n",
       "      <td>diaryEntries</td>\n",
       "      <td>70 - 74 - 76</td>\n",
       "      <td>diaryEntry</td>\n",
       "      <td>0</td>\n",
       "    </tr>\n",
       "    <tr>\n",
       "      <th>5</th>\n",
       "      <td>2022-12-06 08:00:00+00:00</td>\n",
       "      <td>Scheduled</td>\n",
       "      <td>Scheduled Cueing until 0 days 12:00:00</td>\n",
       "      <td>createdInterval</td>\n",
       "      <td>1</td>\n",
       "    </tr>\n",
       "    <tr>\n",
       "      <th>6</th>\n",
       "      <td>2022-12-06 08:17:16.175000+00:00</td>\n",
       "      <td>19</td>\n",
       "      <td>Phone scheduled cueing started. Until 12:00 Cueing period: 30 seconds. Vibration pattern: 3x Times. Vibration intensity: Default</td>\n",
       "      <td>appLog</td>\n",
       "      <td>1</td>\n",
       "    </tr>\n",
       "    <tr>\n",
       "      <th>7</th>\n",
       "      <td>2022-12-06 14:00:00+00:00</td>\n",
       "      <td>Scheduled</td>\n",
       "      <td>Scheduled Cueing until 0 days 19:00:00</td>\n",
       "      <td>createdInterval</td>\n",
       "      <td>1</td>\n",
       "    </tr>\n",
       "    <tr>\n",
       "      <th>8</th>\n",
       "      <td>2022-12-06 14:18:37.312000+00:00</td>\n",
       "      <td>19</td>\n",
       "      <td>Phone scheduled cueing started. Until 19:00 Cueing period: 30 seconds. Vibration pattern: 3x Times. Vibration intensity: Default</td>\n",
       "      <td>appLog</td>\n",
       "      <td>1</td>\n",
       "    </tr>\n",
       "    <tr>\n",
       "      <th>10</th>\n",
       "      <td>2022-12-06 17:01:37.680000+00:00</td>\n",
       "      <td>19</td>\n",
       "      <td>Phone scheduled cueing started. Until 19:00 Cueing period: 30 seconds. Vibration pattern: 3x Times. Vibration intensity: Default</td>\n",
       "      <td>appLog</td>\n",
       "      <td>1</td>\n",
       "    </tr>\n",
       "    <tr>\n",
       "      <th>11</th>\n",
       "      <td>2022-12-06 17:02:55.960000+00:00</td>\n",
       "      <td>diaryEntries</td>\n",
       "      <td>66 - 61 - 64</td>\n",
       "      <td>diaryEntry</td>\n",
       "      <td>1</td>\n",
       "    </tr>\n",
       "    <tr>\n",
       "      <th>12</th>\n",
       "      <td>2022-12-06 18:09:11.613000+00:00</td>\n",
       "      <td>19</td>\n",
       "      <td>Phone scheduled cueing started. Until 19:00 Cueing period: 30 seconds. Vibration pattern: 3x Times. Vibration intensity: Default</td>\n",
       "      <td>appLog</td>\n",
       "      <td>1</td>\n",
       "    </tr>\n",
       "    <tr>\n",
       "      <th>13</th>\n",
       "      <td>2022-12-07 08:00:00+00:00</td>\n",
       "      <td>Scheduled</td>\n",
       "      <td>Scheduled Cueing until 0 days 12:00:00</td>\n",
       "      <td>createdInterval</td>\n",
       "      <td>2</td>\n",
       "    </tr>\n",
       "    <tr>\n",
       "      <th>14</th>\n",
       "      <td>2022-12-07 08:00:25.116000+00:00</td>\n",
       "      <td>19</td>\n",
       "      <td>Phone scheduled cueing started. Until 12:00 Cueing period: 30 seconds. Vibration pattern: 3x Times. Vibration intensity: Default</td>\n",
       "      <td>appLog</td>\n",
       "      <td>2</td>\n",
       "    </tr>\n",
       "    <tr>\n",
       "      <th>15</th>\n",
       "      <td>2022-12-07 10:11:13.072000+00:00</td>\n",
       "      <td>19</td>\n",
       "      <td>Phone scheduled cueing started. Until 12:00 Cueing period: 30 seconds. Vibration pattern: 3x Times. Vibration intensity: Default</td>\n",
       "      <td>appLog</td>\n",
       "      <td>2</td>\n",
       "    </tr>\n",
       "    <tr>\n",
       "      <th>16</th>\n",
       "      <td>2022-12-07 10:22:05.293000+00:00</td>\n",
       "      <td>19</td>\n",
       "      <td>Phone scheduled cueing started. Until 12:00 Cueing period: 30 seconds. Vibration pattern: 3x Times. Vibration intensity: Default</td>\n",
       "      <td>appLog</td>\n",
       "      <td>2</td>\n",
       "    </tr>\n",
       "    <tr>\n",
       "      <th>17</th>\n",
       "      <td>2022-12-07 14:00:00+00:00</td>\n",
       "      <td>Scheduled</td>\n",
       "      <td>Scheduled Cueing until 0 days 19:00:00</td>\n",
       "      <td>createdInterval</td>\n",
       "      <td>2</td>\n",
       "    </tr>\n",
       "    <tr>\n",
       "      <th>18</th>\n",
       "      <td>2022-12-07 14:00:09.741000+00:00</td>\n",
       "      <td>19</td>\n",
       "      <td>Phone scheduled cueing started. Until 19:00 Cueing period: 30 seconds. Vibration pattern: 3x Times. Vibration intensity: Default</td>\n",
       "      <td>appLog</td>\n",
       "      <td>2</td>\n",
       "    </tr>\n",
       "    <tr>\n",
       "      <th>20</th>\n",
       "      <td>2022-12-07 15:13:43.939000+00:00</td>\n",
       "      <td>19</td>\n",
       "      <td>Phone scheduled cueing started. Until 19:00 Cueing period: 30 seconds. Vibration pattern: 3x Times. Vibration intensity: Default</td>\n",
       "      <td>appLog</td>\n",
       "      <td>2</td>\n",
       "    </tr>\n",
       "    <tr>\n",
       "      <th>21</th>\n",
       "      <td>2022-12-07 18:01:51.687000+00:00</td>\n",
       "      <td>diaryEntries</td>\n",
       "      <td>10 - 10 - 15</td>\n",
       "      <td>diaryEntry</td>\n",
       "      <td>2</td>\n",
       "    </tr>\n",
       "  </tbody>\n",
       "</table>\n",
       "</div>"
      ],
      "text/plain": [
       "                         event_time        events  \\\n",
       "0  2022-12-05 16:02:17.647000+00:00            18   \n",
       "1  2022-12-05 16:02:27.831000+00:00            25   \n",
       "2  2022-12-05 16:03:58.360000+00:00            19   \n",
       "3  2022-12-05 17:00:32.650000+00:00            19   \n",
       "4  2022-12-05 17:01:45.797000+00:00  diaryEntries   \n",
       "5         2022-12-06 08:00:00+00:00     Scheduled   \n",
       "6  2022-12-06 08:17:16.175000+00:00            19   \n",
       "7         2022-12-06 14:00:00+00:00     Scheduled   \n",
       "8  2022-12-06 14:18:37.312000+00:00            19   \n",
       "10 2022-12-06 17:01:37.680000+00:00            19   \n",
       "11 2022-12-06 17:02:55.960000+00:00  diaryEntries   \n",
       "12 2022-12-06 18:09:11.613000+00:00            19   \n",
       "13        2022-12-07 08:00:00+00:00     Scheduled   \n",
       "14 2022-12-07 08:00:25.116000+00:00            19   \n",
       "15 2022-12-07 10:11:13.072000+00:00            19   \n",
       "16 2022-12-07 10:22:05.293000+00:00            19   \n",
       "17        2022-12-07 14:00:00+00:00     Scheduled   \n",
       "18 2022-12-07 14:00:09.741000+00:00            19   \n",
       "20 2022-12-07 15:13:43.939000+00:00            19   \n",
       "21 2022-12-07 18:01:51.687000+00:00  diaryEntries   \n",
       "\n",
       "                                                                                                                             message  \\\n",
       "0      Phone manual cueing started. Until 16:12 Cueing period: 30 seconds. Vibration pattern: 3x Times. Vibration intensity: Default   \n",
       "1                                                                                                     Manual Cueing stopped on phone   \n",
       "2   Phone scheduled cueing started. Until 19:00 Cueing period: 30 seconds. Vibration pattern: 3x Times. Vibration intensity: Default   \n",
       "3   Phone scheduled cueing started. Until 19:00 Cueing period: 30 seconds. Vibration pattern: 3x Times. Vibration intensity: Default   \n",
       "4                                                                                                                       70 - 74 - 76   \n",
       "5                                                                                             Scheduled Cueing until 0 days 12:00:00   \n",
       "6   Phone scheduled cueing started. Until 12:00 Cueing period: 30 seconds. Vibration pattern: 3x Times. Vibration intensity: Default   \n",
       "7                                                                                             Scheduled Cueing until 0 days 19:00:00   \n",
       "8   Phone scheduled cueing started. Until 19:00 Cueing period: 30 seconds. Vibration pattern: 3x Times. Vibration intensity: Default   \n",
       "10  Phone scheduled cueing started. Until 19:00 Cueing period: 30 seconds. Vibration pattern: 3x Times. Vibration intensity: Default   \n",
       "11                                                                                                                      66 - 61 - 64   \n",
       "12  Phone scheduled cueing started. Until 19:00 Cueing period: 30 seconds. Vibration pattern: 3x Times. Vibration intensity: Default   \n",
       "13                                                                                            Scheduled Cueing until 0 days 12:00:00   \n",
       "14  Phone scheduled cueing started. Until 12:00 Cueing period: 30 seconds. Vibration pattern: 3x Times. Vibration intensity: Default   \n",
       "15  Phone scheduled cueing started. Until 12:00 Cueing period: 30 seconds. Vibration pattern: 3x Times. Vibration intensity: Default   \n",
       "16  Phone scheduled cueing started. Until 12:00 Cueing period: 30 seconds. Vibration pattern: 3x Times. Vibration intensity: Default   \n",
       "17                                                                                            Scheduled Cueing until 0 days 19:00:00   \n",
       "18  Phone scheduled cueing started. Until 19:00 Cueing period: 30 seconds. Vibration pattern: 3x Times. Vibration intensity: Default   \n",
       "20  Phone scheduled cueing started. Until 19:00 Cueing period: 30 seconds. Vibration pattern: 3x Times. Vibration intensity: Default   \n",
       "21                                                                                                                      10 - 10 - 15   \n",
       "\n",
       "             source  weekday  \n",
       "0            appLog        0  \n",
       "1            appLog        0  \n",
       "2            appLog        0  \n",
       "3            appLog        0  \n",
       "4        diaryEntry        0  \n",
       "5   createdInterval        1  \n",
       "6            appLog        1  \n",
       "7   createdInterval        1  \n",
       "8            appLog        1  \n",
       "10           appLog        1  \n",
       "11       diaryEntry        1  \n",
       "12           appLog        1  \n",
       "13  createdInterval        2  \n",
       "14           appLog        2  \n",
       "15           appLog        2  \n",
       "16           appLog        2  \n",
       "17  createdInterval        2  \n",
       "18           appLog        2  \n",
       "20           appLog        2  \n",
       "21       diaryEntry        2  "
      ]
     },
     "execution_count": 99,
     "metadata": {},
     "output_type": "execute_result"
    }
   ],
   "source": [
    "group = 'B'\n",
    "id = 'mkxN5gMcg2'\n",
    "pd.options.display.max_colwidth = None\n",
    "pd.options.display.width = None\n",
    "group = 'A' if patients_info.query(\"userId == @id\")['cueingMethod1'].iloc[0] == 'phone' else 'B'\n",
    "if group == 'A':\n",
    "    start = pd.to_datetime(patients_info.query(\"userId == @id\")['cueingMethod1Start'].values[0]).tz_localize(\"Europe/London\")\n",
    "    end = pd.to_datetime(patients_info.query(\"userId == @id\")['cueingMethod1End'].values[0]).tz_localize(\"Europe/London\")\n",
    "else: \n",
    "    start = pd.to_datetime(patients_info.query(\"userId == @id\")['cueingMethod2Start'].values[0]).tz_localize(\"Europe/London\")\n",
    "    end = pd.to_datetime(patients_info.query(\"userId == @id\")['cueingMethod2End'].values[0]).tz_localize(\"Europe/London\")\n",
    "\n",
    "df1 = cueingEvents.query(f\"user == '{id}'\").rename(columns={'startCueingTime': 'event_time'}) \\\n",
    "        .assign(event_time = lambda x: x['event_time'])\\\n",
    "        .filter(['event_time', 'events', 'message', 'source']) \\\n",
    "        .query(\"event_time >= @start and event_time <= @end\")\n",
    "\n",
    "df2 = block.query(f\"user == '{id}'\").assign(source = 'blockSample')\\\n",
    "        .assign(event_time = lambda x: x['event_time'].dt.tz_convert(\"Europe/London\"))\\\n",
    "        .filter(['event_time', 'events', 'events_detail', 'source']) \\\n",
    "        .rename(columns={'events_detail': 'message'}) \\\n",
    "        .query(\"event_time >= @start and event_time <= @end\") \\\n",
    "        .query('events > 1024')\n",
    "        # .query('events ==1024 or events == 2048 or events == 4096 or events == 8192 or events == 16384 or events == 32768') \\\n",
    "        \n",
    "df3 = appLogs.query(f\"user == '{id}'\").assign(source = 'appLog')\\\n",
    "        .assign(event_time = lambda x: x['timestamp.iso'].dt.tz_convert(\"Europe/London\"))\\\n",
    "        .filter(['event_time', 'message', 'events', 'source']) \\\n",
    "        .query(\"event_time >= @start and event_time <= @end\") \\\n",
    "        .query('(events >=10 and events <= 19) or (events >=25 and events <=31)') \\\n",
    "        \n",
    "        # .query('events ==20 or events == 21 or events == 33 or events == 34') \\\n",
    "        # .drop_duplicates(subset=['createdAt', 'events']) \\\n",
    "\n",
    "df4 = diaryEntries.query(f\"user == '{id}'\").assign(source='diaryEntry') \\\n",
    "        .assign(event_time = lambda x: x['recordedTime'].dt.tz_convert(\"Europe/London\"))\\\n",
    "        .apply(diary_message, axis=1) \\\n",
    "        .assign(events = 'diaryEntries') \\\n",
    "        .filter(['event_time','message', 'events', 'source'])\\\n",
    "        .query(\"event_time >= @start and event_time <= @end\")\n",
    "                \n",
    "\n",
    "error_date = pd.Timestamp(\"2022-01-01\").tz_localize(\"Europe/London\") # remove 1970 error\n",
    "\n",
    "df = pd.concat([df1, df3, df4]).sort_values(by = 'event_time').sort_values(by='event_time').reset_index(drop=True)\\\n",
    "        .assign(events = lambda x: x['events'].astype(str)) \\\n",
    "        .assign(weekday = lambda x: x['event_time'].dt.weekday).drop_duplicates(subset=['event_time', 'events']) \\\n",
    "        # .query('event_time >= @error_date')\n",
    "ts = df.assign(date= lambda x: x.event_time.dt.strftime('%Y-%m-%d')).groupby([\"date\", \"events\", \"message\"])\\\n",
    "        .agg({\"event_time\": 'first', \"source\": 'count', \"weekday\": 'first'}).rename(columns={\"source\": \"count_col\"})\\\n",
    "        .reset_index().assign(hour = lambda x: x.event_time.dt.hour, minute = lambda x: x.event_time.dt.minute).assign(time = lambda x: x.hour + x.minute/60)\\\n",
    "        .sort_values(\"event_time\")\n",
    "vis = ts\n",
    "        \n",
    "keep = ['17', '18', '19', '25', '27', '30']\n",
    "ts = ts.query(\"events in @keep\")\n",
    "ts = ts.assign(diff = ts['event_time'].shift(-1) - ts['event_time'], \\\n",
    "                diff_hour= (ts['event_time'].shift(-1) - ts['event_time']).dt.days*24 + (ts['event_time'].shift(-1) - ts['event_time']).dt.seconds/3600, \\\n",
    "                lag_event = ts['event_time'].shift(-1))\\\n",
    "                .filter([\"date\", \"events\", \"message\", \"event_time\", \"lag_event\", \"diff\", \"diff_hour\", \"count_col\", \"weekday\", \"hour\", \"minute\", \"time\"])\\\n",
    "                .query(\"diff_hour > 11/60 and (events == '18' or events == '19')\").assign(user = id).reset_index(drop=True)\n",
    "                \n",
    "ts = ts.assign(diff = ts['event_time'].shift(-1) - ts['event_time'], \\\n",
    "                diff_hour= (ts['event_time'].shift(-1) - ts['event_time']).dt.days*24 + (ts['event_time'].shift(-1) - ts['event_time']).dt.seconds/3600, \\\n",
    "                lag_event = ts['event_time'].shift(-1))\n",
    "df.head(20)"
   ]
  },
  {
   "attachments": {},
   "cell_type": "markdown",
   "metadata": {},
   "source": [
    "### Visualisation"
   ]
  },
  {
   "cell_type": "code",
   "execution_count": 347,
   "metadata": {},
   "outputs": [
    {
     "data": {
      "text/html": [
       "<div>\n",
       "<style scoped>\n",
       "    .dataframe tbody tr th:only-of-type {\n",
       "        vertical-align: middle;\n",
       "    }\n",
       "\n",
       "    .dataframe tbody tr th {\n",
       "        vertical-align: top;\n",
       "    }\n",
       "\n",
       "    .dataframe thead th {\n",
       "        text-align: right;\n",
       "    }\n",
       "</style>\n",
       "<table border=\"1\" class=\"dataframe\">\n",
       "  <thead>\n",
       "    <tr style=\"text-align: right;\">\n",
       "      <th></th>\n",
       "      <th>createdAt</th>\n",
       "      <th>userId</th>\n",
       "      <th>cueingMethod1</th>\n",
       "      <th>cueingMethod2</th>\n",
       "      <th>cueingMethod1Start</th>\n",
       "      <th>cueingMethod1End</th>\n",
       "      <th>cueingMethod2Start</th>\n",
       "      <th>cueingMethod2End</th>\n",
       "      <th>ethnicGroup</th>\n",
       "      <th>phase</th>\n",
       "      <th>nmsq_score</th>\n",
       "      <th>pdq8_score</th>\n",
       "      <th>updrs22_score</th>\n",
       "      <th>romps_score</th>\n",
       "      <th>gender</th>\n",
       "      <th>ageRange</th>\n",
       "    </tr>\n",
       "  </thead>\n",
       "  <tbody>\n",
       "    <tr>\n",
       "      <th>124</th>\n",
       "      <td>2022-10-14 20:48:21.430000+01:00</td>\n",
       "      <td>M6AnBk7QDC</td>\n",
       "      <td>phone</td>\n",
       "      <td>cueband</td>\n",
       "      <td>2022-10-14 20:57:38.346000+01:00</td>\n",
       "      <td>2022-11-04 09:43:21.737000+00:00</td>\n",
       "      <td>2022-11-18 21:20:16.139000+00:00</td>\n",
       "      <td>2022-12-09 16:05:22.242000+00:00</td>\n",
       "      <td>None</td>\n",
       "      <td>0</td>\n",
       "      <td>10</td>\n",
       "      <td>6</td>\n",
       "      <td>3</td>\n",
       "      <td>17</td>\n",
       "      <td>Male</td>\n",
       "      <td>55-64 years</td>\n",
       "    </tr>\n",
       "    <tr>\n",
       "      <th>125</th>\n",
       "      <td>2022-11-04 09:57:50.776000+00:00</td>\n",
       "      <td>M6AnBk7QDC</td>\n",
       "      <td>phone</td>\n",
       "      <td>cueband</td>\n",
       "      <td>2022-10-14 20:57:38.346000+01:00</td>\n",
       "      <td>2022-11-04 09:43:21.737000+00:00</td>\n",
       "      <td>2022-11-18 21:20:16.139000+00:00</td>\n",
       "      <td>2022-12-09 16:05:22.242000+00:00</td>\n",
       "      <td>None</td>\n",
       "      <td>1</td>\n",
       "      <td>5</td>\n",
       "      <td>1</td>\n",
       "      <td>3</td>\n",
       "      <td>13</td>\n",
       "      <td>Male</td>\n",
       "      <td>55-64 years</td>\n",
       "    </tr>\n",
       "    <tr>\n",
       "      <th>126</th>\n",
       "      <td>2022-11-18 21:19:57.595000+00:00</td>\n",
       "      <td>M6AnBk7QDC</td>\n",
       "      <td>phone</td>\n",
       "      <td>cueband</td>\n",
       "      <td>2022-10-14 20:57:38.346000+01:00</td>\n",
       "      <td>2022-11-04 09:43:21.737000+00:00</td>\n",
       "      <td>2022-11-18 21:20:16.139000+00:00</td>\n",
       "      <td>2022-12-09 16:05:22.242000+00:00</td>\n",
       "      <td>None</td>\n",
       "      <td>2</td>\n",
       "      <td>7</td>\n",
       "      <td>1</td>\n",
       "      <td>3</td>\n",
       "      <td>13</td>\n",
       "      <td>Male</td>\n",
       "      <td>55-64 years</td>\n",
       "    </tr>\n",
       "    <tr>\n",
       "      <th>127</th>\n",
       "      <td>2022-12-09 16:16:18.725000+00:00</td>\n",
       "      <td>M6AnBk7QDC</td>\n",
       "      <td>phone</td>\n",
       "      <td>cueband</td>\n",
       "      <td>2022-10-14 20:57:38.346000+01:00</td>\n",
       "      <td>2022-11-04 09:43:21.737000+00:00</td>\n",
       "      <td>2022-11-18 21:20:16.139000+00:00</td>\n",
       "      <td>2022-12-09 16:05:22.242000+00:00</td>\n",
       "      <td>None</td>\n",
       "      <td>3</td>\n",
       "      <td>6</td>\n",
       "      <td>2</td>\n",
       "      <td>2</td>\n",
       "      <td>14</td>\n",
       "      <td>Male</td>\n",
       "      <td>55-64 years</td>\n",
       "    </tr>\n",
       "  </tbody>\n",
       "</table>\n",
       "</div>"
      ],
      "text/plain": [
       "                           createdAt      userId cueingMethod1 cueingMethod2  \\\n",
       "124 2022-10-14 20:48:21.430000+01:00  M6AnBk7QDC         phone       cueband   \n",
       "125 2022-11-04 09:57:50.776000+00:00  M6AnBk7QDC         phone       cueband   \n",
       "126 2022-11-18 21:19:57.595000+00:00  M6AnBk7QDC         phone       cueband   \n",
       "127 2022-12-09 16:16:18.725000+00:00  M6AnBk7QDC         phone       cueband   \n",
       "\n",
       "                  cueingMethod1Start                 cueingMethod1End  \\\n",
       "124 2022-10-14 20:57:38.346000+01:00 2022-11-04 09:43:21.737000+00:00   \n",
       "125 2022-10-14 20:57:38.346000+01:00 2022-11-04 09:43:21.737000+00:00   \n",
       "126 2022-10-14 20:57:38.346000+01:00 2022-11-04 09:43:21.737000+00:00   \n",
       "127 2022-10-14 20:57:38.346000+01:00 2022-11-04 09:43:21.737000+00:00   \n",
       "\n",
       "                  cueingMethod2Start                 cueingMethod2End  \\\n",
       "124 2022-11-18 21:20:16.139000+00:00 2022-12-09 16:05:22.242000+00:00   \n",
       "125 2022-11-18 21:20:16.139000+00:00 2022-12-09 16:05:22.242000+00:00   \n",
       "126 2022-11-18 21:20:16.139000+00:00 2022-12-09 16:05:22.242000+00:00   \n",
       "127 2022-11-18 21:20:16.139000+00:00 2022-12-09 16:05:22.242000+00:00   \n",
       "\n",
       "    ethnicGroup  phase  nmsq_score  pdq8_score  updrs22_score  romps_score  \\\n",
       "124        None      0          10           6              3           17   \n",
       "125        None      1           5           1              3           13   \n",
       "126        None      2           7           1              3           13   \n",
       "127        None      3           6           2              2           14   \n",
       "\n",
       "    gender     ageRange  \n",
       "124   Male  55-64 years  \n",
       "125   Male  55-64 years  \n",
       "126   Male  55-64 years  \n",
       "127   Male  55-64 years  "
      ]
     },
     "metadata": {},
     "output_type": "display_data"
    },
    {
     "data": {
      "application/vnd.plotly.v1+json": {
       "config": {
        "plotlyServerURL": "https://plot.ly"
       },
       "data": [
        {
         "customdata": [
          [
           "13 - 12 - 4",
           4
          ],
          [
           "10 - 10 - 7",
           5
          ],
          [
           "8 - 10 - 10",
           0
          ],
          [
           "7 - 6 - 9",
           3
          ],
          [
           "12 - 10 - 9",
           4
          ]
         ],
         "hovertemplate": "source=diaryEntry<br>event_time=%{x}<br>events=%{y}<br>message=%{customdata[0]}<br>weekday=%{customdata[1]}<extra></extra>",
         "legendgroup": "diaryEntry",
         "marker": {
          "color": "#22aad8",
          "symbol": "circle"
         },
         "mode": "markers",
         "name": "diaryEntry",
         "orientation": "v",
         "showlegend": true,
         "type": "scatter",
         "x": [
          "2022-10-14T20:33:04.590000+01:00",
          "2022-10-15T21:05:07.661000+01:00",
          "2022-10-17T20:25:00.628000+01:00",
          "2022-10-20T19:12:07.077000+01:00",
          "2022-10-21T18:20:07.401000+01:00"
         ],
         "xaxis": "x",
         "y": [
          "diaryEntries",
          "diaryEntries",
          "diaryEntries",
          "diaryEntries",
          "diaryEntries"
         ],
         "yaxis": "y"
        },
        {
         "customdata": [
          [
           "Phone manual cueing started. Until 21:02 Cueing period: 60 seconds. Vibration pattern: Long. Vibration intensity: Default",
           4
          ],
          [
           "Phone manual cueing started. Until 21:02 Cueing period: 60 seconds. Vibration pattern: Long. Vibration intensity: Default",
           4
          ],
          [
           "Phone muted cueing started. Until 08:39 Cueing period: 30 seconds. Vibration pattern: 3x Long. Vibration intensity: More intense",
           5
          ],
          [
           "Phone manual cueing started. Until 08:40 Cueing period: 30 seconds. Vibration pattern: 3x Long. Vibration intensity: More intense",
           5
          ],
          [
           "Manual Cueing stopped on phone",
           5
          ],
          [
           "Phone manual cueing started. Until 08:41 Cueing period: 30 seconds. Vibration pattern: 3x Long. Vibration intensity: More intense",
           5
          ],
          [
           "Phone muted cueing started. Until 08:43 Cueing period: 30 seconds. Vibration pattern: 3x Long. Vibration intensity: More intense",
           5
          ],
          [
           "Phone muted cueing started. Until 08:43 Cueing period: 30 seconds. Vibration pattern: 3x Long. Vibration intensity: More intense",
           5
          ],
          [
           "Phone muted cueing started. Until 08:54 Cueing period: 30 seconds. Vibration pattern: 3x Long. Vibration intensity: More intense",
           5
          ],
          [
           "Phone muted cueing started. Until 09:10 Cueing period: 30 seconds. Vibration pattern: 3x Long. Vibration intensity: More intense",
           5
          ],
          [
           "Silence mode stopped on phone",
           5
          ],
          [
           "Phone manual cueing started. Until 09:07 Cueing period: 30 seconds. Vibration pattern: 3x Long. Vibration intensity: More intense",
           5
          ],
          [
           "Phone scheduled cueing started. Until 09:05 Cueing period: 5 seconds. Vibration pattern: 3x Long. Vibration intensity: More intense",
           5
          ],
          [
           "Phone scheduled cueing started. Until 09:05 Cueing period: 5 seconds. Vibration pattern: 3x Long. Vibration intensity: More intense",
           5
          ],
          [
           "Phone scheduled cueing started. Until 09:05 Cueing period: 5 seconds. Vibration pattern: 3x Long. Vibration intensity: More intense",
           5
          ],
          [
           "Phone scheduled cueing started. Until 09:05 Cueing period: 5 seconds. Vibration pattern: 3x Long. Vibration intensity: More intense",
           5
          ],
          [
           "Scheduled cueing muted completely",
           5
          ],
          [
           "Muted scheduled cueing on phone for 1974 ms",
           5
          ],
          [
           "Phone muted cueing started. Until 09:05 Cueing period: 5 seconds. Vibration pattern: 3x Long. Vibration intensity: More intense",
           5
          ],
          [
           "Phone muted cueing started. Until 09:05 Cueing period: 5 seconds. Vibration pattern: 3x Long. Vibration intensity: More intense",
           5
          ],
          [
           "Phone muted cueing started. Until 09:15 Cueing period: 5 seconds. Vibration pattern: 3x Long. Vibration intensity: More intense",
           5
          ],
          [
           "Phone muted cueing started. Until 09:15 Cueing period: 5 seconds. Vibration pattern: 3x Long. Vibration intensity: More intense",
           5
          ],
          [
           "Silence mode stopped on phone",
           5
          ],
          [
           "Phone scheduled cueing started. Until 18:30 Cueing period: 5 seconds. Vibration pattern: 3x Long. Vibration intensity: More intense",
           4
          ],
          [
           "Scheduled cueing muted completely",
           4
          ],
          [
           "Muted scheduled cueing on phone for 791951 ms",
           4
          ],
          [
           "Phone scheduled cueing started. Until 16:15 Cueing period: 5 seconds. Vibration pattern: 3x Long. Vibration intensity: More intense",
           1
          ],
          [
           "Phone scheduled cueing started. Until 08:05 Cueing period: 5 seconds. Vibration pattern: 3x Long. Vibration intensity: More intense",
           2
          ],
          [
           "Scheduled cueing muted completely",
           2
          ],
          [
           "Muted scheduled cueing on phone for 192222 ms",
           2
          ],
          [
           "Phone muted cueing started. Until 08:05 Cueing period: 5 seconds. Vibration pattern: 3x Long. Vibration intensity: More intense",
           2
          ],
          [
           "Phone scheduled cueing started. Until 12:04 Cueing period: 5 seconds. Vibration pattern: 3x Long. Vibration intensity: More intense",
           2
          ],
          [
           "Scheduled cueing muted completely",
           2
          ],
          [
           "Muted scheduled cueing on phone for 155275 ms",
           2
          ],
          [
           "Phone muted cueing started. Until 12:04 Cueing period: 5 seconds. Vibration pattern: 3x Long. Vibration intensity: More intense",
           2
          ],
          [
           "Phone scheduled cueing started. Until 12:04 Cueing period: 5 seconds. Vibration pattern: 3x Long. Vibration intensity: More intense",
           3
          ],
          [
           "Scheduled cueing muted completely",
           3
          ],
          [
           "Muted scheduled cueing on phone for 20290 ms",
           3
          ],
          [
           "Phone muted cueing started. Until 12:04 Cueing period: 5 seconds. Vibration pattern: 3x Long. Vibration intensity: More intense",
           3
          ],
          [
           "Phone scheduled cueing started. Until 20:04 Cueing period: 5 seconds. Vibration pattern: 3x Long. Vibration intensity: More intense",
           3
          ],
          [
           "Scheduled cueing muted completely",
           3
          ],
          [
           "Muted scheduled cueing on phone for 75640 ms",
           3
          ],
          [
           "Phone muted cueing started. Until 20:04 Cueing period: 5 seconds. Vibration pattern: 3x Long. Vibration intensity: More intense",
           3
          ]
         ],
         "hovertemplate": "source=appLog<br>event_time=%{x}<br>events=%{y}<br>message=%{customdata[0]}<br>weekday=%{customdata[1]}<extra></extra>",
         "legendgroup": "appLog",
         "marker": {
          "color": "#d8bd22",
          "symbol": "circle"
         },
         "mode": "markers",
         "name": "appLog",
         "orientation": "v",
         "showlegend": true,
         "type": "scatter",
         "x": [
          "2022-10-14T20:57:09.981000+01:00",
          "2022-10-14T20:57:35.298000+01:00",
          "2022-10-15T08:29:36.724000+01:00",
          "2022-10-15T08:30:37.885000+01:00",
          "2022-10-15T08:31:22.051000+01:00",
          "2022-10-15T08:31:54.022000+01:00",
          "2022-10-15T08:33:51.287000+01:00",
          "2022-10-15T08:38:53.491000+01:00",
          "2022-10-15T08:44:25.191000+01:00",
          "2022-10-15T09:00:23.438000+01:00",
          "2022-10-15T09:00:37.380000+01:00",
          "2022-10-15T09:02:17.438000+01:00",
          "2022-10-15T09:04:23.881000+01:00",
          "2022-10-15T09:04:48.590000+01:00",
          "2022-10-15T09:04:48.593000+01:00",
          "2022-10-15T09:04:48.594000+01:00",
          "2022-10-15T09:04:58.017000+01:00",
          "2022-10-15T09:04:58.033000+01:00",
          "2022-10-15T09:04:58.096000+01:00",
          "2022-10-15T09:04:58.100000+01:00",
          "2022-10-15T09:05:56.204000+01:00",
          "2022-10-15T09:05:56.207000+01:00",
          "2022-10-15T09:06:05.491000+01:00",
          "2022-10-21T18:00:12.693000+01:00",
          "2022-10-21T18:16:48.042000+01:00",
          "2022-10-21T18:16:48.055000+01:00",
          "2022-11-01T16:00:31.422000+00:00",
          "2022-11-02T08:01:34.133000+00:00",
          "2022-11-02T08:01:47.773000+00:00",
          "2022-11-02T08:01:47.781000+00:00",
          "2022-11-02T08:01:47.831000+00:00",
          "2022-11-02T12:01:17.268000+00:00",
          "2022-11-02T12:01:24.720000+00:00",
          "2022-11-02T12:01:24.731000+00:00",
          "2022-11-02T12:01:24.798000+00:00",
          "2022-11-03T12:03:29.293000+00:00",
          "2022-11-03T12:03:39.703000+00:00",
          "2022-11-03T12:03:39.716000+00:00",
          "2022-11-03T12:03:39.777000+00:00",
          "2022-11-03T20:02:35.743000+00:00",
          "2022-11-03T20:02:44.355000+00:00",
          "2022-11-03T20:02:44.363000+00:00",
          "2022-11-03T20:02:44.447000+00:00"
         ],
         "xaxis": "x",
         "y": [
          "18",
          "18",
          "17",
          "18",
          "25",
          "18",
          "17",
          "17",
          "17",
          "17",
          "28",
          "18",
          "19",
          "19",
          "19",
          "19",
          "27",
          "30",
          "17",
          "17",
          "17",
          "17",
          "28",
          "19",
          "27",
          "30",
          "19",
          "19",
          "27",
          "30",
          "17",
          "19",
          "27",
          "30",
          "17",
          "19",
          "27",
          "30",
          "17",
          "19",
          "27",
          "30",
          "17"
         ],
         "yaxis": "y"
        },
        {
         "customdata": [
          [
           "Scheduled Cueing until 0 days 18:30:00",
           5
          ],
          [
           "Scheduled Cueing until 0 days 09:05:00",
           6
          ],
          [
           "Scheduled Cueing until 0 days 18:30:00",
           5
          ],
          [
           "Scheduled Cueing until 0 days 09:05:00",
           6
          ],
          [
           "Scheduled Cueing until 0 days 18:30:00",
           5
          ],
          [
           "Scheduled Cueing until 0 days 09:05:00",
           6
          ],
          [
           "Scheduled Cueing until 0 days 08:15:00",
           2
          ],
          [
           "Scheduled Cueing until 0 days 12:04:00",
           2
          ],
          [
           "Scheduled Cueing until 0 days 16:15:00",
           2
          ],
          [
           "Scheduled Cueing until 0 days 20:04:00",
           2
          ],
          [
           "Scheduled Cueing until 0 days 08:05:00",
           3
          ],
          [
           "Scheduled Cueing until 0 days 12:04:00",
           3
          ],
          [
           "Scheduled Cueing until 0 days 16:15:00",
           3
          ],
          [
           "Scheduled Cueing until 0 days 20:15:00",
           3
          ],
          [
           "Scheduled Cueing until 0 days 08:15:00",
           4
          ]
         ],
         "hovertemplate": "source=createdInterval<br>event_time=%{x}<br>events=%{y}<br>message=%{customdata[0]}<br>weekday=%{customdata[1]}<extra></extra>",
         "legendgroup": "createdInterval",
         "marker": {
          "color": "#ab63fa",
          "symbol": "circle"
         },
         "mode": "markers",
         "name": "createdInterval",
         "orientation": "v",
         "showlegend": true,
         "type": "scatter",
         "x": [
          "2022-10-15T18:00:00+01:00",
          "2022-10-16T09:00:00+01:00",
          "2022-10-22T18:00:00+01:00",
          "2022-10-23T09:00:00+01:00",
          "2022-10-29T18:00:00+01:00",
          "2022-10-30T09:00:00+00:00",
          "2022-11-02T08:00:00+00:00",
          "2022-11-02T12:00:00+00:00",
          "2022-11-02T16:00:00+00:00",
          "2022-11-02T20:00:00+00:00",
          "2022-11-03T08:00:00+00:00",
          "2022-11-03T12:00:00+00:00",
          "2022-11-03T16:00:00+00:00",
          "2022-11-03T20:00:00+00:00",
          "2022-11-04T08:00:00+00:00"
         ],
         "xaxis": "x",
         "y": [
          "Scheduled",
          "Scheduled",
          "Scheduled",
          "Scheduled",
          "Scheduled",
          "Scheduled",
          "Scheduled",
          "Scheduled",
          "Scheduled",
          "Scheduled",
          "Scheduled",
          "Scheduled",
          "Scheduled",
          "Scheduled",
          "Scheduled"
         ],
         "yaxis": "y"
        }
       ],
       "layout": {
        "legend": {
         "title": {
          "text": "source"
         },
         "tracegroupgap": 0
        },
        "margin": {
         "t": 60
        },
        "template": {
         "data": {
          "bar": [
           {
            "error_x": {
             "color": "#2a3f5f"
            },
            "error_y": {
             "color": "#2a3f5f"
            },
            "marker": {
             "line": {
              "color": "#E5ECF6",
              "width": 0.5
             },
             "pattern": {
              "fillmode": "overlay",
              "size": 10,
              "solidity": 0.2
             }
            },
            "type": "bar"
           }
          ],
          "barpolar": [
           {
            "marker": {
             "line": {
              "color": "#E5ECF6",
              "width": 0.5
             },
             "pattern": {
              "fillmode": "overlay",
              "size": 10,
              "solidity": 0.2
             }
            },
            "type": "barpolar"
           }
          ],
          "carpet": [
           {
            "aaxis": {
             "endlinecolor": "#2a3f5f",
             "gridcolor": "white",
             "linecolor": "white",
             "minorgridcolor": "white",
             "startlinecolor": "#2a3f5f"
            },
            "baxis": {
             "endlinecolor": "#2a3f5f",
             "gridcolor": "white",
             "linecolor": "white",
             "minorgridcolor": "white",
             "startlinecolor": "#2a3f5f"
            },
            "type": "carpet"
           }
          ],
          "choropleth": [
           {
            "colorbar": {
             "outlinewidth": 0,
             "ticks": ""
            },
            "type": "choropleth"
           }
          ],
          "contour": [
           {
            "colorbar": {
             "outlinewidth": 0,
             "ticks": ""
            },
            "colorscale": [
             [
              0,
              "#0d0887"
             ],
             [
              0.1111111111111111,
              "#46039f"
             ],
             [
              0.2222222222222222,
              "#7201a8"
             ],
             [
              0.3333333333333333,
              "#9c179e"
             ],
             [
              0.4444444444444444,
              "#bd3786"
             ],
             [
              0.5555555555555556,
              "#d8576b"
             ],
             [
              0.6666666666666666,
              "#ed7953"
             ],
             [
              0.7777777777777778,
              "#fb9f3a"
             ],
             [
              0.8888888888888888,
              "#fdca26"
             ],
             [
              1,
              "#f0f921"
             ]
            ],
            "type": "contour"
           }
          ],
          "contourcarpet": [
           {
            "colorbar": {
             "outlinewidth": 0,
             "ticks": ""
            },
            "type": "contourcarpet"
           }
          ],
          "heatmap": [
           {
            "colorbar": {
             "outlinewidth": 0,
             "ticks": ""
            },
            "colorscale": [
             [
              0,
              "#0d0887"
             ],
             [
              0.1111111111111111,
              "#46039f"
             ],
             [
              0.2222222222222222,
              "#7201a8"
             ],
             [
              0.3333333333333333,
              "#9c179e"
             ],
             [
              0.4444444444444444,
              "#bd3786"
             ],
             [
              0.5555555555555556,
              "#d8576b"
             ],
             [
              0.6666666666666666,
              "#ed7953"
             ],
             [
              0.7777777777777778,
              "#fb9f3a"
             ],
             [
              0.8888888888888888,
              "#fdca26"
             ],
             [
              1,
              "#f0f921"
             ]
            ],
            "type": "heatmap"
           }
          ],
          "heatmapgl": [
           {
            "colorbar": {
             "outlinewidth": 0,
             "ticks": ""
            },
            "colorscale": [
             [
              0,
              "#0d0887"
             ],
             [
              0.1111111111111111,
              "#46039f"
             ],
             [
              0.2222222222222222,
              "#7201a8"
             ],
             [
              0.3333333333333333,
              "#9c179e"
             ],
             [
              0.4444444444444444,
              "#bd3786"
             ],
             [
              0.5555555555555556,
              "#d8576b"
             ],
             [
              0.6666666666666666,
              "#ed7953"
             ],
             [
              0.7777777777777778,
              "#fb9f3a"
             ],
             [
              0.8888888888888888,
              "#fdca26"
             ],
             [
              1,
              "#f0f921"
             ]
            ],
            "type": "heatmapgl"
           }
          ],
          "histogram": [
           {
            "marker": {
             "pattern": {
              "fillmode": "overlay",
              "size": 10,
              "solidity": 0.2
             }
            },
            "type": "histogram"
           }
          ],
          "histogram2d": [
           {
            "colorbar": {
             "outlinewidth": 0,
             "ticks": ""
            },
            "colorscale": [
             [
              0,
              "#0d0887"
             ],
             [
              0.1111111111111111,
              "#46039f"
             ],
             [
              0.2222222222222222,
              "#7201a8"
             ],
             [
              0.3333333333333333,
              "#9c179e"
             ],
             [
              0.4444444444444444,
              "#bd3786"
             ],
             [
              0.5555555555555556,
              "#d8576b"
             ],
             [
              0.6666666666666666,
              "#ed7953"
             ],
             [
              0.7777777777777778,
              "#fb9f3a"
             ],
             [
              0.8888888888888888,
              "#fdca26"
             ],
             [
              1,
              "#f0f921"
             ]
            ],
            "type": "histogram2d"
           }
          ],
          "histogram2dcontour": [
           {
            "colorbar": {
             "outlinewidth": 0,
             "ticks": ""
            },
            "colorscale": [
             [
              0,
              "#0d0887"
             ],
             [
              0.1111111111111111,
              "#46039f"
             ],
             [
              0.2222222222222222,
              "#7201a8"
             ],
             [
              0.3333333333333333,
              "#9c179e"
             ],
             [
              0.4444444444444444,
              "#bd3786"
             ],
             [
              0.5555555555555556,
              "#d8576b"
             ],
             [
              0.6666666666666666,
              "#ed7953"
             ],
             [
              0.7777777777777778,
              "#fb9f3a"
             ],
             [
              0.8888888888888888,
              "#fdca26"
             ],
             [
              1,
              "#f0f921"
             ]
            ],
            "type": "histogram2dcontour"
           }
          ],
          "mesh3d": [
           {
            "colorbar": {
             "outlinewidth": 0,
             "ticks": ""
            },
            "type": "mesh3d"
           }
          ],
          "parcoords": [
           {
            "line": {
             "colorbar": {
              "outlinewidth": 0,
              "ticks": ""
             }
            },
            "type": "parcoords"
           }
          ],
          "pie": [
           {
            "automargin": true,
            "type": "pie"
           }
          ],
          "scatter": [
           {
            "fillpattern": {
             "fillmode": "overlay",
             "size": 10,
             "solidity": 0.2
            },
            "type": "scatter"
           }
          ],
          "scatter3d": [
           {
            "line": {
             "colorbar": {
              "outlinewidth": 0,
              "ticks": ""
             }
            },
            "marker": {
             "colorbar": {
              "outlinewidth": 0,
              "ticks": ""
             }
            },
            "type": "scatter3d"
           }
          ],
          "scattercarpet": [
           {
            "marker": {
             "colorbar": {
              "outlinewidth": 0,
              "ticks": ""
             }
            },
            "type": "scattercarpet"
           }
          ],
          "scattergeo": [
           {
            "marker": {
             "colorbar": {
              "outlinewidth": 0,
              "ticks": ""
             }
            },
            "type": "scattergeo"
           }
          ],
          "scattergl": [
           {
            "marker": {
             "colorbar": {
              "outlinewidth": 0,
              "ticks": ""
             }
            },
            "type": "scattergl"
           }
          ],
          "scattermapbox": [
           {
            "marker": {
             "colorbar": {
              "outlinewidth": 0,
              "ticks": ""
             }
            },
            "type": "scattermapbox"
           }
          ],
          "scatterpolar": [
           {
            "marker": {
             "colorbar": {
              "outlinewidth": 0,
              "ticks": ""
             }
            },
            "type": "scatterpolar"
           }
          ],
          "scatterpolargl": [
           {
            "marker": {
             "colorbar": {
              "outlinewidth": 0,
              "ticks": ""
             }
            },
            "type": "scatterpolargl"
           }
          ],
          "scatterternary": [
           {
            "marker": {
             "colorbar": {
              "outlinewidth": 0,
              "ticks": ""
             }
            },
            "type": "scatterternary"
           }
          ],
          "surface": [
           {
            "colorbar": {
             "outlinewidth": 0,
             "ticks": ""
            },
            "colorscale": [
             [
              0,
              "#0d0887"
             ],
             [
              0.1111111111111111,
              "#46039f"
             ],
             [
              0.2222222222222222,
              "#7201a8"
             ],
             [
              0.3333333333333333,
              "#9c179e"
             ],
             [
              0.4444444444444444,
              "#bd3786"
             ],
             [
              0.5555555555555556,
              "#d8576b"
             ],
             [
              0.6666666666666666,
              "#ed7953"
             ],
             [
              0.7777777777777778,
              "#fb9f3a"
             ],
             [
              0.8888888888888888,
              "#fdca26"
             ],
             [
              1,
              "#f0f921"
             ]
            ],
            "type": "surface"
           }
          ],
          "table": [
           {
            "cells": {
             "fill": {
              "color": "#EBF0F8"
             },
             "line": {
              "color": "white"
             }
            },
            "header": {
             "fill": {
              "color": "#C8D4E3"
             },
             "line": {
              "color": "white"
             }
            },
            "type": "table"
           }
          ]
         },
         "layout": {
          "annotationdefaults": {
           "arrowcolor": "#2a3f5f",
           "arrowhead": 0,
           "arrowwidth": 1
          },
          "autotypenumbers": "strict",
          "coloraxis": {
           "colorbar": {
            "outlinewidth": 0,
            "ticks": ""
           }
          },
          "colorscale": {
           "diverging": [
            [
             0,
             "#8e0152"
            ],
            [
             0.1,
             "#c51b7d"
            ],
            [
             0.2,
             "#de77ae"
            ],
            [
             0.3,
             "#f1b6da"
            ],
            [
             0.4,
             "#fde0ef"
            ],
            [
             0.5,
             "#f7f7f7"
            ],
            [
             0.6,
             "#e6f5d0"
            ],
            [
             0.7,
             "#b8e186"
            ],
            [
             0.8,
             "#7fbc41"
            ],
            [
             0.9,
             "#4d9221"
            ],
            [
             1,
             "#276419"
            ]
           ],
           "sequential": [
            [
             0,
             "#0d0887"
            ],
            [
             0.1111111111111111,
             "#46039f"
            ],
            [
             0.2222222222222222,
             "#7201a8"
            ],
            [
             0.3333333333333333,
             "#9c179e"
            ],
            [
             0.4444444444444444,
             "#bd3786"
            ],
            [
             0.5555555555555556,
             "#d8576b"
            ],
            [
             0.6666666666666666,
             "#ed7953"
            ],
            [
             0.7777777777777778,
             "#fb9f3a"
            ],
            [
             0.8888888888888888,
             "#fdca26"
            ],
            [
             1,
             "#f0f921"
            ]
           ],
           "sequentialminus": [
            [
             0,
             "#0d0887"
            ],
            [
             0.1111111111111111,
             "#46039f"
            ],
            [
             0.2222222222222222,
             "#7201a8"
            ],
            [
             0.3333333333333333,
             "#9c179e"
            ],
            [
             0.4444444444444444,
             "#bd3786"
            ],
            [
             0.5555555555555556,
             "#d8576b"
            ],
            [
             0.6666666666666666,
             "#ed7953"
            ],
            [
             0.7777777777777778,
             "#fb9f3a"
            ],
            [
             0.8888888888888888,
             "#fdca26"
            ],
            [
             1,
             "#f0f921"
            ]
           ]
          },
          "colorway": [
           "#636efa",
           "#EF553B",
           "#00cc96",
           "#ab63fa",
           "#FFA15A",
           "#19d3f3",
           "#FF6692",
           "#B6E880",
           "#FF97FF",
           "#FECB52"
          ],
          "font": {
           "color": "#2a3f5f"
          },
          "geo": {
           "bgcolor": "white",
           "lakecolor": "white",
           "landcolor": "#E5ECF6",
           "showlakes": true,
           "showland": true,
           "subunitcolor": "white"
          },
          "hoverlabel": {
           "align": "left"
          },
          "hovermode": "closest",
          "mapbox": {
           "style": "light"
          },
          "paper_bgcolor": "white",
          "plot_bgcolor": "#E5ECF6",
          "polar": {
           "angularaxis": {
            "gridcolor": "white",
            "linecolor": "white",
            "ticks": ""
           },
           "bgcolor": "#E5ECF6",
           "radialaxis": {
            "gridcolor": "white",
            "linecolor": "white",
            "ticks": ""
           }
          },
          "scene": {
           "xaxis": {
            "backgroundcolor": "#E5ECF6",
            "gridcolor": "white",
            "gridwidth": 2,
            "linecolor": "white",
            "showbackground": true,
            "ticks": "",
            "zerolinecolor": "white"
           },
           "yaxis": {
            "backgroundcolor": "#E5ECF6",
            "gridcolor": "white",
            "gridwidth": 2,
            "linecolor": "white",
            "showbackground": true,
            "ticks": "",
            "zerolinecolor": "white"
           },
           "zaxis": {
            "backgroundcolor": "#E5ECF6",
            "gridcolor": "white",
            "gridwidth": 2,
            "linecolor": "white",
            "showbackground": true,
            "ticks": "",
            "zerolinecolor": "white"
           }
          },
          "shapedefaults": {
           "line": {
            "color": "#2a3f5f"
           }
          },
          "ternary": {
           "aaxis": {
            "gridcolor": "white",
            "linecolor": "white",
            "ticks": ""
           },
           "baxis": {
            "gridcolor": "white",
            "linecolor": "white",
            "ticks": ""
           },
           "bgcolor": "#E5ECF6",
           "caxis": {
            "gridcolor": "white",
            "linecolor": "white",
            "ticks": ""
           }
          },
          "title": {
           "x": 0.05
          },
          "xaxis": {
           "automargin": true,
           "gridcolor": "white",
           "linecolor": "white",
           "ticks": "",
           "title": {
            "standoff": 15
           },
           "zerolinecolor": "white",
           "zerolinewidth": 2
          },
          "yaxis": {
           "automargin": true,
           "gridcolor": "white",
           "linecolor": "white",
           "ticks": "",
           "title": {
            "standoff": 15
           },
           "zerolinecolor": "white",
           "zerolinewidth": 2
          }
         }
        },
        "xaxis": {
         "anchor": "y",
         "domain": [
          0,
          1
         ],
         "title": {
          "text": "event_time"
         }
        },
        "yaxis": {
         "anchor": "x",
         "domain": [
          0,
          1
         ],
         "title": {
          "text": "events"
         }
        }
       }
      }
     },
     "metadata": {},
     "output_type": "display_data"
    }
   ],
   "source": [
    "color_map = {\n",
    "    'diaryEntry': '#22aad8',\n",
    "    'blockSample': '#7422d8',\n",
    "    'appLog': '#d8bd22',\n",
    "}\n",
    "\n",
    "display(score_pannel.filter(col).query('userId == @id'))\n",
    "fig = px.scatter(df, x='event_time', y='events', color='source', hover_data=['message', 'weekday'], color_discrete_map= color_map)\n",
    "fig.show()"
   ]
  },
  {
   "cell_type": "code",
   "execution_count": 252,
   "metadata": {},
   "outputs": [],
   "source": [
    "# pd.options.display.max_colwidth = None\n",
    "# pd.options.display.width = None"
   ]
  },
  {
   "attachments": {},
   "cell_type": "markdown",
   "metadata": {},
   "source": [
    "## Group by events, predict period of cueing effect"
   ]
  },
  {
   "cell_type": "code",
   "execution_count": null,
   "metadata": {},
   "outputs": [],
   "source": [
    "df"
   ]
  },
  {
   "cell_type": "code",
   "execution_count": null,
   "metadata": {},
   "outputs": [],
   "source": [
    "vis"
   ]
  },
  {
   "cell_type": "code",
   "execution_count": null,
   "metadata": {},
   "outputs": [],
   "source": [
    "px.line(ts, x='date', y='time', hover_data=[\"events\", \"message\"], color=\"events\")"
   ]
  },
  {
   "cell_type": "code",
   "execution_count": null,
   "metadata": {},
   "outputs": [],
   "source": [
    "keep = ['17', '18', '19', '25', '27', '30']\n",
    "ts = ts.query(\"events in @keep\")\n",
    "ts.assign(diff = ts['event_time'].shift(-1) - ts['event_time'], \\\n",
    "        diff_hour= (ts['event_time'].shift(-1) - ts['event_time']).dt.days*24 + (ts['event_time'].shift(-1) - ts['event_time']).dt.seconds/3600, \\\n",
    "        lag_event = ts['event_time'].shift(-1))\\\n",
    "        .filter([\"date\", \"events\", \"message\", \"event_time\", \"lag_event\", \"diff\", \"diff_hour\", \"count_col\", \"weekday\", \"hour\", \"minute\", \"time\"])\\\n",
    "        .query(\"diff_hour > 11/60 and (events == '18' or events == '19') \")\n",
    "\n",
    "# tmp['diff'].dt.seconds//3600 \n",
    "# tmp.to_parquet(f\"data/predict_period_{id}.parquet\")"
   ]
  },
  {
   "cell_type": "code",
   "execution_count": null,
   "metadata": {},
   "outputs": [],
   "source": []
  },
  {
   "cell_type": "code",
   "execution_count": 336,
   "metadata": {},
   "outputs": [
    {
     "data": {
      "text/html": [
       "<div>\n",
       "<style scoped>\n",
       "    .dataframe tbody tr th:only-of-type {\n",
       "        vertical-align: middle;\n",
       "    }\n",
       "\n",
       "    .dataframe tbody tr th {\n",
       "        vertical-align: top;\n",
       "    }\n",
       "\n",
       "    .dataframe thead th {\n",
       "        text-align: right;\n",
       "    }\n",
       "</style>\n",
       "<table border=\"1\" class=\"dataframe\">\n",
       "  <thead>\n",
       "    <tr style=\"text-align: right;\">\n",
       "      <th></th>\n",
       "      <th>date</th>\n",
       "      <th>events</th>\n",
       "      <th>message</th>\n",
       "      <th>event_time</th>\n",
       "      <th>count_col</th>\n",
       "      <th>weekday</th>\n",
       "      <th>hour</th>\n",
       "      <th>minute</th>\n",
       "      <th>time</th>\n",
       "    </tr>\n",
       "  </thead>\n",
       "  <tbody>\n",
       "    <tr>\n",
       "      <th>4</th>\n",
       "      <td>2022-10-31</td>\n",
       "      <td>Scheduled</td>\n",
       "      <td>Scheduled Cueing until 0 days 10:00:00</td>\n",
       "      <td>2022-10-31 09:00:00+00:00</td>\n",
       "      <td>1</td>\n",
       "      <td>0</td>\n",
       "      <td>9</td>\n",
       "      <td>0</td>\n",
       "      <td>9.0</td>\n",
       "    </tr>\n",
       "  </tbody>\n",
       "</table>\n",
       "</div>"
      ],
      "text/plain": [
       "         date     events                                 message  \\\n",
       "4  2022-10-31  Scheduled  Scheduled Cueing until 0 days 10:00:00   \n",
       "\n",
       "                 event_time  count_col  weekday  hour  minute  time  \n",
       "4 2022-10-31 09:00:00+00:00          1        0     9       0   9.0  "
      ]
     },
     "execution_count": 336,
     "metadata": {},
     "output_type": "execute_result"
    }
   ],
   "source": [
    "ts.query(\"date == '2022-10-31'\")"
   ]
  },
  {
   "cell_type": "code",
   "execution_count": 197,
   "metadata": {},
   "outputs": [
    {
     "data": {
      "text/html": [
       "<div>\n",
       "<style scoped>\n",
       "    .dataframe tbody tr th:only-of-type {\n",
       "        vertical-align: middle;\n",
       "    }\n",
       "\n",
       "    .dataframe tbody tr th {\n",
       "        vertical-align: top;\n",
       "    }\n",
       "\n",
       "    .dataframe thead th {\n",
       "        text-align: right;\n",
       "    }\n",
       "</style>\n",
       "<table border=\"1\" class=\"dataframe\">\n",
       "  <thead>\n",
       "    <tr style=\"text-align: right;\">\n",
       "      <th></th>\n",
       "      <th>createdAt</th>\n",
       "      <th>startTimeHours</th>\n",
       "      <th>startTimeMinutes</th>\n",
       "      <th>endTimeHours</th>\n",
       "      <th>endTimeMinutes</th>\n",
       "      <th>weekDay</th>\n",
       "    </tr>\n",
       "  </thead>\n",
       "  <tbody>\n",
       "    <tr>\n",
       "      <th>0</th>\n",
       "      <td>2022-10-27 14:54:36.068000+01:00</td>\n",
       "      <td>7</td>\n",
       "      <td>0</td>\n",
       "      <td>22</td>\n",
       "      <td>0</td>\n",
       "      <td>0</td>\n",
       "    </tr>\n",
       "    <tr>\n",
       "      <th>1</th>\n",
       "      <td>2022-10-27 14:54:36.169000+01:00</td>\n",
       "      <td>7</td>\n",
       "      <td>0</td>\n",
       "      <td>22</td>\n",
       "      <td>0</td>\n",
       "      <td>1</td>\n",
       "    </tr>\n",
       "    <tr>\n",
       "      <th>2</th>\n",
       "      <td>2022-10-27 14:54:36.278000+01:00</td>\n",
       "      <td>7</td>\n",
       "      <td>0</td>\n",
       "      <td>22</td>\n",
       "      <td>0</td>\n",
       "      <td>2</td>\n",
       "    </tr>\n",
       "    <tr>\n",
       "      <th>3</th>\n",
       "      <td>2022-10-27 14:54:36.361000+01:00</td>\n",
       "      <td>7</td>\n",
       "      <td>0</td>\n",
       "      <td>22</td>\n",
       "      <td>0</td>\n",
       "      <td>3</td>\n",
       "    </tr>\n",
       "    <tr>\n",
       "      <th>4</th>\n",
       "      <td>2022-10-27 14:54:36.462000+01:00</td>\n",
       "      <td>7</td>\n",
       "      <td>0</td>\n",
       "      <td>22</td>\n",
       "      <td>0</td>\n",
       "      <td>4</td>\n",
       "    </tr>\n",
       "    <tr>\n",
       "      <th>5</th>\n",
       "      <td>2022-10-27 14:54:36.553000+01:00</td>\n",
       "      <td>7</td>\n",
       "      <td>0</td>\n",
       "      <td>22</td>\n",
       "      <td>0</td>\n",
       "      <td>5</td>\n",
       "    </tr>\n",
       "    <tr>\n",
       "      <th>6</th>\n",
       "      <td>2022-10-27 14:54:36.647000+01:00</td>\n",
       "      <td>7</td>\n",
       "      <td>0</td>\n",
       "      <td>22</td>\n",
       "      <td>0</td>\n",
       "      <td>6</td>\n",
       "    </tr>\n",
       "  </tbody>\n",
       "</table>\n",
       "</div>"
      ],
      "text/plain": [
       "                         createdAt  startTimeHours  startTimeMinutes  \\\n",
       "0 2022-10-27 14:54:36.068000+01:00               7                 0   \n",
       "1 2022-10-27 14:54:36.169000+01:00               7                 0   \n",
       "2 2022-10-27 14:54:36.278000+01:00               7                 0   \n",
       "3 2022-10-27 14:54:36.361000+01:00               7                 0   \n",
       "4 2022-10-27 14:54:36.462000+01:00               7                 0   \n",
       "5 2022-10-27 14:54:36.553000+01:00               7                 0   \n",
       "6 2022-10-27 14:54:36.647000+01:00               7                 0   \n",
       "\n",
       "   endTimeHours  endTimeMinutes  weekDay  \n",
       "0            22               0        0  \n",
       "1            22               0        1  \n",
       "2            22               0        2  \n",
       "3            22               0        3  \n",
       "4            22               0        4  \n",
       "5            22               0        5  \n",
       "6            22               0        6  "
      ]
     },
     "execution_count": 197,
     "metadata": {},
     "output_type": "execute_result"
    }
   ],
   "source": [
    "cueingIntervals.query(\"user == @id\").filter([\"createdAt\", \"startTimeHours\", \"startTimeMinutes\", \"endTimeHours\", \"endTimeMinutes\", \"weekDay\"])"
   ]
  },
  {
   "cell_type": "code",
   "execution_count": null,
   "metadata": {},
   "outputs": [],
   "source": [
    "start = pd.Timestamp(\"2022-10-14\").tz_localize(\"Europe/London\")\n",
    "end = pd.Timestamp(\"2022-10-15\").tz_localize(\"Europe/London\")\n",
    "color_map = {\n",
    "    'diaryEntry': '#22aad8',\n",
    "    'blockSample': '#7422d8',\n",
    "    'appLog': '#d8bd22',\n",
    "}\n",
    "vis = df.query(f\"event_time >='{start}' and event_time <= '{end}'\")\n",
    "# pd.options.display.max_colwidth = None\n",
    "# pd.options.display.width = None\n",
    "pd.reset_option('^display.', silent=True)\n",
    "display(vis.head())\n",
    "display(score_pannel.filter(col).query('userId == @id'))\n",
    "fig = px.scatter(df, x='event_time', y='events', color='source', hover_data=['message', 'weekday'], color_discrete_map= color_map)\n",
    "fig.show()"
   ]
  },
  {
   "cell_type": "code",
   "execution_count": null,
   "metadata": {},
   "outputs": [],
   "source": [
    "df"
   ]
  },
  {
   "cell_type": "code",
   "execution_count": 41,
   "metadata": {},
   "outputs": [],
   "source": [
    "df['date'] = df['event_time'].dt.date \n",
    "tmp = df.groupby('date').agg('count')"
   ]
  },
  {
   "cell_type": "code",
   "execution_count": null,
   "metadata": {},
   "outputs": [],
   "source": [
    "px.line(tmp['events'])"
   ]
  },
  {
   "cell_type": "code",
   "execution_count": 71,
   "metadata": {},
   "outputs": [
    {
     "data": {
      "text/html": [
       "<div>\n",
       "<style scoped>\n",
       "    .dataframe tbody tr th:only-of-type {\n",
       "        vertical-align: middle;\n",
       "    }\n",
       "\n",
       "    .dataframe tbody tr th {\n",
       "        vertical-align: top;\n",
       "    }\n",
       "\n",
       "    .dataframe thead th {\n",
       "        text-align: right;\n",
       "    }\n",
       "</style>\n",
       "<table border=\"1\" class=\"dataframe\">\n",
       "  <thead>\n",
       "    <tr style=\"text-align: right;\">\n",
       "      <th></th>\n",
       "      <th>event_time</th>\n",
       "      <th>message</th>\n",
       "      <th>events</th>\n",
       "      <th>source</th>\n",
       "    </tr>\n",
       "  </thead>\n",
       "  <tbody>\n",
       "    <tr>\n",
       "      <th>10</th>\n",
       "      <td>2022-10-13 21:03:58.508000+01:00</td>\n",
       "      <td>57 - 15 - 30</td>\n",
       "      <td>diaryEntries</td>\n",
       "      <td>diaryEntry</td>\n",
       "    </tr>\n",
       "  </tbody>\n",
       "</table>\n",
       "</div>"
      ],
      "text/plain": [
       "                         event_time       message        events      source\n",
       "10 2022-10-13 21:03:58.508000+01:00  57 - 15 - 30  diaryEntries  diaryEntry"
      ]
     },
     "execution_count": 71,
     "metadata": {},
     "output_type": "execute_result"
    }
   ],
   "source": [
    "df4.query(f\"event_time >=@start and event_time <= @end\")"
   ]
  },
  {
   "cell_type": "code",
   "execution_count": 49,
   "metadata": {},
   "outputs": [
    {
     "data": {
      "text/html": [
       "<div>\n",
       "<style scoped>\n",
       "    .dataframe tbody tr th:only-of-type {\n",
       "        vertical-align: middle;\n",
       "    }\n",
       "\n",
       "    .dataframe tbody tr th {\n",
       "        vertical-align: top;\n",
       "    }\n",
       "\n",
       "    .dataframe thead th {\n",
       "        text-align: right;\n",
       "    }\n",
       "</style>\n",
       "<table border=\"1\" class=\"dataframe\">\n",
       "  <thead>\n",
       "    <tr style=\"text-align: right;\">\n",
       "      <th></th>\n",
       "      <th>createdAt</th>\n",
       "      <th>updatedAt</th>\n",
       "      <th>localId</th>\n",
       "      <th>month</th>\n",
       "      <th>year</th>\n",
       "      <th>frequency</th>\n",
       "      <th>duration</th>\n",
       "      <th>severity</th>\n",
       "      <th>partialAssessment</th>\n",
       "      <th>user</th>\n",
       "      <th>objectId</th>\n",
       "      <th>recordedTime.__type</th>\n",
       "      <th>recordedTime.iso</th>\n",
       "      <th>dayDate.__type</th>\n",
       "      <th>dayDate.iso</th>\n",
       "      <th>recordedTime</th>\n",
       "      <th>source</th>\n",
       "      <th>event_time</th>\n",
       "    </tr>\n",
       "  </thead>\n",
       "  <tbody>\n",
       "    <tr>\n",
       "      <th>0</th>\n",
       "      <td>2022-09-30 17:34:03.002000+01:00</td>\n",
       "      <td>2022-09-30 17:34:03.002000+01:00</td>\n",
       "      <td>1</td>\n",
       "      <td>9</td>\n",
       "      <td>2022</td>\n",
       "      <td>52</td>\n",
       "      <td>49</td>\n",
       "      <td>74</td>\n",
       "      <td>True</td>\n",
       "      <td>qIbpO14xtQ</td>\n",
       "      <td>Z1CDEmbTw8</td>\n",
       "      <td>Date</td>\n",
       "      <td>2022-09-30 18:34:02.956000+01:00</td>\n",
       "      <td>Date</td>\n",
       "      <td>2022-09-30 00:00:00+00:00</td>\n",
       "      <td>2022-09-30 17:34:02.956000+01:00</td>\n",
       "      <td>diaryEntry</td>\n",
       "      <td>2022-09-30 18:34:02.956000+01:00</td>\n",
       "    </tr>\n",
       "  </tbody>\n",
       "</table>\n",
       "</div>"
      ],
      "text/plain": [
       "                         createdAt                        updatedAt  localId  \\\n",
       "0 2022-09-30 17:34:03.002000+01:00 2022-09-30 17:34:03.002000+01:00        1   \n",
       "\n",
       "   month  year  frequency  duration  severity partialAssessment        user  \\\n",
       "0      9  2022         52        49        74              True  qIbpO14xtQ   \n",
       "\n",
       "     objectId recordedTime.__type                 recordedTime.iso  \\\n",
       "0  Z1CDEmbTw8                Date 2022-09-30 18:34:02.956000+01:00   \n",
       "\n",
       "  dayDate.__type               dayDate.iso                     recordedTime  \\\n",
       "0           Date 2022-09-30 00:00:00+00:00 2022-09-30 17:34:02.956000+01:00   \n",
       "\n",
       "       source                       event_time  \n",
       "0  diaryEntry 2022-09-30 18:34:02.956000+01:00  "
      ]
     },
     "execution_count": 49,
     "metadata": {},
     "output_type": "execute_result"
    }
   ],
   "source": [
    "df4 = diaryEntries.query(f\"user == '{id}'\").assign(source='diaryEntry') \\\n",
    "        .assign(event_time = lambda x: x['recordedTime.iso'].dt.tz_convert(\"Europe/London\"))\n",
    "df4.query(\"partialAssessment == True\")"
   ]
  },
  {
   "cell_type": "code",
   "execution_count": 90,
   "metadata": {},
   "outputs": [
    {
     "data": {
      "text/html": [
       "<div>\n",
       "<style scoped>\n",
       "    .dataframe tbody tr th:only-of-type {\n",
       "        vertical-align: middle;\n",
       "    }\n",
       "\n",
       "    .dataframe tbody tr th {\n",
       "        vertical-align: top;\n",
       "    }\n",
       "\n",
       "    .dataframe thead th {\n",
       "        text-align: right;\n",
       "    }\n",
       "</style>\n",
       "<table border=\"1\" class=\"dataframe\">\n",
       "  <thead>\n",
       "    <tr style=\"text-align: right;\">\n",
       "      <th></th>\n",
       "      <th>createdAt</th>\n",
       "      <th>updatedAt</th>\n",
       "      <th>localId</th>\n",
       "      <th>month</th>\n",
       "      <th>year</th>\n",
       "      <th>frequency</th>\n",
       "      <th>duration</th>\n",
       "      <th>severity</th>\n",
       "      <th>partialAssessment</th>\n",
       "      <th>user</th>\n",
       "      <th>objectId</th>\n",
       "      <th>recordedTime.__type</th>\n",
       "      <th>recordedTime.iso</th>\n",
       "      <th>dayDate.__type</th>\n",
       "      <th>dayDate.iso</th>\n",
       "    </tr>\n",
       "  </thead>\n",
       "  <tbody>\n",
       "    <tr>\n",
       "      <th>10</th>\n",
       "      <td>2022-10-13 19:03:57.502000+00:00</td>\n",
       "      <td>2022-10-13 19:03:57.502000+00:00</td>\n",
       "      <td>11</td>\n",
       "      <td>10</td>\n",
       "      <td>2022</td>\n",
       "      <td>57</td>\n",
       "      <td>15</td>\n",
       "      <td>30</td>\n",
       "      <td>False</td>\n",
       "      <td>JqZPr3q1LD</td>\n",
       "      <td>oUFGkAoRB2</td>\n",
       "      <td>Date</td>\n",
       "      <td>2022-10-13 20:03:58.508000+00:00</td>\n",
       "      <td>Date</td>\n",
       "      <td>2022-10-13 00:00:00+00:00</td>\n",
       "    </tr>\n",
       "  </tbody>\n",
       "</table>\n",
       "</div>"
      ],
      "text/plain": [
       "                          createdAt                        updatedAt  localId  \\\n",
       "10 2022-10-13 19:03:57.502000+00:00 2022-10-13 19:03:57.502000+00:00       11   \n",
       "\n",
       "    month  year  frequency  duration  severity partialAssessment        user  \\\n",
       "10     10  2022         57        15        30             False  JqZPr3q1LD   \n",
       "\n",
       "      objectId recordedTime.__type                 recordedTime.iso  \\\n",
       "10  oUFGkAoRB2                Date 2022-10-13 20:03:58.508000+00:00   \n",
       "\n",
       "   dayDate.__type               dayDate.iso  \n",
       "10           Date 2022-10-13 00:00:00+00:00  "
      ]
     },
     "execution_count": 90,
     "metadata": {},
     "output_type": "execute_result"
    }
   ],
   "source": [
    "diaryEntries[(diaryEntries['recordedTime.iso'] >= start) & (diaryEntries['recordedTime.iso'] <= end)].query(f\"user == @id\")"
   ]
  },
  {
   "cell_type": "code",
   "execution_count": null,
   "metadata": {},
   "outputs": [],
   "source": [
    "diaryEntries.query(f\"user == @id\")"
   ]
  },
  {
   "cell_type": "code",
   "execution_count": null,
   "metadata": {},
   "outputs": [],
   "source": [
    "cueingIntervals.query(f\"user =='{id}'\")"
   ]
  },
  {
   "cell_type": "code",
   "execution_count": null,
   "metadata": {},
   "outputs": [],
   "source": [
    "df3 = appLogs.query(f\"user == '{id}'\").assign(source = 'appLog')\\\n",
    "        .assign(event_time = lambda x: x['timestamp.iso'].dt.tz_convert(\"Europe/London\"))\n",
    "df3"
   ]
  },
  {
   "cell_type": "code",
   "execution_count": null,
   "metadata": {},
   "outputs": [],
   "source": []
  },
  {
   "cell_type": "code",
   "execution_count": 39,
   "metadata": {},
   "outputs": [],
   "source": [
    "df = blockSamples.query(f\"user == '{id}'\")"
   ]
  },
  {
   "cell_type": "code",
   "execution_count": 42,
   "metadata": {},
   "outputs": [
    {
     "data": {
      "text/plain": [
       "103"
      ]
     },
     "execution_count": 42,
     "metadata": {},
     "output_type": "execute_result"
    }
   ],
   "source": [
    "df['events'].nunique()"
   ]
  },
  {
   "cell_type": "code",
   "execution_count": null,
   "metadata": {},
   "outputs": [],
   "source": [
    "scheduled_events = [16, 19, 20, 21, 27, 32, 33, 34]\n",
    "appLog = appLogs[appLogs['events'].isin(scheduled_events)]\n",
    "appLog = appLog.query(f\"user == '{id}'\")\n",
    "appLog\n"
   ]
  },
  {
   "cell_type": "code",
   "execution_count": null,
   "metadata": {},
   "outputs": [],
   "source": [
    "fig1 = px.scatter(appLogs.query(f\"user == '{id}'\"), x='createdAt', y='events', hover_data=['message'])\n",
    "fig2 = px.scatter(appLog, x='createdAt', y='events', hover_data=['message'])\n",
    "fig2.show()"
   ]
  },
  {
   "cell_type": "code",
   "execution_count": 7,
   "metadata": {},
   "outputs": [],
   "source": [
    "assessmentA.to_csv('data/assessmentA.csv', index=False)\n",
    "assessmentQ_likert.to_csv('data/assessmentQ_likert.csv', index=False)\n",
    "assessmentQ_radio.to_csv('data/assessmentQ_radio.csv', index=False)"
   ]
  },
  {
   "cell_type": "code",
   "execution_count": null,
   "metadata": {},
   "outputs": [],
   "source": []
  },
  {
   "attachments": {},
   "cell_type": "markdown",
   "metadata": {},
   "source": [
    "# Free living"
   ]
  },
  {
   "cell_type": "code",
   "execution_count": 4,
   "metadata": {},
   "outputs": [
    {
     "name": "stdout",
     "output_type": "stream",
     "text": [
      "dict_keys(['Ha1WEar7EW', 'HvxJHYzJJq', '431V37PJr1', 'UXiE2yKo6S', 'wWtIentHji', 'ZpApCmwwcR', 'oyVbiGrfZP', 'xUAgz8E45S', 'TGzpi2zPjC', 'KqoDQeYYhk', 'PS0pBhRMti', 'Cn3qav4Fku', 'yCvheaYXrD', '44bFt8AYNc', 'W6Cg0j7N00', 'BjTkuez4di', 'XmoVGAQABx', 'yyj7riMAjT', '8dvzDHwJ7Z', 'bHfaLYaLOz', 'CRqMAJH5v1', 'gHV6jfyIAK', 'PPTdoXttbn', 'BY9JrqFVpg', 'eMy20NZL8D', 'MLsm9Xy9N2', 'ycAloEmo3J', '1UXpAssVmB', 'T90VjPCkfa', 'p7ef4nI48m', 'ZhYNKlzwn8', 'hIDRROby2j', '4gkPRFEplK', '94LwBmw2Ec', 'yBUvAWEt49', 'mtY7dACp1y', '72pLbMGYfV', 'nr7NIGJTbu', 'CqXUVcyUWC', 'kSzqsPVv10', 's8wtIjITxx', 'uzfF0FE2Ep', 'xmfKE4nK6u', 'heGCpWirRL', 'rGHrkeCNBf', 'o3YBXOYdMK', 'fyqEP00qbX', 'Ys0M5lUaZF', 'iqREz2wbus', '3kmqoheMHw', 'UNorJGZt4p', 'I1Hx67LeQB', 'xvPUnmfVCu', 'yvybX2kbIe', 'KcvPHeDRHo', 'kMNnYGz6yL', 'm3hpwcYulH', 'SdXaRAR4Ow', 'GRKG1mJkNo', 'nYaQS9Ulkq', 'UCkgGOkRts', 'EhKR6BAnHA', 'XJjx4T4rkE', 'HY3FKNJUiy', 'PjScElirG3', 'oFteR0cASq', 'zdiALOlh2I', 'L8gnBFppsj', 'D5bvf5Wjfp', 'UPxYC0gdNk', 'Pc4lU4rEpP', 'sThG4zbtdP', 'OB4plm80ax', '39DE9fE5uv', '5HO7BTPqJJ', 'kvUTb56HWf', 'dI84iEG58N', 'rSMko35CCg', '8M5PcjWVQx', 'k4r54tpUAh', 'NEo7lrEXqm', 'uDINlTGxbb', 'fn8lMIxcc0', '7qJ7vECpFg', 'bdQCV2L2ZH', 'Fxxsk7rFTg', 't0CQ0hFdJT', 'bzfaZbHdRg', 'eXKILteZUn', 'ekroWbeOaf', 'HbRpST5VSC', 'oUCkUDBVJN', 'DKbVAN98Ia', 'l6oEaMAWYG', 'rhdsCEGkYs', 'TLjW3uGMNh']) 96\n"
     ]
    }
   ],
   "source": [
    "file1 = 'data/freeLivingParticipants.json'\n",
    "# london_tz = 'Europe/London'\n",
    "\n",
    "with open(file1, 'rb') as f:\n",
    "    data = json.load(f)\n",
    "\n",
    "userIds = list(data.keys())\n",
    "id = 'QOQ0hkp1w8'\n",
    "print(data.keys(), len(data.keys()))"
   ]
  },
  {
   "cell_type": "code",
   "execution_count": null,
   "metadata": {},
   "outputs": [],
   "source": [
    "from tqdm import tqdm\n",
    "userIds = data.keys()\n",
    "\n",
    "diaryEntries = []\n",
    "cueingIntervals = []\n",
    "appLogs = []\n",
    "blockSamples = []\n",
    "blockHeaders = []\n",
    "\n",
    "def process_patient(id):\n",
    "    sample = data[id]\n",
    "    \n",
    "    diaryEntry = pd.json_normalize(sample['diaryEntry'])\n",
    "    diaryEntry['createdAt'] = pd.to_datetime(diaryEntry['createdAt']).dt.tz_convert('Europe/London')\n",
    "    diaryEntry['updatedAt'] = pd.to_datetime(diaryEntry['updatedAt']).dt.tz_convert('Europe/London')\n",
    "    diaryEntry['recordedTime.iso'] = pd.to_datetime(diaryEntry['recordedTime.iso']).dt.tz_convert('Europe/London')\n",
    "    diaryEntry['dayDate.iso'] = pd.to_datetime(diaryEntry['dayDate.iso'])\n",
    "    diaryEntry = diaryEntry.sort_values(by='createdAt')\n",
    "    \n",
    "    cueingInterval = pd.json_normalize(sample['cueingInterval'])\n",
    "    if cueingInterval.shape[0] > 0:\n",
    "        cueingInterval['createdAt'] = pd.to_datetime(cueingInterval['createdAt']).dt.tz_convert('Europe/London')\n",
    "        cueingInterval['updatedAt'] = pd.to_datetime(cueingInterval['updatedAt']).dt.tz_convert('Europe/London')\n",
    "        cueingInterval = cueingInterval.sort_values(by='createdAt')\n",
    "    else:\n",
    "        print('No CueingInterval' + id)\n",
    "        \n",
    "    appLog = pd.json_normalize(sample['appLogs'])\n",
    "    if appLog.shape[0] > 0:\n",
    "        appLog['createdAt'] = pd.to_datetime(appLog['createdAt']).dt.tz_convert('Europe/London')\n",
    "        appLog['updatedAt'] = pd.to_datetime(appLog['updatedAt']).dt.tz_convert('Europe/London')\n",
    "        appLog['timestamp.iso'] = pd.to_datetime(appLog['timestamp.iso'])\n",
    "        appLog = appLog.sort_values(by='createdAt')\n",
    "    else:\n",
    "        print('No AppLog' + id)\n",
    "\n",
    "    return diaryEntry, cueingInterval, appLog\n",
    "\n",
    "\n",
    "for i in tqdm(userIds):\n",
    "    diaryEntry, cueingInterval, appLog = process_patient(i)\n",
    "    \n",
    "    diaryEntries.append(diaryEntry)\n",
    "    cueingIntervals.append(cueingInterval)\n",
    "    appLogs.append(appLog)\n",
    "    # blockHeaders.append(blockHeader)\n",
    "    \n",
    "diaryEntries = pd.concat(diaryEntries)\n",
    "cueingIntervals = pd.concat(cueingIntervals)\n",
    "appLogs = pd.concat(appLogs)\n",
    "# blockHeaders = pd.concat(blockHeaders)\n",
    "\n",
    "display(diaryEntries.shape)\n",
    "display(cueingIntervals.shape)\n",
    "display(appLogs.shape)\n",
    "# display(blockHeaders.shape)"
   ]
  },
  {
   "cell_type": "code",
   "execution_count": 53,
   "metadata": {},
   "outputs": [],
   "source": [
    "diaryEntries.to_parquet(\"data/freeliving_diary.parquet\")"
   ]
  },
  {
   "cell_type": "code",
   "execution_count": 6,
   "metadata": {},
   "outputs": [],
   "source": [
    "def message_encode(x):\n",
    "    if \"Application started\" in x: return 0\n",
    "    elif \"Saving delivery address\" in x: return 1\n",
    "    elif \"Connecting To New Device: \" in x: return 2\n",
    "    elif \"Connecting To Already Bonded Device: \" in x: return 3\n",
    "    elif \"Bonding Device\" in x: return 4\n",
    "    elif \"Bonding Device Cancelled\" in x: return 5\n",
    "    elif \"Scan Device Cancelled\" in x: return 6\n",
    "    elif \"Scanning - No devices found\" in x: return 7\n",
    "    elif \"Start scanning\" in x: return 8\n",
    "    elif \"Added new diary entry\" in x: return 9\n",
    "    elif \"Manually changed cueing type to\" in x: return 10\n",
    "    \n",
    "    elif \"Wearable muted cueing started\" in x: return 11\n",
    "    elif \"Wearable manual cueing started \" in x: return 12\n",
    "    elif \"Wearable scheduled cueing started \" in x: return 13\n",
    "    elif \"Wearable manual cueing started \" in x: return 14\n",
    "    elif \"Wearable muted cueing started \" in x: return 15\n",
    "    elif \"Wearable scheduled cueing started \" in x: return 16\n",
    "    \n",
    "    elif \"Phone muted cueing started. \" in x: return 17\n",
    "    elif \"Phone manual cueing started. \" in x: return 18\n",
    "    elif \"Phone scheduled cueing started. \" in x: return 19\n",
    "    \n",
    "    elif \"Cueing interval updated to \" in x: return 20\n",
    "    elif \"Cueing Interval Deleted - StartTime: \" in x: return 21\n",
    "    \n",
    "    elif \"Vibration intensity updated to \" in x: return 22\n",
    "    elif \"Vibration pattern updated to \" in x and \"on phone\" in x: return 23\n",
    "    elif \"Vibration pattern updated to \" in x and \"on wearable\": return 24\n",
    "    \n",
    "    elif \"Manual Cueing stopped on phone\" in x: return 25\n",
    "    elif \"Manual Cueing stopped on wearable\" in x: return 26\n",
    "    \n",
    "    elif \"Scheduled cueing muted completely\" in x: return 27\n",
    "    elif \"Silence mode stopped on phone\" in x: return 28\n",
    "    elif \"Silence mode stopped on CueBand\" in x: return 29\n",
    "    \n",
    "    elif \"Muted scheduled cueing on phone for \" in x: return 30\n",
    "    elif \"Muted scheduled cueing on wearable for\" in x: return 31\n",
    "    \n",
    "    elif \"Change Cueing Settings: CueingInterval: \" in x: return 32\n",
    "    elif \"New Cueing Interval Created - StartTime: \" in x: return 33\n",
    "    elif \"Updated Cueing Interval Created - StartTime: \" in x: return 34\n",
    "\n",
    "    return 35\n",
    "\n",
    "appLogs['events'] = appLogs['message'].apply(message_encode)"
   ]
  },
  {
   "cell_type": "code",
   "execution_count": 10,
   "metadata": {},
   "outputs": [
    {
     "name": "stdout",
     "output_type": "stream",
     "text": [
      "96\n",
      "47\n",
      "95\n"
     ]
    }
   ],
   "source": [
    "print(diaryEntries['user'].nunique())\n",
    "print(cueingIntervals['user'].nunique())\n",
    "print(appLogs['user'].nunique())"
   ]
  },
  {
   "cell_type": "code",
   "execution_count": 11,
   "metadata": {},
   "outputs": [
    {
     "data": {
      "text/html": [
       "<div>\n",
       "<style scoped>\n",
       "    .dataframe tbody tr th:only-of-type {\n",
       "        vertical-align: middle;\n",
       "    }\n",
       "\n",
       "    .dataframe tbody tr th {\n",
       "        vertical-align: top;\n",
       "    }\n",
       "\n",
       "    .dataframe thead th {\n",
       "        text-align: right;\n",
       "    }\n",
       "</style>\n",
       "<table border=\"1\" class=\"dataframe\">\n",
       "  <thead>\n",
       "    <tr style=\"text-align: right;\">\n",
       "      <th></th>\n",
       "      <th></th>\n",
       "      <th>createdAt</th>\n",
       "      <th>updatedAt</th>\n",
       "      <th>message</th>\n",
       "      <th>level</th>\n",
       "      <th>appVersion</th>\n",
       "      <th>deviceModel</th>\n",
       "      <th>osVersion</th>\n",
       "      <th>platform</th>\n",
       "      <th>objectId</th>\n",
       "      <th>timestamp.__type</th>\n",
       "      <th>timestamp.iso</th>\n",
       "    </tr>\n",
       "    <tr>\n",
       "      <th>user</th>\n",
       "      <th>events</th>\n",
       "      <th></th>\n",
       "      <th></th>\n",
       "      <th></th>\n",
       "      <th></th>\n",
       "      <th></th>\n",
       "      <th></th>\n",
       "      <th></th>\n",
       "      <th></th>\n",
       "      <th></th>\n",
       "      <th></th>\n",
       "      <th></th>\n",
       "    </tr>\n",
       "  </thead>\n",
       "  <tbody>\n",
       "    <tr>\n",
       "      <th rowspan=\"2\" valign=\"top\">1UXpAssVmB</th>\n",
       "      <th>0</th>\n",
       "      <td>1</td>\n",
       "      <td>1</td>\n",
       "      <td>1</td>\n",
       "      <td>1</td>\n",
       "      <td>1</td>\n",
       "      <td>1</td>\n",
       "      <td>1</td>\n",
       "      <td>1</td>\n",
       "      <td>1</td>\n",
       "      <td>1</td>\n",
       "      <td>1</td>\n",
       "    </tr>\n",
       "    <tr>\n",
       "      <th>35</th>\n",
       "      <td>25</td>\n",
       "      <td>25</td>\n",
       "      <td>25</td>\n",
       "      <td>25</td>\n",
       "      <td>25</td>\n",
       "      <td>25</td>\n",
       "      <td>25</td>\n",
       "      <td>25</td>\n",
       "      <td>25</td>\n",
       "      <td>25</td>\n",
       "      <td>25</td>\n",
       "    </tr>\n",
       "    <tr>\n",
       "      <th rowspan=\"3\" valign=\"top\">39DE9fE5uv</th>\n",
       "      <th>0</th>\n",
       "      <td>26</td>\n",
       "      <td>26</td>\n",
       "      <td>26</td>\n",
       "      <td>26</td>\n",
       "      <td>26</td>\n",
       "      <td>26</td>\n",
       "      <td>26</td>\n",
       "      <td>26</td>\n",
       "      <td>26</td>\n",
       "      <td>26</td>\n",
       "      <td>26</td>\n",
       "    </tr>\n",
       "    <tr>\n",
       "      <th>1</th>\n",
       "      <td>2</td>\n",
       "      <td>2</td>\n",
       "      <td>2</td>\n",
       "      <td>2</td>\n",
       "      <td>2</td>\n",
       "      <td>2</td>\n",
       "      <td>2</td>\n",
       "      <td>2</td>\n",
       "      <td>2</td>\n",
       "      <td>2</td>\n",
       "      <td>2</td>\n",
       "    </tr>\n",
       "    <tr>\n",
       "      <th>8</th>\n",
       "      <td>1</td>\n",
       "      <td>1</td>\n",
       "      <td>1</td>\n",
       "      <td>1</td>\n",
       "      <td>1</td>\n",
       "      <td>1</td>\n",
       "      <td>1</td>\n",
       "      <td>1</td>\n",
       "      <td>1</td>\n",
       "      <td>1</td>\n",
       "      <td>1</td>\n",
       "    </tr>\n",
       "    <tr>\n",
       "      <th>...</th>\n",
       "      <th>...</th>\n",
       "      <td>...</td>\n",
       "      <td>...</td>\n",
       "      <td>...</td>\n",
       "      <td>...</td>\n",
       "      <td>...</td>\n",
       "      <td>...</td>\n",
       "      <td>...</td>\n",
       "      <td>...</td>\n",
       "      <td>...</td>\n",
       "      <td>...</td>\n",
       "      <td>...</td>\n",
       "    </tr>\n",
       "    <tr>\n",
       "      <th rowspan=\"5\" valign=\"top\">zdiALOlh2I</th>\n",
       "      <th>11</th>\n",
       "      <td>2</td>\n",
       "      <td>2</td>\n",
       "      <td>2</td>\n",
       "      <td>2</td>\n",
       "      <td>2</td>\n",
       "      <td>2</td>\n",
       "      <td>2</td>\n",
       "      <td>2</td>\n",
       "      <td>2</td>\n",
       "      <td>2</td>\n",
       "      <td>2</td>\n",
       "    </tr>\n",
       "    <tr>\n",
       "      <th>12</th>\n",
       "      <td>7</td>\n",
       "      <td>7</td>\n",
       "      <td>7</td>\n",
       "      <td>7</td>\n",
       "      <td>7</td>\n",
       "      <td>7</td>\n",
       "      <td>7</td>\n",
       "      <td>7</td>\n",
       "      <td>7</td>\n",
       "      <td>7</td>\n",
       "      <td>7</td>\n",
       "    </tr>\n",
       "    <tr>\n",
       "      <th>18</th>\n",
       "      <td>1</td>\n",
       "      <td>1</td>\n",
       "      <td>1</td>\n",
       "      <td>1</td>\n",
       "      <td>1</td>\n",
       "      <td>1</td>\n",
       "      <td>1</td>\n",
       "      <td>1</td>\n",
       "      <td>1</td>\n",
       "      <td>1</td>\n",
       "      <td>1</td>\n",
       "    </tr>\n",
       "    <tr>\n",
       "      <th>32</th>\n",
       "      <td>2</td>\n",
       "      <td>2</td>\n",
       "      <td>2</td>\n",
       "      <td>2</td>\n",
       "      <td>2</td>\n",
       "      <td>2</td>\n",
       "      <td>2</td>\n",
       "      <td>2</td>\n",
       "      <td>2</td>\n",
       "      <td>2</td>\n",
       "      <td>2</td>\n",
       "    </tr>\n",
       "    <tr>\n",
       "      <th>33</th>\n",
       "      <td>1</td>\n",
       "      <td>1</td>\n",
       "      <td>1</td>\n",
       "      <td>1</td>\n",
       "      <td>1</td>\n",
       "      <td>1</td>\n",
       "      <td>1</td>\n",
       "      <td>1</td>\n",
       "      <td>1</td>\n",
       "      <td>1</td>\n",
       "      <td>1</td>\n",
       "    </tr>\n",
       "  </tbody>\n",
       "</table>\n",
       "<p>907 rows × 11 columns</p>\n",
       "</div>"
      ],
      "text/plain": [
       "                   createdAt  updatedAt  message  level  appVersion  \\\n",
       "user       events                                                     \n",
       "1UXpAssVmB 0               1          1        1      1           1   \n",
       "           35             25         25       25     25          25   \n",
       "39DE9fE5uv 0              26         26       26     26          26   \n",
       "           1               2          2        2      2           2   \n",
       "           8               1          1        1      1           1   \n",
       "...                      ...        ...      ...    ...         ...   \n",
       "zdiALOlh2I 11              2          2        2      2           2   \n",
       "           12              7          7        7      7           7   \n",
       "           18              1          1        1      1           1   \n",
       "           32              2          2        2      2           2   \n",
       "           33              1          1        1      1           1   \n",
       "\n",
       "                   deviceModel  osVersion  platform  objectId  \\\n",
       "user       events                                               \n",
       "1UXpAssVmB 0                 1          1         1         1   \n",
       "           35               25         25        25        25   \n",
       "39DE9fE5uv 0                26         26        26        26   \n",
       "           1                 2          2         2         2   \n",
       "           8                 1          1         1         1   \n",
       "...                        ...        ...       ...       ...   \n",
       "zdiALOlh2I 11                2          2         2         2   \n",
       "           12                7          7         7         7   \n",
       "           18                1          1         1         1   \n",
       "           32                2          2         2         2   \n",
       "           33                1          1         1         1   \n",
       "\n",
       "                   timestamp.__type  timestamp.iso  \n",
       "user       events                                   \n",
       "1UXpAssVmB 0                      1              1  \n",
       "           35                    25             25  \n",
       "39DE9fE5uv 0                     26             26  \n",
       "           1                      2              2  \n",
       "           8                      1              1  \n",
       "...                             ...            ...  \n",
       "zdiALOlh2I 11                     2              2  \n",
       "           12                     7              7  \n",
       "           18                     1              1  \n",
       "           32                     2              2  \n",
       "           33                     1              1  \n",
       "\n",
       "[907 rows x 11 columns]"
      ]
     },
     "execution_count": 11,
     "metadata": {},
     "output_type": "execute_result"
    }
   ],
   "source": [
    "appLogs.groupby(['user', 'events']).count()"
   ]
  },
  {
   "cell_type": "code",
   "execution_count": 29,
   "metadata": {},
   "outputs": [
    {
     "data": {
      "text/html": [
       "<div>\n",
       "<style scoped>\n",
       "    .dataframe tbody tr th:only-of-type {\n",
       "        vertical-align: middle;\n",
       "    }\n",
       "\n",
       "    .dataframe tbody tr th {\n",
       "        vertical-align: top;\n",
       "    }\n",
       "\n",
       "    .dataframe thead th {\n",
       "        text-align: right;\n",
       "    }\n",
       "</style>\n",
       "<table border=\"1\" class=\"dataframe\">\n",
       "  <thead>\n",
       "    <tr style=\"text-align: right;\">\n",
       "      <th></th>\n",
       "      <th>user</th>\n",
       "      <th>platform</th>\n",
       "    </tr>\n",
       "  </thead>\n",
       "  <tbody>\n",
       "    <tr>\n",
       "      <th>0</th>\n",
       "      <td>1UXpAssVmB</td>\n",
       "      <td>iOS</td>\n",
       "    </tr>\n",
       "    <tr>\n",
       "      <th>1</th>\n",
       "      <td>39DE9fE5uv</td>\n",
       "      <td>iOS</td>\n",
       "    </tr>\n",
       "    <tr>\n",
       "      <th>2</th>\n",
       "      <td>3kmqoheMHw</td>\n",
       "      <td>iOS</td>\n",
       "    </tr>\n",
       "    <tr>\n",
       "      <th>3</th>\n",
       "      <td>431V37PJr1</td>\n",
       "      <td>Android</td>\n",
       "    </tr>\n",
       "    <tr>\n",
       "      <th>4</th>\n",
       "      <td>44bFt8AYNc</td>\n",
       "      <td>iOS</td>\n",
       "    </tr>\n",
       "    <tr>\n",
       "      <th>...</th>\n",
       "      <td>...</td>\n",
       "      <td>...</td>\n",
       "    </tr>\n",
       "    <tr>\n",
       "      <th>90</th>\n",
       "      <td>yCvheaYXrD</td>\n",
       "      <td>Android</td>\n",
       "    </tr>\n",
       "    <tr>\n",
       "      <th>91</th>\n",
       "      <td>ycAloEmo3J</td>\n",
       "      <td>Android</td>\n",
       "    </tr>\n",
       "    <tr>\n",
       "      <th>92</th>\n",
       "      <td>yvybX2kbIe</td>\n",
       "      <td>iOS</td>\n",
       "    </tr>\n",
       "    <tr>\n",
       "      <th>93</th>\n",
       "      <td>yyj7riMAjT</td>\n",
       "      <td>iOS</td>\n",
       "    </tr>\n",
       "    <tr>\n",
       "      <th>94</th>\n",
       "      <td>zdiALOlh2I</td>\n",
       "      <td>iOS</td>\n",
       "    </tr>\n",
       "  </tbody>\n",
       "</table>\n",
       "<p>95 rows × 2 columns</p>\n",
       "</div>"
      ],
      "text/plain": [
       "          user platform\n",
       "0   1UXpAssVmB      iOS\n",
       "1   39DE9fE5uv      iOS\n",
       "2   3kmqoheMHw      iOS\n",
       "3   431V37PJr1  Android\n",
       "4   44bFt8AYNc      iOS\n",
       "..         ...      ...\n",
       "90  yCvheaYXrD  Android\n",
       "91  ycAloEmo3J  Android\n",
       "92  yvybX2kbIe      iOS\n",
       "93  yyj7riMAjT      iOS\n",
       "94  zdiALOlh2I      iOS\n",
       "\n",
       "[95 rows x 2 columns]"
      ]
     },
     "execution_count": 29,
     "metadata": {},
     "output_type": "execute_result"
    }
   ],
   "source": [
    "appLogs.filter(['user', 'platform']).groupby(['user']).first().reset_index()"
   ]
  },
  {
   "cell_type": "code",
   "execution_count": 34,
   "metadata": {},
   "outputs": [],
   "source": [
    "data2 = json.load(open('data/freeLivingParticipants.json', 'rb'))\n",
    "extract = [(data2[keys]['demographicData'], keys) for keys in data2.keys()]\n",
    "info2 = []\n",
    "for x, id in extract:\n",
    "    x.update({\"userId\": id})\n",
    "    info2.append(x)\n",
    "    \n",
    "info_free_living = pd.json_normalize(info2)\n",
    "info_free_living = info_free_living.merge(appLogs.filter(['user', 'platform']).groupby(['user']).first().reset_index(), how='left', left_on='userId', right_on='user')\n",
    "info_free_living.to_parquet('data/freeliving_info.parquet')"
   ]
  },
  {
   "cell_type": "code",
   "execution_count": 12,
   "metadata": {},
   "outputs": [
    {
     "name": "stderr",
     "output_type": "stream",
     "text": [
      "100%|██████████| 96/96 [00:01<00:00, 49.91it/s]\n"
     ]
    },
    {
     "data": {
      "text/plain": [
       "((7030, 11), (299, 12))"
      ]
     },
     "execution_count": 12,
     "metadata": {},
     "output_type": "execute_result"
    }
   ],
   "source": [
    "# id = 'hWKgqVxmMM'\n",
    "def appLog_preprocess(id):\n",
    "            \n",
    "    df3 = appLogs.query(f\"user == '{id}'\").assign(source = 'appLog')\\\n",
    "            .assign(event_time = lambda x: x['timestamp.iso'].dt.tz_convert(\"Europe/London\"))\\\n",
    "            .filter(['event_time', 'message', 'events', 'source']) \\\n",
    "            .query('(events >=10 and events <= 19) or (events >=25 and events <=31)') \\\n",
    "            \n",
    "            # .query('events ==20 or events == 21 or events == 33 or events == 34') \\\n",
    "            # .drop_duplicates(subset=['createdAt', 'events']) \\              \n",
    "\n",
    "    error_date = pd.Timestamp(\"2022-01-01\").tz_localize(\"Europe/London\") # remove 1970 error\n",
    "\n",
    "    df = pd.concat([df3]).sort_values(by = 'event_time').sort_values(by='event_time').reset_index(drop=True)\\\n",
    "            .assign(events = lambda x: x['events'].astype(str)) \\\n",
    "            .assign(weekday = lambda x: x['event_time'].dt.weekday).drop_duplicates(subset=['event_time', 'events']) \\\n",
    "            .query('event_time >= @error_date')\n",
    "    ts = df.assign(date= lambda x: x.event_time.dt.strftime('%Y-%m-%d'))\\\n",
    "            .reset_index().assign(hour = lambda x: x.event_time.dt.hour, minute = lambda x: x.event_time.dt.minute)\\\n",
    "            .assign(time = lambda x: x.hour + x.minute/60).assign(user = id)\\\n",
    "            .sort_values(\"event_time\")\n",
    "    # ts = df.assign(date= lambda x: x.event_time.dt.strftime('%Y-%m-%d')).groupby([\"date\", \"events\", \"message\"])\\\n",
    "    #         .agg({\"event_time\": 'first', \"source\": 'count', \"weekday\": 'first'}).rename(columns={\"source\": \"count_col\"})\\\n",
    "    #         .reset_index().assign(hour = lambda x: x.event_time.dt.hour, minute = lambda x: x.event_time.dt.minute)\\\n",
    "    #         .assign(time = lambda x: x.hour + x.minute/60).assign(user = id)\\\n",
    "    #         .sort_values(\"event_time\")\n",
    "\n",
    "    vis = ts\n",
    "            \n",
    "    keep = ['11', '12', '13', '14', '15', '16', '26','31']\n",
    "    ts = ts.query(\"events in @keep\")\n",
    "#     print(ts.shape)\n",
    "    ts = ts.assign(diff = ts['event_time'].shift(-1) - ts['event_time'], \\\n",
    "                    diff_hour= (ts['event_time'].shift(-1) - ts['event_time']).dt.days*24 + (ts['event_time'].shift(-1) - ts['event_time']).dt.seconds/3600, \\\n",
    "                    lag_event = ts['event_time'].shift(-1))\\\n",
    "                    .filter([\"date\", \"events\", \"message\", \"event_time\", \"lag_event\", \"diff\", \"diff_hour\", \"count_col\", \"weekday\", \"user\", \"hour\", \"minute\", \"time\"])\\\n",
    "                    .query(\"diff_hour > 11/60 and (events == '12' or events == '13')\").reset_index(drop=True)\n",
    "    ts = ts.assign(diff = ts['event_time'].shift(-1) - ts['event_time'], \\\n",
    "                    diff_hour= (ts['event_time'].shift(-1) - ts['event_time']).dt.days*24 + (ts['event_time'].shift(-1) - ts['event_time']).dt.seconds/3600, \\\n",
    "                    lag_event = ts['event_time'].shift(-1))\n",
    "\n",
    "    return vis, ts\n",
    "\n",
    "df_vis = []\n",
    "df_ts = []\n",
    "\n",
    "for i in tqdm(userIds):\n",
    "    vis, ts = appLog_preprocess(i)\n",
    "    df_vis.append(vis)\n",
    "    df_ts.append(ts)\n",
    "    \n",
    "df_vis = pd.concat(df_vis)\n",
    "df_ts = pd.concat(df_ts)\n",
    "\n",
    "df_vis.shape, df_ts.shape"
   ]
  },
  {
   "cell_type": "code",
   "execution_count": 17,
   "metadata": {},
   "outputs": [],
   "source": [
    "df_ts.to_parquet(\"data/df_ts_free_living.parquet\")"
   ]
  },
  {
   "cell_type": "code",
   "execution_count": 16,
   "metadata": {},
   "outputs": [
    {
     "data": {
      "text/html": [
       "<div>\n",
       "<style scoped>\n",
       "    .dataframe tbody tr th:only-of-type {\n",
       "        vertical-align: middle;\n",
       "    }\n",
       "\n",
       "    .dataframe tbody tr th {\n",
       "        vertical-align: top;\n",
       "    }\n",
       "\n",
       "    .dataframe thead th {\n",
       "        text-align: right;\n",
       "    }\n",
       "</style>\n",
       "<table border=\"1\" class=\"dataframe\">\n",
       "  <thead>\n",
       "    <tr style=\"text-align: right;\">\n",
       "      <th></th>\n",
       "      <th>events</th>\n",
       "    </tr>\n",
       "    <tr>\n",
       "      <th>user</th>\n",
       "      <th></th>\n",
       "    </tr>\n",
       "  </thead>\n",
       "  <tbody>\n",
       "    <tr>\n",
       "      <th>3kmqoheMHw</th>\n",
       "      <td>3</td>\n",
       "    </tr>\n",
       "    <tr>\n",
       "      <th>431V37PJr1</th>\n",
       "      <td>21</td>\n",
       "    </tr>\n",
       "    <tr>\n",
       "      <th>CqXUVcyUWC</th>\n",
       "      <td>3</td>\n",
       "    </tr>\n",
       "    <tr>\n",
       "      <th>DKbVAN98Ia</th>\n",
       "      <td>14</td>\n",
       "    </tr>\n",
       "    <tr>\n",
       "      <th>GRKG1mJkNo</th>\n",
       "      <td>68</td>\n",
       "    </tr>\n",
       "    <tr>\n",
       "      <th>HvxJHYzJJq</th>\n",
       "      <td>2</td>\n",
       "    </tr>\n",
       "    <tr>\n",
       "      <th>L8gnBFppsj</th>\n",
       "      <td>4</td>\n",
       "    </tr>\n",
       "    <tr>\n",
       "      <th>MLsm9Xy9N2</th>\n",
       "      <td>6</td>\n",
       "    </tr>\n",
       "    <tr>\n",
       "      <th>NEo7lrEXqm</th>\n",
       "      <td>12</td>\n",
       "    </tr>\n",
       "    <tr>\n",
       "      <th>Pc4lU4rEpP</th>\n",
       "      <td>25</td>\n",
       "    </tr>\n",
       "    <tr>\n",
       "      <th>SdXaRAR4Ow</th>\n",
       "      <td>1</td>\n",
       "    </tr>\n",
       "    <tr>\n",
       "      <th>T90VjPCkfa</th>\n",
       "      <td>2</td>\n",
       "    </tr>\n",
       "    <tr>\n",
       "      <th>UCkgGOkRts</th>\n",
       "      <td>5</td>\n",
       "    </tr>\n",
       "    <tr>\n",
       "      <th>XJjx4T4rkE</th>\n",
       "      <td>4</td>\n",
       "    </tr>\n",
       "    <tr>\n",
       "      <th>XmoVGAQABx</th>\n",
       "      <td>8</td>\n",
       "    </tr>\n",
       "    <tr>\n",
       "      <th>Ys0M5lUaZF</th>\n",
       "      <td>7</td>\n",
       "    </tr>\n",
       "    <tr>\n",
       "      <th>ZhYNKlzwn8</th>\n",
       "      <td>9</td>\n",
       "    </tr>\n",
       "    <tr>\n",
       "      <th>bHfaLYaLOz</th>\n",
       "      <td>3</td>\n",
       "    </tr>\n",
       "    <tr>\n",
       "      <th>bdQCV2L2ZH</th>\n",
       "      <td>1</td>\n",
       "    </tr>\n",
       "    <tr>\n",
       "      <th>eMy20NZL8D</th>\n",
       "      <td>2</td>\n",
       "    </tr>\n",
       "    <tr>\n",
       "      <th>eXKILteZUn</th>\n",
       "      <td>2</td>\n",
       "    </tr>\n",
       "    <tr>\n",
       "      <th>k4r54tpUAh</th>\n",
       "      <td>41</td>\n",
       "    </tr>\n",
       "    <tr>\n",
       "      <th>kMNnYGz6yL</th>\n",
       "      <td>10</td>\n",
       "    </tr>\n",
       "    <tr>\n",
       "      <th>nYaQS9Ulkq</th>\n",
       "      <td>1</td>\n",
       "    </tr>\n",
       "    <tr>\n",
       "      <th>nr7NIGJTbu</th>\n",
       "      <td>6</td>\n",
       "    </tr>\n",
       "    <tr>\n",
       "      <th>o3YBXOYdMK</th>\n",
       "      <td>5</td>\n",
       "    </tr>\n",
       "    <tr>\n",
       "      <th>oFteR0cASq</th>\n",
       "      <td>4</td>\n",
       "    </tr>\n",
       "    <tr>\n",
       "      <th>p7ef4nI48m</th>\n",
       "      <td>5</td>\n",
       "    </tr>\n",
       "    <tr>\n",
       "      <th>rGHrkeCNBf</th>\n",
       "      <td>3</td>\n",
       "    </tr>\n",
       "    <tr>\n",
       "      <th>rSMko35CCg</th>\n",
       "      <td>3</td>\n",
       "    </tr>\n",
       "    <tr>\n",
       "      <th>rhdsCEGkYs</th>\n",
       "      <td>1</td>\n",
       "    </tr>\n",
       "    <tr>\n",
       "      <th>uzfF0FE2Ep</th>\n",
       "      <td>1</td>\n",
       "    </tr>\n",
       "    <tr>\n",
       "      <th>xvPUnmfVCu</th>\n",
       "      <td>12</td>\n",
       "    </tr>\n",
       "    <tr>\n",
       "      <th>yCvheaYXrD</th>\n",
       "      <td>4</td>\n",
       "    </tr>\n",
       "    <tr>\n",
       "      <th>zdiALOlh2I</th>\n",
       "      <td>1</td>\n",
       "    </tr>\n",
       "  </tbody>\n",
       "</table>\n",
       "</div>"
      ],
      "text/plain": [
       "            events\n",
       "user              \n",
       "3kmqoheMHw       3\n",
       "431V37PJr1      21\n",
       "CqXUVcyUWC       3\n",
       "DKbVAN98Ia      14\n",
       "GRKG1mJkNo      68\n",
       "HvxJHYzJJq       2\n",
       "L8gnBFppsj       4\n",
       "MLsm9Xy9N2       6\n",
       "NEo7lrEXqm      12\n",
       "Pc4lU4rEpP      25\n",
       "SdXaRAR4Ow       1\n",
       "T90VjPCkfa       2\n",
       "UCkgGOkRts       5\n",
       "XJjx4T4rkE       4\n",
       "XmoVGAQABx       8\n",
       "Ys0M5lUaZF       7\n",
       "ZhYNKlzwn8       9\n",
       "bHfaLYaLOz       3\n",
       "bdQCV2L2ZH       1\n",
       "eMy20NZL8D       2\n",
       "eXKILteZUn       2\n",
       "k4r54tpUAh      41\n",
       "kMNnYGz6yL      10\n",
       "nYaQS9Ulkq       1\n",
       "nr7NIGJTbu       6\n",
       "o3YBXOYdMK       5\n",
       "oFteR0cASq       4\n",
       "p7ef4nI48m       5\n",
       "rGHrkeCNBf       3\n",
       "rSMko35CCg       3\n",
       "rhdsCEGkYs       1\n",
       "uzfF0FE2Ep       1\n",
       "xvPUnmfVCu      12\n",
       "yCvheaYXrD       4\n",
       "zdiALOlh2I       1"
      ]
     },
     "execution_count": 16,
     "metadata": {},
     "output_type": "execute_result"
    }
   ],
   "source": [
    "df_ts.groupby(['user']).agg({'events': 'count'})#.reset_index()#.query(\"date > 10\")"
   ]
  },
  {
   "cell_type": "code",
   "execution_count": 19,
   "metadata": {},
   "outputs": [
    {
     "data": {
      "application/vnd.plotly.v1+json": {
       "config": {
        "plotlyServerURL": "https://plot.ly"
       },
       "data": [
        {
         "customdata": [
          [
           "Phone scheduled cueing started. Until 18:45 Cueing period: 60 seconds. Vibration pattern: 3x Times. Vibration intensity: Default"
          ],
          [
           "Phone scheduled cueing started. Until 18:45 Cueing period: 60 seconds. Vibration pattern: 3x Times. Vibration intensity: Default"
          ],
          [
           "Phone scheduled cueing started. Until 18:45 Cueing period: 60 seconds. Vibration pattern: 3x Times. Vibration intensity: Default"
          ],
          [
           "Phone scheduled cueing started. Until 12:45 Cueing period: 60 seconds. Vibration pattern: 3x Times. Vibration intensity: Default"
          ],
          [
           "Phone scheduled cueing started. Until 12:45 Cueing period: 60 seconds. Vibration pattern: 3x Times. Vibration intensity: Default"
          ],
          [
           "Phone scheduled cueing started. Until 12:45 Cueing period: 60 seconds. Vibration pattern: 3x Times. Vibration intensity: Default"
          ]
         ],
         "hovertemplate": "events=19<br>date=%{x}<br>time=%{y}<br>message=%{customdata[0]}<extra></extra>",
         "legendgroup": "19",
         "line": {
          "color": "#636efa",
          "dash": "solid"
         },
         "marker": {
          "symbol": "circle"
         },
         "mode": "markers+lines",
         "name": "19",
         "orientation": "v",
         "showlegend": true,
         "type": "scatter",
         "x": [
          "2022-11-22",
          "2022-11-22",
          "2022-11-22",
          "2022-11-23",
          "2022-11-24",
          "2022-11-24"
         ],
         "xaxis": "x",
         "y": [
          18.5,
          18.733333333333334,
          18.733333333333334,
          12.65,
          12.7,
          12.7
         ],
         "yaxis": "y"
        },
        {
         "customdata": [
          [
           "Scheduled cueing muted completely"
          ],
          [
           "Scheduled cueing muted completely"
          ]
         ],
         "hovertemplate": "events=27<br>date=%{x}<br>time=%{y}<br>message=%{customdata[0]}<extra></extra>",
         "legendgroup": "27",
         "line": {
          "color": "#EF553B",
          "dash": "solid"
         },
         "marker": {
          "symbol": "circle"
         },
         "mode": "markers+lines",
         "name": "27",
         "orientation": "v",
         "showlegend": true,
         "type": "scatter",
         "x": [
          "2022-11-22",
          "2022-11-23"
         ],
         "xaxis": "x",
         "y": [
          18.6,
          21.916666666666668
         ],
         "yaxis": "y"
        },
        {
         "customdata": [
          [
           "Phone muted cueing started. Until 18:45 Cueing period: 60 seconds. Vibration pattern: 3x Times. Vibration intensity: Default"
          ],
          [
           "Phone muted cueing started. Until 07:05 Cueing period: 60 seconds. Vibration pattern: 3x Times. Vibration intensity: Default"
          ]
         ],
         "hovertemplate": "events=17<br>date=%{x}<br>time=%{y}<br>message=%{customdata[0]}<extra></extra>",
         "legendgroup": "17",
         "line": {
          "color": "#00cc96",
          "dash": "solid"
         },
         "marker": {
          "symbol": "circle"
         },
         "mode": "markers+lines",
         "name": "17",
         "orientation": "v",
         "showlegend": true,
         "type": "scatter",
         "x": [
          "2022-11-22",
          "2022-11-23"
         ],
         "xaxis": "x",
         "y": [
          18.6,
          21.916666666666668
         ],
         "yaxis": "y"
        },
        {
         "customdata": [
          [
           "Muted scheduled cueing on phone for 536254 ms"
          ],
          [
           "Muted scheduled cueing on phone for 33020014 ms"
          ]
         ],
         "hovertemplate": "events=30<br>date=%{x}<br>time=%{y}<br>message=%{customdata[0]}<extra></extra>",
         "legendgroup": "30",
         "line": {
          "color": "#ab63fa",
          "dash": "solid"
         },
         "marker": {
          "symbol": "circle"
         },
         "mode": "markers+lines",
         "name": "30",
         "orientation": "v",
         "showlegend": true,
         "type": "scatter",
         "x": [
          "2022-11-22",
          "2022-11-23"
         ],
         "xaxis": "x",
         "y": [
          18.6,
          21.916666666666668
         ],
         "yaxis": "y"
        },
        {
         "customdata": [
          [
           "Silence mode stopped on phone"
          ]
         ],
         "hovertemplate": "events=28<br>date=%{x}<br>time=%{y}<br>message=%{customdata[0]}<extra></extra>",
         "legendgroup": "28",
         "line": {
          "color": "#FFA15A",
          "dash": "solid"
         },
         "marker": {
          "symbol": "circle"
         },
         "mode": "markers+lines",
         "name": "28",
         "orientation": "v",
         "showlegend": true,
         "type": "scatter",
         "x": [
          "2022-11-24"
         ],
         "xaxis": "x",
         "y": [
          12.7
         ],
         "yaxis": "y"
        },
        {
         "customdata": [
          [
           "Phone manual cueing started. Until 20:14 Cueing period: 60 seconds. Vibration pattern: 3x Times. Vibration intensity: Default"
          ],
          [
           "Phone manual cueing started. Until 19:29 Cueing period: 60 seconds. Vibration pattern: 3x Times. Vibration intensity: Default"
          ],
          [
           "Phone manual cueing started. Until 19:25 Cueing period: 60 seconds. Vibration pattern: 3x Times. Vibration intensity: Default"
          ],
          [
           "Phone manual cueing started. Until 19:26 Cueing period: 60 seconds. Vibration pattern: 3x Times. Vibration intensity: Default"
          ],
          [
           "Phone manual cueing started. Until 19:10 Cueing period: 60 seconds. Vibration pattern: 3x Times. Vibration intensity: Default"
          ],
          [
           "Phone manual cueing started. Until 19:11 Cueing period: 60 seconds. Vibration pattern: 3x Times. Vibration intensity: Default"
          ],
          [
           "Phone manual cueing started. Until 22:04 Cueing period: 60 seconds. Vibration pattern: 3x Times. Vibration intensity: Default"
          ]
         ],
         "hovertemplate": "events=18<br>date=%{x}<br>time=%{y}<br>message=%{customdata[0]}<extra></extra>",
         "legendgroup": "18",
         "line": {
          "color": "#19d3f3",
          "dash": "solid"
         },
         "marker": {
          "symbol": "circle"
         },
         "mode": "markers+lines",
         "name": "18",
         "orientation": "v",
         "showlegend": true,
         "type": "scatter",
         "x": [
          "2022-11-25",
          "2022-11-26",
          "2022-11-26",
          "2022-11-26",
          "2022-11-28",
          "2022-11-28",
          "2022-11-29"
         ],
         "xaxis": "x",
         "y": [
          20.066666666666666,
          19.316666666666666,
          19.333333333333332,
          19.35,
          19,
          19.1,
          21.9
         ],
         "yaxis": "y"
        },
        {
         "customdata": [
          [
           "Manual Cueing stopped on phone"
          ],
          [
           "Manual Cueing stopped on phone"
          ],
          [
           "Manual Cueing stopped on phone"
          ],
          [
           "Manual Cueing stopped on phone"
          ]
         ],
         "hovertemplate": "events=25<br>date=%{x}<br>time=%{y}<br>message=%{customdata[0]}<extra></extra>",
         "legendgroup": "25",
         "line": {
          "color": "#FF6692",
          "dash": "solid"
         },
         "marker": {
          "symbol": "circle"
         },
         "mode": "markers+lines",
         "name": "25",
         "orientation": "v",
         "showlegend": true,
         "type": "scatter",
         "x": [
          "2022-11-25",
          "2022-11-26",
          "2022-11-28",
          "2022-11-29"
         ],
         "xaxis": "x",
         "y": [
          20.066666666666666,
          19.316666666666666,
          19,
          21.9
         ],
         "yaxis": "y"
        },
        {
         "customdata": [
          [
           "Manually changed cueing type to cueband"
          ],
          [
           "Manually changed cueing type to phone"
          ],
          [
           "Manually changed cueing type to cueband"
          ],
          [
           "Manually changed cueing type to phone"
          ],
          [
           "Manually changed cueing type to cueband"
          ]
         ],
         "hovertemplate": "events=10<br>date=%{x}<br>time=%{y}<br>message=%{customdata[0]}<extra></extra>",
         "legendgroup": "10",
         "line": {
          "color": "#B6E880",
          "dash": "solid"
         },
         "marker": {
          "symbol": "circle"
         },
         "mode": "markers+lines",
         "name": "10",
         "orientation": "v",
         "showlegend": true,
         "type": "scatter",
         "x": [
          "2022-11-29",
          "2023-02-12",
          "2023-02-12",
          "2023-03-19",
          "2023-03-19"
         ],
         "xaxis": "x",
         "y": [
          21.916666666666668,
          15.016666666666667,
          15.266666666666667,
          21.15,
          21.15
         ],
         "yaxis": "y"
        },
        {
         "customdata": [
          [
           "Wearable scheduled cueing started Until 19:14 Cueing period: 60  seconds. Vibration pattern: 3."
          ],
          [
           "Wearable scheduled cueing started Until 19:14 Cueing period: 60  seconds. Vibration pattern: 3."
          ],
          [
           "Wearable scheduled cueing started Until 19:14 Cueing period: 60  seconds. Vibration pattern: 3."
          ],
          [
           "Wearable scheduled cueing started Until 19:14 Cueing period: 60  seconds. Vibration pattern: 3."
          ],
          [
           "Wearable scheduled cueing started Until 19:14 Cueing period: 60  seconds. Vibration pattern: 3."
          ],
          [
           "Wearable scheduled cueing started Until 19:14 Cueing period: 60  seconds. Vibration pattern: 3."
          ],
          [
           "Wearable scheduled cueing started Until 19:14 Cueing period: 60  seconds. Vibration pattern: 3."
          ],
          [
           "Wearable scheduled cueing started Until 19:14 Cueing period: 60  seconds. Vibration pattern: 3."
          ],
          [
           "Wearable scheduled cueing started Until 19:14 Cueing period: 60  seconds. Vibration pattern: 3."
          ],
          [
           "Wearable scheduled cueing started Until 18:44 Cueing period: 60  seconds. Vibration pattern: 3."
          ],
          [
           "Wearable scheduled cueing started Until 18:44 Cueing period: 60  seconds. Vibration pattern: 3."
          ],
          [
           "Wearable scheduled cueing started Until 18:44 Cueing period: 60  seconds. Vibration pattern: 3."
          ],
          [
           "Wearable scheduled cueing started Until 18:44 Cueing period: 60  seconds. Vibration pattern: 3."
          ],
          [
           "Wearable scheduled cueing started Until 18:44 Cueing period: 60  seconds. Vibration pattern: 3."
          ],
          [
           "Wearable scheduled cueing started Until 18:44 Cueing period: 60  seconds. Vibration pattern: 3."
          ],
          [
           "Wearable scheduled cueing started Until 18:44 Cueing period: 60  seconds. Vibration pattern: 3."
          ],
          [
           "Wearable scheduled cueing started Until 18:44 Cueing period: 60  seconds. Vibration pattern: 3."
          ],
          [
           "Wearable scheduled cueing started Until 18:44 Cueing period: 60  seconds. Vibration pattern: 3."
          ],
          [
           "Wearable scheduled cueing started Until 18:44 Cueing period: 60  seconds. Vibration pattern: 3."
          ],
          [
           "Wearable scheduled cueing started Until 18:44 Cueing period: 60  seconds. Vibration pattern: 3."
          ],
          [
           "Wearable scheduled cueing started Until 07:44 Cueing period: 60  seconds. Vibration pattern: 3."
          ],
          [
           "Wearable scheduled cueing started Until 07:44 Cueing period: 60  seconds. Vibration pattern: 3."
          ],
          [
           "Wearable scheduled cueing started Until 07:44 Cueing period: 60  seconds. Vibration pattern: 3."
          ],
          [
           "Wearable scheduled cueing started Until 07:44 Cueing period: 60  seconds. Vibration pattern: 3."
          ],
          [
           "Wearable scheduled cueing started Until 07:44 Cueing period: 60  seconds. Vibration pattern: 3."
          ],
          [
           "Wearable scheduled cueing started Until 07:44 Cueing period: 60  seconds. Vibration pattern: 3."
          ],
          [
           "Wearable scheduled cueing started Until 07:44 Cueing period: 60  seconds. Vibration pattern: 3."
          ],
          [
           "Wearable scheduled cueing started Until 07:44 Cueing period: 60  seconds. Vibration pattern: 3."
          ],
          [
           "Wearable scheduled cueing started Until 07:44 Cueing period: 60  seconds. Vibration pattern: 3."
          ],
          [
           "Wearable scheduled cueing started Until 07:44 Cueing period: 60  seconds. Vibration pattern: 3."
          ],
          [
           "Wearable scheduled cueing started Until 07:44 Cueing period: 60  seconds. Vibration pattern: 3."
          ]
         ],
         "hovertemplate": "events=13<br>date=%{x}<br>time=%{y}<br>message=%{customdata[0]}<extra></extra>",
         "legendgroup": "13",
         "line": {
          "color": "#FF97FF",
          "dash": "solid"
         },
         "marker": {
          "symbol": "circle"
         },
         "mode": "markers+lines",
         "name": "13",
         "orientation": "v",
         "showlegend": true,
         "type": "scatter",
         "x": [
          "2023-01-19",
          "2023-01-19",
          "2023-01-19",
          "2023-02-23",
          "2023-02-23",
          "2023-02-23",
          "2023-02-23",
          "2023-02-23",
          "2023-02-23",
          "2023-02-24",
          "2023-02-24",
          "2023-02-24",
          "2023-02-24",
          "2023-02-24",
          "2023-02-24",
          "2023-02-24",
          "2023-02-24",
          "2023-02-24",
          "2023-02-24",
          "2023-02-24",
          "2023-02-25",
          "2023-02-25",
          "2023-02-25",
          "2023-02-25",
          "2023-02-25",
          "2023-03-25",
          "2023-03-25",
          "2023-03-25",
          "2023-03-25",
          "2023-03-25",
          "2023-03-25"
         ],
         "xaxis": "x",
         "y": [
          19.216666666666665,
          19.216666666666665,
          19.233333333333334,
          19.15,
          19.15,
          19.166666666666668,
          19.166666666666668,
          19.166666666666668,
          19.183333333333334,
          18.533333333333335,
          18.55,
          18.55,
          18.55,
          18.566666666666666,
          18.566666666666666,
          18.566666666666666,
          18.583333333333332,
          18.583333333333332,
          18.583333333333332,
          18.583333333333332,
          7.716666666666667,
          7.716666666666667,
          7.733333333333333,
          7.733333333333333,
          7.733333333333333,
          7.683333333333334,
          7.683333333333334,
          7.683333333333334,
          7.7,
          7.7,
          7.7
         ],
         "yaxis": "y"
        }
       ],
       "layout": {
        "legend": {
         "title": {
          "text": "events"
         },
         "tracegroupgap": 0
        },
        "margin": {
         "t": 60
        },
        "template": {
         "data": {
          "bar": [
           {
            "error_x": {
             "color": "#2a3f5f"
            },
            "error_y": {
             "color": "#2a3f5f"
            },
            "marker": {
             "line": {
              "color": "#E5ECF6",
              "width": 0.5
             },
             "pattern": {
              "fillmode": "overlay",
              "size": 10,
              "solidity": 0.2
             }
            },
            "type": "bar"
           }
          ],
          "barpolar": [
           {
            "marker": {
             "line": {
              "color": "#E5ECF6",
              "width": 0.5
             },
             "pattern": {
              "fillmode": "overlay",
              "size": 10,
              "solidity": 0.2
             }
            },
            "type": "barpolar"
           }
          ],
          "carpet": [
           {
            "aaxis": {
             "endlinecolor": "#2a3f5f",
             "gridcolor": "white",
             "linecolor": "white",
             "minorgridcolor": "white",
             "startlinecolor": "#2a3f5f"
            },
            "baxis": {
             "endlinecolor": "#2a3f5f",
             "gridcolor": "white",
             "linecolor": "white",
             "minorgridcolor": "white",
             "startlinecolor": "#2a3f5f"
            },
            "type": "carpet"
           }
          ],
          "choropleth": [
           {
            "colorbar": {
             "outlinewidth": 0,
             "ticks": ""
            },
            "type": "choropleth"
           }
          ],
          "contour": [
           {
            "colorbar": {
             "outlinewidth": 0,
             "ticks": ""
            },
            "colorscale": [
             [
              0,
              "#0d0887"
             ],
             [
              0.1111111111111111,
              "#46039f"
             ],
             [
              0.2222222222222222,
              "#7201a8"
             ],
             [
              0.3333333333333333,
              "#9c179e"
             ],
             [
              0.4444444444444444,
              "#bd3786"
             ],
             [
              0.5555555555555556,
              "#d8576b"
             ],
             [
              0.6666666666666666,
              "#ed7953"
             ],
             [
              0.7777777777777778,
              "#fb9f3a"
             ],
             [
              0.8888888888888888,
              "#fdca26"
             ],
             [
              1,
              "#f0f921"
             ]
            ],
            "type": "contour"
           }
          ],
          "contourcarpet": [
           {
            "colorbar": {
             "outlinewidth": 0,
             "ticks": ""
            },
            "type": "contourcarpet"
           }
          ],
          "heatmap": [
           {
            "colorbar": {
             "outlinewidth": 0,
             "ticks": ""
            },
            "colorscale": [
             [
              0,
              "#0d0887"
             ],
             [
              0.1111111111111111,
              "#46039f"
             ],
             [
              0.2222222222222222,
              "#7201a8"
             ],
             [
              0.3333333333333333,
              "#9c179e"
             ],
             [
              0.4444444444444444,
              "#bd3786"
             ],
             [
              0.5555555555555556,
              "#d8576b"
             ],
             [
              0.6666666666666666,
              "#ed7953"
             ],
             [
              0.7777777777777778,
              "#fb9f3a"
             ],
             [
              0.8888888888888888,
              "#fdca26"
             ],
             [
              1,
              "#f0f921"
             ]
            ],
            "type": "heatmap"
           }
          ],
          "heatmapgl": [
           {
            "colorbar": {
             "outlinewidth": 0,
             "ticks": ""
            },
            "colorscale": [
             [
              0,
              "#0d0887"
             ],
             [
              0.1111111111111111,
              "#46039f"
             ],
             [
              0.2222222222222222,
              "#7201a8"
             ],
             [
              0.3333333333333333,
              "#9c179e"
             ],
             [
              0.4444444444444444,
              "#bd3786"
             ],
             [
              0.5555555555555556,
              "#d8576b"
             ],
             [
              0.6666666666666666,
              "#ed7953"
             ],
             [
              0.7777777777777778,
              "#fb9f3a"
             ],
             [
              0.8888888888888888,
              "#fdca26"
             ],
             [
              1,
              "#f0f921"
             ]
            ],
            "type": "heatmapgl"
           }
          ],
          "histogram": [
           {
            "marker": {
             "pattern": {
              "fillmode": "overlay",
              "size": 10,
              "solidity": 0.2
             }
            },
            "type": "histogram"
           }
          ],
          "histogram2d": [
           {
            "colorbar": {
             "outlinewidth": 0,
             "ticks": ""
            },
            "colorscale": [
             [
              0,
              "#0d0887"
             ],
             [
              0.1111111111111111,
              "#46039f"
             ],
             [
              0.2222222222222222,
              "#7201a8"
             ],
             [
              0.3333333333333333,
              "#9c179e"
             ],
             [
              0.4444444444444444,
              "#bd3786"
             ],
             [
              0.5555555555555556,
              "#d8576b"
             ],
             [
              0.6666666666666666,
              "#ed7953"
             ],
             [
              0.7777777777777778,
              "#fb9f3a"
             ],
             [
              0.8888888888888888,
              "#fdca26"
             ],
             [
              1,
              "#f0f921"
             ]
            ],
            "type": "histogram2d"
           }
          ],
          "histogram2dcontour": [
           {
            "colorbar": {
             "outlinewidth": 0,
             "ticks": ""
            },
            "colorscale": [
             [
              0,
              "#0d0887"
             ],
             [
              0.1111111111111111,
              "#46039f"
             ],
             [
              0.2222222222222222,
              "#7201a8"
             ],
             [
              0.3333333333333333,
              "#9c179e"
             ],
             [
              0.4444444444444444,
              "#bd3786"
             ],
             [
              0.5555555555555556,
              "#d8576b"
             ],
             [
              0.6666666666666666,
              "#ed7953"
             ],
             [
              0.7777777777777778,
              "#fb9f3a"
             ],
             [
              0.8888888888888888,
              "#fdca26"
             ],
             [
              1,
              "#f0f921"
             ]
            ],
            "type": "histogram2dcontour"
           }
          ],
          "mesh3d": [
           {
            "colorbar": {
             "outlinewidth": 0,
             "ticks": ""
            },
            "type": "mesh3d"
           }
          ],
          "parcoords": [
           {
            "line": {
             "colorbar": {
              "outlinewidth": 0,
              "ticks": ""
             }
            },
            "type": "parcoords"
           }
          ],
          "pie": [
           {
            "automargin": true,
            "type": "pie"
           }
          ],
          "scatter": [
           {
            "fillpattern": {
             "fillmode": "overlay",
             "size": 10,
             "solidity": 0.2
            },
            "type": "scatter"
           }
          ],
          "scatter3d": [
           {
            "line": {
             "colorbar": {
              "outlinewidth": 0,
              "ticks": ""
             }
            },
            "marker": {
             "colorbar": {
              "outlinewidth": 0,
              "ticks": ""
             }
            },
            "type": "scatter3d"
           }
          ],
          "scattercarpet": [
           {
            "marker": {
             "colorbar": {
              "outlinewidth": 0,
              "ticks": ""
             }
            },
            "type": "scattercarpet"
           }
          ],
          "scattergeo": [
           {
            "marker": {
             "colorbar": {
              "outlinewidth": 0,
              "ticks": ""
             }
            },
            "type": "scattergeo"
           }
          ],
          "scattergl": [
           {
            "marker": {
             "colorbar": {
              "outlinewidth": 0,
              "ticks": ""
             }
            },
            "type": "scattergl"
           }
          ],
          "scattermapbox": [
           {
            "marker": {
             "colorbar": {
              "outlinewidth": 0,
              "ticks": ""
             }
            },
            "type": "scattermapbox"
           }
          ],
          "scatterpolar": [
           {
            "marker": {
             "colorbar": {
              "outlinewidth": 0,
              "ticks": ""
             }
            },
            "type": "scatterpolar"
           }
          ],
          "scatterpolargl": [
           {
            "marker": {
             "colorbar": {
              "outlinewidth": 0,
              "ticks": ""
             }
            },
            "type": "scatterpolargl"
           }
          ],
          "scatterternary": [
           {
            "marker": {
             "colorbar": {
              "outlinewidth": 0,
              "ticks": ""
             }
            },
            "type": "scatterternary"
           }
          ],
          "surface": [
           {
            "colorbar": {
             "outlinewidth": 0,
             "ticks": ""
            },
            "colorscale": [
             [
              0,
              "#0d0887"
             ],
             [
              0.1111111111111111,
              "#46039f"
             ],
             [
              0.2222222222222222,
              "#7201a8"
             ],
             [
              0.3333333333333333,
              "#9c179e"
             ],
             [
              0.4444444444444444,
              "#bd3786"
             ],
             [
              0.5555555555555556,
              "#d8576b"
             ],
             [
              0.6666666666666666,
              "#ed7953"
             ],
             [
              0.7777777777777778,
              "#fb9f3a"
             ],
             [
              0.8888888888888888,
              "#fdca26"
             ],
             [
              1,
              "#f0f921"
             ]
            ],
            "type": "surface"
           }
          ],
          "table": [
           {
            "cells": {
             "fill": {
              "color": "#EBF0F8"
             },
             "line": {
              "color": "white"
             }
            },
            "header": {
             "fill": {
              "color": "#C8D4E3"
             },
             "line": {
              "color": "white"
             }
            },
            "type": "table"
           }
          ]
         },
         "layout": {
          "annotationdefaults": {
           "arrowcolor": "#2a3f5f",
           "arrowhead": 0,
           "arrowwidth": 1
          },
          "autotypenumbers": "strict",
          "coloraxis": {
           "colorbar": {
            "outlinewidth": 0,
            "ticks": ""
           }
          },
          "colorscale": {
           "diverging": [
            [
             0,
             "#8e0152"
            ],
            [
             0.1,
             "#c51b7d"
            ],
            [
             0.2,
             "#de77ae"
            ],
            [
             0.3,
             "#f1b6da"
            ],
            [
             0.4,
             "#fde0ef"
            ],
            [
             0.5,
             "#f7f7f7"
            ],
            [
             0.6,
             "#e6f5d0"
            ],
            [
             0.7,
             "#b8e186"
            ],
            [
             0.8,
             "#7fbc41"
            ],
            [
             0.9,
             "#4d9221"
            ],
            [
             1,
             "#276419"
            ]
           ],
           "sequential": [
            [
             0,
             "#0d0887"
            ],
            [
             0.1111111111111111,
             "#46039f"
            ],
            [
             0.2222222222222222,
             "#7201a8"
            ],
            [
             0.3333333333333333,
             "#9c179e"
            ],
            [
             0.4444444444444444,
             "#bd3786"
            ],
            [
             0.5555555555555556,
             "#d8576b"
            ],
            [
             0.6666666666666666,
             "#ed7953"
            ],
            [
             0.7777777777777778,
             "#fb9f3a"
            ],
            [
             0.8888888888888888,
             "#fdca26"
            ],
            [
             1,
             "#f0f921"
            ]
           ],
           "sequentialminus": [
            [
             0,
             "#0d0887"
            ],
            [
             0.1111111111111111,
             "#46039f"
            ],
            [
             0.2222222222222222,
             "#7201a8"
            ],
            [
             0.3333333333333333,
             "#9c179e"
            ],
            [
             0.4444444444444444,
             "#bd3786"
            ],
            [
             0.5555555555555556,
             "#d8576b"
            ],
            [
             0.6666666666666666,
             "#ed7953"
            ],
            [
             0.7777777777777778,
             "#fb9f3a"
            ],
            [
             0.8888888888888888,
             "#fdca26"
            ],
            [
             1,
             "#f0f921"
            ]
           ]
          },
          "colorway": [
           "#636efa",
           "#EF553B",
           "#00cc96",
           "#ab63fa",
           "#FFA15A",
           "#19d3f3",
           "#FF6692",
           "#B6E880",
           "#FF97FF",
           "#FECB52"
          ],
          "font": {
           "color": "#2a3f5f"
          },
          "geo": {
           "bgcolor": "white",
           "lakecolor": "white",
           "landcolor": "#E5ECF6",
           "showlakes": true,
           "showland": true,
           "subunitcolor": "white"
          },
          "hoverlabel": {
           "align": "left"
          },
          "hovermode": "closest",
          "mapbox": {
           "style": "light"
          },
          "paper_bgcolor": "white",
          "plot_bgcolor": "#E5ECF6",
          "polar": {
           "angularaxis": {
            "gridcolor": "white",
            "linecolor": "white",
            "ticks": ""
           },
           "bgcolor": "#E5ECF6",
           "radialaxis": {
            "gridcolor": "white",
            "linecolor": "white",
            "ticks": ""
           }
          },
          "scene": {
           "xaxis": {
            "backgroundcolor": "#E5ECF6",
            "gridcolor": "white",
            "gridwidth": 2,
            "linecolor": "white",
            "showbackground": true,
            "ticks": "",
            "zerolinecolor": "white"
           },
           "yaxis": {
            "backgroundcolor": "#E5ECF6",
            "gridcolor": "white",
            "gridwidth": 2,
            "linecolor": "white",
            "showbackground": true,
            "ticks": "",
            "zerolinecolor": "white"
           },
           "zaxis": {
            "backgroundcolor": "#E5ECF6",
            "gridcolor": "white",
            "gridwidth": 2,
            "linecolor": "white",
            "showbackground": true,
            "ticks": "",
            "zerolinecolor": "white"
           }
          },
          "shapedefaults": {
           "line": {
            "color": "#2a3f5f"
           }
          },
          "ternary": {
           "aaxis": {
            "gridcolor": "white",
            "linecolor": "white",
            "ticks": ""
           },
           "baxis": {
            "gridcolor": "white",
            "linecolor": "white",
            "ticks": ""
           },
           "bgcolor": "#E5ECF6",
           "caxis": {
            "gridcolor": "white",
            "linecolor": "white",
            "ticks": ""
           }
          },
          "title": {
           "x": 0.05
          },
          "xaxis": {
           "automargin": true,
           "gridcolor": "white",
           "linecolor": "white",
           "ticks": "",
           "title": {
            "standoff": 15
           },
           "zerolinecolor": "white",
           "zerolinewidth": 2
          },
          "yaxis": {
           "automargin": true,
           "gridcolor": "white",
           "linecolor": "white",
           "ticks": "",
           "title": {
            "standoff": 15
           },
           "zerolinecolor": "white",
           "zerolinewidth": 2
          }
         }
        },
        "xaxis": {
         "anchor": "y",
         "domain": [
          0,
          1
         ],
         "title": {
          "text": "date"
         }
        },
        "yaxis": {
         "anchor": "x",
         "domain": [
          0,
          1
         ],
         "title": {
          "text": "time"
         }
        }
       }
      }
     },
     "metadata": {},
     "output_type": "display_data"
    }
   ],
   "source": [
    "id = 'oFteR0cASq'\n",
    "tmp = df_vis.query(\"user == @id\")\n",
    "# display(tmp)\n",
    "# display(cueingIntervals.query(\"user == @id\").head())\n",
    "px.line(tmp, x=\"date\", y=\"time\", hover_data=[\"message\"], color=\"events\", markers= True)"
   ]
  },
  {
   "cell_type": "code",
   "execution_count": 18,
   "metadata": {},
   "outputs": [
    {
     "data": {
      "application/vnd.plotly.v1+json": {
       "config": {
        "plotlyServerURL": "https://plot.ly"
       },
       "data": [
        {
         "customdata": [
          [
           "Wearable scheduled cueing started Until 14:55 Cueing period: 60  seconds. Vibration pattern: 3."
          ],
          [
           "Wearable scheduled cueing started Until 18:00 Cueing period: 60  seconds. Vibration pattern: 3."
          ],
          [
           "Wearable scheduled cueing started Until 18:00 Cueing period: 60  seconds. Vibration pattern: 3."
          ],
          [
           "Wearable scheduled cueing started Until 18:00 Cueing period: 120  seconds. Vibration pattern: 2."
          ],
          [
           "Wearable scheduled cueing started Until 18:00 Cueing period: 90  seconds. Vibration pattern: 3."
          ],
          [
           "Wearable scheduled cueing started Until 20:45 Cueing period: 90  seconds. Vibration pattern: 3."
          ],
          [
           "Wearable scheduled cueing started Until 17:59 Cueing period: 90  seconds. Vibration pattern: 3."
          ],
          [
           "Wearable scheduled cueing started Until 20:44 Cueing period: 90  seconds. Vibration pattern: 3."
          ],
          [
           "Wearable scheduled cueing started Until 20:44 Cueing period: 90  seconds. Vibration pattern: 3."
          ],
          [
           "Wearable scheduled cueing started Until 18:00 Cueing period: 90  seconds. Vibration pattern: 3."
          ],
          [
           "Wearable scheduled cueing started Until 17:59 Cueing period: 90  seconds. Vibration pattern: 3."
          ],
          [
           "Wearable scheduled cueing started Until 08:59 Cueing period: 90  seconds. Vibration pattern: 3."
          ],
          [
           "Wearable scheduled cueing started Until 18:00 Cueing period: 90  seconds. Vibration pattern: 3."
          ],
          [
           "Wearable scheduled cueing started Until 17:59 Cueing period: 90  seconds. Vibration pattern: 3."
          ],
          [
           "Wearable scheduled cueing started Until 17:59 Cueing period: 90  seconds. Vibration pattern: 3."
          ],
          [
           "Wearable scheduled cueing started Until 17:59 Cueing period: 90  seconds. Vibration pattern: 3."
          ],
          [
           "Wearable scheduled cueing started Until 17:59 Cueing period: 90  seconds. Vibration pattern: 3."
          ],
          [
           "Wearable scheduled cueing started Until 20:44 Cueing period: 90  seconds. Vibration pattern: 3."
          ],
          [
           "Wearable scheduled cueing started Until 20:44 Cueing period: 90  seconds. Vibration pattern: 3."
          ],
          [
           "Wearable scheduled cueing started Until 22:14 Cueing period: 90  seconds. Vibration pattern: 3."
          ],
          [
           "Wearable scheduled cueing started Until 17:59 Cueing period: 90  seconds. Vibration pattern: 3."
          ],
          [
           "Wearable scheduled cueing started Until 17:59 Cueing period: 90  seconds. Vibration pattern: 3."
          ],
          [
           "Wearable scheduled cueing started Until 20:44 Cueing period: 90  seconds. Vibration pattern: 3."
          ],
          [
           "Wearable scheduled cueing started Until 17:59 Cueing period: 90  seconds. Vibration pattern: 3."
          ],
          [
           "Wearable scheduled cueing started Until 17:59 Cueing period: 90  seconds. Vibration pattern: 3."
          ],
          [
           "Wearable scheduled cueing started Until 18:00 Cueing period: 90  seconds. Vibration pattern: 3."
          ],
          [
           "Wearable scheduled cueing started Until 18:00 Cueing period: 90  seconds. Vibration pattern: 3."
          ],
          [
           "Wearable scheduled cueing started Until 17:59 Cueing period: 90  seconds. Vibration pattern: 3."
          ],
          [
           "Wearable scheduled cueing started Until 17:59 Cueing period: 90  seconds. Vibration pattern: 3."
          ],
          [
           "Wearable scheduled cueing started Until 17:59 Cueing period: 90  seconds. Vibration pattern: 3."
          ],
          [
           "Wearable scheduled cueing started Until 17:59 Cueing period: 90  seconds. Vibration pattern: 3."
          ],
          [
           "Wearable scheduled cueing started Until 17:59 Cueing period: 90  seconds. Vibration pattern: 3."
          ],
          [
           "Wearable scheduled cueing started Until 17:59 Cueing period: 90  seconds. Vibration pattern: 3."
          ],
          [
           "Wearable scheduled cueing started Until 17:59 Cueing period: 90  seconds. Vibration pattern: 3."
          ],
          [
           "Wearable scheduled cueing started Until 17:59 Cueing period: 90  seconds. Vibration pattern: 3."
          ],
          [
           "Wearable scheduled cueing started Until 17:59 Cueing period: 90  seconds. Vibration pattern: 3."
          ],
          [
           "Wearable scheduled cueing started Until 17:59 Cueing period: 90  seconds. Vibration pattern: 3."
          ],
          [
           "Wearable scheduled cueing started Until 17:59 Cueing period: 90  seconds. Vibration pattern: 3."
          ],
          [
           "Wearable scheduled cueing started Until 17:59 Cueing period: 90  seconds. Vibration pattern: 3."
          ],
          [
           "Wearable scheduled cueing started Until 17:59 Cueing period: 90  seconds. Vibration pattern: 3."
          ],
          [
           "Wearable scheduled cueing started Until 17:59 Cueing period: 90  seconds. Vibration pattern: 3."
          ],
          [
           "Wearable scheduled cueing started Until 17:59 Cueing period: 90  seconds. Vibration pattern: 3."
          ],
          [
           "Wearable scheduled cueing started Until 17:59 Cueing period: 90  seconds. Vibration pattern: 3."
          ],
          [
           "Wearable scheduled cueing started Until 17:59 Cueing period: 90  seconds. Vibration pattern: 3."
          ],
          [
           "Wearable scheduled cueing started Until 17:59 Cueing period: 90  seconds. Vibration pattern: 3."
          ],
          [
           "Wearable scheduled cueing started Until 22:15 Cueing period: 90  seconds. Vibration pattern: 3."
          ],
          [
           "Wearable scheduled cueing started Until 18:00 Cueing period: 90  seconds. Vibration pattern: 3."
          ],
          [
           "Wearable scheduled cueing started Until 17:59 Cueing period: 90  seconds. Vibration pattern: 3."
          ],
          [
           "Wearable scheduled cueing started Until 17:59 Cueing period: 90  seconds. Vibration pattern: 3."
          ],
          [
           "Wearable scheduled cueing started Until 17:59 Cueing period: 90  seconds. Vibration pattern: 3."
          ],
          [
           "Wearable scheduled cueing started Until 17:59 Cueing period: 90  seconds. Vibration pattern: 3."
          ],
          [
           "Wearable scheduled cueing started Until 17:59 Cueing period: 90  seconds. Vibration pattern: 3."
          ],
          [
           "Wearable scheduled cueing started Until 17:59 Cueing period: 90  seconds. Vibration pattern: 3."
          ],
          [
           "Wearable scheduled cueing started Until 17:59 Cueing period: 90  seconds. Vibration pattern: 3."
          ],
          [
           "Wearable scheduled cueing started Until 17:59 Cueing period: 90  seconds. Vibration pattern: 3."
          ],
          [
           "Wearable scheduled cueing started Until 17:59 Cueing period: 90  seconds. Vibration pattern: 3."
          ],
          [
           "Wearable scheduled cueing started Until 08:54 Cueing period: 90  seconds. Vibration pattern: 3."
          ],
          [
           "Wearable scheduled cueing started Until 17:59 Cueing period: 90  seconds. Vibration pattern: 3."
          ],
          [
           "Wearable scheduled cueing started Until 17:59 Cueing period: 90  seconds. Vibration pattern: 3."
          ],
          [
           "Wearable scheduled cueing started Until 17:59 Cueing period: 90  seconds. Vibration pattern: 3."
          ],
          [
           "Wearable scheduled cueing started Until 17:59 Cueing period: 90  seconds. Vibration pattern: 3."
          ],
          [
           "Wearable scheduled cueing started Until 17:59 Cueing period: 90  seconds. Vibration pattern: 3."
          ],
          [
           "Wearable scheduled cueing started Until 17:59 Cueing period: 90  seconds. Vibration pattern: 3."
          ],
          [
           "Wearable scheduled cueing started Until 17:59 Cueing period: 90  seconds. Vibration pattern: 3."
          ],
          [
           "Wearable scheduled cueing started Until 17:59 Cueing period: 90  seconds. Vibration pattern: 3."
          ],
          [
           "Wearable scheduled cueing started Until 17:59 Cueing period: 90  seconds. Vibration pattern: 3."
          ]
         ],
         "hovertemplate": "events=13<br>date=%{x}<br>time=%{y}<br>message=%{customdata[0]}<extra></extra>",
         "legendgroup": "13",
         "line": {
          "color": "#636efa",
          "dash": "solid"
         },
         "marker": {
          "symbol": "circle"
         },
         "mode": "markers+lines",
         "name": "13",
         "orientation": "v",
         "showlegend": true,
         "type": "scatter",
         "x": [
          "2022-11-14",
          "2022-11-14",
          "2022-11-14",
          "2022-11-15",
          "2022-11-17",
          "2022-11-17",
          "2022-11-18",
          "2022-11-19",
          "2022-11-20",
          "2022-11-21",
          "2022-11-23",
          "2022-11-26",
          "2022-11-30",
          "2022-12-01",
          "2022-12-02",
          "2022-12-09",
          "2022-12-10",
          "2022-12-17",
          "2022-12-18",
          "2022-12-19",
          "2022-12-20",
          "2022-12-23",
          "2022-12-24",
          "2022-12-25",
          "2022-12-28",
          "2022-12-31",
          "2023-01-01",
          "2023-01-02",
          "2023-01-04",
          "2023-01-06",
          "2023-01-07",
          "2023-01-08",
          "2023-01-09",
          "2023-01-15",
          "2023-01-17",
          "2023-01-19",
          "2023-01-22",
          "2023-01-25",
          "2023-01-26",
          "2023-01-29",
          "2023-01-30",
          "2023-01-31",
          "2023-02-01",
          "2023-02-03",
          "2023-02-04",
          "2023-02-06",
          "2023-02-07",
          "2023-02-08",
          "2023-02-09",
          "2023-02-12",
          "2023-02-14",
          "2023-02-15",
          "2023-02-17",
          "2023-02-20",
          "2023-02-22",
          "2023-02-23",
          "2023-02-28",
          "2023-02-28",
          "2023-03-02",
          "2023-03-04",
          "2023-03-08",
          "2023-03-13",
          "2023-03-15",
          "2023-03-20",
          "2023-03-21",
          "2023-03-22"
         ],
         "xaxis": "x",
         "y": [
          14.016666666666667,
          17.333333333333332,
          17.55,
          17.15,
          17,
          20.066666666666666,
          17.033333333333335,
          20.266666666666666,
          20.15,
          17.033333333333335,
          17.066666666666666,
          8.916666666666666,
          17.116666666666667,
          17.733333333333334,
          17.433333333333334,
          17,
          17.866666666666667,
          20.433333333333334,
          20.616666666666667,
          21.866666666666667,
          17.033333333333335,
          17.166666666666668,
          19.8,
          17,
          17.016666666666666,
          17.666666666666668,
          17.1,
          17.9,
          17.383333333333333,
          17.166666666666668,
          17.283333333333335,
          17.233333333333334,
          17.833333333333332,
          17.05,
          17.35,
          17.75,
          17.3,
          17.35,
          17.433333333333334,
          17.25,
          17.6,
          17.6,
          17.05,
          17.6,
          17.483333333333334,
          21.866666666666667,
          17.683333333333334,
          17.5,
          17.633333333333333,
          17.9,
          17.666666666666668,
          17.2,
          17.783333333333335,
          17.05,
          17.7,
          17.183333333333334,
          8.716666666666667,
          17.066666666666666,
          17.333333333333332,
          17.583333333333332,
          17.666666666666668,
          17.15,
          17.066666666666666,
          17.6,
          17.05,
          17.116666666666667
         ],
         "yaxis": "y"
        },
        {
         "customdata": [
          [
           "Wearable manual cueing started Until 18:54  Cueing period: 90 seconds. Vibration pattern: Long. Vibration intensity: Default"
          ],
          [
           "Wearable manual cueing started Until 17:20 Cueing period: 90  seconds. Vibration pattern: 3."
          ]
         ],
         "hovertemplate": "events=12<br>date=%{x}<br>time=%{y}<br>message=%{customdata[0]}<extra></extra>",
         "legendgroup": "12",
         "line": {
          "color": "#EF553B",
          "dash": "solid"
         },
         "marker": {
          "symbol": "circle"
         },
         "mode": "markers+lines",
         "name": "12",
         "orientation": "v",
         "showlegend": true,
         "type": "scatter",
         "x": [
          "2022-11-16",
          "2023-01-18"
         ],
         "xaxis": "x",
         "y": [
          18.733333333333334,
          17.183333333333334
         ],
         "yaxis": "y"
        }
       ],
       "layout": {
        "legend": {
         "title": {
          "text": "events"
         },
         "tracegroupgap": 0
        },
        "margin": {
         "t": 60
        },
        "template": {
         "data": {
          "bar": [
           {
            "error_x": {
             "color": "#2a3f5f"
            },
            "error_y": {
             "color": "#2a3f5f"
            },
            "marker": {
             "line": {
              "color": "#E5ECF6",
              "width": 0.5
             },
             "pattern": {
              "fillmode": "overlay",
              "size": 10,
              "solidity": 0.2
             }
            },
            "type": "bar"
           }
          ],
          "barpolar": [
           {
            "marker": {
             "line": {
              "color": "#E5ECF6",
              "width": 0.5
             },
             "pattern": {
              "fillmode": "overlay",
              "size": 10,
              "solidity": 0.2
             }
            },
            "type": "barpolar"
           }
          ],
          "carpet": [
           {
            "aaxis": {
             "endlinecolor": "#2a3f5f",
             "gridcolor": "white",
             "linecolor": "white",
             "minorgridcolor": "white",
             "startlinecolor": "#2a3f5f"
            },
            "baxis": {
             "endlinecolor": "#2a3f5f",
             "gridcolor": "white",
             "linecolor": "white",
             "minorgridcolor": "white",
             "startlinecolor": "#2a3f5f"
            },
            "type": "carpet"
           }
          ],
          "choropleth": [
           {
            "colorbar": {
             "outlinewidth": 0,
             "ticks": ""
            },
            "type": "choropleth"
           }
          ],
          "contour": [
           {
            "colorbar": {
             "outlinewidth": 0,
             "ticks": ""
            },
            "colorscale": [
             [
              0,
              "#0d0887"
             ],
             [
              0.1111111111111111,
              "#46039f"
             ],
             [
              0.2222222222222222,
              "#7201a8"
             ],
             [
              0.3333333333333333,
              "#9c179e"
             ],
             [
              0.4444444444444444,
              "#bd3786"
             ],
             [
              0.5555555555555556,
              "#d8576b"
             ],
             [
              0.6666666666666666,
              "#ed7953"
             ],
             [
              0.7777777777777778,
              "#fb9f3a"
             ],
             [
              0.8888888888888888,
              "#fdca26"
             ],
             [
              1,
              "#f0f921"
             ]
            ],
            "type": "contour"
           }
          ],
          "contourcarpet": [
           {
            "colorbar": {
             "outlinewidth": 0,
             "ticks": ""
            },
            "type": "contourcarpet"
           }
          ],
          "heatmap": [
           {
            "colorbar": {
             "outlinewidth": 0,
             "ticks": ""
            },
            "colorscale": [
             [
              0,
              "#0d0887"
             ],
             [
              0.1111111111111111,
              "#46039f"
             ],
             [
              0.2222222222222222,
              "#7201a8"
             ],
             [
              0.3333333333333333,
              "#9c179e"
             ],
             [
              0.4444444444444444,
              "#bd3786"
             ],
             [
              0.5555555555555556,
              "#d8576b"
             ],
             [
              0.6666666666666666,
              "#ed7953"
             ],
             [
              0.7777777777777778,
              "#fb9f3a"
             ],
             [
              0.8888888888888888,
              "#fdca26"
             ],
             [
              1,
              "#f0f921"
             ]
            ],
            "type": "heatmap"
           }
          ],
          "heatmapgl": [
           {
            "colorbar": {
             "outlinewidth": 0,
             "ticks": ""
            },
            "colorscale": [
             [
              0,
              "#0d0887"
             ],
             [
              0.1111111111111111,
              "#46039f"
             ],
             [
              0.2222222222222222,
              "#7201a8"
             ],
             [
              0.3333333333333333,
              "#9c179e"
             ],
             [
              0.4444444444444444,
              "#bd3786"
             ],
             [
              0.5555555555555556,
              "#d8576b"
             ],
             [
              0.6666666666666666,
              "#ed7953"
             ],
             [
              0.7777777777777778,
              "#fb9f3a"
             ],
             [
              0.8888888888888888,
              "#fdca26"
             ],
             [
              1,
              "#f0f921"
             ]
            ],
            "type": "heatmapgl"
           }
          ],
          "histogram": [
           {
            "marker": {
             "pattern": {
              "fillmode": "overlay",
              "size": 10,
              "solidity": 0.2
             }
            },
            "type": "histogram"
           }
          ],
          "histogram2d": [
           {
            "colorbar": {
             "outlinewidth": 0,
             "ticks": ""
            },
            "colorscale": [
             [
              0,
              "#0d0887"
             ],
             [
              0.1111111111111111,
              "#46039f"
             ],
             [
              0.2222222222222222,
              "#7201a8"
             ],
             [
              0.3333333333333333,
              "#9c179e"
             ],
             [
              0.4444444444444444,
              "#bd3786"
             ],
             [
              0.5555555555555556,
              "#d8576b"
             ],
             [
              0.6666666666666666,
              "#ed7953"
             ],
             [
              0.7777777777777778,
              "#fb9f3a"
             ],
             [
              0.8888888888888888,
              "#fdca26"
             ],
             [
              1,
              "#f0f921"
             ]
            ],
            "type": "histogram2d"
           }
          ],
          "histogram2dcontour": [
           {
            "colorbar": {
             "outlinewidth": 0,
             "ticks": ""
            },
            "colorscale": [
             [
              0,
              "#0d0887"
             ],
             [
              0.1111111111111111,
              "#46039f"
             ],
             [
              0.2222222222222222,
              "#7201a8"
             ],
             [
              0.3333333333333333,
              "#9c179e"
             ],
             [
              0.4444444444444444,
              "#bd3786"
             ],
             [
              0.5555555555555556,
              "#d8576b"
             ],
             [
              0.6666666666666666,
              "#ed7953"
             ],
             [
              0.7777777777777778,
              "#fb9f3a"
             ],
             [
              0.8888888888888888,
              "#fdca26"
             ],
             [
              1,
              "#f0f921"
             ]
            ],
            "type": "histogram2dcontour"
           }
          ],
          "mesh3d": [
           {
            "colorbar": {
             "outlinewidth": 0,
             "ticks": ""
            },
            "type": "mesh3d"
           }
          ],
          "parcoords": [
           {
            "line": {
             "colorbar": {
              "outlinewidth": 0,
              "ticks": ""
             }
            },
            "type": "parcoords"
           }
          ],
          "pie": [
           {
            "automargin": true,
            "type": "pie"
           }
          ],
          "scatter": [
           {
            "fillpattern": {
             "fillmode": "overlay",
             "size": 10,
             "solidity": 0.2
            },
            "type": "scatter"
           }
          ],
          "scatter3d": [
           {
            "line": {
             "colorbar": {
              "outlinewidth": 0,
              "ticks": ""
             }
            },
            "marker": {
             "colorbar": {
              "outlinewidth": 0,
              "ticks": ""
             }
            },
            "type": "scatter3d"
           }
          ],
          "scattercarpet": [
           {
            "marker": {
             "colorbar": {
              "outlinewidth": 0,
              "ticks": ""
             }
            },
            "type": "scattercarpet"
           }
          ],
          "scattergeo": [
           {
            "marker": {
             "colorbar": {
              "outlinewidth": 0,
              "ticks": ""
             }
            },
            "type": "scattergeo"
           }
          ],
          "scattergl": [
           {
            "marker": {
             "colorbar": {
              "outlinewidth": 0,
              "ticks": ""
             }
            },
            "type": "scattergl"
           }
          ],
          "scattermapbox": [
           {
            "marker": {
             "colorbar": {
              "outlinewidth": 0,
              "ticks": ""
             }
            },
            "type": "scattermapbox"
           }
          ],
          "scatterpolar": [
           {
            "marker": {
             "colorbar": {
              "outlinewidth": 0,
              "ticks": ""
             }
            },
            "type": "scatterpolar"
           }
          ],
          "scatterpolargl": [
           {
            "marker": {
             "colorbar": {
              "outlinewidth": 0,
              "ticks": ""
             }
            },
            "type": "scatterpolargl"
           }
          ],
          "scatterternary": [
           {
            "marker": {
             "colorbar": {
              "outlinewidth": 0,
              "ticks": ""
             }
            },
            "type": "scatterternary"
           }
          ],
          "surface": [
           {
            "colorbar": {
             "outlinewidth": 0,
             "ticks": ""
            },
            "colorscale": [
             [
              0,
              "#0d0887"
             ],
             [
              0.1111111111111111,
              "#46039f"
             ],
             [
              0.2222222222222222,
              "#7201a8"
             ],
             [
              0.3333333333333333,
              "#9c179e"
             ],
             [
              0.4444444444444444,
              "#bd3786"
             ],
             [
              0.5555555555555556,
              "#d8576b"
             ],
             [
              0.6666666666666666,
              "#ed7953"
             ],
             [
              0.7777777777777778,
              "#fb9f3a"
             ],
             [
              0.8888888888888888,
              "#fdca26"
             ],
             [
              1,
              "#f0f921"
             ]
            ],
            "type": "surface"
           }
          ],
          "table": [
           {
            "cells": {
             "fill": {
              "color": "#EBF0F8"
             },
             "line": {
              "color": "white"
             }
            },
            "header": {
             "fill": {
              "color": "#C8D4E3"
             },
             "line": {
              "color": "white"
             }
            },
            "type": "table"
           }
          ]
         },
         "layout": {
          "annotationdefaults": {
           "arrowcolor": "#2a3f5f",
           "arrowhead": 0,
           "arrowwidth": 1
          },
          "autotypenumbers": "strict",
          "coloraxis": {
           "colorbar": {
            "outlinewidth": 0,
            "ticks": ""
           }
          },
          "colorscale": {
           "diverging": [
            [
             0,
             "#8e0152"
            ],
            [
             0.1,
             "#c51b7d"
            ],
            [
             0.2,
             "#de77ae"
            ],
            [
             0.3,
             "#f1b6da"
            ],
            [
             0.4,
             "#fde0ef"
            ],
            [
             0.5,
             "#f7f7f7"
            ],
            [
             0.6,
             "#e6f5d0"
            ],
            [
             0.7,
             "#b8e186"
            ],
            [
             0.8,
             "#7fbc41"
            ],
            [
             0.9,
             "#4d9221"
            ],
            [
             1,
             "#276419"
            ]
           ],
           "sequential": [
            [
             0,
             "#0d0887"
            ],
            [
             0.1111111111111111,
             "#46039f"
            ],
            [
             0.2222222222222222,
             "#7201a8"
            ],
            [
             0.3333333333333333,
             "#9c179e"
            ],
            [
             0.4444444444444444,
             "#bd3786"
            ],
            [
             0.5555555555555556,
             "#d8576b"
            ],
            [
             0.6666666666666666,
             "#ed7953"
            ],
            [
             0.7777777777777778,
             "#fb9f3a"
            ],
            [
             0.8888888888888888,
             "#fdca26"
            ],
            [
             1,
             "#f0f921"
            ]
           ],
           "sequentialminus": [
            [
             0,
             "#0d0887"
            ],
            [
             0.1111111111111111,
             "#46039f"
            ],
            [
             0.2222222222222222,
             "#7201a8"
            ],
            [
             0.3333333333333333,
             "#9c179e"
            ],
            [
             0.4444444444444444,
             "#bd3786"
            ],
            [
             0.5555555555555556,
             "#d8576b"
            ],
            [
             0.6666666666666666,
             "#ed7953"
            ],
            [
             0.7777777777777778,
             "#fb9f3a"
            ],
            [
             0.8888888888888888,
             "#fdca26"
            ],
            [
             1,
             "#f0f921"
            ]
           ]
          },
          "colorway": [
           "#636efa",
           "#EF553B",
           "#00cc96",
           "#ab63fa",
           "#FFA15A",
           "#19d3f3",
           "#FF6692",
           "#B6E880",
           "#FF97FF",
           "#FECB52"
          ],
          "font": {
           "color": "#2a3f5f"
          },
          "geo": {
           "bgcolor": "white",
           "lakecolor": "white",
           "landcolor": "#E5ECF6",
           "showlakes": true,
           "showland": true,
           "subunitcolor": "white"
          },
          "hoverlabel": {
           "align": "left"
          },
          "hovermode": "closest",
          "mapbox": {
           "style": "light"
          },
          "paper_bgcolor": "white",
          "plot_bgcolor": "#E5ECF6",
          "polar": {
           "angularaxis": {
            "gridcolor": "white",
            "linecolor": "white",
            "ticks": ""
           },
           "bgcolor": "#E5ECF6",
           "radialaxis": {
            "gridcolor": "white",
            "linecolor": "white",
            "ticks": ""
           }
          },
          "scene": {
           "xaxis": {
            "backgroundcolor": "#E5ECF6",
            "gridcolor": "white",
            "gridwidth": 2,
            "linecolor": "white",
            "showbackground": true,
            "ticks": "",
            "zerolinecolor": "white"
           },
           "yaxis": {
            "backgroundcolor": "#E5ECF6",
            "gridcolor": "white",
            "gridwidth": 2,
            "linecolor": "white",
            "showbackground": true,
            "ticks": "",
            "zerolinecolor": "white"
           },
           "zaxis": {
            "backgroundcolor": "#E5ECF6",
            "gridcolor": "white",
            "gridwidth": 2,
            "linecolor": "white",
            "showbackground": true,
            "ticks": "",
            "zerolinecolor": "white"
           }
          },
          "shapedefaults": {
           "line": {
            "color": "#2a3f5f"
           }
          },
          "ternary": {
           "aaxis": {
            "gridcolor": "white",
            "linecolor": "white",
            "ticks": ""
           },
           "baxis": {
            "gridcolor": "white",
            "linecolor": "white",
            "ticks": ""
           },
           "bgcolor": "#E5ECF6",
           "caxis": {
            "gridcolor": "white",
            "linecolor": "white",
            "ticks": ""
           }
          },
          "title": {
           "x": 0.05
          },
          "xaxis": {
           "automargin": true,
           "gridcolor": "white",
           "linecolor": "white",
           "ticks": "",
           "title": {
            "standoff": 15
           },
           "zerolinecolor": "white",
           "zerolinewidth": 2
          },
          "yaxis": {
           "automargin": true,
           "gridcolor": "white",
           "linecolor": "white",
           "ticks": "",
           "title": {
            "standoff": 15
           },
           "zerolinecolor": "white",
           "zerolinewidth": 2
          }
         }
        },
        "xaxis": {
         "anchor": "y",
         "domain": [
          0,
          1
         ],
         "title": {
          "text": "date"
         }
        },
        "yaxis": {
         "anchor": "x",
         "domain": [
          0,
          1
         ],
         "title": {
          "text": "time"
         }
        }
       }
      }
     },
     "metadata": {},
     "output_type": "display_data"
    }
   ],
   "source": [
    "tmp = df_ts.query(\"user == @id\")\n",
    "px.line(tmp, x=\"date\", y=\"time\", hover_data=[\"message\"], color=\"events\", markers= True)"
   ]
  },
  {
   "cell_type": "code",
   "execution_count": 29,
   "metadata": {},
   "outputs": [
    {
     "data": {
      "text/html": [
       "<div>\n",
       "<style scoped>\n",
       "    .dataframe tbody tr th:only-of-type {\n",
       "        vertical-align: middle;\n",
       "    }\n",
       "\n",
       "    .dataframe tbody tr th {\n",
       "        vertical-align: top;\n",
       "    }\n",
       "\n",
       "    .dataframe thead th {\n",
       "        text-align: right;\n",
       "    }\n",
       "</style>\n",
       "<table border=\"1\" class=\"dataframe\">\n",
       "  <thead>\n",
       "    <tr style=\"text-align: right;\">\n",
       "      <th></th>\n",
       "      <th>date</th>\n",
       "      <th>events</th>\n",
       "      <th>message</th>\n",
       "      <th>event_time</th>\n",
       "      <th>lag_event</th>\n",
       "      <th>diff</th>\n",
       "      <th>diff_hour</th>\n",
       "      <th>weekday</th>\n",
       "      <th>user</th>\n",
       "      <th>hour</th>\n",
       "      <th>minute</th>\n",
       "      <th>time</th>\n",
       "    </tr>\n",
       "  </thead>\n",
       "  <tbody>\n",
       "    <tr>\n",
       "      <th>0</th>\n",
       "      <td>2022-11-14</td>\n",
       "      <td>13</td>\n",
       "      <td>Wearable scheduled cueing started Until 14:55 ...</td>\n",
       "      <td>2022-11-14 14:01:24.631000+00:00</td>\n",
       "      <td>2022-11-14 17:20:25.437000+00:00</td>\n",
       "      <td>0 days 03:19:00.806000</td>\n",
       "      <td>3.316667</td>\n",
       "      <td>0</td>\n",
       "      <td>GRKG1mJkNo</td>\n",
       "      <td>14</td>\n",
       "      <td>1</td>\n",
       "      <td>14.016667</td>\n",
       "    </tr>\n",
       "    <tr>\n",
       "      <th>1</th>\n",
       "      <td>2022-11-14</td>\n",
       "      <td>13</td>\n",
       "      <td>Wearable scheduled cueing started Until 18:00 ...</td>\n",
       "      <td>2022-11-14 17:20:25.437000+00:00</td>\n",
       "      <td>2022-11-14 17:33:39.420000+00:00</td>\n",
       "      <td>0 days 00:13:13.983000</td>\n",
       "      <td>0.220278</td>\n",
       "      <td>0</td>\n",
       "      <td>GRKG1mJkNo</td>\n",
       "      <td>17</td>\n",
       "      <td>20</td>\n",
       "      <td>17.333333</td>\n",
       "    </tr>\n",
       "    <tr>\n",
       "      <th>2</th>\n",
       "      <td>2022-11-14</td>\n",
       "      <td>13</td>\n",
       "      <td>Wearable scheduled cueing started Until 18:00 ...</td>\n",
       "      <td>2022-11-14 17:33:39.420000+00:00</td>\n",
       "      <td>2022-11-15 17:09:27.990000+00:00</td>\n",
       "      <td>0 days 23:35:48.570000</td>\n",
       "      <td>23.596667</td>\n",
       "      <td>0</td>\n",
       "      <td>GRKG1mJkNo</td>\n",
       "      <td>17</td>\n",
       "      <td>33</td>\n",
       "      <td>17.550000</td>\n",
       "    </tr>\n",
       "    <tr>\n",
       "      <th>3</th>\n",
       "      <td>2022-11-15</td>\n",
       "      <td>13</td>\n",
       "      <td>Wearable scheduled cueing started Until 18:00 ...</td>\n",
       "      <td>2022-11-15 17:09:27.990000+00:00</td>\n",
       "      <td>2022-11-16 18:44:36.913000+00:00</td>\n",
       "      <td>1 days 01:35:08.923000</td>\n",
       "      <td>25.585556</td>\n",
       "      <td>1</td>\n",
       "      <td>GRKG1mJkNo</td>\n",
       "      <td>17</td>\n",
       "      <td>9</td>\n",
       "      <td>17.150000</td>\n",
       "    </tr>\n",
       "    <tr>\n",
       "      <th>4</th>\n",
       "      <td>2022-11-16</td>\n",
       "      <td>12</td>\n",
       "      <td>Wearable manual cueing started Until 18:54  Cu...</td>\n",
       "      <td>2022-11-16 18:44:36.913000+00:00</td>\n",
       "      <td>2022-11-17 17:00:50.803000+00:00</td>\n",
       "      <td>0 days 22:16:13.890000</td>\n",
       "      <td>22.270278</td>\n",
       "      <td>2</td>\n",
       "      <td>GRKG1mJkNo</td>\n",
       "      <td>18</td>\n",
       "      <td>44</td>\n",
       "      <td>18.733333</td>\n",
       "    </tr>\n",
       "    <tr>\n",
       "      <th>...</th>\n",
       "      <td>...</td>\n",
       "      <td>...</td>\n",
       "      <td>...</td>\n",
       "      <td>...</td>\n",
       "      <td>...</td>\n",
       "      <td>...</td>\n",
       "      <td>...</td>\n",
       "      <td>...</td>\n",
       "      <td>...</td>\n",
       "      <td>...</td>\n",
       "      <td>...</td>\n",
       "      <td>...</td>\n",
       "    </tr>\n",
       "    <tr>\n",
       "      <th>63</th>\n",
       "      <td>2023-03-13</td>\n",
       "      <td>13</td>\n",
       "      <td>Wearable scheduled cueing started Until 17:59 ...</td>\n",
       "      <td>2023-03-13 17:09:59.988000+00:00</td>\n",
       "      <td>2023-03-15 17:04:19.296000+00:00</td>\n",
       "      <td>1 days 23:54:19.308000</td>\n",
       "      <td>47.905278</td>\n",
       "      <td>0</td>\n",
       "      <td>GRKG1mJkNo</td>\n",
       "      <td>17</td>\n",
       "      <td>9</td>\n",
       "      <td>17.150000</td>\n",
       "    </tr>\n",
       "    <tr>\n",
       "      <th>64</th>\n",
       "      <td>2023-03-15</td>\n",
       "      <td>13</td>\n",
       "      <td>Wearable scheduled cueing started Until 17:59 ...</td>\n",
       "      <td>2023-03-15 17:04:19.296000+00:00</td>\n",
       "      <td>2023-03-20 17:36:53.725000+00:00</td>\n",
       "      <td>5 days 00:32:34.429000</td>\n",
       "      <td>120.542778</td>\n",
       "      <td>2</td>\n",
       "      <td>GRKG1mJkNo</td>\n",
       "      <td>17</td>\n",
       "      <td>4</td>\n",
       "      <td>17.066667</td>\n",
       "    </tr>\n",
       "    <tr>\n",
       "      <th>65</th>\n",
       "      <td>2023-03-20</td>\n",
       "      <td>13</td>\n",
       "      <td>Wearable scheduled cueing started Until 17:59 ...</td>\n",
       "      <td>2023-03-20 17:36:53.725000+00:00</td>\n",
       "      <td>2023-03-21 17:03:05.436000+00:00</td>\n",
       "      <td>0 days 23:26:11.711000</td>\n",
       "      <td>23.436389</td>\n",
       "      <td>0</td>\n",
       "      <td>GRKG1mJkNo</td>\n",
       "      <td>17</td>\n",
       "      <td>36</td>\n",
       "      <td>17.600000</td>\n",
       "    </tr>\n",
       "    <tr>\n",
       "      <th>66</th>\n",
       "      <td>2023-03-21</td>\n",
       "      <td>13</td>\n",
       "      <td>Wearable scheduled cueing started Until 17:59 ...</td>\n",
       "      <td>2023-03-21 17:03:05.436000+00:00</td>\n",
       "      <td>2023-03-22 17:07:00.028000+00:00</td>\n",
       "      <td>1 days 00:03:54.592000</td>\n",
       "      <td>24.065000</td>\n",
       "      <td>1</td>\n",
       "      <td>GRKG1mJkNo</td>\n",
       "      <td>17</td>\n",
       "      <td>3</td>\n",
       "      <td>17.050000</td>\n",
       "    </tr>\n",
       "    <tr>\n",
       "      <th>67</th>\n",
       "      <td>2023-03-22</td>\n",
       "      <td>13</td>\n",
       "      <td>Wearable scheduled cueing started Until 17:59 ...</td>\n",
       "      <td>2023-03-22 17:07:00.028000+00:00</td>\n",
       "      <td>NaT</td>\n",
       "      <td>NaT</td>\n",
       "      <td>NaN</td>\n",
       "      <td>2</td>\n",
       "      <td>GRKG1mJkNo</td>\n",
       "      <td>17</td>\n",
       "      <td>7</td>\n",
       "      <td>17.116667</td>\n",
       "    </tr>\n",
       "  </tbody>\n",
       "</table>\n",
       "<p>68 rows × 12 columns</p>\n",
       "</div>"
      ],
      "text/plain": [
       "          date events                                            message  \\\n",
       "0   2022-11-14     13  Wearable scheduled cueing started Until 14:55 ...   \n",
       "1   2022-11-14     13  Wearable scheduled cueing started Until 18:00 ...   \n",
       "2   2022-11-14     13  Wearable scheduled cueing started Until 18:00 ...   \n",
       "3   2022-11-15     13  Wearable scheduled cueing started Until 18:00 ...   \n",
       "4   2022-11-16     12  Wearable manual cueing started Until 18:54  Cu...   \n",
       "..         ...    ...                                                ...   \n",
       "63  2023-03-13     13  Wearable scheduled cueing started Until 17:59 ...   \n",
       "64  2023-03-15     13  Wearable scheduled cueing started Until 17:59 ...   \n",
       "65  2023-03-20     13  Wearable scheduled cueing started Until 17:59 ...   \n",
       "66  2023-03-21     13  Wearable scheduled cueing started Until 17:59 ...   \n",
       "67  2023-03-22     13  Wearable scheduled cueing started Until 17:59 ...   \n",
       "\n",
       "                         event_time                        lag_event  \\\n",
       "0  2022-11-14 14:01:24.631000+00:00 2022-11-14 17:20:25.437000+00:00   \n",
       "1  2022-11-14 17:20:25.437000+00:00 2022-11-14 17:33:39.420000+00:00   \n",
       "2  2022-11-14 17:33:39.420000+00:00 2022-11-15 17:09:27.990000+00:00   \n",
       "3  2022-11-15 17:09:27.990000+00:00 2022-11-16 18:44:36.913000+00:00   \n",
       "4  2022-11-16 18:44:36.913000+00:00 2022-11-17 17:00:50.803000+00:00   \n",
       "..                              ...                              ...   \n",
       "63 2023-03-13 17:09:59.988000+00:00 2023-03-15 17:04:19.296000+00:00   \n",
       "64 2023-03-15 17:04:19.296000+00:00 2023-03-20 17:36:53.725000+00:00   \n",
       "65 2023-03-20 17:36:53.725000+00:00 2023-03-21 17:03:05.436000+00:00   \n",
       "66 2023-03-21 17:03:05.436000+00:00 2023-03-22 17:07:00.028000+00:00   \n",
       "67 2023-03-22 17:07:00.028000+00:00                              NaT   \n",
       "\n",
       "                     diff   diff_hour  weekday        user  hour  minute  \\\n",
       "0  0 days 03:19:00.806000    3.316667        0  GRKG1mJkNo    14       1   \n",
       "1  0 days 00:13:13.983000    0.220278        0  GRKG1mJkNo    17      20   \n",
       "2  0 days 23:35:48.570000   23.596667        0  GRKG1mJkNo    17      33   \n",
       "3  1 days 01:35:08.923000   25.585556        1  GRKG1mJkNo    17       9   \n",
       "4  0 days 22:16:13.890000   22.270278        2  GRKG1mJkNo    18      44   \n",
       "..                    ...         ...      ...         ...   ...     ...   \n",
       "63 1 days 23:54:19.308000   47.905278        0  GRKG1mJkNo    17       9   \n",
       "64 5 days 00:32:34.429000  120.542778        2  GRKG1mJkNo    17       4   \n",
       "65 0 days 23:26:11.711000   23.436389        0  GRKG1mJkNo    17      36   \n",
       "66 1 days 00:03:54.592000   24.065000        1  GRKG1mJkNo    17       3   \n",
       "67                    NaT         NaN        2  GRKG1mJkNo    17       7   \n",
       "\n",
       "         time  \n",
       "0   14.016667  \n",
       "1   17.333333  \n",
       "2   17.550000  \n",
       "3   17.150000  \n",
       "4   18.733333  \n",
       "..        ...  \n",
       "63  17.150000  \n",
       "64  17.066667  \n",
       "65  17.600000  \n",
       "66  17.050000  \n",
       "67  17.116667  \n",
       "\n",
       "[68 rows x 12 columns]"
      ]
     },
     "execution_count": 29,
     "metadata": {},
     "output_type": "execute_result"
    }
   ],
   "source": [
    "tmp"
   ]
  },
  {
   "cell_type": "code",
   "execution_count": null,
   "metadata": {},
   "outputs": [],
   "source": []
  }
 ],
 "metadata": {
  "kernelspec": {
   "display_name": "cueband",
   "language": "python",
   "name": "python3"
  },
  "language_info": {
   "codemirror_mode": {
    "name": "ipython",
    "version": 3
   },
   "file_extension": ".py",
   "mimetype": "text/x-python",
   "name": "python",
   "nbconvert_exporter": "python",
   "pygments_lexer": "ipython3",
   "version": "3.9.16"
  },
  "orig_nbformat": 4,
  "vscode": {
   "interpreter": {
    "hash": "4a97fb39904a06d0655c2bf6968405be00477cbed51511c8a3c4cb1f5487eb8b"
   }
  }
 },
 "nbformat": 4,
 "nbformat_minor": 2
}
