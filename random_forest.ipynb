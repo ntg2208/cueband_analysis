{
 "cells": [
  {
   "cell_type": "code",
   "execution_count": 1,
   "metadata": {},
   "outputs": [
    {
     "name": "stderr",
     "output_type": "stream",
     "text": [
      "Failed to detect the name of this notebook, you can set it manually with the WANDB_NOTEBOOK_NAME environment variable to enable code saving.\n",
      "\u001b[34m\u001b[1mwandb\u001b[0m: Currently logged in as: \u001b[33mntg2208\u001b[0m. Use \u001b[1m`wandb login --relogin`\u001b[0m to force relogin\n"
     ]
    },
    {
     "data": {
      "text/plain": [
       "True"
      ]
     },
     "execution_count": 1,
     "metadata": {},
     "output_type": "execute_result"
    }
   ],
   "source": [
    "import json\n",
    "import warnings\n",
    "warnings.simplefilter(action='ignore', category=FutureWarning)\n",
    "warnings.filterwarnings(\"ignore\")\n",
    "\n",
    "import pandas as pd\n",
    "import numpy as np\n",
    "import matplotlib.pyplot as plt\n",
    "import plotly.express as px\n",
    "import random \n",
    "\n",
    "import plotly.graph_objects as go\n",
    "from plotly.subplots import make_subplots\n",
    "\n",
    "from scipy import stats\n",
    "from tqdm import tqdm\n",
    "\n",
    "import os\n",
    "import plotly.io as pio\n",
    "\n",
    "import xgboost as xgb\n",
    "from sklearn.model_selection import train_test_split\n",
    "from sklearn.preprocessing import StandardScaler, MinMaxScaler\n",
    "from sklearn.metrics import confusion_matrix, classification_report\n",
    "from sklearn.pipeline import make_pipeline\n",
    "from sklearn.svm import SVC\n",
    "\n",
    "\n",
    "import wandb\n",
    "from wandb.xgboost import WandbCallback\n",
    "\n",
    "from sklearn.metrics import accuracy_score\n",
    "from sklearn.metrics import ConfusionMatrixDisplay\n",
    "\n",
    "\n",
    "wandb.login()"
   ]
  },
  {
   "attachments": {},
   "cell_type": "markdown",
   "metadata": {},
   "source": [
    "# EDA"
   ]
  },
  {
   "cell_type": "code",
   "execution_count": 2,
   "metadata": {},
   "outputs": [
    {
     "data": {
      "text/html": [
       "<div>\n",
       "<style scoped>\n",
       "    .dataframe tbody tr th:only-of-type {\n",
       "        vertical-align: middle;\n",
       "    }\n",
       "\n",
       "    .dataframe tbody tr th {\n",
       "        vertical-align: top;\n",
       "    }\n",
       "\n",
       "    .dataframe thead th {\n",
       "        text-align: right;\n",
       "    }\n",
       "</style>\n",
       "<table border=\"1\" class=\"dataframe\">\n",
       "  <thead>\n",
       "    <tr style=\"text-align: right;\">\n",
       "      <th></th>\n",
       "      <th>user</th>\n",
       "      <th>date</th>\n",
       "      <th>day_part</th>\n",
       "      <th>gender</th>\n",
       "      <th>ageRange</th>\n",
       "      <th>ethnicGroup</th>\n",
       "      <th>platform</th>\n",
       "      <th>frequency</th>\n",
       "      <th>duration</th>\n",
       "      <th>severity</th>\n",
       "      <th>cueing</th>\n",
       "    </tr>\n",
       "  </thead>\n",
       "  <tbody>\n",
       "    <tr>\n",
       "      <th>329</th>\n",
       "      <td>1r2J9taZha</td>\n",
       "      <td>2022-10-14</td>\n",
       "      <td>Afternoon</td>\n",
       "      <td>Female</td>\n",
       "      <td>55-64 years</td>\n",
       "      <td>English, Welsh, Scottish, Northern Irish or Br...</td>\n",
       "      <td>iOS</td>\n",
       "      <td>9.0</td>\n",
       "      <td>0.0</td>\n",
       "      <td>2.0</td>\n",
       "      <td>1</td>\n",
       "    </tr>\n",
       "    <tr>\n",
       "      <th>0</th>\n",
       "      <td>1r2J9taZha</td>\n",
       "      <td>2022-10-14</td>\n",
       "      <td>Morning</td>\n",
       "      <td>Female</td>\n",
       "      <td>55-64 years</td>\n",
       "      <td>English, Welsh, Scottish, Northern Irish or Br...</td>\n",
       "      <td>iOS</td>\n",
       "      <td>9.0</td>\n",
       "      <td>0.0</td>\n",
       "      <td>2.0</td>\n",
       "      <td>0</td>\n",
       "    </tr>\n",
       "    <tr>\n",
       "      <th>658</th>\n",
       "      <td>1r2J9taZha</td>\n",
       "      <td>2022-10-14</td>\n",
       "      <td>Night</td>\n",
       "      <td>Female</td>\n",
       "      <td>55-64 years</td>\n",
       "      <td>English, Welsh, Scottish, Northern Irish or Br...</td>\n",
       "      <td>iOS</td>\n",
       "      <td>9.0</td>\n",
       "      <td>0.0</td>\n",
       "      <td>2.0</td>\n",
       "      <td>0</td>\n",
       "    </tr>\n",
       "    <tr>\n",
       "      <th>330</th>\n",
       "      <td>1r2J9taZha</td>\n",
       "      <td>2022-10-15</td>\n",
       "      <td>Afternoon</td>\n",
       "      <td>Female</td>\n",
       "      <td>55-64 years</td>\n",
       "      <td>English, Welsh, Scottish, Northern Irish or Br...</td>\n",
       "      <td>iOS</td>\n",
       "      <td>0.0</td>\n",
       "      <td>0.0</td>\n",
       "      <td>0.0</td>\n",
       "      <td>0</td>\n",
       "    </tr>\n",
       "    <tr>\n",
       "      <th>1</th>\n",
       "      <td>1r2J9taZha</td>\n",
       "      <td>2022-10-15</td>\n",
       "      <td>Morning</td>\n",
       "      <td>Female</td>\n",
       "      <td>55-64 years</td>\n",
       "      <td>English, Welsh, Scottish, Northern Irish or Br...</td>\n",
       "      <td>iOS</td>\n",
       "      <td>0.0</td>\n",
       "      <td>0.0</td>\n",
       "      <td>0.0</td>\n",
       "      <td>1</td>\n",
       "    </tr>\n",
       "    <tr>\n",
       "      <th>659</th>\n",
       "      <td>1r2J9taZha</td>\n",
       "      <td>2022-10-15</td>\n",
       "      <td>Night</td>\n",
       "      <td>Female</td>\n",
       "      <td>55-64 years</td>\n",
       "      <td>English, Welsh, Scottish, Northern Irish or Br...</td>\n",
       "      <td>iOS</td>\n",
       "      <td>0.0</td>\n",
       "      <td>0.0</td>\n",
       "      <td>0.0</td>\n",
       "      <td>0</td>\n",
       "    </tr>\n",
       "    <tr>\n",
       "      <th>331</th>\n",
       "      <td>1r2J9taZha</td>\n",
       "      <td>2022-10-16</td>\n",
       "      <td>Afternoon</td>\n",
       "      <td>Female</td>\n",
       "      <td>55-64 years</td>\n",
       "      <td>English, Welsh, Scottish, Northern Irish or Br...</td>\n",
       "      <td>iOS</td>\n",
       "      <td>0.0</td>\n",
       "      <td>0.0</td>\n",
       "      <td>0.0</td>\n",
       "      <td>1</td>\n",
       "    </tr>\n",
       "    <tr>\n",
       "      <th>2</th>\n",
       "      <td>1r2J9taZha</td>\n",
       "      <td>2022-10-16</td>\n",
       "      <td>Morning</td>\n",
       "      <td>Female</td>\n",
       "      <td>55-64 years</td>\n",
       "      <td>English, Welsh, Scottish, Northern Irish or Br...</td>\n",
       "      <td>iOS</td>\n",
       "      <td>0.0</td>\n",
       "      <td>0.0</td>\n",
       "      <td>0.0</td>\n",
       "      <td>1</td>\n",
       "    </tr>\n",
       "    <tr>\n",
       "      <th>660</th>\n",
       "      <td>1r2J9taZha</td>\n",
       "      <td>2022-10-16</td>\n",
       "      <td>Night</td>\n",
       "      <td>Female</td>\n",
       "      <td>55-64 years</td>\n",
       "      <td>English, Welsh, Scottish, Northern Irish or Br...</td>\n",
       "      <td>iOS</td>\n",
       "      <td>0.0</td>\n",
       "      <td>0.0</td>\n",
       "      <td>0.0</td>\n",
       "      <td>0</td>\n",
       "    </tr>\n",
       "    <tr>\n",
       "      <th>332</th>\n",
       "      <td>1r2J9taZha</td>\n",
       "      <td>2022-10-17</td>\n",
       "      <td>Afternoon</td>\n",
       "      <td>Female</td>\n",
       "      <td>55-64 years</td>\n",
       "      <td>English, Welsh, Scottish, Northern Irish or Br...</td>\n",
       "      <td>iOS</td>\n",
       "      <td>0.0</td>\n",
       "      <td>0.0</td>\n",
       "      <td>0.0</td>\n",
       "      <td>1</td>\n",
       "    </tr>\n",
       "    <tr>\n",
       "      <th>3</th>\n",
       "      <td>1r2J9taZha</td>\n",
       "      <td>2022-10-17</td>\n",
       "      <td>Morning</td>\n",
       "      <td>Female</td>\n",
       "      <td>55-64 years</td>\n",
       "      <td>English, Welsh, Scottish, Northern Irish or Br...</td>\n",
       "      <td>iOS</td>\n",
       "      <td>0.0</td>\n",
       "      <td>0.0</td>\n",
       "      <td>0.0</td>\n",
       "      <td>1</td>\n",
       "    </tr>\n",
       "    <tr>\n",
       "      <th>661</th>\n",
       "      <td>1r2J9taZha</td>\n",
       "      <td>2022-10-17</td>\n",
       "      <td>Night</td>\n",
       "      <td>Female</td>\n",
       "      <td>55-64 years</td>\n",
       "      <td>English, Welsh, Scottish, Northern Irish or Br...</td>\n",
       "      <td>iOS</td>\n",
       "      <td>0.0</td>\n",
       "      <td>0.0</td>\n",
       "      <td>0.0</td>\n",
       "      <td>0</td>\n",
       "    </tr>\n",
       "  </tbody>\n",
       "</table>\n",
       "</div>"
      ],
      "text/plain": [
       "           user        date   day_part  gender     ageRange  \\\n",
       "329  1r2J9taZha  2022-10-14  Afternoon  Female  55-64 years   \n",
       "0    1r2J9taZha  2022-10-14    Morning  Female  55-64 years   \n",
       "658  1r2J9taZha  2022-10-14      Night  Female  55-64 years   \n",
       "330  1r2J9taZha  2022-10-15  Afternoon  Female  55-64 years   \n",
       "1    1r2J9taZha  2022-10-15    Morning  Female  55-64 years   \n",
       "659  1r2J9taZha  2022-10-15      Night  Female  55-64 years   \n",
       "331  1r2J9taZha  2022-10-16  Afternoon  Female  55-64 years   \n",
       "2    1r2J9taZha  2022-10-16    Morning  Female  55-64 years   \n",
       "660  1r2J9taZha  2022-10-16      Night  Female  55-64 years   \n",
       "332  1r2J9taZha  2022-10-17  Afternoon  Female  55-64 years   \n",
       "3    1r2J9taZha  2022-10-17    Morning  Female  55-64 years   \n",
       "661  1r2J9taZha  2022-10-17      Night  Female  55-64 years   \n",
       "\n",
       "                                           ethnicGroup platform  frequency  \\\n",
       "329  English, Welsh, Scottish, Northern Irish or Br...      iOS        9.0   \n",
       "0    English, Welsh, Scottish, Northern Irish or Br...      iOS        9.0   \n",
       "658  English, Welsh, Scottish, Northern Irish or Br...      iOS        9.0   \n",
       "330  English, Welsh, Scottish, Northern Irish or Br...      iOS        0.0   \n",
       "1    English, Welsh, Scottish, Northern Irish or Br...      iOS        0.0   \n",
       "659  English, Welsh, Scottish, Northern Irish or Br...      iOS        0.0   \n",
       "331  English, Welsh, Scottish, Northern Irish or Br...      iOS        0.0   \n",
       "2    English, Welsh, Scottish, Northern Irish or Br...      iOS        0.0   \n",
       "660  English, Welsh, Scottish, Northern Irish or Br...      iOS        0.0   \n",
       "332  English, Welsh, Scottish, Northern Irish or Br...      iOS        0.0   \n",
       "3    English, Welsh, Scottish, Northern Irish or Br...      iOS        0.0   \n",
       "661  English, Welsh, Scottish, Northern Irish or Br...      iOS        0.0   \n",
       "\n",
       "     duration  severity  cueing  \n",
       "329       0.0       2.0       1  \n",
       "0         0.0       2.0       0  \n",
       "658       0.0       2.0       0  \n",
       "330       0.0       0.0       0  \n",
       "1         0.0       0.0       1  \n",
       "659       0.0       0.0       0  \n",
       "331       0.0       0.0       1  \n",
       "2         0.0       0.0       1  \n",
       "660       0.0       0.0       0  \n",
       "332       0.0       0.0       1  \n",
       "3         0.0       0.0       1  \n",
       "661       0.0       0.0       0  "
      ]
     },
     "execution_count": 2,
     "metadata": {},
     "output_type": "execute_result"
    }
   ],
   "source": [
    "df = pd.read_parquet(\"data/xgboost_data.parquet\")\n",
    "# df = pd.read_parquet(\"data/freeliving_and_trial_data.parquet\")\n",
    "# df = df.groupby(['user', 'date', 'day_part']).first().reset_index()\n",
    "features = ['user', 'date', 'day_part', 'gender', 'ageRange', 'ethnicGroup', 'platform', 'frequency', 'duration', 'severity', 'weekday', 'cueing']\n",
    "df.filter(features).sort_values([\"user\", \"date\", \"day_part\"]).head(12)"
   ]
  },
  {
   "cell_type": "code",
   "execution_count": 3,
   "metadata": {},
   "outputs": [
    {
     "data": {
      "text/plain": [
       "25"
      ]
     },
     "execution_count": 3,
     "metadata": {},
     "output_type": "execute_result"
    }
   ],
   "source": [
    "df['user'].nunique()"
   ]
  },
  {
   "cell_type": "code",
   "execution_count": 4,
   "metadata": {},
   "outputs": [
    {
     "data": {
      "text/html": [
       "<div>\n",
       "<style scoped>\n",
       "    .dataframe tbody tr th:only-of-type {\n",
       "        vertical-align: middle;\n",
       "    }\n",
       "\n",
       "    .dataframe tbody tr th {\n",
       "        vertical-align: top;\n",
       "    }\n",
       "\n",
       "    .dataframe thead th {\n",
       "        text-align: right;\n",
       "    }\n",
       "</style>\n",
       "<table border=\"1\" class=\"dataframe\">\n",
       "  <thead>\n",
       "    <tr style=\"text-align: right;\">\n",
       "      <th></th>\n",
       "      <th>cueing</th>\n",
       "    </tr>\n",
       "    <tr>\n",
       "      <th>gender</th>\n",
       "      <th></th>\n",
       "    </tr>\n",
       "  </thead>\n",
       "  <tbody>\n",
       "    <tr>\n",
       "      <th>0</th>\n",
       "      <td>524</td>\n",
       "    </tr>\n",
       "    <tr>\n",
       "      <th>1</th>\n",
       "      <td>463</td>\n",
       "    </tr>\n",
       "  </tbody>\n",
       "</table>\n",
       "</div>"
      ],
      "text/plain": [
       "        cueing\n",
       "gender        \n",
       "0          524\n",
       "1          463"
      ]
     },
     "metadata": {},
     "output_type": "display_data"
    },
    {
     "data": {
      "application/vnd.plotly.v1+json": {
       "config": {
        "plotlyServerURL": "https://plot.ly"
       },
       "data": [
        {
         "alignmentgroup": "True",
         "hovertemplate": "cueing=0<br>severity=%{x}<extra></extra>",
         "legendgroup": "0",
         "marker": {
          "color": "#636efa"
         },
         "name": "0",
         "notched": false,
         "offsetgroup": "0",
         "orientation": "h",
         "showlegend": true,
         "type": "box",
         "x": [
          2,
          0,
          7,
          12,
          16,
          12,
          12,
          6,
          8,
          7,
          9,
          6,
          4,
          0,
          2,
          2,
          0,
          4,
          0,
          0,
          0,
          0,
          0,
          8,
          0,
          5,
          0,
          3,
          0,
          3,
          9,
          12,
          0,
          16,
          16,
          9,
          16,
          12,
          18,
          71,
          62,
          69,
          59,
          67,
          60,
          60,
          42,
          33,
          24,
          28,
          41,
          39,
          75,
          31,
          25,
          28,
          26,
          24,
          24,
          23,
          33,
          61,
          45,
          41,
          38,
          29,
          41,
          0,
          54,
          30,
          43,
          7,
          27,
          8,
          8,
          73,
          0,
          39,
          8,
          1,
          2,
          0,
          10,
          0,
          10,
          0,
          0,
          7,
          4,
          0,
          15,
          14,
          17,
          31,
          66,
          37,
          10,
          68,
          38,
          34,
          1,
          58,
          67,
          39,
          31,
          68,
          39,
          33,
          20,
          9,
          38,
          43,
          41,
          81,
          82,
          65,
          82,
          85,
          37,
          36,
          31,
          35,
          37,
          31,
          29,
          33,
          52,
          23,
          100,
          93,
          90,
          77,
          77,
          92,
          90,
          86,
          86,
          68,
          68,
          73,
          73,
          73,
          70,
          81,
          81,
          76,
          76,
          92,
          100,
          12,
          20,
          12,
          6,
          7,
          0,
          0,
          0,
          12,
          9,
          17,
          12,
          0,
          14,
          30,
          16,
          10,
          16,
          8,
          0,
          11,
          16,
          12,
          11,
          71,
          69,
          59,
          67,
          60,
          60,
          42,
          33,
          24,
          28,
          41,
          66,
          37,
          75,
          31,
          34,
          19,
          44,
          28,
          30,
          65,
          61,
          62,
          64,
          29,
          63,
          72,
          40,
          34,
          63,
          29,
          34,
          24,
          26,
          24,
          14,
          31,
          28,
          26,
          36,
          37,
          25,
          29,
          30,
          23,
          25,
          45,
          41,
          38,
          35,
          35,
          32,
          0,
          29,
          41,
          33,
          54,
          30,
          0,
          27,
          8,
          23,
          84,
          94,
          73,
          30,
          3,
          8,
          1,
          0,
          1,
          0,
          1,
          10,
          0,
          10,
          0,
          0,
          7,
          4,
          5,
          17,
          2,
          31,
          9,
          35,
          6,
          1,
          0,
          65,
          0,
          0,
          58,
          0,
          68,
          61,
          73,
          34,
          21,
          16,
          16,
          8,
          8,
          12,
          21,
          30,
          18,
          41,
          18,
          43,
          35,
          35,
          47,
          32,
          33,
          29,
          44,
          16,
          22,
          26,
          100,
          100,
          90,
          86,
          70,
          0,
          0,
          76,
          0,
          71,
          0,
          0,
          0,
          0,
          0,
          0,
          0,
          0,
          12,
          11,
          9,
          20,
          7,
          2,
          0,
          0,
          0,
          0,
          0,
          16,
          12,
          12,
          6,
          8,
          7,
          9,
          6,
          4,
          0,
          2,
          2,
          0,
          4,
          0,
          0,
          0,
          0,
          0,
          8,
          0,
          5,
          0,
          3,
          0,
          3,
          4,
          9,
          0,
          18,
          11,
          62,
          80,
          37,
          39,
          19,
          30,
          65,
          63,
          72,
          40,
          34,
          25,
          22,
          27,
          24,
          28,
          26,
          42,
          36,
          37,
          25,
          33,
          29,
          30,
          23,
          25,
          61,
          45,
          45,
          41,
          41,
          38,
          38,
          35,
          35,
          32,
          0,
          43,
          33,
          0,
          43,
          7,
          0,
          8,
          23,
          84,
          78,
          33,
          38,
          27,
          70,
          0,
          2,
          1,
          1,
          5,
          0,
          11,
          14,
          2,
          12,
          35,
          9,
          37,
          26,
          10,
          68,
          71,
          35,
          6,
          9,
          38,
          34,
          0,
          53,
          0,
          0,
          0,
          67,
          39,
          31,
          20,
          32,
          13,
          21,
          16,
          16,
          8,
          8,
          12,
          21,
          30,
          18,
          41,
          18,
          9,
          64,
          15,
          83,
          38,
          69,
          41,
          81,
          82,
          38,
          63,
          65,
          82,
          86,
          85,
          37,
          36,
          33,
          37,
          31,
          35,
          33,
          37,
          31,
          52,
          44,
          23,
          23,
          25,
          19,
          16,
          22,
          22,
          26,
          25,
          100,
          100,
          100,
          100,
          100,
          100,
          100,
          93,
          93,
          90,
          90,
          77,
          77,
          92,
          86,
          68,
          73,
          73,
          70,
          81,
          81,
          76,
          76,
          92,
          70,
          0,
          0,
          0,
          100,
          0,
          0,
          0,
          0,
          0,
          0,
          0,
          0,
          0,
          0,
          6,
          7
         ],
         "x0": " ",
         "xaxis": "x",
         "y0": " ",
         "yaxis": "y"
        },
        {
         "alignmentgroup": "True",
         "hovertemplate": "cueing=1<br>severity=%{x}<extra></extra>",
         "legendgroup": "1",
         "marker": {
          "color": "#EF553B"
         },
         "name": "1",
         "notched": false,
         "offsetgroup": "1",
         "orientation": "h",
         "showlegend": true,
         "type": "box",
         "x": [
          0,
          0,
          0,
          0,
          0,
          0,
          0,
          4,
          17,
          14,
          30,
          10,
          8,
          0,
          11,
          11,
          74,
          80,
          66,
          37,
          34,
          19,
          37,
          44,
          28,
          30,
          65,
          61,
          62,
          64,
          29,
          63,
          72,
          40,
          34,
          63,
          27,
          30,
          22,
          29,
          27,
          34,
          24,
          24,
          26,
          14,
          31,
          28,
          26,
          42,
          36,
          37,
          25,
          29,
          30,
          27,
          23,
          25,
          45,
          41,
          38,
          35,
          35,
          32,
          0,
          43,
          33,
          0,
          23,
          84,
          94,
          78,
          33,
          38,
          30,
          27,
          70,
          16,
          16,
          0,
          3,
          0,
          1,
          1,
          5,
          30,
          11,
          11,
          10,
          2,
          12,
          35,
          9,
          26,
          10,
          71,
          35,
          6,
          9,
          0,
          65,
          53,
          0,
          0,
          0,
          61,
          33,
          73,
          34,
          32,
          13,
          21,
          16,
          16,
          8,
          8,
          12,
          21,
          30,
          18,
          41,
          18,
          76,
          64,
          15,
          83,
          69,
          38,
          63,
          86,
          33,
          37,
          35,
          47,
          32,
          33,
          44,
          23,
          25,
          19,
          16,
          22,
          22,
          26,
          25,
          100,
          100,
          100,
          100,
          100,
          100,
          93,
          90,
          70,
          0,
          0,
          76,
          0,
          71,
          0,
          0,
          0,
          0,
          0,
          0,
          0,
          0,
          0,
          0,
          17,
          11,
          9,
          7,
          9,
          0,
          2,
          0,
          0,
          0,
          0,
          7,
          16,
          12,
          12,
          6,
          8,
          7,
          9,
          6,
          4,
          0,
          2,
          2,
          0,
          4,
          0,
          0,
          0,
          0,
          0,
          8,
          0,
          5,
          0,
          3,
          0,
          3,
          0,
          4,
          9,
          18,
          74,
          62,
          80,
          39,
          37,
          25,
          27,
          30,
          22,
          27,
          28,
          24,
          26,
          24,
          42,
          23,
          33,
          27,
          61,
          45,
          41,
          38,
          43,
          0,
          43,
          7,
          8,
          78,
          33,
          38,
          27,
          70,
          0,
          16,
          16,
          39,
          0,
          2,
          0,
          15,
          30,
          11,
          11,
          14,
          10,
          12,
          35,
          66,
          37,
          26,
          10,
          10,
          68,
          71,
          9,
          38,
          34,
          53,
          67,
          39,
          31,
          33,
          39,
          33,
          20,
          32,
          13,
          9,
          76,
          64,
          15,
          83,
          38,
          69,
          41,
          81,
          82,
          38,
          63,
          65,
          82,
          86,
          85,
          37,
          36,
          33,
          37,
          31,
          37,
          31,
          33,
          52,
          23,
          23,
          25,
          19,
          22,
          25,
          100,
          100,
          100,
          100,
          100,
          93,
          93,
          90,
          90,
          77,
          77,
          92,
          86,
          68,
          68,
          73,
          73,
          73,
          70,
          81,
          81,
          76,
          76,
          92,
          100,
          0,
          0,
          17,
          9,
          0,
          12,
          6,
          7,
          0,
          0,
          7,
          12,
          0,
          9,
          17,
          12,
          0,
          14,
          30,
          16,
          10,
          16,
          8,
          11,
          16,
          12,
          71,
          74,
          69,
          59,
          67,
          60,
          60,
          42,
          33,
          24,
          28,
          41,
          66,
          75,
          31,
          34,
          37,
          44,
          28,
          61,
          62,
          64,
          29,
          63,
          27,
          30,
          29,
          28,
          34,
          24,
          24,
          26,
          26,
          24,
          14,
          31,
          23,
          27,
          29,
          41,
          54,
          30,
          27,
          8,
          94,
          73,
          30,
          16,
          16,
          39,
          0,
          3,
          8,
          1,
          0,
          0,
          10,
          0,
          10,
          0,
          0,
          7,
          4,
          15,
          30,
          11,
          17,
          10,
          31,
          66,
          10,
          1,
          65,
          58,
          68,
          61,
          33,
          73,
          39,
          34,
          33,
          76,
          43,
          35,
          47,
          32,
          29,
          33,
          90,
          86,
          68,
          73,
          76,
          71,
          12,
          17,
          11,
          9,
          20,
          7,
          9,
          0,
          12
         ],
         "x0": " ",
         "xaxis": "x",
         "y0": " ",
         "yaxis": "y"
        }
       ],
       "layout": {
        "boxmode": "group",
        "legend": {
         "title": {
          "text": "cueing"
         },
         "tracegroupgap": 0
        },
        "template": {
         "data": {
          "bar": [
           {
            "error_x": {
             "color": "#2a3f5f"
            },
            "error_y": {
             "color": "#2a3f5f"
            },
            "marker": {
             "line": {
              "color": "#E5ECF6",
              "width": 0.5
             },
             "pattern": {
              "fillmode": "overlay",
              "size": 10,
              "solidity": 0.2
             }
            },
            "type": "bar"
           }
          ],
          "barpolar": [
           {
            "marker": {
             "line": {
              "color": "#E5ECF6",
              "width": 0.5
             },
             "pattern": {
              "fillmode": "overlay",
              "size": 10,
              "solidity": 0.2
             }
            },
            "type": "barpolar"
           }
          ],
          "carpet": [
           {
            "aaxis": {
             "endlinecolor": "#2a3f5f",
             "gridcolor": "white",
             "linecolor": "white",
             "minorgridcolor": "white",
             "startlinecolor": "#2a3f5f"
            },
            "baxis": {
             "endlinecolor": "#2a3f5f",
             "gridcolor": "white",
             "linecolor": "white",
             "minorgridcolor": "white",
             "startlinecolor": "#2a3f5f"
            },
            "type": "carpet"
           }
          ],
          "choropleth": [
           {
            "colorbar": {
             "outlinewidth": 0,
             "ticks": ""
            },
            "type": "choropleth"
           }
          ],
          "contour": [
           {
            "colorbar": {
             "outlinewidth": 0,
             "ticks": ""
            },
            "colorscale": [
             [
              0,
              "#0d0887"
             ],
             [
              0.1111111111111111,
              "#46039f"
             ],
             [
              0.2222222222222222,
              "#7201a8"
             ],
             [
              0.3333333333333333,
              "#9c179e"
             ],
             [
              0.4444444444444444,
              "#bd3786"
             ],
             [
              0.5555555555555556,
              "#d8576b"
             ],
             [
              0.6666666666666666,
              "#ed7953"
             ],
             [
              0.7777777777777778,
              "#fb9f3a"
             ],
             [
              0.8888888888888888,
              "#fdca26"
             ],
             [
              1,
              "#f0f921"
             ]
            ],
            "type": "contour"
           }
          ],
          "contourcarpet": [
           {
            "colorbar": {
             "outlinewidth": 0,
             "ticks": ""
            },
            "type": "contourcarpet"
           }
          ],
          "heatmap": [
           {
            "colorbar": {
             "outlinewidth": 0,
             "ticks": ""
            },
            "colorscale": [
             [
              0,
              "#0d0887"
             ],
             [
              0.1111111111111111,
              "#46039f"
             ],
             [
              0.2222222222222222,
              "#7201a8"
             ],
             [
              0.3333333333333333,
              "#9c179e"
             ],
             [
              0.4444444444444444,
              "#bd3786"
             ],
             [
              0.5555555555555556,
              "#d8576b"
             ],
             [
              0.6666666666666666,
              "#ed7953"
             ],
             [
              0.7777777777777778,
              "#fb9f3a"
             ],
             [
              0.8888888888888888,
              "#fdca26"
             ],
             [
              1,
              "#f0f921"
             ]
            ],
            "type": "heatmap"
           }
          ],
          "heatmapgl": [
           {
            "colorbar": {
             "outlinewidth": 0,
             "ticks": ""
            },
            "colorscale": [
             [
              0,
              "#0d0887"
             ],
             [
              0.1111111111111111,
              "#46039f"
             ],
             [
              0.2222222222222222,
              "#7201a8"
             ],
             [
              0.3333333333333333,
              "#9c179e"
             ],
             [
              0.4444444444444444,
              "#bd3786"
             ],
             [
              0.5555555555555556,
              "#d8576b"
             ],
             [
              0.6666666666666666,
              "#ed7953"
             ],
             [
              0.7777777777777778,
              "#fb9f3a"
             ],
             [
              0.8888888888888888,
              "#fdca26"
             ],
             [
              1,
              "#f0f921"
             ]
            ],
            "type": "heatmapgl"
           }
          ],
          "histogram": [
           {
            "marker": {
             "pattern": {
              "fillmode": "overlay",
              "size": 10,
              "solidity": 0.2
             }
            },
            "type": "histogram"
           }
          ],
          "histogram2d": [
           {
            "colorbar": {
             "outlinewidth": 0,
             "ticks": ""
            },
            "colorscale": [
             [
              0,
              "#0d0887"
             ],
             [
              0.1111111111111111,
              "#46039f"
             ],
             [
              0.2222222222222222,
              "#7201a8"
             ],
             [
              0.3333333333333333,
              "#9c179e"
             ],
             [
              0.4444444444444444,
              "#bd3786"
             ],
             [
              0.5555555555555556,
              "#d8576b"
             ],
             [
              0.6666666666666666,
              "#ed7953"
             ],
             [
              0.7777777777777778,
              "#fb9f3a"
             ],
             [
              0.8888888888888888,
              "#fdca26"
             ],
             [
              1,
              "#f0f921"
             ]
            ],
            "type": "histogram2d"
           }
          ],
          "histogram2dcontour": [
           {
            "colorbar": {
             "outlinewidth": 0,
             "ticks": ""
            },
            "colorscale": [
             [
              0,
              "#0d0887"
             ],
             [
              0.1111111111111111,
              "#46039f"
             ],
             [
              0.2222222222222222,
              "#7201a8"
             ],
             [
              0.3333333333333333,
              "#9c179e"
             ],
             [
              0.4444444444444444,
              "#bd3786"
             ],
             [
              0.5555555555555556,
              "#d8576b"
             ],
             [
              0.6666666666666666,
              "#ed7953"
             ],
             [
              0.7777777777777778,
              "#fb9f3a"
             ],
             [
              0.8888888888888888,
              "#fdca26"
             ],
             [
              1,
              "#f0f921"
             ]
            ],
            "type": "histogram2dcontour"
           }
          ],
          "mesh3d": [
           {
            "colorbar": {
             "outlinewidth": 0,
             "ticks": ""
            },
            "type": "mesh3d"
           }
          ],
          "parcoords": [
           {
            "line": {
             "colorbar": {
              "outlinewidth": 0,
              "ticks": ""
             }
            },
            "type": "parcoords"
           }
          ],
          "pie": [
           {
            "automargin": true,
            "type": "pie"
           }
          ],
          "scatter": [
           {
            "fillpattern": {
             "fillmode": "overlay",
             "size": 10,
             "solidity": 0.2
            },
            "type": "scatter"
           }
          ],
          "scatter3d": [
           {
            "line": {
             "colorbar": {
              "outlinewidth": 0,
              "ticks": ""
             }
            },
            "marker": {
             "colorbar": {
              "outlinewidth": 0,
              "ticks": ""
             }
            },
            "type": "scatter3d"
           }
          ],
          "scattercarpet": [
           {
            "marker": {
             "colorbar": {
              "outlinewidth": 0,
              "ticks": ""
             }
            },
            "type": "scattercarpet"
           }
          ],
          "scattergeo": [
           {
            "marker": {
             "colorbar": {
              "outlinewidth": 0,
              "ticks": ""
             }
            },
            "type": "scattergeo"
           }
          ],
          "scattergl": [
           {
            "marker": {
             "colorbar": {
              "outlinewidth": 0,
              "ticks": ""
             }
            },
            "type": "scattergl"
           }
          ],
          "scattermapbox": [
           {
            "marker": {
             "colorbar": {
              "outlinewidth": 0,
              "ticks": ""
             }
            },
            "type": "scattermapbox"
           }
          ],
          "scatterpolar": [
           {
            "marker": {
             "colorbar": {
              "outlinewidth": 0,
              "ticks": ""
             }
            },
            "type": "scatterpolar"
           }
          ],
          "scatterpolargl": [
           {
            "marker": {
             "colorbar": {
              "outlinewidth": 0,
              "ticks": ""
             }
            },
            "type": "scatterpolargl"
           }
          ],
          "scatterternary": [
           {
            "marker": {
             "colorbar": {
              "outlinewidth": 0,
              "ticks": ""
             }
            },
            "type": "scatterternary"
           }
          ],
          "surface": [
           {
            "colorbar": {
             "outlinewidth": 0,
             "ticks": ""
            },
            "colorscale": [
             [
              0,
              "#0d0887"
             ],
             [
              0.1111111111111111,
              "#46039f"
             ],
             [
              0.2222222222222222,
              "#7201a8"
             ],
             [
              0.3333333333333333,
              "#9c179e"
             ],
             [
              0.4444444444444444,
              "#bd3786"
             ],
             [
              0.5555555555555556,
              "#d8576b"
             ],
             [
              0.6666666666666666,
              "#ed7953"
             ],
             [
              0.7777777777777778,
              "#fb9f3a"
             ],
             [
              0.8888888888888888,
              "#fdca26"
             ],
             [
              1,
              "#f0f921"
             ]
            ],
            "type": "surface"
           }
          ],
          "table": [
           {
            "cells": {
             "fill": {
              "color": "#EBF0F8"
             },
             "line": {
              "color": "white"
             }
            },
            "header": {
             "fill": {
              "color": "#C8D4E3"
             },
             "line": {
              "color": "white"
             }
            },
            "type": "table"
           }
          ]
         },
         "layout": {
          "annotationdefaults": {
           "arrowcolor": "#2a3f5f",
           "arrowhead": 0,
           "arrowwidth": 1
          },
          "autotypenumbers": "strict",
          "coloraxis": {
           "colorbar": {
            "outlinewidth": 0,
            "ticks": ""
           }
          },
          "colorscale": {
           "diverging": [
            [
             0,
             "#8e0152"
            ],
            [
             0.1,
             "#c51b7d"
            ],
            [
             0.2,
             "#de77ae"
            ],
            [
             0.3,
             "#f1b6da"
            ],
            [
             0.4,
             "#fde0ef"
            ],
            [
             0.5,
             "#f7f7f7"
            ],
            [
             0.6,
             "#e6f5d0"
            ],
            [
             0.7,
             "#b8e186"
            ],
            [
             0.8,
             "#7fbc41"
            ],
            [
             0.9,
             "#4d9221"
            ],
            [
             1,
             "#276419"
            ]
           ],
           "sequential": [
            [
             0,
             "#0d0887"
            ],
            [
             0.1111111111111111,
             "#46039f"
            ],
            [
             0.2222222222222222,
             "#7201a8"
            ],
            [
             0.3333333333333333,
             "#9c179e"
            ],
            [
             0.4444444444444444,
             "#bd3786"
            ],
            [
             0.5555555555555556,
             "#d8576b"
            ],
            [
             0.6666666666666666,
             "#ed7953"
            ],
            [
             0.7777777777777778,
             "#fb9f3a"
            ],
            [
             0.8888888888888888,
             "#fdca26"
            ],
            [
             1,
             "#f0f921"
            ]
           ],
           "sequentialminus": [
            [
             0,
             "#0d0887"
            ],
            [
             0.1111111111111111,
             "#46039f"
            ],
            [
             0.2222222222222222,
             "#7201a8"
            ],
            [
             0.3333333333333333,
             "#9c179e"
            ],
            [
             0.4444444444444444,
             "#bd3786"
            ],
            [
             0.5555555555555556,
             "#d8576b"
            ],
            [
             0.6666666666666666,
             "#ed7953"
            ],
            [
             0.7777777777777778,
             "#fb9f3a"
            ],
            [
             0.8888888888888888,
             "#fdca26"
            ],
            [
             1,
             "#f0f921"
            ]
           ]
          },
          "colorway": [
           "#636efa",
           "#EF553B",
           "#00cc96",
           "#ab63fa",
           "#FFA15A",
           "#19d3f3",
           "#FF6692",
           "#B6E880",
           "#FF97FF",
           "#FECB52"
          ],
          "font": {
           "color": "#2a3f5f"
          },
          "geo": {
           "bgcolor": "white",
           "lakecolor": "white",
           "landcolor": "#E5ECF6",
           "showlakes": true,
           "showland": true,
           "subunitcolor": "white"
          },
          "hoverlabel": {
           "align": "left"
          },
          "hovermode": "closest",
          "mapbox": {
           "style": "light"
          },
          "paper_bgcolor": "white",
          "plot_bgcolor": "#E5ECF6",
          "polar": {
           "angularaxis": {
            "gridcolor": "white",
            "linecolor": "white",
            "ticks": ""
           },
           "bgcolor": "#E5ECF6",
           "radialaxis": {
            "gridcolor": "white",
            "linecolor": "white",
            "ticks": ""
           }
          },
          "scene": {
           "xaxis": {
            "backgroundcolor": "#E5ECF6",
            "gridcolor": "white",
            "gridwidth": 2,
            "linecolor": "white",
            "showbackground": true,
            "ticks": "",
            "zerolinecolor": "white"
           },
           "yaxis": {
            "backgroundcolor": "#E5ECF6",
            "gridcolor": "white",
            "gridwidth": 2,
            "linecolor": "white",
            "showbackground": true,
            "ticks": "",
            "zerolinecolor": "white"
           },
           "zaxis": {
            "backgroundcolor": "#E5ECF6",
            "gridcolor": "white",
            "gridwidth": 2,
            "linecolor": "white",
            "showbackground": true,
            "ticks": "",
            "zerolinecolor": "white"
           }
          },
          "shapedefaults": {
           "line": {
            "color": "#2a3f5f"
           }
          },
          "ternary": {
           "aaxis": {
            "gridcolor": "white",
            "linecolor": "white",
            "ticks": ""
           },
           "baxis": {
            "gridcolor": "white",
            "linecolor": "white",
            "ticks": ""
           },
           "bgcolor": "#E5ECF6",
           "caxis": {
            "gridcolor": "white",
            "linecolor": "white",
            "ticks": ""
           }
          },
          "title": {
           "x": 0.05
          },
          "xaxis": {
           "automargin": true,
           "gridcolor": "white",
           "linecolor": "white",
           "ticks": "",
           "title": {
            "standoff": 15
           },
           "zerolinecolor": "white",
           "zerolinewidth": 2
          },
          "yaxis": {
           "automargin": true,
           "gridcolor": "white",
           "linecolor": "white",
           "ticks": "",
           "title": {
            "standoff": 15
           },
           "zerolinecolor": "white",
           "zerolinewidth": 2
          }
         }
        },
        "title": {
         "text": "severity by cueing class"
        },
        "xaxis": {
         "anchor": "y",
         "domain": [
          0,
          1
         ],
         "title": {
          "text": "severity"
         }
        },
        "yaxis": {
         "anchor": "x",
         "domain": [
          0,
          1
         ]
        }
       }
      }
     },
     "metadata": {},
     "output_type": "display_data"
    }
   ],
   "source": [
    "fig = make_subplots(rows=2, cols=4)\n",
    "df_plot = df['cueing'].value_counts().to_frame().rename_axis('gender')\n",
    "display(df_plot)\n",
    "# fig1 = px.bar(x = ['Male', 'Female'], y=[657, 330], \n",
    "#               title= 'gender distribution', width=400, height=400,\n",
    "#               labels=dict(x=\"gender\", y=\"Count\"))\n",
    "# fig1 = px.bar(x = ['Morning', 'Afternoon', 'Night'], y=[329, 329, 329], \n",
    "#               title= 'day_part distribution', width=400, height=400,\n",
    "#               labels=dict(x=\"day_part\", y=\"Count\"))\n",
    "# fig1 = px.bar(x = ['65+ years', '55-64 years', '45-54 years'], y=[618, 273, 96], \n",
    "#               title= 'ageRange distribution', width=400, height=400,\n",
    "#               labels=dict(x=\"ageRange\", y=\"Count\"))\n",
    "# fig1 = px.bar(x = ['English, Welsh, Scottish, Northern Irish or British', 'Irish', 'Any other ethnic group', 'No answer'], y=[753, 42, 39, 153], \n",
    "#               title= 'ethnicGroup distribution', width=400, height=400,\n",
    "#               labels=dict(x=\"ethnicGroup\", y=\"Count\"))\n",
    "# fig1 = px.bar(x = ['iOS', 'Android'], y=[657, 330],\n",
    "#               title= 'platform distribution', width=400, height=400,\n",
    "#               labels=dict(x=\"platform\", y=\"Count\"))\n",
    "fig1 = px.bar(x = ['0', '1'], y=[524, 463],\n",
    "              title= 'cueing distribution', width=400, height=400,\n",
    "              labels=dict(x=\"cueing\", y=\"Count\"))\n",
    "# fig2 = px.histogram(df, x='gender', barmode= 'group', color='cueing',  title= 'gender distribution by cueing class', width=400, height=400, labels=dict(color=(\"Yes\", \"No\")))\n",
    "# fig2 = px.histogram(df, x='ageRange', barmode= 'group', color='cueing',  title= 'ageRange distribution by cueing class', width=400, height=400, labels=dict(color=(\"Yes\", \"No\")))\n",
    "# fig2 = px.histogram(df, x='platform', barmode= 'group', color='cueing',  title= 'platform distribution by cueing class', width=400, height=400, labels=dict(color=(\"Yes\", \"No\")))\n",
    "# fig2 = px.histogram(df, x='ethnicGroup', barmode= 'group', color='cueing',  title= 'ethnicGroup distribution by cueing class', width=400, height=400, labels=dict(color=(\"Yes\", \"No\")))\n",
    "# fig3 = px.histogram(df, x='ageRange', barmode= 'group', color='cueing')\n",
    "# fig4 = px.histogram(df, x='platform', barmode= 'group', color='cueing')\n",
    "# # fig5 = px.bar(df['group'].value_counts())\n",
    "fig6 = px.box(df, x='severity', color='cueing', title='severity by cueing class')\n",
    "# fig7 = px.box(df, x='frequency', color='cueing')\n",
    "# fig8 = px.box(df, x='severity', color='cueing')\n",
    "\n",
    "# fig.add_trace(fig1['data'][0], row=1, col=1)\n",
    "# fig.add_trace(fig2['data'][0], row=1, col=2)\n",
    "# fig.add_trace(fig3['data'][0], row=1, col=3)\n",
    "# fig.add_trace(fig4['data'][0], row=1, col=4)\n",
    "# # fig.add_trace(fig5['data'][0], row=2, col=1)\n",
    "# fig.add_trace(fig6['data'][0], row=2, col=2)\n",
    "# fig.add_trace(fig7['data'][0], row=2, col=3)\n",
    "# fig.add_trace(fig8['data'][0], row=2, col=4)\n",
    "\n",
    "# fig1.update_layout(showlegend=False)\n",
    "fig6.show()"
   ]
  },
  {
   "cell_type": "code",
   "execution_count": 5,
   "metadata": {},
   "outputs": [
    {
     "name": "stdout",
     "output_type": "stream",
     "text": [
      "        gender\n",
      "gender        \n",
      "Male       657\n",
      "Female     330\n"
     ]
    }
   ],
   "source": [
    "print(df['gender'].value_counts().to_frame().rename_axis('gender'))"
   ]
  },
  {
   "cell_type": "code",
   "execution_count": 6,
   "metadata": {},
   "outputs": [
    {
     "data": {
      "text/html": [
       "<div>\n",
       "<style scoped>\n",
       "    .dataframe tbody tr th:only-of-type {\n",
       "        vertical-align: middle;\n",
       "    }\n",
       "\n",
       "    .dataframe tbody tr th {\n",
       "        vertical-align: top;\n",
       "    }\n",
       "\n",
       "    .dataframe thead th {\n",
       "        text-align: right;\n",
       "    }\n",
       "</style>\n",
       "<table border=\"1\" class=\"dataframe\">\n",
       "  <thead>\n",
       "    <tr style=\"text-align: right;\">\n",
       "      <th></th>\n",
       "      <th>duration</th>\n",
       "      <th>severity</th>\n",
       "      <th>frequency</th>\n",
       "    </tr>\n",
       "    <tr>\n",
       "      <th>cueing</th>\n",
       "      <th></th>\n",
       "      <th></th>\n",
       "      <th></th>\n",
       "    </tr>\n",
       "  </thead>\n",
       "  <tbody>\n",
       "    <tr>\n",
       "      <th>0</th>\n",
       "      <td>30.250000</td>\n",
       "      <td>31.265267</td>\n",
       "      <td>31.362595</td>\n",
       "    </tr>\n",
       "    <tr>\n",
       "      <th>1</th>\n",
       "      <td>30.520518</td>\n",
       "      <td>32.526998</td>\n",
       "      <td>32.047516</td>\n",
       "    </tr>\n",
       "  </tbody>\n",
       "</table>\n",
       "</div>"
      ],
      "text/plain": [
       "         duration   severity  frequency\n",
       "cueing                                 \n",
       "0       30.250000  31.265267  31.362595\n",
       "1       30.520518  32.526998  32.047516"
      ]
     },
     "execution_count": 6,
     "metadata": {},
     "output_type": "execute_result"
    }
   ],
   "source": [
    "df.groupby(\"cueing\").agg({\"duration\": \"mean\", \"severity\": \"mean\", \"frequency\": \"mean\"})"
   ]
  },
  {
   "cell_type": "code",
   "execution_count": 7,
   "metadata": {},
   "outputs": [
    {
     "data": {
      "application/vnd.plotly.v1+json": {
       "config": {
        "plotlyServerURL": "https://plot.ly"
       },
       "data": [
        {
         "alignmentgroup": "True",
         "bingroup": "x",
         "hovertemplate": "cueing=0<br>duration=%{x}<br>count=%{y}<extra></extra>",
         "legendgroup": "0",
         "marker": {
          "color": "#636efa",
          "pattern": {
           "shape": ""
          }
         },
         "name": "0",
         "offsetgroup": "0",
         "orientation": "v",
         "showlegend": true,
         "type": "histogram",
         "x": [
          0,
          0,
          6,
          13,
          7,
          9,
          10,
          4,
          5,
          8,
          3,
          6,
          5,
          0,
          2,
          1,
          0,
          3,
          0,
          2,
          0,
          0,
          0,
          2,
          0,
          6,
          0,
          3,
          0,
          5,
          13,
          14,
          0,
          11,
          25,
          19,
          15,
          19,
          7,
          73,
          64,
          68,
          61,
          64,
          61,
          62,
          42,
          29,
          20,
          32,
          41,
          27,
          77,
          39,
          12,
          16,
          13,
          11,
          20,
          27,
          27,
          36,
          45,
          41,
          40,
          30,
          42,
          0,
          60,
          33,
          58,
          7,
          27,
          11,
          11,
          45,
          0,
          72,
          10,
          5,
          4,
          0,
          10,
          0,
          8,
          0,
          0,
          5,
          0,
          0,
          17,
          13,
          19,
          31,
          57,
          24,
          7,
          67,
          22,
          58,
          4,
          58,
          59,
          42,
          32,
          70,
          48,
          30,
          40,
          11,
          37,
          50,
          61,
          94,
          78,
          66,
          78,
          83,
          39,
          35,
          33,
          34,
          38,
          31,
          32,
          32,
          54,
          18,
          100,
          93,
          86,
          76,
          76,
          92,
          90,
          82,
          82,
          67,
          67,
          94,
          94,
          74,
          71,
          84,
          84,
          84,
          84,
          92,
          82,
          17,
          20,
          16,
          6,
          7,
          0,
          0,
          0,
          13,
          13,
          7,
          14,
          0,
          22,
          11,
          11,
          19,
          25,
          8,
          0,
          18,
          15,
          19,
          6,
          73,
          68,
          61,
          64,
          61,
          62,
          42,
          29,
          20,
          32,
          41,
          66,
          34,
          77,
          39,
          36,
          23,
          22,
          27,
          36,
          54,
          75,
          39,
          67,
          35,
          56,
          66,
          25,
          13,
          43,
          14,
          17,
          12,
          18,
          11,
          12,
          16,
          22,
          26,
          27,
          27,
          24,
          28,
          29,
          22,
          28,
          45,
          41,
          40,
          34,
          34,
          32,
          0,
          30,
          42,
          32,
          60,
          33,
          0,
          27,
          11,
          20,
          57,
          57,
          45,
          24,
          6,
          10,
          5,
          0,
          4,
          0,
          0,
          10,
          0,
          8,
          0,
          0,
          5,
          0,
          0,
          19,
          2,
          31,
          7,
          27,
          6,
          4,
          0,
          70,
          0,
          0,
          58,
          0,
          70,
          64,
          34,
          36,
          8,
          12,
          12,
          19,
          19,
          13,
          18,
          32,
          34,
          24,
          20,
          50,
          34,
          36,
          46,
          30,
          34,
          32,
          46,
          18,
          20,
          23,
          100,
          100,
          90,
          82,
          94,
          0,
          0,
          88,
          0,
          82,
          0,
          0,
          0,
          0,
          0,
          0,
          0,
          0,
          17,
          14,
          9,
          20,
          8,
          0,
          0,
          0,
          0,
          0,
          0,
          7,
          9,
          10,
          4,
          5,
          8,
          3,
          6,
          5,
          0,
          2,
          1,
          0,
          3,
          0,
          2,
          0,
          0,
          0,
          2,
          0,
          6,
          0,
          3,
          0,
          5,
          4,
          19,
          0,
          7,
          6,
          64,
          75,
          34,
          27,
          23,
          36,
          54,
          56,
          66,
          25,
          13,
          12,
          14,
          16,
          20,
          22,
          26,
          36,
          27,
          27,
          24,
          27,
          28,
          29,
          22,
          28,
          36,
          45,
          45,
          41,
          41,
          40,
          40,
          34,
          34,
          32,
          0,
          33,
          32,
          0,
          58,
          7,
          0,
          11,
          20,
          57,
          57,
          20,
          17,
          29,
          49,
          0,
          4,
          4,
          0,
          0,
          0,
          13,
          13,
          2,
          8,
          22,
          7,
          24,
          8,
          7,
          67,
          64,
          27,
          6,
          7,
          22,
          58,
          0,
          53,
          0,
          0,
          0,
          59,
          42,
          32,
          40,
          21,
          30,
          8,
          12,
          12,
          19,
          19,
          13,
          18,
          32,
          34,
          24,
          20,
          11,
          61,
          10,
          79,
          37,
          68,
          61,
          94,
          78,
          38,
          38,
          66,
          78,
          82,
          83,
          39,
          35,
          33,
          38,
          33,
          36,
          34,
          38,
          31,
          54,
          46,
          18,
          24,
          18,
          19,
          18,
          20,
          20,
          23,
          31,
          100,
          100,
          100,
          100,
          100,
          100,
          100,
          93,
          93,
          86,
          86,
          76,
          76,
          92,
          82,
          67,
          94,
          74,
          71,
          84,
          84,
          84,
          84,
          92,
          94,
          0,
          0,
          0,
          82,
          0,
          0,
          0,
          0,
          0,
          0,
          0,
          0,
          0,
          0,
          6,
          7
         ],
         "xaxis": "x",
         "yaxis": "y"
        },
        {
         "alignmentgroup": "True",
         "bingroup": "x",
         "hovertemplate": "cueing=0<br>frequency=%{x}<br>count=%{y}<extra></extra>",
         "legendgroup": "0",
         "marker": {
          "color": "#636efa",
          "pattern": {
           "shape": ""
          }
         },
         "name": "0",
         "offsetgroup": "0",
         "orientation": "v",
         "showlegend": true,
         "type": "histogram",
         "x": [
          9,
          0,
          12,
          10,
          5,
          14,
          16,
          7,
          2,
          8,
          11,
          9,
          2,
          0,
          3,
          1,
          0,
          5,
          0,
          0,
          0,
          0,
          0,
          5,
          0,
          7,
          0,
          4,
          0,
          10,
          13,
          20,
          0,
          18,
          25,
          20,
          23,
          12,
          10,
          68,
          64,
          68,
          61,
          68,
          61,
          59,
          36,
          39,
          28,
          37,
          45,
          39,
          69,
          38,
          31,
          34,
          30,
          29,
          28,
          25,
          31,
          62,
          54,
          38,
          28,
          26,
          42,
          0,
          64,
          28,
          45,
          2,
          23,
          7,
          7,
          75,
          0,
          4,
          14,
          4,
          2,
          0,
          10,
          0,
          10,
          0,
          0,
          9,
          0,
          0,
          15,
          13,
          17,
          35,
          23,
          33,
          17,
          34,
          34,
          35,
          0,
          60,
          67,
          37,
          30,
          66,
          38,
          29,
          30,
          18,
          38,
          41,
          37,
          81,
          78,
          65,
          72,
          82,
          38,
          35,
          32,
          35,
          39,
          33,
          30,
          35,
          50,
          23,
          100,
          93,
          84,
          79,
          79,
          87,
          83,
          84,
          84,
          78,
          78,
          73,
          73,
          74,
          72,
          88,
          88,
          84,
          84,
          89,
          100,
          12,
          9,
          7,
          6,
          6,
          0,
          0,
          0,
          10,
          13,
          15,
          20,
          0,
          19,
          14,
          18,
          15,
          25,
          12,
          0,
          23,
          23,
          12,
          12,
          68,
          68,
          61,
          68,
          61,
          59,
          36,
          39,
          28,
          37,
          45,
          70,
          39,
          69,
          38,
          35,
          13,
          32,
          47,
          40,
          63,
          59,
          58,
          63,
          28,
          69,
          59,
          35,
          36,
          65,
          28,
          35,
          22,
          28,
          29,
          22,
          32,
          18,
          23,
          27,
          23,
          22,
          26,
          27,
          27,
          27,
          54,
          38,
          28,
          30,
          30,
          33,
          0,
          26,
          42,
          33,
          64,
          28,
          0,
          23,
          7,
          21,
          83,
          92,
          75,
          43,
          2,
          14,
          4,
          0,
          10,
          0,
          1,
          10,
          0,
          10,
          0,
          0,
          9,
          0,
          4,
          17,
          2,
          35,
          9,
          15,
          9,
          0,
          0,
          63,
          0,
          0,
          60,
          0,
          66,
          63,
          24,
          33,
          13,
          19,
          19,
          22,
          22,
          35,
          24,
          37,
          30,
          22,
          37,
          41,
          35,
          38,
          46,
          33,
          35,
          30,
          45,
          28,
          26,
          27,
          100,
          100,
          83,
          84,
          90,
          0,
          0,
          93,
          0,
          77,
          0,
          0,
          0,
          0,
          0,
          0,
          0,
          0,
          12,
          10,
          8,
          9,
          8,
          9,
          0,
          0,
          0,
          0,
          0,
          5,
          14,
          16,
          7,
          2,
          8,
          11,
          9,
          2,
          0,
          3,
          1,
          0,
          5,
          0,
          0,
          0,
          0,
          0,
          5,
          0,
          7,
          0,
          4,
          0,
          10,
          4,
          20,
          0,
          10,
          12,
          64,
          80,
          39,
          39,
          13,
          40,
          63,
          69,
          59,
          35,
          36,
          31,
          22,
          29,
          28,
          18,
          23,
          22,
          27,
          23,
          22,
          31,
          26,
          27,
          27,
          27,
          62,
          54,
          54,
          38,
          38,
          28,
          28,
          30,
          30,
          33,
          0,
          33,
          33,
          0,
          45,
          2,
          0,
          7,
          21,
          83,
          82,
          41,
          39,
          28,
          71,
          0,
          2,
          10,
          1,
          4,
          0,
          16,
          13,
          2,
          10,
          28,
          9,
          33,
          11,
          17,
          34,
          32,
          15,
          9,
          8,
          34,
          35,
          0,
          56,
          0,
          0,
          0,
          67,
          37,
          30,
          30,
          31,
          24,
          13,
          19,
          19,
          22,
          22,
          35,
          24,
          37,
          30,
          22,
          37,
          18,
          66,
          10,
          84,
          38,
          68,
          37,
          81,
          78,
          26,
          62,
          65,
          72,
          87,
          82,
          38,
          35,
          33,
          35,
          32,
          38,
          35,
          39,
          33,
          50,
          45,
          23,
          17,
          27,
          25,
          28,
          26,
          26,
          27,
          16,
          100,
          100,
          100,
          100,
          100,
          100,
          100,
          93,
          93,
          84,
          84,
          79,
          79,
          87,
          84,
          78,
          73,
          74,
          72,
          88,
          88,
          84,
          84,
          89,
          90,
          0,
          0,
          0,
          100,
          0,
          0,
          0,
          0,
          0,
          0,
          0,
          0,
          0,
          0,
          6,
          6
         ],
         "xaxis": "x2",
         "yaxis": "y2"
        },
        {
         "alignmentgroup": "True",
         "bingroup": "x",
         "hovertemplate": "cueing=0<br>severity=%{x}<br>count=%{y}<extra></extra>",
         "legendgroup": "0",
         "marker": {
          "color": "#636efa",
          "pattern": {
           "shape": ""
          }
         },
         "name": "0",
         "offsetgroup": "0",
         "orientation": "v",
         "showlegend": true,
         "type": "histogram",
         "x": [
          2,
          0,
          7,
          12,
          16,
          12,
          12,
          6,
          8,
          7,
          9,
          6,
          4,
          0,
          2,
          2,
          0,
          4,
          0,
          0,
          0,
          0,
          0,
          8,
          0,
          5,
          0,
          3,
          0,
          3,
          9,
          12,
          0,
          16,
          16,
          9,
          16,
          12,
          18,
          71,
          62,
          69,
          59,
          67,
          60,
          60,
          42,
          33,
          24,
          28,
          41,
          39,
          75,
          31,
          25,
          28,
          26,
          24,
          24,
          23,
          33,
          61,
          45,
          41,
          38,
          29,
          41,
          0,
          54,
          30,
          43,
          7,
          27,
          8,
          8,
          73,
          0,
          39,
          8,
          1,
          2,
          0,
          10,
          0,
          10,
          0,
          0,
          7,
          4,
          0,
          15,
          14,
          17,
          31,
          66,
          37,
          10,
          68,
          38,
          34,
          1,
          58,
          67,
          39,
          31,
          68,
          39,
          33,
          20,
          9,
          38,
          43,
          41,
          81,
          82,
          65,
          82,
          85,
          37,
          36,
          31,
          35,
          37,
          31,
          29,
          33,
          52,
          23,
          100,
          93,
          90,
          77,
          77,
          92,
          90,
          86,
          86,
          68,
          68,
          73,
          73,
          73,
          70,
          81,
          81,
          76,
          76,
          92,
          100,
          12,
          20,
          12,
          6,
          7,
          0,
          0,
          0,
          12,
          9,
          17,
          12,
          0,
          14,
          30,
          16,
          10,
          16,
          8,
          0,
          11,
          16,
          12,
          11,
          71,
          69,
          59,
          67,
          60,
          60,
          42,
          33,
          24,
          28,
          41,
          66,
          37,
          75,
          31,
          34,
          19,
          44,
          28,
          30,
          65,
          61,
          62,
          64,
          29,
          63,
          72,
          40,
          34,
          63,
          29,
          34,
          24,
          26,
          24,
          14,
          31,
          28,
          26,
          36,
          37,
          25,
          29,
          30,
          23,
          25,
          45,
          41,
          38,
          35,
          35,
          32,
          0,
          29,
          41,
          33,
          54,
          30,
          0,
          27,
          8,
          23,
          84,
          94,
          73,
          30,
          3,
          8,
          1,
          0,
          1,
          0,
          1,
          10,
          0,
          10,
          0,
          0,
          7,
          4,
          5,
          17,
          2,
          31,
          9,
          35,
          6,
          1,
          0,
          65,
          0,
          0,
          58,
          0,
          68,
          61,
          73,
          34,
          21,
          16,
          16,
          8,
          8,
          12,
          21,
          30,
          18,
          41,
          18,
          43,
          35,
          35,
          47,
          32,
          33,
          29,
          44,
          16,
          22,
          26,
          100,
          100,
          90,
          86,
          70,
          0,
          0,
          76,
          0,
          71,
          0,
          0,
          0,
          0,
          0,
          0,
          0,
          0,
          12,
          11,
          9,
          20,
          7,
          2,
          0,
          0,
          0,
          0,
          0,
          16,
          12,
          12,
          6,
          8,
          7,
          9,
          6,
          4,
          0,
          2,
          2,
          0,
          4,
          0,
          0,
          0,
          0,
          0,
          8,
          0,
          5,
          0,
          3,
          0,
          3,
          4,
          9,
          0,
          18,
          11,
          62,
          80,
          37,
          39,
          19,
          30,
          65,
          63,
          72,
          40,
          34,
          25,
          22,
          27,
          24,
          28,
          26,
          42,
          36,
          37,
          25,
          33,
          29,
          30,
          23,
          25,
          61,
          45,
          45,
          41,
          41,
          38,
          38,
          35,
          35,
          32,
          0,
          43,
          33,
          0,
          43,
          7,
          0,
          8,
          23,
          84,
          78,
          33,
          38,
          27,
          70,
          0,
          2,
          1,
          1,
          5,
          0,
          11,
          14,
          2,
          12,
          35,
          9,
          37,
          26,
          10,
          68,
          71,
          35,
          6,
          9,
          38,
          34,
          0,
          53,
          0,
          0,
          0,
          67,
          39,
          31,
          20,
          32,
          13,
          21,
          16,
          16,
          8,
          8,
          12,
          21,
          30,
          18,
          41,
          18,
          9,
          64,
          15,
          83,
          38,
          69,
          41,
          81,
          82,
          38,
          63,
          65,
          82,
          86,
          85,
          37,
          36,
          33,
          37,
          31,
          35,
          33,
          37,
          31,
          52,
          44,
          23,
          23,
          25,
          19,
          16,
          22,
          22,
          26,
          25,
          100,
          100,
          100,
          100,
          100,
          100,
          100,
          93,
          93,
          90,
          90,
          77,
          77,
          92,
          86,
          68,
          73,
          73,
          70,
          81,
          81,
          76,
          76,
          92,
          70,
          0,
          0,
          0,
          100,
          0,
          0,
          0,
          0,
          0,
          0,
          0,
          0,
          0,
          0,
          6,
          7
         ],
         "xaxis": "x3",
         "yaxis": "y3"
        }
       ],
       "layout": {
        "annotations": [
         {
          "font": {
           "size": 16
          },
          "showarrow": false,
          "text": "duration",
          "x": 0.14444444444444446,
          "xanchor": "center",
          "xref": "paper",
          "y": 1,
          "yanchor": "bottom",
          "yref": "paper"
         },
         {
          "font": {
           "size": 16
          },
          "showarrow": false,
          "text": "frequency",
          "x": 0.5,
          "xanchor": "center",
          "xref": "paper",
          "y": 1,
          "yanchor": "bottom",
          "yref": "paper"
         },
         {
          "font": {
           "size": 16
          },
          "showarrow": false,
          "text": "severity",
          "x": 0.8555555555555556,
          "xanchor": "center",
          "xref": "paper",
          "y": 1,
          "yanchor": "bottom",
          "yref": "paper"
         }
        ],
        "template": {
         "data": {
          "bar": [
           {
            "error_x": {
             "color": "#2a3f5f"
            },
            "error_y": {
             "color": "#2a3f5f"
            },
            "marker": {
             "line": {
              "color": "#E5ECF6",
              "width": 0.5
             },
             "pattern": {
              "fillmode": "overlay",
              "size": 10,
              "solidity": 0.2
             }
            },
            "type": "bar"
           }
          ],
          "barpolar": [
           {
            "marker": {
             "line": {
              "color": "#E5ECF6",
              "width": 0.5
             },
             "pattern": {
              "fillmode": "overlay",
              "size": 10,
              "solidity": 0.2
             }
            },
            "type": "barpolar"
           }
          ],
          "carpet": [
           {
            "aaxis": {
             "endlinecolor": "#2a3f5f",
             "gridcolor": "white",
             "linecolor": "white",
             "minorgridcolor": "white",
             "startlinecolor": "#2a3f5f"
            },
            "baxis": {
             "endlinecolor": "#2a3f5f",
             "gridcolor": "white",
             "linecolor": "white",
             "minorgridcolor": "white",
             "startlinecolor": "#2a3f5f"
            },
            "type": "carpet"
           }
          ],
          "choropleth": [
           {
            "colorbar": {
             "outlinewidth": 0,
             "ticks": ""
            },
            "type": "choropleth"
           }
          ],
          "contour": [
           {
            "colorbar": {
             "outlinewidth": 0,
             "ticks": ""
            },
            "colorscale": [
             [
              0,
              "#0d0887"
             ],
             [
              0.1111111111111111,
              "#46039f"
             ],
             [
              0.2222222222222222,
              "#7201a8"
             ],
             [
              0.3333333333333333,
              "#9c179e"
             ],
             [
              0.4444444444444444,
              "#bd3786"
             ],
             [
              0.5555555555555556,
              "#d8576b"
             ],
             [
              0.6666666666666666,
              "#ed7953"
             ],
             [
              0.7777777777777778,
              "#fb9f3a"
             ],
             [
              0.8888888888888888,
              "#fdca26"
             ],
             [
              1,
              "#f0f921"
             ]
            ],
            "type": "contour"
           }
          ],
          "contourcarpet": [
           {
            "colorbar": {
             "outlinewidth": 0,
             "ticks": ""
            },
            "type": "contourcarpet"
           }
          ],
          "heatmap": [
           {
            "colorbar": {
             "outlinewidth": 0,
             "ticks": ""
            },
            "colorscale": [
             [
              0,
              "#0d0887"
             ],
             [
              0.1111111111111111,
              "#46039f"
             ],
             [
              0.2222222222222222,
              "#7201a8"
             ],
             [
              0.3333333333333333,
              "#9c179e"
             ],
             [
              0.4444444444444444,
              "#bd3786"
             ],
             [
              0.5555555555555556,
              "#d8576b"
             ],
             [
              0.6666666666666666,
              "#ed7953"
             ],
             [
              0.7777777777777778,
              "#fb9f3a"
             ],
             [
              0.8888888888888888,
              "#fdca26"
             ],
             [
              1,
              "#f0f921"
             ]
            ],
            "type": "heatmap"
           }
          ],
          "heatmapgl": [
           {
            "colorbar": {
             "outlinewidth": 0,
             "ticks": ""
            },
            "colorscale": [
             [
              0,
              "#0d0887"
             ],
             [
              0.1111111111111111,
              "#46039f"
             ],
             [
              0.2222222222222222,
              "#7201a8"
             ],
             [
              0.3333333333333333,
              "#9c179e"
             ],
             [
              0.4444444444444444,
              "#bd3786"
             ],
             [
              0.5555555555555556,
              "#d8576b"
             ],
             [
              0.6666666666666666,
              "#ed7953"
             ],
             [
              0.7777777777777778,
              "#fb9f3a"
             ],
             [
              0.8888888888888888,
              "#fdca26"
             ],
             [
              1,
              "#f0f921"
             ]
            ],
            "type": "heatmapgl"
           }
          ],
          "histogram": [
           {
            "marker": {
             "pattern": {
              "fillmode": "overlay",
              "size": 10,
              "solidity": 0.2
             }
            },
            "type": "histogram"
           }
          ],
          "histogram2d": [
           {
            "colorbar": {
             "outlinewidth": 0,
             "ticks": ""
            },
            "colorscale": [
             [
              0,
              "#0d0887"
             ],
             [
              0.1111111111111111,
              "#46039f"
             ],
             [
              0.2222222222222222,
              "#7201a8"
             ],
             [
              0.3333333333333333,
              "#9c179e"
             ],
             [
              0.4444444444444444,
              "#bd3786"
             ],
             [
              0.5555555555555556,
              "#d8576b"
             ],
             [
              0.6666666666666666,
              "#ed7953"
             ],
             [
              0.7777777777777778,
              "#fb9f3a"
             ],
             [
              0.8888888888888888,
              "#fdca26"
             ],
             [
              1,
              "#f0f921"
             ]
            ],
            "type": "histogram2d"
           }
          ],
          "histogram2dcontour": [
           {
            "colorbar": {
             "outlinewidth": 0,
             "ticks": ""
            },
            "colorscale": [
             [
              0,
              "#0d0887"
             ],
             [
              0.1111111111111111,
              "#46039f"
             ],
             [
              0.2222222222222222,
              "#7201a8"
             ],
             [
              0.3333333333333333,
              "#9c179e"
             ],
             [
              0.4444444444444444,
              "#bd3786"
             ],
             [
              0.5555555555555556,
              "#d8576b"
             ],
             [
              0.6666666666666666,
              "#ed7953"
             ],
             [
              0.7777777777777778,
              "#fb9f3a"
             ],
             [
              0.8888888888888888,
              "#fdca26"
             ],
             [
              1,
              "#f0f921"
             ]
            ],
            "type": "histogram2dcontour"
           }
          ],
          "mesh3d": [
           {
            "colorbar": {
             "outlinewidth": 0,
             "ticks": ""
            },
            "type": "mesh3d"
           }
          ],
          "parcoords": [
           {
            "line": {
             "colorbar": {
              "outlinewidth": 0,
              "ticks": ""
             }
            },
            "type": "parcoords"
           }
          ],
          "pie": [
           {
            "automargin": true,
            "type": "pie"
           }
          ],
          "scatter": [
           {
            "fillpattern": {
             "fillmode": "overlay",
             "size": 10,
             "solidity": 0.2
            },
            "type": "scatter"
           }
          ],
          "scatter3d": [
           {
            "line": {
             "colorbar": {
              "outlinewidth": 0,
              "ticks": ""
             }
            },
            "marker": {
             "colorbar": {
              "outlinewidth": 0,
              "ticks": ""
             }
            },
            "type": "scatter3d"
           }
          ],
          "scattercarpet": [
           {
            "marker": {
             "colorbar": {
              "outlinewidth": 0,
              "ticks": ""
             }
            },
            "type": "scattercarpet"
           }
          ],
          "scattergeo": [
           {
            "marker": {
             "colorbar": {
              "outlinewidth": 0,
              "ticks": ""
             }
            },
            "type": "scattergeo"
           }
          ],
          "scattergl": [
           {
            "marker": {
             "colorbar": {
              "outlinewidth": 0,
              "ticks": ""
             }
            },
            "type": "scattergl"
           }
          ],
          "scattermapbox": [
           {
            "marker": {
             "colorbar": {
              "outlinewidth": 0,
              "ticks": ""
             }
            },
            "type": "scattermapbox"
           }
          ],
          "scatterpolar": [
           {
            "marker": {
             "colorbar": {
              "outlinewidth": 0,
              "ticks": ""
             }
            },
            "type": "scatterpolar"
           }
          ],
          "scatterpolargl": [
           {
            "marker": {
             "colorbar": {
              "outlinewidth": 0,
              "ticks": ""
             }
            },
            "type": "scatterpolargl"
           }
          ],
          "scatterternary": [
           {
            "marker": {
             "colorbar": {
              "outlinewidth": 0,
              "ticks": ""
             }
            },
            "type": "scatterternary"
           }
          ],
          "surface": [
           {
            "colorbar": {
             "outlinewidth": 0,
             "ticks": ""
            },
            "colorscale": [
             [
              0,
              "#0d0887"
             ],
             [
              0.1111111111111111,
              "#46039f"
             ],
             [
              0.2222222222222222,
              "#7201a8"
             ],
             [
              0.3333333333333333,
              "#9c179e"
             ],
             [
              0.4444444444444444,
              "#bd3786"
             ],
             [
              0.5555555555555556,
              "#d8576b"
             ],
             [
              0.6666666666666666,
              "#ed7953"
             ],
             [
              0.7777777777777778,
              "#fb9f3a"
             ],
             [
              0.8888888888888888,
              "#fdca26"
             ],
             [
              1,
              "#f0f921"
             ]
            ],
            "type": "surface"
           }
          ],
          "table": [
           {
            "cells": {
             "fill": {
              "color": "#EBF0F8"
             },
             "line": {
              "color": "white"
             }
            },
            "header": {
             "fill": {
              "color": "#C8D4E3"
             },
             "line": {
              "color": "white"
             }
            },
            "type": "table"
           }
          ]
         },
         "layout": {
          "annotationdefaults": {
           "arrowcolor": "#2a3f5f",
           "arrowhead": 0,
           "arrowwidth": 1
          },
          "autotypenumbers": "strict",
          "coloraxis": {
           "colorbar": {
            "outlinewidth": 0,
            "ticks": ""
           }
          },
          "colorscale": {
           "diverging": [
            [
             0,
             "#8e0152"
            ],
            [
             0.1,
             "#c51b7d"
            ],
            [
             0.2,
             "#de77ae"
            ],
            [
             0.3,
             "#f1b6da"
            ],
            [
             0.4,
             "#fde0ef"
            ],
            [
             0.5,
             "#f7f7f7"
            ],
            [
             0.6,
             "#e6f5d0"
            ],
            [
             0.7,
             "#b8e186"
            ],
            [
             0.8,
             "#7fbc41"
            ],
            [
             0.9,
             "#4d9221"
            ],
            [
             1,
             "#276419"
            ]
           ],
           "sequential": [
            [
             0,
             "#0d0887"
            ],
            [
             0.1111111111111111,
             "#46039f"
            ],
            [
             0.2222222222222222,
             "#7201a8"
            ],
            [
             0.3333333333333333,
             "#9c179e"
            ],
            [
             0.4444444444444444,
             "#bd3786"
            ],
            [
             0.5555555555555556,
             "#d8576b"
            ],
            [
             0.6666666666666666,
             "#ed7953"
            ],
            [
             0.7777777777777778,
             "#fb9f3a"
            ],
            [
             0.8888888888888888,
             "#fdca26"
            ],
            [
             1,
             "#f0f921"
            ]
           ],
           "sequentialminus": [
            [
             0,
             "#0d0887"
            ],
            [
             0.1111111111111111,
             "#46039f"
            ],
            [
             0.2222222222222222,
             "#7201a8"
            ],
            [
             0.3333333333333333,
             "#9c179e"
            ],
            [
             0.4444444444444444,
             "#bd3786"
            ],
            [
             0.5555555555555556,
             "#d8576b"
            ],
            [
             0.6666666666666666,
             "#ed7953"
            ],
            [
             0.7777777777777778,
             "#fb9f3a"
            ],
            [
             0.8888888888888888,
             "#fdca26"
            ],
            [
             1,
             "#f0f921"
            ]
           ]
          },
          "colorway": [
           "#636efa",
           "#EF553B",
           "#00cc96",
           "#ab63fa",
           "#FFA15A",
           "#19d3f3",
           "#FF6692",
           "#B6E880",
           "#FF97FF",
           "#FECB52"
          ],
          "font": {
           "color": "#2a3f5f"
          },
          "geo": {
           "bgcolor": "white",
           "lakecolor": "white",
           "landcolor": "#E5ECF6",
           "showlakes": true,
           "showland": true,
           "subunitcolor": "white"
          },
          "hoverlabel": {
           "align": "left"
          },
          "hovermode": "closest",
          "mapbox": {
           "style": "light"
          },
          "paper_bgcolor": "white",
          "plot_bgcolor": "#E5ECF6",
          "polar": {
           "angularaxis": {
            "gridcolor": "white",
            "linecolor": "white",
            "ticks": ""
           },
           "bgcolor": "#E5ECF6",
           "radialaxis": {
            "gridcolor": "white",
            "linecolor": "white",
            "ticks": ""
           }
          },
          "scene": {
           "xaxis": {
            "backgroundcolor": "#E5ECF6",
            "gridcolor": "white",
            "gridwidth": 2,
            "linecolor": "white",
            "showbackground": true,
            "ticks": "",
            "zerolinecolor": "white"
           },
           "yaxis": {
            "backgroundcolor": "#E5ECF6",
            "gridcolor": "white",
            "gridwidth": 2,
            "linecolor": "white",
            "showbackground": true,
            "ticks": "",
            "zerolinecolor": "white"
           },
           "zaxis": {
            "backgroundcolor": "#E5ECF6",
            "gridcolor": "white",
            "gridwidth": 2,
            "linecolor": "white",
            "showbackground": true,
            "ticks": "",
            "zerolinecolor": "white"
           }
          },
          "shapedefaults": {
           "line": {
            "color": "#2a3f5f"
           }
          },
          "ternary": {
           "aaxis": {
            "gridcolor": "white",
            "linecolor": "white",
            "ticks": ""
           },
           "baxis": {
            "gridcolor": "white",
            "linecolor": "white",
            "ticks": ""
           },
           "bgcolor": "#E5ECF6",
           "caxis": {
            "gridcolor": "white",
            "linecolor": "white",
            "ticks": ""
           }
          },
          "title": {
           "x": 0.05
          },
          "xaxis": {
           "automargin": true,
           "gridcolor": "white",
           "linecolor": "white",
           "ticks": "",
           "title": {
            "standoff": 15
           },
           "zerolinecolor": "white",
           "zerolinewidth": 2
          },
          "yaxis": {
           "automargin": true,
           "gridcolor": "white",
           "linecolor": "white",
           "ticks": "",
           "title": {
            "standoff": 15
           },
           "zerolinecolor": "white",
           "zerolinewidth": 2
          }
         }
        },
        "title": {
         "text": "Numerics features histogram"
        },
        "xaxis": {
         "anchor": "y",
         "domain": [
          0,
          0.2888888888888889
         ]
        },
        "xaxis2": {
         "anchor": "y2",
         "domain": [
          0.35555555555555557,
          0.6444444444444445
         ]
        },
        "xaxis3": {
         "anchor": "y3",
         "domain": [
          0.7111111111111111,
          1
         ]
        },
        "yaxis": {
         "anchor": "x",
         "domain": [
          0,
          1
         ]
        },
        "yaxis2": {
         "anchor": "x2",
         "domain": [
          0,
          1
         ]
        },
        "yaxis3": {
         "anchor": "x3",
         "domain": [
          0,
          1
         ]
        }
       }
      }
     },
     "metadata": {},
     "output_type": "display_data"
    }
   ],
   "source": [
    "bar_plot = df.groupby('user').first().reset_index()\n",
    "\n",
    "fig = make_subplots(rows=1, cols=3, subplot_titles=(\"duration\", \"frequency\", \"severity\"))\n",
    "# fig1 = px.bar(bar_plot['cueing'].value_counts())\n",
    "# fig2 = px.bar(bar_plot['gender'].value_counts())\n",
    "# fig3 = px.bar(bar_plot['ageRange'].value_counts())\n",
    "# fig4 = px.bar(bar_plot['platform'].value_counts())\n",
    "\n",
    "fig1 = px.histogram(df, x='duration', color='cueing')\n",
    "fig2 = px.histogram(df, x='frequency', color='cueing')\n",
    "fig3 = px.histogram(df, x='severity', color='cueing')\n",
    "\n",
    "\n",
    "fig.add_trace(fig1['data'][0], row=1, col=1)\n",
    "fig.add_trace(fig2['data'][0], row=1, col=2)\n",
    "fig.add_trace(fig3['data'][0], row=1, col=3)\n",
    "# fig.add_trace(fig4['data'][0], row=1, col=4)\n",
    "\n",
    "fig.update_layout(title_text='Numerics features histogram')\n",
    "fig.show()"
   ]
  },
  {
   "attachments": {},
   "cell_type": "markdown",
   "metadata": {},
   "source": [
    "# Train"
   ]
  },
  {
   "cell_type": "code",
   "execution_count": 8,
   "metadata": {},
   "outputs": [
    {
     "data": {
      "text/plain": [
       "(987, 19)"
      ]
     },
     "execution_count": 8,
     "metadata": {},
     "output_type": "execute_result"
    }
   ],
   "source": [
    "df = pd.read_parquet(\"data/xgboost_data.parquet\")\n",
    "\n",
    "df['date'] = pd.to_datetime(df['date'])\n",
    "df['weekday'] = df['date'].dt.weekday\n",
    "df.shape"
   ]
  },
  {
   "cell_type": "code",
   "execution_count": 9,
   "metadata": {},
   "outputs": [
    {
     "data": {
      "text/plain": [
       "((987, 9), (987,))"
      ]
     },
     "execution_count": 9,
     "metadata": {},
     "output_type": "execute_result"
    }
   ],
   "source": [
    "features = ['day_part', 'cueing', 'gender', 'ageRange', 'ethnicGroup', 'platform', 'frequency', 'duration', 'severity', 'weekday']#, 'group', 'days'] # group\n",
    "data = df.filter(features)\n",
    "X, y = data.drop('cueing', axis=1), data['cueing']\n",
    "X.shape, y.shape"
   ]
  },
  {
   "cell_type": "code",
   "execution_count": 10,
   "metadata": {},
   "outputs": [
    {
     "data": {
      "text/html": [
       "<div>\n",
       "<style scoped>\n",
       "    .dataframe tbody tr th:only-of-type {\n",
       "        vertical-align: middle;\n",
       "    }\n",
       "\n",
       "    .dataframe tbody tr th {\n",
       "        vertical-align: top;\n",
       "    }\n",
       "\n",
       "    .dataframe thead th {\n",
       "        text-align: right;\n",
       "    }\n",
       "</style>\n",
       "<table border=\"1\" class=\"dataframe\">\n",
       "  <thead>\n",
       "    <tr style=\"text-align: right;\">\n",
       "      <th></th>\n",
       "      <th>day_part</th>\n",
       "      <th>gender</th>\n",
       "      <th>ageRange</th>\n",
       "      <th>ethnicGroup</th>\n",
       "      <th>platform</th>\n",
       "      <th>frequency</th>\n",
       "      <th>duration</th>\n",
       "      <th>severity</th>\n",
       "      <th>weekday</th>\n",
       "    </tr>\n",
       "  </thead>\n",
       "  <tbody>\n",
       "    <tr>\n",
       "      <th>0</th>\n",
       "      <td>Morning</td>\n",
       "      <td>1</td>\n",
       "      <td>1</td>\n",
       "      <td>1</td>\n",
       "      <td>1</td>\n",
       "      <td>9.0</td>\n",
       "      <td>0.0</td>\n",
       "      <td>2.0</td>\n",
       "      <td>4</td>\n",
       "    </tr>\n",
       "    <tr>\n",
       "      <th>1</th>\n",
       "      <td>Morning</td>\n",
       "      <td>1</td>\n",
       "      <td>1</td>\n",
       "      <td>1</td>\n",
       "      <td>1</td>\n",
       "      <td>0.0</td>\n",
       "      <td>0.0</td>\n",
       "      <td>0.0</td>\n",
       "      <td>5</td>\n",
       "    </tr>\n",
       "    <tr>\n",
       "      <th>2</th>\n",
       "      <td>Morning</td>\n",
       "      <td>1</td>\n",
       "      <td>1</td>\n",
       "      <td>1</td>\n",
       "      <td>1</td>\n",
       "      <td>0.0</td>\n",
       "      <td>0.0</td>\n",
       "      <td>0.0</td>\n",
       "      <td>6</td>\n",
       "    </tr>\n",
       "    <tr>\n",
       "      <th>3</th>\n",
       "      <td>Morning</td>\n",
       "      <td>1</td>\n",
       "      <td>1</td>\n",
       "      <td>1</td>\n",
       "      <td>1</td>\n",
       "      <td>0.0</td>\n",
       "      <td>0.0</td>\n",
       "      <td>0.0</td>\n",
       "      <td>0</td>\n",
       "    </tr>\n",
       "    <tr>\n",
       "      <th>4</th>\n",
       "      <td>Morning</td>\n",
       "      <td>1</td>\n",
       "      <td>1</td>\n",
       "      <td>1</td>\n",
       "      <td>1</td>\n",
       "      <td>0.0</td>\n",
       "      <td>0.0</td>\n",
       "      <td>0.0</td>\n",
       "      <td>1</td>\n",
       "    </tr>\n",
       "  </tbody>\n",
       "</table>\n",
       "</div>"
      ],
      "text/plain": [
       "  day_part  gender  ageRange  ethnicGroup  platform  frequency  duration  \\\n",
       "0  Morning       1         1            1         1        9.0       0.0   \n",
       "1  Morning       1         1            1         1        0.0       0.0   \n",
       "2  Morning       1         1            1         1        0.0       0.0   \n",
       "3  Morning       1         1            1         1        0.0       0.0   \n",
       "4  Morning       1         1            1         1        0.0       0.0   \n",
       "\n",
       "   severity  weekday  \n",
       "0       2.0        4  \n",
       "1       0.0        5  \n",
       "2       0.0        6  \n",
       "3       0.0        0  \n",
       "4       0.0        1  "
      ]
     },
     "execution_count": 10,
     "metadata": {},
     "output_type": "execute_result"
    }
   ],
   "source": [
    "cats = ['day_part', 'gender', 'ageRange', 'ethnicGroup', 'platform', 'group']\n",
    "nums = ['days', \"frequency\", \"duration\", \"severity\"]\n",
    "\n",
    "day_part_rep = {\"Morning\": 1, \"Afternoon\": 0, \"Night\": 2}\n",
    "gender_rep = {\"Male\": 0, \"Female\": 1}\n",
    "age_rep = {'45-54 years': 0, \n",
    "           '55-64 years': 1, \n",
    "           '65+ years': 2}\n",
    "ethnic_rep = {'0': 0,\n",
    "              'English, Welsh, Scottish, Northern Irish or British': 1, \n",
    "              'Irish': 2, \n",
    "              'Any other ethnic group': 3}\n",
    "platform_rep = {'Android': 0, 'iOS': 1}\n",
    "grp_rep = {'A': 0, 'B': 1}\n",
    "\n",
    "# X['day_part'] = X['day_part'].replace(day_part_rep)\n",
    "X['gender'] = X['gender'].replace(gender_rep)\n",
    "X['ageRange'] = X['ageRange'].replace(age_rep)\n",
    "X['ethnicGroup'] = X['ethnicGroup'].replace(ethnic_rep)\n",
    "X['platform'] = X['platform'].replace(platform_rep)\n",
    "# X['group'] = X['group'].replace(grp_rep)\n",
    "X.head()"
   ]
  },
  {
   "cell_type": "code",
   "execution_count": 11,
   "metadata": {},
   "outputs": [],
   "source": [
    "onehot_columns = ['day_part', 'ageRange', 'ethnicGroup']\n",
    "onehot_df = X[onehot_columns]\n",
    "onehot_df = pd.get_dummies(onehot_df, columns = onehot_columns)\n",
    "X_onehot_drop = X.drop(onehot_columns, axis = 1)\n",
    "X_onehot = pd.concat([X_onehot_drop, onehot_df], axis = 1)\n",
    "X_onehot.to_clipboard()"
   ]
  },
  {
   "cell_type": "code",
   "execution_count": 12,
   "metadata": {},
   "outputs": [
    {
     "data": {
      "text/plain": [
       "((661, 16), (326, 16), (661,), (326,))"
      ]
     },
     "execution_count": 12,
     "metadata": {},
     "output_type": "execute_result"
    }
   ],
   "source": [
    "# scaler = StandardScaler().set_output(transform=\"pandas\")\n",
    "# X_scaled = scaler.fit_transform(X_onehot)\n",
    "seed = 8\n",
    "test_size = 0.33\n",
    "X_train, X_test, y_train, y_test = train_test_split(X_onehot, y, test_size=test_size, random_state=seed)\n",
    "X_train.shape, X_test.shape, y_train.shape, y_test.shape"
   ]
  },
  {
   "cell_type": "code",
   "execution_count": 21,
   "metadata": {},
   "outputs": [
    {
     "data": {
      "text/html": [
       "Changes to your `wandb` environment variables will be ignored because your `wandb` session has already started. For more information on how to modify your settings with `wandb.init()` arguments, please refer to <a href='https://wandb.me/wandb-init' target=\"_blank\">the W&B docs</a>."
      ],
      "text/plain": [
       "<IPython.core.display.HTML object>"
      ]
     },
     "metadata": {},
     "output_type": "display_data"
    },
    {
     "data": {
      "text/html": [
       "Finishing last run (ID:7ks98vc7) before initializing another..."
      ],
      "text/plain": [
       "<IPython.core.display.HTML object>"
      ]
     },
     "metadata": {},
     "output_type": "display_data"
    },
    {
     "data": {
      "text/html": [
       "Waiting for W&B process to finish... <strong style=\"color:green\">(success).</strong>"
      ],
      "text/plain": [
       "<IPython.core.display.HTML object>"
      ]
     },
     "metadata": {},
     "output_type": "display_data"
    },
    {
     "data": {
      "text/html": [
       " View run <strong style=\"color:#cdcd00\">apricot-elevator-7</strong> at: <a href='https://wandb.ai/ntg2208/Drooling%20prediction/runs/7ks98vc7' target=\"_blank\">https://wandb.ai/ntg2208/Drooling%20prediction/runs/7ks98vc7</a><br/>Synced 5 W&B file(s), 0 media file(s), 0 artifact file(s) and 0 other file(s)"
      ],
      "text/plain": [
       "<IPython.core.display.HTML object>"
      ]
     },
     "metadata": {},
     "output_type": "display_data"
    },
    {
     "data": {
      "text/html": [
       "Find logs at: <code>./wandb/run-20230613_115842-7ks98vc7/logs</code>"
      ],
      "text/plain": [
       "<IPython.core.display.HTML object>"
      ]
     },
     "metadata": {},
     "output_type": "display_data"
    },
    {
     "data": {
      "text/html": [
       "Successfully finished last run (ID:7ks98vc7). Initializing new run:<br/>"
      ],
      "text/plain": [
       "<IPython.core.display.HTML object>"
      ]
     },
     "metadata": {},
     "output_type": "display_data"
    },
    {
     "data": {
      "text/html": [
       "wandb version 0.15.4 is available!  To upgrade, please run:\n",
       " $ pip install wandb --upgrade"
      ],
      "text/plain": [
       "<IPython.core.display.HTML object>"
      ]
     },
     "metadata": {},
     "output_type": "display_data"
    },
    {
     "data": {
      "text/html": [
       "Tracking run with wandb version 0.14.0"
      ],
      "text/plain": [
       "<IPython.core.display.HTML object>"
      ]
     },
     "metadata": {},
     "output_type": "display_data"
    },
    {
     "data": {
      "text/html": [
       "Run data is saved locally in <code>/Users/ntg/Documents/NU/cueband/wandb/run-20230613_115907-tkgnm6be</code>"
      ],
      "text/plain": [
       "<IPython.core.display.HTML object>"
      ]
     },
     "metadata": {},
     "output_type": "display_data"
    },
    {
     "data": {
      "text/html": [
       "Syncing run <strong><a href='https://wandb.ai/ntg2208/Drooling%20prediction/runs/tkgnm6be' target=\"_blank\">lilac-paper-8</a></strong> to <a href='https://wandb.ai/ntg2208/Drooling%20prediction' target=\"_blank\">Weights & Biases</a> (<a href='https://wandb.me/run' target=\"_blank\">docs</a>)<br/>"
      ],
      "text/plain": [
       "<IPython.core.display.HTML object>"
      ]
     },
     "metadata": {},
     "output_type": "display_data"
    },
    {
     "data": {
      "text/html": [
       " View project at <a href='https://wandb.ai/ntg2208/Drooling%20prediction' target=\"_blank\">https://wandb.ai/ntg2208/Drooling%20prediction</a>"
      ],
      "text/plain": [
       "<IPython.core.display.HTML object>"
      ]
     },
     "metadata": {},
     "output_type": "display_data"
    },
    {
     "data": {
      "text/html": [
       " View run at <a href='https://wandb.ai/ntg2208/Drooling%20prediction/runs/tkgnm6be' target=\"_blank\">https://wandb.ai/ntg2208/Drooling%20prediction/runs/tkgnm6be</a>"
      ],
      "text/plain": [
       "<IPython.core.display.HTML object>"
      ]
     },
     "metadata": {},
     "output_type": "display_data"
    },
    {
     "name": "stdout",
     "output_type": "stream",
     "text": [
      "[[85 89]\n",
      " [96 56]]\n",
      "              precision    recall  f1-score   support\n",
      "\n",
      "           0       0.47      0.49      0.48       174\n",
      "           1       0.39      0.37      0.38       152\n",
      "\n",
      "    accuracy                           0.43       326\n",
      "   macro avg       0.43      0.43      0.43       326\n",
      "weighted avg       0.43      0.43      0.43       326\n",
      "\n",
      "Accuracy: 43%\n"
     ]
    },
    {
     "data": {
      "text/html": [
       "Waiting for W&B process to finish... <strong style=\"color:green\">(success).</strong>"
      ],
      "text/plain": [
       "<IPython.core.display.HTML object>"
      ]
     },
     "metadata": {},
     "output_type": "display_data"
    },
    {
     "data": {
      "text/html": [
       "<style>\n",
       "    table.wandb td:nth-child(1) { padding: 0 10px; text-align: left ; width: auto;} td:nth-child(2) {text-align: left ; width: 100%}\n",
       "    .wandb-row { display: flex; flex-direction: row; flex-wrap: wrap; justify-content: flex-start; width: 100% }\n",
       "    .wandb-col { display: flex; flex-direction: column; flex-basis: 100%; flex: 1; padding: 10px; }\n",
       "    </style>\n",
       "<div class=\"wandb-row\"><div class=\"wandb-col\"><h3>Run history:</h3><br/><table class=\"wandb\"><tr><td>accuracy</td><td>▁</td></tr></table><br/></div><div class=\"wandb-col\"><h3>Run summary:</h3><br/><table class=\"wandb\"><tr><td>accuracy</td><td>0.43252</td></tr></table><br/></div></div>"
      ],
      "text/plain": [
       "<IPython.core.display.HTML object>"
      ]
     },
     "metadata": {},
     "output_type": "display_data"
    },
    {
     "data": {
      "text/html": [
       " View run <strong style=\"color:#cdcd00\">lilac-paper-8</strong> at: <a href='https://wandb.ai/ntg2208/Drooling%20prediction/runs/tkgnm6be' target=\"_blank\">https://wandb.ai/ntg2208/Drooling%20prediction/runs/tkgnm6be</a><br/>Synced 6 W&B file(s), 0 media file(s), 0 artifact file(s) and 0 other file(s)"
      ],
      "text/plain": [
       "<IPython.core.display.HTML object>"
      ]
     },
     "metadata": {},
     "output_type": "display_data"
    },
    {
     "data": {
      "text/html": [
       "Find logs at: <code>./wandb/run-20230613_115907-tkgnm6be/logs</code>"
      ],
      "text/plain": [
       "<IPython.core.display.HTML object>"
      ]
     },
     "metadata": {},
     "output_type": "display_data"
    }
   ],
   "source": [
    "config_defaults = {\n",
    "            \"kernel\": \"sigmoid\",\n",
    "            \"gamma\": \"scale\"\n",
    "            }\n",
    "run = wandb.init(project= \"Drooling prediction\", entity=\"ntg2208\", config=config_defaults, reinit=True)\n",
    "config = wandb.config\n",
    "\n",
    "wandb.log({\"Features: \": list(X_train.columns)})\n",
    "model = make_pipeline(StandardScaler(), SVC(kernel =  config_defaults[\"kernel\"],gamma= config_defaults[\"gamma\"]))\n",
    "model.fit(X_train, y_train)\n",
    "y_pred = model.predict(X_test)\n",
    "from sklearn.metrics import confusion_matrix, classification_report\n",
    "\n",
    "print(confusion_matrix(y_test, y_pred))\n",
    "\n",
    "print(classification_report(y_test, y_pred))\n",
    "\n",
    "accuracy = accuracy_score(y_test, y_pred)\n",
    "print(f\"Accuracy: {accuracy:.0%}\")\n",
    "wandb.log({\"accuracy\": accuracy})\n",
    "run.finish()"
   ]
  },
  {
   "cell_type": "code",
   "execution_count": 22,
   "metadata": {},
   "outputs": [
    {
     "data": {
      "image/png": "[encoded data removed]",
      "text/plain": [
       "<Figure size 640x480 with 2 Axes>"
      ]
     },
     "metadata": {},
     "output_type": "display_data"
    }
   ],
   "source": [
    "\n",
    "cm = confusion_matrix(y_test, y_pred)\n",
    "\n",
    "cm_display = ConfusionMatrixDisplay(cm).plot(cmap=\"Blues\")"
   ]
  },
  {
   "cell_type": "code",
   "execution_count": 23,
   "metadata": {},
   "outputs": [
    {
     "data": {
      "image/png": "[encoded data removed]",
      "text/plain": [
       "<Figure size 640x480 with 1 Axes>"
      ]
     },
     "metadata": {},
     "output_type": "display_data"
    }
   ],
   "source": [
    "from sklearn import metrics\n",
    "fpr, tpr, thresholds = metrics.roc_curve(y_test, y_pred)\n",
    "\n",
    "roc_auc = metrics.auc(fpr, tpr)\n",
    "display = metrics.RocCurveDisplay(fpr=fpr, tpr=tpr, roc_auc=roc_auc, estimator_name='Cueing Estimator')\n",
    "\n",
    "display.plot()\n",
    "plt.show()"
   ]
  },
  {
   "cell_type": "code",
   "execution_count": null,
   "metadata": {},
   "outputs": [],
   "source": []
  }
 ],
 "metadata": {
  "kernelspec": {
   "display_name": "cueband",
   "language": "python",
   "name": "python3"
  },
  "language_info": {
   "codemirror_mode": {
    "name": "ipython",
    "version": 3
   },
   "file_extension": ".py",
   "mimetype": "text/x-python",
   "name": "python",
   "nbconvert_exporter": "python",
   "pygments_lexer": "ipython3",
   "version": "3.9.16"
  },
  "orig_nbformat": 4
 },
 "nbformat": 4,
 "nbformat_minor": 2
}
